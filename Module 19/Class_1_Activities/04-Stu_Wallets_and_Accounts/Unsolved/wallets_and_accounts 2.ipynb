{
 "cells": [
  {
   "cell_type": "markdown",
   "metadata": {},
   "source": [
    "# Wallets and Accounts\n",
    "\n",
    "\n",
    "This activity will give you the opportunity to solidify your understanding of the relationship between the mnemonic seed phrase you just created and how it is used in relationship to the HD wallet, the creation of a private key, and ultimately the Ethereum account and address.\n",
    "\n",
    "## Instructions\n",
    "\n",
    "1. In the Unsolved folder for this activity, create a `.env` file. Inside the `.env` file create a variable called `MNEMONIC` and set it equal to the mnemonic seed phrase that you created in the prior activity.\n",
    "\n",
    "2. Call the `os.getenv` function and pass it the mnemonic variable from the `.env` file. Set that equal to the variable `mnemonic`. Confirm the data type of the `mnemonic` variable to confirm it was imported from the `.env` file properly.\n",
    "\n",
    "3. Create your digital `wallet` by calling the `Wallet` module and passing it your mnemonic seed phrase.\n",
    "\n",
    "4. Create your public/private key pair by calling the `derive_account` function on your digital wallet and passing it the argument \"eth\" to confirm you are creating the keys for an Ethereum account. Display the byte strings for both your public and private keys.\n",
    "\n",
    "5. Create your Ethereum account by calling the `privateKeyToAccount` function on the `Account` module and passing it your private key. View the account object.\n",
    "\n",
    "6. Print the hash codes associated with the account's address and private keys.\n",
    "\n",
    "7. Create and encode a message to be included in a signed Ethereum transaction.\n",
    "\n",
    "8. Using the Web3 eth API's [`account.sign_message` function](https://web3py.readthedocs.io/en/stable/web3.eth.account.html#sign-a-message), create a signed message by passing in the encoded message and your private key.\n",
    "\n",
    "9. To verify the message was created and signed, call the [`account.recover_message` function](https://web3py.readthedocs.io/en/stable/web3.eth.account.html#verify-a-message) and pass it the encoded message and the message signature."
   ]
  },
  {
   "cell_type": "markdown",
   "metadata": {},
   "source": [
    "## Step 1: In the Unsolved folder for this activity, create a `.env` file. Inside the `.env` file create a variable called `MNEMONIC` and set it equal to the mnemonic seed phrase that you created in the prior activity."
   ]
  },
  {
   "cell_type": "markdown",
   "metadata": {},
   "source": [
    "## Step 2: Call the `os.getenv` function and pass it the mnemonic variable from the `.env` file. Set that equal to the variable `mnemonic`. Confirm the data type of the `mnemonic` variable to confirm it was imported from the `.env` file properly."
   ]
  },
  {
   "cell_type": "code",
   "execution_count": 3,
   "metadata": {},
   "outputs": [
    {
     "name": "stdout",
     "output_type": "stream",
     "text": [
      "<class 'str'>\n"
     ]
    }
   ],
   "source": [
    "# Load the .env file\n",
    "import os\n",
    "from dotenv import load_dotenv\n",
    "load_dotenv('.env')\n",
    "\n",
    "# Access the MNEMONIC variable from the .env file\n",
    "mnemonic = os.getenv(\"MNEMONIC\")\n",
    "\n",
    "# Print the data type to confirm import\n",
    "print(type(mnemonic))\n"
   ]
  },
  {
   "cell_type": "markdown",
   "metadata": {},
   "source": [
    "## Step 3: Create your digital `wallet` by calling the `Wallet` module and passing it your mnemonic seed phrase."
   ]
  },
  {
   "cell_type": "code",
   "execution_count": 4,
   "metadata": {},
   "outputs": [
    {
     "data": {
      "text/plain": [
       "<bip44.wallet.Wallet at 0x7ff5496b4fd0>"
      ]
     },
     "execution_count": 4,
     "metadata": {},
     "output_type": "execute_result"
    }
   ],
   "source": [
    "# Import the Wallet module\n",
    "from bip44 import Wallet\n",
    "\n",
    "# Create the HD wallet instance\n",
    "wallet = Wallet(mnemonic)\n",
    "\n",
    "# View the wallet \n",
    "wallet\n"
   ]
  },
  {
   "cell_type": "markdown",
   "metadata": {},
   "source": [
    "## Step 4: Create your public/private key pair by calling the `derive_account` function on your digital wallet and passing it the argument \"eth\" to confirm you are creating the keys for an Ethereum account. Display the byte strings for both your public and private keys."
   ]
  },
  {
   "cell_type": "code",
   "execution_count": 5,
   "metadata": {},
   "outputs": [
    {
     "name": "stdout",
     "output_type": "stream",
     "text": [
      "b'6\\x81\\xdd\\x02\\xe0\\xdb\\xe3\\xf5a\\xbd\\xe8qZ\\xef\\xe6k%\\xd3\\xf9\\xcc\\xb0\\xe5\\x02Ik}\\xa2\\x0b\\xff48\\xf2'\n",
      "b'\\x03\\xb9c\\xd6wn\\xbe\\x1e*\\xe0o\\x8b~cG2\\x0b\\x91\\xf0\\xc9\\xe8p\\x9c{\\xd1\\xe5\\xda\\xebh\\xb38\\xc0\\x87'\n"
     ]
    }
   ],
   "source": [
    "# Create the public and private keys for a new Ethereum account\n",
    "private, public = wallet.derive_account(\"eth\")\n",
    "\n",
    "# Display the private and public keys\n",
    "print(private)\n",
    "print(public)\n"
   ]
  },
  {
   "cell_type": "markdown",
   "metadata": {},
   "source": [
    "## Step 5: Create your Ethereum account by calling the `privateKeyToAccount` function on the `Account` module and passing it your private key. View the account object."
   ]
  },
  {
   "cell_type": "code",
   "execution_count": 6,
   "metadata": {},
   "outputs": [
    {
     "data": {
      "text/plain": [
       "<eth_account.signers.local.LocalAccount at 0x7ff548b592b0>"
      ]
     },
     "execution_count": 6,
     "metadata": {},
     "output_type": "execute_result"
    }
   ],
   "source": [
    "# Import the Account module from web3\n",
    "from web3 import Account\n",
    "\n",
    "# Create an Ethereum account by passing the private key \n",
    "eth_account = Account.privateKeyToAccount(private)\n",
    "\n",
    "# View the account object\n",
    "eth_account\n"
   ]
  },
  {
   "cell_type": "markdown",
   "metadata": {},
   "source": [
    "## Step 6: Print the hash codes associated with the account's address and private keys."
   ]
  },
  {
   "cell_type": "code",
   "execution_count": 7,
   "metadata": {},
   "outputs": [
    {
     "name": "stdout",
     "output_type": "stream",
     "text": [
      "0x6000e732b71e12EF93C5543898Ff392c0b553A98\n"
     ]
    }
   ],
   "source": [
    "# Print the hashed address for your Ethereum account\n",
    "print(eth_account.address)\n"
   ]
  },
  {
   "cell_type": "code",
   "execution_count": 8,
   "metadata": {},
   "outputs": [
    {
     "name": "stdout",
     "output_type": "stream",
     "text": [
      "b'6\\x81\\xdd\\x02\\xe0\\xdb\\xe3\\xf5a\\xbd\\xe8qZ\\xef\\xe6k%\\xd3\\xf9\\xcc\\xb0\\xe5\\x02Ik}\\xa2\\x0b\\xff48\\xf2'\n"
     ]
    }
   ],
   "source": [
    "# Print the hashed private key for your Ethereum account\n",
    "print(eth_account.privateKey)\n"
   ]
  },
  {
   "cell_type": "markdown",
   "metadata": {},
   "source": [
    "## Step 7: Create and encode a message to be included in a signed Ethereum transaction."
   ]
  },
  {
   "cell_type": "code",
   "execution_count": 9,
   "metadata": {},
   "outputs": [
    {
     "name": "stdout",
     "output_type": "stream",
     "text": [
      "SignableMessage(version=b'E', header=b'thereum Signed Message:\\n47', body=b'Mnemonic seed phrases, HD wallets, private keys')\n"
     ]
    }
   ],
   "source": [
    "# Imports\n",
    "from eth_account.messages import encode_defunct\n",
    "\n",
    "# Create a message\n",
    "msg = \"Mnemonic seed phrases, HD wallets, private keys\"\n",
    "\n",
    "# Encode the message\n",
    "encoded_msg = encode_defunct(text=msg)\n",
    "\n",
    "# View the encoded message\n",
    "\n",
    "print(encoded_msg)\n"
   ]
  },
  {
   "cell_type": "markdown",
   "metadata": {},
   "source": [
    "## Step 8: Using the Web3 eth API's [`account.sign_message` function](https://web3py.readthedocs.io/en/stable/web3.eth.account.html#sign-a-message), create a signed message by the encoded message and your private key."
   ]
  },
  {
   "cell_type": "code",
   "execution_count": 10,
   "metadata": {},
   "outputs": [
    {
     "name": "stdout",
     "output_type": "stream",
     "text": [
      "SignedMessage(messageHash=HexBytes('0xb77d37a013abfea3d432a88c6e1769be6d81769ad06e9dbdf17f478f16e37890'), r=42894282331844039288947807439847104071025022450704281444076296880224369765797, s=25984363526620555448776543477956134373644283934542449849281948699922003210098, v=28, signature=HexBytes('0x5ed54dae8bc5cd8f1dbb173b02978cdf1519db5cd78e252e83468285c295eda53972a0ea2579b930cd4fa90a9605d3f95ffb0c8d6be3b9750f9fe92597d52f721c'))\n"
     ]
    }
   ],
   "source": [
    "# Imports\n",
    "from web3.auto import w3\n",
    "\n",
    "# Sign the message with your Ethereum account private key\n",
    "signed_message = w3.eth.account.sign_message(encoded_msg, private_key=private)\n",
    "\n",
    "# Review the signed message\n",
    "print(signed_message)"
   ]
  },
  {
   "cell_type": "markdown",
   "metadata": {},
   "source": [
    "## Step 9. To verify the message was created and signed, call the [`account.recover_message` function](https://web3py.readthedocs.io/en/stable/web3.eth.account.html#verify-a-message) and pass it the encoded message and the message signature."
   ]
  },
  {
   "cell_type": "code",
   "execution_count": 11,
   "metadata": {},
   "outputs": [
    {
     "data": {
      "text/plain": [
       "'0x6000e732b71e12EF93C5543898Ff392c0b553A98'"
      ]
     },
     "execution_count": 11,
     "metadata": {},
     "output_type": "execute_result"
    }
   ],
   "source": [
    "# Verify the message using the encoded message and the message signature\n",
    "w3.eth.account.recover_message(encoded_msg, signature=signed_message.signature)\n",
    "\n"
   ]
  },
  {
   "cell_type": "code",
   "execution_count": null,
   "metadata": {},
   "outputs": [],
   "source": []
  }
 ],
 "metadata": {
  "kernelspec": {
   "display_name": "Python 3.9.13 ('dev')",
   "language": "python",
   "name": "python3"
  },
  "language_info": {
   "codemirror_mode": {
    "name": "ipython",
    "version": 3
   },
   "file_extension": ".py",
   "mimetype": "text/x-python",
   "name": "python",
   "nbconvert_exporter": "python",
   "pygments_lexer": "ipython3",
   "version": "3.9.13"
  },
  "vscode": {
   "interpreter": {
    "hash": "4396f389b93e7269692bd3bea4c62813bbe379469bde939b058805f538feec11"
   }
  }
 },
 "nbformat": 4,
 "nbformat_minor": 4
}
