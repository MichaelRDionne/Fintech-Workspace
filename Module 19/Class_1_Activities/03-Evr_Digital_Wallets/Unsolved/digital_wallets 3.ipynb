{
 "cells": [
  {
   "cell_type": "markdown",
   "metadata": {},
   "source": [
    "# Digital Wallets\n"
   ]
  },
  {
   "cell_type": "markdown",
   "metadata": {},
   "source": [
    "## Create the Mnemonic Seed Phrase"
   ]
  },
  {
   "cell_type": "code",
   "execution_count": 15,
   "metadata": {},
   "outputs": [],
   "source": [
    "# Import the mnemonic package\n",
    "from mnemonic import Mnemonic\n"
   ]
  },
  {
   "cell_type": "code",
   "execution_count": 16,
   "metadata": {},
   "outputs": [
    {
     "name": "stdout",
     "output_type": "stream",
     "text": [
      "girl legend ski security tilt hub develop dumb holiday gospel emotion explain\n"
     ]
    }
   ],
   "source": [
    "# Create an instance of the Mnemonic dictionary\n",
    "mnemo = Mnemonic(\"english\")\n",
    "\n",
    "# Create the mnemonic seed phrase of either 12 or 24 words\n",
    "mnemo_words = mnemo.generate(strength=128)\n",
    "\n",
    "# View the mnemonic seed phrase\n",
    "print(mnemo_words)\n",
    "\n"
   ]
  },
  {
   "cell_type": "code",
   "execution_count": 17,
   "metadata": {},
   "outputs": [
    {
     "name": "stdout",
     "output_type": "stream",
     "text": [
      "<class 'str'>\n"
     ]
    }
   ],
   "source": [
    "# Load the .env file\n",
    "import os\n",
    "from dotenv import load_dotenv\n",
    "load_dotenv('SAMPLE.env')\n",
    "\n",
    "# Access the MNEMONIC variable from the .env file\n",
    "mnemonic = os.getenv(\"MNEMONIC\")\n",
    "\n",
    "# Print the data type to confirm import\n",
    "print(type(mnemonic))\n"
   ]
  },
  {
   "cell_type": "markdown",
   "metadata": {},
   "source": [
    "## Create the Digital Wallet"
   ]
  },
  {
   "cell_type": "code",
   "execution_count": 18,
   "metadata": {},
   "outputs": [
    {
     "name": "stdout",
     "output_type": "stream",
     "text": [
      "<bip44.wallet.Wallet object at 0x7fd3a06a6670>\n"
     ]
    }
   ],
   "source": [
    "# Import the Wallet module\n",
    "from bip44 import Wallet\n",
    "\n",
    "# Create the HD wallet instance\n",
    "wallet = Wallet(mnemonic)\n",
    "\n",
    "# View the wallet \n",
    "print(wallet)\n"
   ]
  },
  {
   "cell_type": "code",
   "execution_count": 19,
   "metadata": {},
   "outputs": [
    {
     "data": {
      "text/plain": [
       "b'\\xca\\x9cr\\xd1(\\x08\\x97[\\xber\\x10\\x06\\x0f\\xd9\\xf4i\\xeb-L\\xc4a\\x07\\xd5+}\\x00\\xbd\\xffI\\xf7\\x92/'"
      ]
     },
     "metadata": {},
     "output_type": "display_data"
    },
    {
     "data": {
      "text/plain": [
       "b'\\x02\\x0eu7C\\t8\\xb0^\\xe9+\\\\\\xaf\\xd4\\x99\\xc3\\xd4\\xfeOW\\xe0\\x16\\xc4\\x06\\x89\\x89\\x06<N\\x00\\xc8\\xa9\\xda'"
      ]
     },
     "metadata": {},
     "output_type": "display_data"
    }
   ],
   "source": [
    "private_key, public_key=wallet.derive_account('eth')\n",
    "display(private_key)\n",
    "display(public_key)"
   ]
  },
  {
   "cell_type": "code",
   "execution_count": 24,
   "metadata": {},
   "outputs": [
    {
     "data": {
      "text/plain": [
       "(b'6\\x81\\xdd\\x02\\xe0\\xdb\\xe3\\xf5a\\xbd\\xe8qZ\\xef\\xe6k%\\xd3\\xf9\\xcc\\xb0\\xe5\\x02Ik}\\xa2\\x0b\\xff48\\xf2',\n",
       " b'\\x03\\xb9c\\xd6wn\\xbe\\x1e*\\xe0o\\x8b~cG2\\x0b\\x91\\xf0\\xc9\\xe8p\\x9c{\\xd1\\xe5\\xda\\xebh\\xb38\\xc0\\x87')"
      ]
     },
     "execution_count": 24,
     "metadata": {},
     "output_type": "execute_result"
    }
   ],
   "source": [
    "#to prove that using the private key will generate the same address\n",
    "\n",
    "Wallet('girl legend ski security tilt hub develop dumb holiday gospel emotion explain').derive_account('eth')\n"
   ]
  },
  {
   "cell_type": "markdown",
   "metadata": {},
   "source": [
    "## Create the public/private key pair"
   ]
  },
  {
   "cell_type": "code",
   "execution_count": 25,
   "metadata": {},
   "outputs": [
    {
     "name": "stdout",
     "output_type": "stream",
     "text": [
      "b'\\xca\\x9cr\\xd1(\\x08\\x97[\\xber\\x10\\x06\\x0f\\xd9\\xf4i\\xeb-L\\xc4a\\x07\\xd5+}\\x00\\xbd\\xffI\\xf7\\x92/'\n",
      "b'\\x02\\x0eu7C\\t8\\xb0^\\xe9+\\\\\\xaf\\xd4\\x99\\xc3\\xd4\\xfeOW\\xe0\\x16\\xc4\\x06\\x89\\x89\\x06<N\\x00\\xc8\\xa9\\xda'\n"
     ]
    }
   ],
   "source": [
    "# Create the public and private keys associated with a new Ethereum account\n",
    "private, public = wallet.derive_account('eth')\n",
    "\n",
    "# Display the private and public keys\n",
    "print(private)\n",
    "print(public)"
   ]
  },
  {
   "cell_type": "markdown",
   "metadata": {},
   "source": [
    "## Create the Ethereum Account"
   ]
  },
  {
   "cell_type": "code",
   "execution_count": 26,
   "metadata": {},
   "outputs": [
    {
     "name": "stdout",
     "output_type": "stream",
     "text": [
      "<eth_account.signers.local.LocalAccount object at 0x7fd3a05ccee0>\n"
     ]
    }
   ],
   "source": [
    "# Import the Account module from web3\n",
    "from web3 import Account\n",
    "\n",
    "# Create an Ethereum account by passing the private key via the Account object\n",
    "eth_account = Account.privateKeyToAccount(private)\n",
    "\n",
    "# Print the account object\n",
    "print(eth_account)\n"
   ]
  },
  {
   "cell_type": "code",
   "execution_count": 27,
   "metadata": {},
   "outputs": [
    {
     "name": "stdout",
     "output_type": "stream",
     "text": [
      "0xdbD1c274E33A6DD5Bf2098E4537566F7939DC9f5\n"
     ]
    }
   ],
   "source": [
    "# Print the account address associated with the Ethereum account\n",
    "print(eth_account.address)\n"
   ]
  },
  {
   "cell_type": "code",
   "execution_count": 28,
   "metadata": {},
   "outputs": [
    {
     "name": "stdout",
     "output_type": "stream",
     "text": [
      "b'\\xca\\x9cr\\xd1(\\x08\\x97[\\xber\\x10\\x06\\x0f\\xd9\\xf4i\\xeb-L\\xc4a\\x07\\xd5+}\\x00\\xbd\\xffI\\xf7\\x92/'\n"
     ]
    }
   ],
   "source": [
    "# Print the hash of the account's private key\n",
    "print(eth_account.privateKey)\n"
   ]
  },
  {
   "cell_type": "markdown",
   "metadata": {},
   "source": [
    "## Create an Ethereum Transaction"
   ]
  },
  {
   "cell_type": "code",
   "execution_count": 35,
   "metadata": {},
   "outputs": [],
   "source": [
    "# Imports\n",
    "from web3.auto import w3\n",
    "from eth_account.messages import encode_defunct\n",
    "\n",
    "# Create a message\n",
    "message = \"Blockchain is awesome!\"\n",
    "\n",
    "# Encode the message\n",
    "encoded_msg = encode_defunct(text=message)\n"
   ]
  },
  {
   "cell_type": "code",
   "execution_count": 36,
   "metadata": {},
   "outputs": [
    {
     "name": "stdout",
     "output_type": "stream",
     "text": [
      "SignedMessage(messageHash=HexBytes('0xbb56d3500fc9019e3f903ca4541743fc7a0ec7221395e576cfc183965099ec79'), r=30420367842516716506956175934958760565718921189250309069514263335843421002551, s=30299225346747982061810952255112148864395628780724326835676328699673152519248, v=28, signature=HexBytes('0x4341516b138ce271d4b9528694717b9612675262fa8b6b88254ea43228a49b3742fcc0fa2c168020c361862c085858b02f0fc481aab95b42122f1035c5fafc501c'))\n"
     ]
    }
   ],
   "source": [
    "# Sign the message with our Ethereum account private key\n",
    "signed_message = w3.eth.account.sign_message(encoded_msg, private_key=private)\n",
    "\n",
    "# Review the signed message\n",
    "print(signed_message)"
   ]
  }
 ],
 "metadata": {
  "kernelspec": {
   "display_name": "Python 3.9.13 ('dev')",
   "language": "python",
   "name": "python3"
  },
  "language_info": {
   "codemirror_mode": {
    "name": "ipython",
    "version": 3
   },
   "file_extension": ".py",
   "mimetype": "text/x-python",
   "name": "python",
   "nbconvert_exporter": "python",
   "pygments_lexer": "ipython3",
   "version": "3.9.13"
  },
  "vscode": {
   "interpreter": {
    "hash": "4396f389b93e7269692bd3bea4c62813bbe379469bde939b058805f538feec11"
   }
  }
 },
 "nbformat": 4,
 "nbformat_minor": 4
}
