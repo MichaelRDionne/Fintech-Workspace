{
 "cells": [
  {
   "cell_type": "markdown",
   "metadata": {},
   "source": [
    "# Using a New Machine Learning Classifier\n",
    "\n",
    "In this activity, you’ll evaluate how our earlier trading strategy behaves when it uses a different machine learning classification model.\n",
    "\n",
    "## Instructions:\n",
    "\n",
    "1. Run all the cells up to the “Add a New Machine Learning Model” section.\n",
    "\n",
    "2. Import the `LogisticRegression` model from scikit-learn.\n",
    "\n",
    "    > **Rewind** Recall that `LogisticRegression` models are used for binary classification problems.\n",
    "\n",
    "3. Using the same training data that the SVM model used (`X_train_scaled` and `y_train`), fit the `LogisticRegression` model.\n",
    "\n",
    "4. Use the trained model to predict the trading signals for the training data. Use the `classification_report` module to evaluate the model.\n",
    "\n",
    "5. Backtest the `LogisticRegression` model to evaluate its performance.\n",
    "\n",
    "6. Compare the performance of the logistic regression and SVM models using the classification reports generated with the testing data.  Did the logistic regression model perform better than SVM?\n",
    "\n",
    "\n",
    "## References:\n",
    "\n",
    "[SKLearn SVM - SVC Classifier](https://scikit-learn.org/stable/modules/generated/sklearn.svm.SVC.html)\n",
    "\n",
    "[SKLearn LogisticRegression](https://scikit-learn.org/stable/modules/generated/sklearn.linear_model.LogisticRegression.html)"
   ]
  },
  {
   "cell_type": "code",
   "execution_count": 1,
   "metadata": {},
   "outputs": [],
   "source": [
    "# Imports\n",
    "import pandas as pd\n",
    "from pathlib import Path"
   ]
  },
  {
   "cell_type": "markdown",
   "metadata": {},
   "source": [
    "### Read the CSV file into Pandas DataFrame"
   ]
  },
  {
   "cell_type": "code",
   "execution_count": 2,
   "metadata": {},
   "outputs": [
    {
     "data": {
      "text/html": [
       "<div>\n",
       "<style scoped>\n",
       "    .dataframe tbody tr th:only-of-type {\n",
       "        vertical-align: middle;\n",
       "    }\n",
       "\n",
       "    .dataframe tbody tr th {\n",
       "        vertical-align: top;\n",
       "    }\n",
       "\n",
       "    .dataframe thead th {\n",
       "        text-align: right;\n",
       "    }\n",
       "</style>\n",
       "<table border=\"1\" class=\"dataframe\">\n",
       "  <thead>\n",
       "    <tr style=\"text-align: right;\">\n",
       "      <th></th>\n",
       "      <th>open</th>\n",
       "      <th>high</th>\n",
       "      <th>low</th>\n",
       "      <th>close</th>\n",
       "      <th>volume</th>\n",
       "    </tr>\n",
       "    <tr>\n",
       "      <th>date</th>\n",
       "      <th></th>\n",
       "      <th></th>\n",
       "      <th></th>\n",
       "      <th></th>\n",
       "      <th></th>\n",
       "    </tr>\n",
       "  </thead>\n",
       "  <tbody>\n",
       "    <tr>\n",
       "      <th>2018-10-19 09:30:00</th>\n",
       "      <td>16.90</td>\n",
       "      <td>17.18</td>\n",
       "      <td>16.90</td>\n",
       "      <td>17.095</td>\n",
       "      <td>11522</td>\n",
       "    </tr>\n",
       "    <tr>\n",
       "      <th>2018-10-19 09:45:00</th>\n",
       "      <td>17.11</td>\n",
       "      <td>17.44</td>\n",
       "      <td>17.11</td>\n",
       "      <td>17.400</td>\n",
       "      <td>70593</td>\n",
       "    </tr>\n",
       "    <tr>\n",
       "      <th>2018-10-19 10:00:00</th>\n",
       "      <td>17.40</td>\n",
       "      <td>17.40</td>\n",
       "      <td>17.25</td>\n",
       "      <td>17.280</td>\n",
       "      <td>38885</td>\n",
       "    </tr>\n",
       "    <tr>\n",
       "      <th>2018-10-19 10:15:00</th>\n",
       "      <td>17.27</td>\n",
       "      <td>17.27</td>\n",
       "      <td>17.18</td>\n",
       "      <td>17.200</td>\n",
       "      <td>37046</td>\n",
       "    </tr>\n",
       "    <tr>\n",
       "      <th>2018-10-19 10:30:00</th>\n",
       "      <td>17.21</td>\n",
       "      <td>17.37</td>\n",
       "      <td>17.19</td>\n",
       "      <td>17.200</td>\n",
       "      <td>46874</td>\n",
       "    </tr>\n",
       "  </tbody>\n",
       "</table>\n",
       "</div>"
      ],
      "text/plain": [
       "                      open   high    low   close  volume\n",
       "date                                                    \n",
       "2018-10-19 09:30:00  16.90  17.18  16.90  17.095   11522\n",
       "2018-10-19 09:45:00  17.11  17.44  17.11  17.400   70593\n",
       "2018-10-19 10:00:00  17.40  17.40  17.25  17.280   38885\n",
       "2018-10-19 10:15:00  17.27  17.27  17.18  17.200   37046\n",
       "2018-10-19 10:30:00  17.21  17.37  17.19  17.200   46874"
      ]
     },
     "execution_count": 2,
     "metadata": {},
     "output_type": "execute_result"
    }
   ],
   "source": [
    "# Import the OHLCV dataset into a Pandas Dataframe\n",
    "trading_df = pd.read_csv(\n",
    "    Path(\"../Resources/ohlcv.csv\"), \n",
    "    index_col=\"date\", \n",
    "    infer_datetime_format=True, \n",
    "    parse_dates=True\n",
    ")\n",
    "\n",
    "# Review the DataFrame\n",
    "trading_df.head()"
   ]
  },
  {
   "cell_type": "markdown",
   "metadata": {},
   "source": [
    "### Add a daily return values column to the DataFrame"
   ]
  },
  {
   "cell_type": "code",
   "execution_count": 3,
   "metadata": {},
   "outputs": [
    {
     "data": {
      "text/html": [
       "<div>\n",
       "<style scoped>\n",
       "    .dataframe tbody tr th:only-of-type {\n",
       "        vertical-align: middle;\n",
       "    }\n",
       "\n",
       "    .dataframe tbody tr th {\n",
       "        vertical-align: top;\n",
       "    }\n",
       "\n",
       "    .dataframe thead th {\n",
       "        text-align: right;\n",
       "    }\n",
       "</style>\n",
       "<table border=\"1\" class=\"dataframe\">\n",
       "  <thead>\n",
       "    <tr style=\"text-align: right;\">\n",
       "      <th></th>\n",
       "      <th>open</th>\n",
       "      <th>high</th>\n",
       "      <th>low</th>\n",
       "      <th>close</th>\n",
       "      <th>volume</th>\n",
       "      <th>actual_returns</th>\n",
       "    </tr>\n",
       "    <tr>\n",
       "      <th>date</th>\n",
       "      <th></th>\n",
       "      <th></th>\n",
       "      <th></th>\n",
       "      <th></th>\n",
       "      <th></th>\n",
       "      <th></th>\n",
       "    </tr>\n",
       "  </thead>\n",
       "  <tbody>\n",
       "    <tr>\n",
       "      <th>2018-10-19 09:45:00</th>\n",
       "      <td>17.11</td>\n",
       "      <td>17.44</td>\n",
       "      <td>17.11</td>\n",
       "      <td>17.40</td>\n",
       "      <td>70593</td>\n",
       "      <td>0.017841</td>\n",
       "    </tr>\n",
       "    <tr>\n",
       "      <th>2018-10-19 10:00:00</th>\n",
       "      <td>17.40</td>\n",
       "      <td>17.40</td>\n",
       "      <td>17.25</td>\n",
       "      <td>17.28</td>\n",
       "      <td>38885</td>\n",
       "      <td>-0.006897</td>\n",
       "    </tr>\n",
       "    <tr>\n",
       "      <th>2018-10-19 10:15:00</th>\n",
       "      <td>17.27</td>\n",
       "      <td>17.27</td>\n",
       "      <td>17.18</td>\n",
       "      <td>17.20</td>\n",
       "      <td>37046</td>\n",
       "      <td>-0.004630</td>\n",
       "    </tr>\n",
       "    <tr>\n",
       "      <th>2018-10-19 10:30:00</th>\n",
       "      <td>17.21</td>\n",
       "      <td>17.37</td>\n",
       "      <td>17.19</td>\n",
       "      <td>17.20</td>\n",
       "      <td>46874</td>\n",
       "      <td>0.000000</td>\n",
       "    </tr>\n",
       "    <tr>\n",
       "      <th>2018-10-19 10:45:00</th>\n",
       "      <td>17.20</td>\n",
       "      <td>17.20</td>\n",
       "      <td>17.10</td>\n",
       "      <td>17.12</td>\n",
       "      <td>11266</td>\n",
       "      <td>-0.004651</td>\n",
       "    </tr>\n",
       "  </tbody>\n",
       "</table>\n",
       "</div>"
      ],
      "text/plain": [
       "                      open   high    low  close  volume  actual_returns\n",
       "date                                                                   \n",
       "2018-10-19 09:45:00  17.11  17.44  17.11  17.40   70593        0.017841\n",
       "2018-10-19 10:00:00  17.40  17.40  17.25  17.28   38885       -0.006897\n",
       "2018-10-19 10:15:00  17.27  17.27  17.18  17.20   37046       -0.004630\n",
       "2018-10-19 10:30:00  17.21  17.37  17.19  17.20   46874        0.000000\n",
       "2018-10-19 10:45:00  17.20  17.20  17.10  17.12   11266       -0.004651"
      ]
     },
     "metadata": {},
     "output_type": "display_data"
    },
    {
     "data": {
      "text/html": [
       "<div>\n",
       "<style scoped>\n",
       "    .dataframe tbody tr th:only-of-type {\n",
       "        vertical-align: middle;\n",
       "    }\n",
       "\n",
       "    .dataframe tbody tr th {\n",
       "        vertical-align: top;\n",
       "    }\n",
       "\n",
       "    .dataframe thead th {\n",
       "        text-align: right;\n",
       "    }\n",
       "</style>\n",
       "<table border=\"1\" class=\"dataframe\">\n",
       "  <thead>\n",
       "    <tr style=\"text-align: right;\">\n",
       "      <th></th>\n",
       "      <th>open</th>\n",
       "      <th>high</th>\n",
       "      <th>low</th>\n",
       "      <th>close</th>\n",
       "      <th>volume</th>\n",
       "      <th>actual_returns</th>\n",
       "    </tr>\n",
       "    <tr>\n",
       "      <th>date</th>\n",
       "      <th></th>\n",
       "      <th></th>\n",
       "      <th></th>\n",
       "      <th></th>\n",
       "      <th></th>\n",
       "      <th></th>\n",
       "    </tr>\n",
       "  </thead>\n",
       "  <tbody>\n",
       "    <tr>\n",
       "      <th>2020-09-04 14:45:00</th>\n",
       "      <td>6.225</td>\n",
       "      <td>6.26</td>\n",
       "      <td>6.220</td>\n",
       "      <td>6.250</td>\n",
       "      <td>55512</td>\n",
       "      <td>0.003210</td>\n",
       "    </tr>\n",
       "    <tr>\n",
       "      <th>2020-09-04 15:00:00</th>\n",
       "      <td>6.255</td>\n",
       "      <td>6.27</td>\n",
       "      <td>6.245</td>\n",
       "      <td>6.250</td>\n",
       "      <td>65810</td>\n",
       "      <td>0.000000</td>\n",
       "    </tr>\n",
       "    <tr>\n",
       "      <th>2020-09-04 15:15:00</th>\n",
       "      <td>6.250</td>\n",
       "      <td>6.29</td>\n",
       "      <td>6.250</td>\n",
       "      <td>6.275</td>\n",
       "      <td>202630</td>\n",
       "      <td>0.004000</td>\n",
       "    </tr>\n",
       "    <tr>\n",
       "      <th>2020-09-04 15:30:00</th>\n",
       "      <td>6.270</td>\n",
       "      <td>6.28</td>\n",
       "      <td>6.250</td>\n",
       "      <td>6.255</td>\n",
       "      <td>130140</td>\n",
       "      <td>-0.003187</td>\n",
       "    </tr>\n",
       "    <tr>\n",
       "      <th>2020-09-04 15:45:00</th>\n",
       "      <td>6.250</td>\n",
       "      <td>6.28</td>\n",
       "      <td>6.250</td>\n",
       "      <td>6.250</td>\n",
       "      <td>190278</td>\n",
       "      <td>-0.000799</td>\n",
       "    </tr>\n",
       "  </tbody>\n",
       "</table>\n",
       "</div>"
      ],
      "text/plain": [
       "                      open  high    low  close  volume  actual_returns\n",
       "date                                                                  \n",
       "2020-09-04 14:45:00  6.225  6.26  6.220  6.250   55512        0.003210\n",
       "2020-09-04 15:00:00  6.255  6.27  6.245  6.250   65810        0.000000\n",
       "2020-09-04 15:15:00  6.250  6.29  6.250  6.275  202630        0.004000\n",
       "2020-09-04 15:30:00  6.270  6.28  6.250  6.255  130140       -0.003187\n",
       "2020-09-04 15:45:00  6.250  6.28  6.250  6.250  190278       -0.000799"
      ]
     },
     "metadata": {},
     "output_type": "display_data"
    }
   ],
   "source": [
    "# Calculate the daily returns using the closing prices and the pct_change function\n",
    "trading_df[\"actual_returns\"] = trading_df[\"close\"].pct_change()\n",
    "\n",
    "# Drop all NaN values from the DataFrame\n",
    "trading_df = trading_df.dropna()\n",
    "\n",
    "# Review the DataFrame\n",
    "display(trading_df.head())\n",
    "display(trading_df.tail())"
   ]
  },
  {
   "cell_type": "markdown",
   "metadata": {},
   "source": [
    "---\n",
    "\n",
    "### Generating the Features and Target Sets"
   ]
  },
  {
   "cell_type": "code",
   "execution_count": 4,
   "metadata": {},
   "outputs": [],
   "source": [
    "# Define a window size of 4\n",
    "short_window = 4\n",
    "\n",
    "# Create a simple moving average (SMA) using the short_window and assign this to a new columns called sma_fast\n",
    "trading_df['sma_fast'] = trading_df['close'].rolling(window=short_window).mean()"
   ]
  },
  {
   "cell_type": "code",
   "execution_count": 5,
   "metadata": {},
   "outputs": [],
   "source": [
    "# Define a window size of 100\n",
    "long_window = 100\n",
    "\n",
    "# Create a simple moving average (SMA) using the long_window and assign this to a new columns called sma_slow\n",
    "trading_df['sma_slow'] = trading_df['close'].rolling(window=long_window).mean()"
   ]
  },
  {
   "cell_type": "code",
   "execution_count": 6,
   "metadata": {},
   "outputs": [],
   "source": [
    "# Drop the NaNs using dropna()\n",
    "trading_df = trading_df.dropna()"
   ]
  },
  {
   "cell_type": "markdown",
   "metadata": {},
   "source": [
    "#### Create the features set"
   ]
  },
  {
   "cell_type": "code",
   "execution_count": 7,
   "metadata": {},
   "outputs": [
    {
     "data": {
      "text/html": [
       "<div>\n",
       "<style scoped>\n",
       "    .dataframe tbody tr th:only-of-type {\n",
       "        vertical-align: middle;\n",
       "    }\n",
       "\n",
       "    .dataframe tbody tr th {\n",
       "        vertical-align: top;\n",
       "    }\n",
       "\n",
       "    .dataframe thead th {\n",
       "        text-align: right;\n",
       "    }\n",
       "</style>\n",
       "<table border=\"1\" class=\"dataframe\">\n",
       "  <thead>\n",
       "    <tr style=\"text-align: right;\">\n",
       "      <th></th>\n",
       "      <th>sma_fast</th>\n",
       "      <th>sma_slow</th>\n",
       "    </tr>\n",
       "    <tr>\n",
       "      <th>date</th>\n",
       "      <th></th>\n",
       "      <th></th>\n",
       "    </tr>\n",
       "  </thead>\n",
       "  <tbody>\n",
       "    <tr>\n",
       "      <th>2018-10-24 15:00:00</th>\n",
       "      <td>15.65250</td>\n",
       "      <td>16.3403</td>\n",
       "    </tr>\n",
       "    <tr>\n",
       "      <th>2018-10-24 15:15:00</th>\n",
       "      <td>15.61875</td>\n",
       "      <td>16.3216</td>\n",
       "    </tr>\n",
       "    <tr>\n",
       "      <th>2018-10-24 15:30:00</th>\n",
       "      <td>15.55375</td>\n",
       "      <td>16.3029</td>\n",
       "    </tr>\n",
       "    <tr>\n",
       "      <th>2018-10-24 15:45:00</th>\n",
       "      <td>15.47625</td>\n",
       "      <td>16.2844</td>\n",
       "    </tr>\n",
       "    <tr>\n",
       "      <th>2018-10-25 09:30:00</th>\n",
       "      <td>15.40250</td>\n",
       "      <td>16.2656</td>\n",
       "    </tr>\n",
       "  </tbody>\n",
       "</table>\n",
       "</div>"
      ],
      "text/plain": [
       "                     sma_fast  sma_slow\n",
       "date                                   \n",
       "2018-10-24 15:00:00  15.65250   16.3403\n",
       "2018-10-24 15:15:00  15.61875   16.3216\n",
       "2018-10-24 15:30:00  15.55375   16.3029\n",
       "2018-10-24 15:45:00  15.47625   16.2844\n",
       "2018-10-25 09:30:00  15.40250   16.2656"
      ]
     },
     "metadata": {},
     "output_type": "display_data"
    },
    {
     "data": {
      "text/html": [
       "<div>\n",
       "<style scoped>\n",
       "    .dataframe tbody tr th:only-of-type {\n",
       "        vertical-align: middle;\n",
       "    }\n",
       "\n",
       "    .dataframe tbody tr th {\n",
       "        vertical-align: top;\n",
       "    }\n",
       "\n",
       "    .dataframe thead th {\n",
       "        text-align: right;\n",
       "    }\n",
       "</style>\n",
       "<table border=\"1\" class=\"dataframe\">\n",
       "  <thead>\n",
       "    <tr style=\"text-align: right;\">\n",
       "      <th></th>\n",
       "      <th>sma_fast</th>\n",
       "      <th>sma_slow</th>\n",
       "    </tr>\n",
       "    <tr>\n",
       "      <th>date</th>\n",
       "      <th></th>\n",
       "      <th></th>\n",
       "    </tr>\n",
       "  </thead>\n",
       "  <tbody>\n",
       "    <tr>\n",
       "      <th>2020-09-04 14:45:00</th>\n",
       "      <td>6.22875</td>\n",
       "      <td>6.27030</td>\n",
       "    </tr>\n",
       "    <tr>\n",
       "      <th>2020-09-04 15:00:00</th>\n",
       "      <td>6.23875</td>\n",
       "      <td>6.26985</td>\n",
       "    </tr>\n",
       "    <tr>\n",
       "      <th>2020-09-04 15:15:00</th>\n",
       "      <td>6.25125</td>\n",
       "      <td>6.26910</td>\n",
       "    </tr>\n",
       "    <tr>\n",
       "      <th>2020-09-04 15:30:00</th>\n",
       "      <td>6.25750</td>\n",
       "      <td>6.26855</td>\n",
       "    </tr>\n",
       "    <tr>\n",
       "      <th>2020-09-04 15:45:00</th>\n",
       "      <td>6.25750</td>\n",
       "      <td>6.26785</td>\n",
       "    </tr>\n",
       "  </tbody>\n",
       "</table>\n",
       "</div>"
      ],
      "text/plain": [
       "                     sma_fast  sma_slow\n",
       "date                                   \n",
       "2020-09-04 14:45:00   6.22875   6.27030\n",
       "2020-09-04 15:00:00   6.23875   6.26985\n",
       "2020-09-04 15:15:00   6.25125   6.26910\n",
       "2020-09-04 15:30:00   6.25750   6.26855\n",
       "2020-09-04 15:45:00   6.25750   6.26785"
      ]
     },
     "metadata": {},
     "output_type": "display_data"
    }
   ],
   "source": [
    "# Assign a copy of the sma_fast and sma_slow columns to a new DataFrame called X\n",
    "X = trading_df[['sma_fast', 'sma_slow']].copy()\n",
    "\n",
    "# Display sample data\n",
    "display(X.head())\n",
    "display(X.tail())"
   ]
  },
  {
   "cell_type": "markdown",
   "metadata": {},
   "source": [
    "#### Create the target set"
   ]
  },
  {
   "cell_type": "code",
   "execution_count": 8,
   "metadata": {},
   "outputs": [],
   "source": [
    "# Create a new column in the trading_df called signal setting its value to zero.\n",
    "trading_df['signal'] = 0.0"
   ]
  },
  {
   "cell_type": "code",
   "execution_count": 9,
   "metadata": {},
   "outputs": [],
   "source": [
    "# Create the signal to buy\n",
    "trading_df.loc[(trading_df['actual_returns'] >= 0), 'signal'] = 1"
   ]
  },
  {
   "cell_type": "code",
   "execution_count": 10,
   "metadata": {},
   "outputs": [],
   "source": [
    "# Create the signal to sell\n",
    "trading_df.loc[(trading_df['actual_returns'] < 0), 'signal'] = -1"
   ]
  },
  {
   "cell_type": "code",
   "execution_count": 11,
   "metadata": {},
   "outputs": [],
   "source": [
    "# Copy the new signal column to a new Series called y.\n",
    "y = trading_df['signal'].copy()"
   ]
  },
  {
   "cell_type": "markdown",
   "metadata": {},
   "source": [
    "---\n",
    "\n",
    "### Split the Data Into Training and Testing Datasets"
   ]
  },
  {
   "cell_type": "markdown",
   "metadata": {},
   "source": [
    "#### Creating the Training Datasets"
   ]
  },
  {
   "cell_type": "code",
   "execution_count": 12,
   "metadata": {},
   "outputs": [],
   "source": [
    "# Imports \n",
    "from pandas.tseries.offsets import DateOffset"
   ]
  },
  {
   "cell_type": "code",
   "execution_count": 13,
   "metadata": {},
   "outputs": [
    {
     "name": "stdout",
     "output_type": "stream",
     "text": [
      "2018-10-24 15:00:00\n"
     ]
    }
   ],
   "source": [
    "# Select the start of the training period\n",
    "training_begin = X.index.min()\n",
    "\n",
    "# Display the training begin date\n",
    "print(training_begin)"
   ]
  },
  {
   "cell_type": "code",
   "execution_count": 14,
   "metadata": {},
   "outputs": [
    {
     "name": "stdout",
     "output_type": "stream",
     "text": [
      "2019-01-24 15:00:00\n"
     ]
    }
   ],
   "source": [
    "# Select the ending period for the training data with an offset of 3 months\n",
    "training_end = X.index.min() + DateOffset(months=3)\n",
    "\n",
    "# Display the training end date\n",
    "print(training_end)"
   ]
  },
  {
   "cell_type": "code",
   "execution_count": 15,
   "metadata": {},
   "outputs": [
    {
     "data": {
      "text/html": [
       "<div>\n",
       "<style scoped>\n",
       "    .dataframe tbody tr th:only-of-type {\n",
       "        vertical-align: middle;\n",
       "    }\n",
       "\n",
       "    .dataframe tbody tr th {\n",
       "        vertical-align: top;\n",
       "    }\n",
       "\n",
       "    .dataframe thead th {\n",
       "        text-align: right;\n",
       "    }\n",
       "</style>\n",
       "<table border=\"1\" class=\"dataframe\">\n",
       "  <thead>\n",
       "    <tr style=\"text-align: right;\">\n",
       "      <th></th>\n",
       "      <th>sma_fast</th>\n",
       "      <th>sma_slow</th>\n",
       "    </tr>\n",
       "    <tr>\n",
       "      <th>date</th>\n",
       "      <th></th>\n",
       "      <th></th>\n",
       "    </tr>\n",
       "  </thead>\n",
       "  <tbody>\n",
       "    <tr>\n",
       "      <th>2018-10-24 15:00:00</th>\n",
       "      <td>15.65250</td>\n",
       "      <td>16.3403</td>\n",
       "    </tr>\n",
       "    <tr>\n",
       "      <th>2018-10-24 15:15:00</th>\n",
       "      <td>15.61875</td>\n",
       "      <td>16.3216</td>\n",
       "    </tr>\n",
       "    <tr>\n",
       "      <th>2018-10-24 15:30:00</th>\n",
       "      <td>15.55375</td>\n",
       "      <td>16.3029</td>\n",
       "    </tr>\n",
       "    <tr>\n",
       "      <th>2018-10-24 15:45:00</th>\n",
       "      <td>15.47625</td>\n",
       "      <td>16.2844</td>\n",
       "    </tr>\n",
       "    <tr>\n",
       "      <th>2018-10-25 09:30:00</th>\n",
       "      <td>15.40250</td>\n",
       "      <td>16.2656</td>\n",
       "    </tr>\n",
       "  </tbody>\n",
       "</table>\n",
       "</div>"
      ],
      "text/plain": [
       "                     sma_fast  sma_slow\n",
       "date                                   \n",
       "2018-10-24 15:00:00  15.65250   16.3403\n",
       "2018-10-24 15:15:00  15.61875   16.3216\n",
       "2018-10-24 15:30:00  15.55375   16.3029\n",
       "2018-10-24 15:45:00  15.47625   16.2844\n",
       "2018-10-25 09:30:00  15.40250   16.2656"
      ]
     },
     "execution_count": 15,
     "metadata": {},
     "output_type": "execute_result"
    }
   ],
   "source": [
    "# Generate the X_train and y_train DataFrames\n",
    "X_train = X.loc[training_begin:training_end]\n",
    "y_train = y.loc[training_begin:training_end]\n",
    "\n",
    "# Display sample data\n",
    "X_train.head()"
   ]
  },
  {
   "cell_type": "markdown",
   "metadata": {},
   "source": [
    "#### Creating the Testing Datasets"
   ]
  },
  {
   "cell_type": "code",
   "execution_count": 16,
   "metadata": {},
   "outputs": [
    {
     "data": {
      "text/html": [
       "<div>\n",
       "<style scoped>\n",
       "    .dataframe tbody tr th:only-of-type {\n",
       "        vertical-align: middle;\n",
       "    }\n",
       "\n",
       "    .dataframe tbody tr th {\n",
       "        vertical-align: top;\n",
       "    }\n",
       "\n",
       "    .dataframe thead th {\n",
       "        text-align: right;\n",
       "    }\n",
       "</style>\n",
       "<table border=\"1\" class=\"dataframe\">\n",
       "  <thead>\n",
       "    <tr style=\"text-align: right;\">\n",
       "      <th></th>\n",
       "      <th>sma_fast</th>\n",
       "      <th>sma_slow</th>\n",
       "    </tr>\n",
       "    <tr>\n",
       "      <th>date</th>\n",
       "      <th></th>\n",
       "      <th></th>\n",
       "    </tr>\n",
       "  </thead>\n",
       "  <tbody>\n",
       "    <tr>\n",
       "      <th>2019-01-24 15:00:00</th>\n",
       "      <td>14.1600</td>\n",
       "      <td>14.29466</td>\n",
       "    </tr>\n",
       "    <tr>\n",
       "      <th>2019-01-24 15:15:00</th>\n",
       "      <td>14.1600</td>\n",
       "      <td>14.29036</td>\n",
       "    </tr>\n",
       "    <tr>\n",
       "      <th>2019-01-24 15:30:00</th>\n",
       "      <td>14.1575</td>\n",
       "      <td>14.28666</td>\n",
       "    </tr>\n",
       "    <tr>\n",
       "      <th>2019-01-24 15:45:00</th>\n",
       "      <td>14.1525</td>\n",
       "      <td>14.28161</td>\n",
       "    </tr>\n",
       "    <tr>\n",
       "      <th>2019-01-25 09:30:00</th>\n",
       "      <td>14.1750</td>\n",
       "      <td>14.27791</td>\n",
       "    </tr>\n",
       "  </tbody>\n",
       "</table>\n",
       "</div>"
      ],
      "text/plain": [
       "                     sma_fast  sma_slow\n",
       "date                                   \n",
       "2019-01-24 15:00:00   14.1600  14.29466\n",
       "2019-01-24 15:15:00   14.1600  14.29036\n",
       "2019-01-24 15:30:00   14.1575  14.28666\n",
       "2019-01-24 15:45:00   14.1525  14.28161\n",
       "2019-01-25 09:30:00   14.1750  14.27791"
      ]
     },
     "execution_count": 16,
     "metadata": {},
     "output_type": "execute_result"
    }
   ],
   "source": [
    "# Generate the X_test and y_test DataFrames\n",
    "X_test = X.loc[training_end:]\n",
    "y_test = y.loc[training_end:]\n",
    "\n",
    "# Display sample data\n",
    "X_test.head()"
   ]
  },
  {
   "cell_type": "markdown",
   "metadata": {},
   "source": [
    "#### Standardizing the Data"
   ]
  },
  {
   "cell_type": "code",
   "execution_count": 17,
   "metadata": {},
   "outputs": [],
   "source": [
    "# Imports\n",
    "from sklearn.preprocessing import StandardScaler"
   ]
  },
  {
   "cell_type": "code",
   "execution_count": 18,
   "metadata": {},
   "outputs": [],
   "source": [
    "# Create a StandardScaler instance\n",
    "scaler = StandardScaler()\n",
    " \n",
    "# Apply the scaler model to fit the X-train data\n",
    "X_scaler = scaler.fit(X_train)\n",
    " \n",
    "# Transform the X_train and X_test DataFrames using the X_scaler\n",
    "X_train_scaled = X_scaler.transform(X_train)\n",
    "X_test_scaled = X_scaler.transform(X_test)"
   ]
  },
  {
   "cell_type": "markdown",
   "metadata": {},
   "source": [
    "---\n",
    "\n",
    "### Incorporate the SVM Machine Learning Into the Trading Strategy"
   ]
  },
  {
   "cell_type": "code",
   "execution_count": 19,
   "metadata": {},
   "outputs": [],
   "source": [
    "# Imports\n",
    "from sklearn import svm\n",
    "from sklearn.metrics import classification_report"
   ]
  },
  {
   "cell_type": "code",
   "execution_count": 20,
   "metadata": {},
   "outputs": [
    {
     "data": {
      "text/plain": [
       "array([-1., -1., -1., -1., -1., -1., -1., -1., -1., -1.])"
      ]
     },
     "execution_count": 20,
     "metadata": {},
     "output_type": "execute_result"
    }
   ],
   "source": [
    "# Create the classifier model\n",
    "svm_model = svm.SVC()\n",
    " \n",
    "# Fit the model to the data using X_train_scaled and y_train\n",
    "svm_model = svm_model.fit(X_train_scaled, y_train)\n",
    "\n",
    "# Use the trained model to predict the trading signals for the training data\n",
    "training_signal_predictions = svm_model.predict(X_train_scaled)\n",
    "\n",
    "# Display the sample predictions\n",
    "training_signal_predictions[:10]"
   ]
  },
  {
   "cell_type": "code",
   "execution_count": 21,
   "metadata": {},
   "outputs": [
    {
     "name": "stdout",
     "output_type": "stream",
     "text": [
      "              precision    recall  f1-score   support\n",
      "\n",
      "        -1.0       0.55      0.17      0.26       741\n",
      "         1.0       0.52      0.87      0.65       776\n",
      "\n",
      "    accuracy                           0.53      1517\n",
      "   macro avg       0.54      0.52      0.46      1517\n",
      "weighted avg       0.54      0.53      0.46      1517\n",
      "\n"
     ]
    }
   ],
   "source": [
    "# Evaluate the model using a classification report\n",
    "training_report = classification_report(y_train, training_signal_predictions)\n",
    "print(training_report)"
   ]
  },
  {
   "cell_type": "markdown",
   "metadata": {},
   "source": [
    "---\n",
    "\n",
    "### Backtesting a Machine Learning Trading Algorithm"
   ]
  },
  {
   "cell_type": "code",
   "execution_count": 22,
   "metadata": {},
   "outputs": [],
   "source": [
    "# Use the trained model to predict the trading signals for the testing data.\n",
    "testing_signal_predictions = svm_model.predict(X_test_scaled)"
   ]
  },
  {
   "cell_type": "code",
   "execution_count": 23,
   "metadata": {},
   "outputs": [
    {
     "name": "stdout",
     "output_type": "stream",
     "text": [
      "              precision    recall  f1-score   support\n",
      "\n",
      "        -1.0       0.47      0.37      0.42      4894\n",
      "         1.0       0.53      0.64      0.58      5559\n",
      "\n",
      "    accuracy                           0.51     10453\n",
      "   macro avg       0.50      0.50      0.50     10453\n",
      "weighted avg       0.51      0.51      0.50     10453\n",
      "\n"
     ]
    }
   ],
   "source": [
    "# Evaluate the model's ability to predict the trading signal for the testing data\n",
    "svm_testing_report = classification_report(y_test, testing_signal_predictions)\n",
    "print(svm_testing_report)"
   ]
  },
  {
   "cell_type": "code",
   "execution_count": 24,
   "metadata": {},
   "outputs": [
    {
     "data": {
      "text/html": [
       "<div>\n",
       "<style scoped>\n",
       "    .dataframe tbody tr th:only-of-type {\n",
       "        vertical-align: middle;\n",
       "    }\n",
       "\n",
       "    .dataframe tbody tr th {\n",
       "        vertical-align: top;\n",
       "    }\n",
       "\n",
       "    .dataframe thead th {\n",
       "        text-align: right;\n",
       "    }\n",
       "</style>\n",
       "<table border=\"1\" class=\"dataframe\">\n",
       "  <thead>\n",
       "    <tr style=\"text-align: right;\">\n",
       "      <th></th>\n",
       "      <th>predicted_signal</th>\n",
       "      <th>actual_returns</th>\n",
       "      <th>trading_algorithm_returns</th>\n",
       "    </tr>\n",
       "    <tr>\n",
       "      <th>date</th>\n",
       "      <th></th>\n",
       "      <th></th>\n",
       "      <th></th>\n",
       "    </tr>\n",
       "  </thead>\n",
       "  <tbody>\n",
       "    <tr>\n",
       "      <th>2019-01-24 15:00:00</th>\n",
       "      <td>1.0</td>\n",
       "      <td>0.002123</td>\n",
       "      <td>0.002123</td>\n",
       "    </tr>\n",
       "    <tr>\n",
       "      <th>2019-01-24 15:15:00</th>\n",
       "      <td>1.0</td>\n",
       "      <td>0.001412</td>\n",
       "      <td>0.001412</td>\n",
       "    </tr>\n",
       "    <tr>\n",
       "      <th>2019-01-24 15:30:00</th>\n",
       "      <td>1.0</td>\n",
       "      <td>-0.001410</td>\n",
       "      <td>-0.001410</td>\n",
       "    </tr>\n",
       "    <tr>\n",
       "      <th>2019-01-24 15:45:00</th>\n",
       "      <td>1.0</td>\n",
       "      <td>-0.003531</td>\n",
       "      <td>-0.003531</td>\n",
       "    </tr>\n",
       "    <tr>\n",
       "      <th>2019-01-25 09:30:00</th>\n",
       "      <td>1.0</td>\n",
       "      <td>0.009922</td>\n",
       "      <td>0.009922</td>\n",
       "    </tr>\n",
       "  </tbody>\n",
       "</table>\n",
       "</div>"
      ],
      "text/plain": [
       "                     predicted_signal  actual_returns  \\\n",
       "date                                                    \n",
       "2019-01-24 15:00:00               1.0        0.002123   \n",
       "2019-01-24 15:15:00               1.0        0.001412   \n",
       "2019-01-24 15:30:00               1.0       -0.001410   \n",
       "2019-01-24 15:45:00               1.0       -0.003531   \n",
       "2019-01-25 09:30:00               1.0        0.009922   \n",
       "\n",
       "                     trading_algorithm_returns  \n",
       "date                                            \n",
       "2019-01-24 15:00:00                   0.002123  \n",
       "2019-01-24 15:15:00                   0.001412  \n",
       "2019-01-24 15:30:00                  -0.001410  \n",
       "2019-01-24 15:45:00                  -0.003531  \n",
       "2019-01-25 09:30:00                   0.009922  "
      ]
     },
     "execution_count": 24,
     "metadata": {},
     "output_type": "execute_result"
    }
   ],
   "source": [
    "# Create a new empty predictions DataFrame using code provided below.\n",
    "predictions_df = pd.DataFrame(index=X_test.index)\n",
    "predictions_df[\"predicted_signal\"] = testing_signal_predictions\n",
    "predictions_df[\"actual_returns\"] = trading_df[\"actual_returns\"]\n",
    "predictions_df[\"trading_algorithm_returns\"] = predictions_df[\"actual_returns\"] * predictions_df[\"predicted_signal\"]\n",
    "predictions_df.head()"
   ]
  },
  {
   "cell_type": "code",
   "execution_count": 25,
   "metadata": {},
   "outputs": [
    {
     "data": {
      "text/plain": [
       "<AxesSubplot:xlabel='date'>"
      ]
     },
     "execution_count": 25,
     "metadata": {},
     "output_type": "execute_result"
    },
    {
     "data": {
      "image/png": "[encoded data removed]",
      "image/svg+xml": "<?xml version=\"1.0\" encoding=\"utf-8\" standalone=\"no\"?>\n<!DOCTYPE svg PUBLIC \"-//W3C//DTD SVG 1.1//EN\"\n  \"http://www.w3.org/Graphics/SVG/1.1/DTD/svg11.dtd\">\n<svg xmlns:xlink=\"http://www.w3.org/1999/xlink\" width=\"387.213344pt\" height=\"260.191033pt\" viewBox=\"0 0 387.213344 260.191033\" xmlns=\"http://www.w3.org/2000/svg\" version=\"1.1\">\n <metadata>\n  <rdf:RDF xmlns:dc=\"http://purl.org/dc/elements/1.1/\" xmlns:cc=\"http://creativecommons.org/ns#\" xmlns:rdf=\"http://www.w3.org/1999/02/22-rdf-syntax-ns#\">\n   <cc:Work>\n    <dc:type rdf:resource=\"http://purl.org/dc/dcmitype/StillImage\"/>\n    <dc:date>2022-09-16T20:19:07.313626</dc:date>\n    <dc:format>image/svg+xml</dc:format>\n    <dc:creator>\n     <cc:Agent>\n      <dc:title>Matplotlib v3.5.1, https://matplotlib.org/</dc:title>\n     </cc:Agent>\n    </dc:creator>\n   </cc:Work>\n  </rdf:RDF>\n </metadata>\n <defs>\n  <style type=\"text/css\">*{stroke-linejoin: round; stroke-linecap: butt}</style>\n </defs>\n <g id=\"figure_1\">\n  <g id=\"patch_1\">\n   <path d=\"M 0 260.191033 \nL 387.213344 260.191033 \nL 387.213344 0 \nL 0 0 \nL 0 260.191033 \nz\n\" style=\"fill: none\"/>\n  </g>\n  <g id=\"axes_1\">\n   <g id=\"patch_2\">\n    <path d=\"M 45.213344 203.04 \nL 380.013344 203.04 \nL 380.013344 7.2 \nL 45.213344 7.2 \nz\n\" style=\"fill: #ffffff\"/>\n   </g>\n   <g id=\"matplotlib.axis_1\">\n    <g id=\"xtick_1\">\n     <g id=\"line2d_1\">\n      <defs>\n       <path id=\"mee9e883025\" d=\"M 0 0 \nL 0 3.5 \n\" style=\"stroke: #000000; stroke-width: 0.8\"/>\n      </defs>\n      <g>\n       <use xlink:href=\"#mee9e883025\" x=\"48.22404\" y=\"203.04\" style=\"stroke: #000000; stroke-width: 0.8\"/>\n      </g>\n     </g>\n     <g id=\"text_1\">\n      <!-- 2019-01 -->\n      <g transform=\"translate(10.999219 237.511846)rotate(-30)scale(0.1 -0.1)\">\n       <defs>\n        <path id=\"DejaVuSans-32\" d=\"M 1228 531 \nL 3431 531 \nL 3431 0 \nL 469 0 \nL 469 531 \nQ 828 903 1448 1529 \nQ 2069 2156 2228 2338 \nQ 2531 2678 2651 2914 \nQ 2772 3150 2772 3378 \nQ 2772 3750 2511 3984 \nQ 2250 4219 1831 4219 \nQ 1534 4219 1204 4116 \nQ 875 4013 500 3803 \nL 500 4441 \nQ 881 4594 1212 4672 \nQ 1544 4750 1819 4750 \nQ 2544 4750 2975 4387 \nQ 3406 4025 3406 3419 \nQ 3406 3131 3298 2873 \nQ 3191 2616 2906 2266 \nQ 2828 2175 2409 1742 \nQ 1991 1309 1228 531 \nz\n\" transform=\"scale(0.015625)\"/>\n        <path id=\"DejaVuSans-30\" d=\"M 2034 4250 \nQ 1547 4250 1301 3770 \nQ 1056 3291 1056 2328 \nQ 1056 1369 1301 889 \nQ 1547 409 2034 409 \nQ 2525 409 2770 889 \nQ 3016 1369 3016 2328 \nQ 3016 3291 2770 3770 \nQ 2525 4250 2034 4250 \nz\nM 2034 4750 \nQ 2819 4750 3233 4129 \nQ 3647 3509 3647 2328 \nQ 3647 1150 3233 529 \nQ 2819 -91 2034 -91 \nQ 1250 -91 836 529 \nQ 422 1150 422 2328 \nQ 422 3509 836 4129 \nQ 1250 4750 2034 4750 \nz\n\" transform=\"scale(0.015625)\"/>\n        <path id=\"DejaVuSans-31\" d=\"M 794 531 \nL 1825 531 \nL 1825 4091 \nL 703 3866 \nL 703 4441 \nL 1819 4666 \nL 2450 4666 \nL 2450 531 \nL 3481 531 \nL 3481 0 \nL 794 0 \nL 794 531 \nz\n\" transform=\"scale(0.015625)\"/>\n        <path id=\"DejaVuSans-39\" d=\"M 703 97 \nL 703 672 \nQ 941 559 1184 500 \nQ 1428 441 1663 441 \nQ 2288 441 2617 861 \nQ 2947 1281 2994 2138 \nQ 2813 1869 2534 1725 \nQ 2256 1581 1919 1581 \nQ 1219 1581 811 2004 \nQ 403 2428 403 3163 \nQ 403 3881 828 4315 \nQ 1253 4750 1959 4750 \nQ 2769 4750 3195 4129 \nQ 3622 3509 3622 2328 \nQ 3622 1225 3098 567 \nQ 2575 -91 1691 -91 \nQ 1453 -91 1209 -44 \nQ 966 3 703 97 \nz\nM 1959 2075 \nQ 2384 2075 2632 2365 \nQ 2881 2656 2881 3163 \nQ 2881 3666 2632 3958 \nQ 2384 4250 1959 4250 \nQ 1534 4250 1286 3958 \nQ 1038 3666 1038 3163 \nQ 1038 2656 1286 2365 \nQ 1534 2075 1959 2075 \nz\n\" transform=\"scale(0.015625)\"/>\n        <path id=\"DejaVuSans-2d\" d=\"M 313 2009 \nL 1997 2009 \nL 1997 1497 \nL 313 1497 \nL 313 2009 \nz\n\" transform=\"scale(0.015625)\"/>\n       </defs>\n       <use xlink:href=\"#DejaVuSans-32\"/>\n       <use xlink:href=\"#DejaVuSans-30\" x=\"63.623047\"/>\n       <use xlink:href=\"#DejaVuSans-31\" x=\"127.246094\"/>\n       <use xlink:href=\"#DejaVuSans-39\" x=\"190.869141\"/>\n       <use xlink:href=\"#DejaVuSans-2d\" x=\"254.492188\"/>\n       <use xlink:href=\"#DejaVuSans-30\" x=\"290.576172\"/>\n       <use xlink:href=\"#DejaVuSans-31\" x=\"354.199219\"/>\n      </g>\n     </g>\n    </g>\n    <g id=\"xtick_2\">\n     <g id=\"line2d_2\">\n      <g>\n       <use xlink:href=\"#mee9e883025\" x=\"78.71046\" y=\"203.04\" style=\"stroke: #000000; stroke-width: 0.8\"/>\n      </g>\n     </g>\n     <g id=\"text_2\">\n      <!-- 2019-03 -->\n      <g transform=\"translate(41.48564 237.511846)rotate(-30)scale(0.1 -0.1)\">\n       <defs>\n        <path id=\"DejaVuSans-33\" d=\"M 2597 2516 \nQ 3050 2419 3304 2112 \nQ 3559 1806 3559 1356 \nQ 3559 666 3084 287 \nQ 2609 -91 1734 -91 \nQ 1441 -91 1130 -33 \nQ 819 25 488 141 \nL 488 750 \nQ 750 597 1062 519 \nQ 1375 441 1716 441 \nQ 2309 441 2620 675 \nQ 2931 909 2931 1356 \nQ 2931 1769 2642 2001 \nQ 2353 2234 1838 2234 \nL 1294 2234 \nL 1294 2753 \nL 1863 2753 \nQ 2328 2753 2575 2939 \nQ 2822 3125 2822 3475 \nQ 2822 3834 2567 4026 \nQ 2313 4219 1838 4219 \nQ 1578 4219 1281 4162 \nQ 984 4106 628 3988 \nL 628 4550 \nQ 988 4650 1302 4700 \nQ 1616 4750 1894 4750 \nQ 2613 4750 3031 4423 \nQ 3450 4097 3450 3541 \nQ 3450 3153 3228 2886 \nQ 3006 2619 2597 2516 \nz\n\" transform=\"scale(0.015625)\"/>\n       </defs>\n       <use xlink:href=\"#DejaVuSans-32\"/>\n       <use xlink:href=\"#DejaVuSans-30\" x=\"63.623047\"/>\n       <use xlink:href=\"#DejaVuSans-31\" x=\"127.246094\"/>\n       <use xlink:href=\"#DejaVuSans-39\" x=\"190.869141\"/>\n       <use xlink:href=\"#DejaVuSans-2d\" x=\"254.492188\"/>\n       <use xlink:href=\"#DejaVuSans-30\" x=\"290.576172\"/>\n       <use xlink:href=\"#DejaVuSans-33\" x=\"354.199219\"/>\n      </g>\n     </g>\n    </g>\n    <g id=\"xtick_3\">\n     <g id=\"line2d_3\">\n      <g>\n       <use xlink:href=\"#mee9e883025\" x=\"110.230319\" y=\"203.04\" style=\"stroke: #000000; stroke-width: 0.8\"/>\n      </g>\n     </g>\n     <g id=\"text_3\">\n      <!-- 2019-05 -->\n      <g transform=\"translate(73.005498 237.511846)rotate(-30)scale(0.1 -0.1)\">\n       <defs>\n        <path id=\"DejaVuSans-35\" d=\"M 691 4666 \nL 3169 4666 \nL 3169 4134 \nL 1269 4134 \nL 1269 2991 \nQ 1406 3038 1543 3061 \nQ 1681 3084 1819 3084 \nQ 2600 3084 3056 2656 \nQ 3513 2228 3513 1497 \nQ 3513 744 3044 326 \nQ 2575 -91 1722 -91 \nQ 1428 -91 1123 -41 \nQ 819 9 494 109 \nL 494 744 \nQ 775 591 1075 516 \nQ 1375 441 1709 441 \nQ 2250 441 2565 725 \nQ 2881 1009 2881 1497 \nQ 2881 1984 2565 2268 \nQ 2250 2553 1709 2553 \nQ 1456 2553 1204 2497 \nQ 953 2441 691 2322 \nL 691 4666 \nz\n\" transform=\"scale(0.015625)\"/>\n       </defs>\n       <use xlink:href=\"#DejaVuSans-32\"/>\n       <use xlink:href=\"#DejaVuSans-30\" x=\"63.623047\"/>\n       <use xlink:href=\"#DejaVuSans-31\" x=\"127.246094\"/>\n       <use xlink:href=\"#DejaVuSans-39\" x=\"190.869141\"/>\n       <use xlink:href=\"#DejaVuSans-2d\" x=\"254.492188\"/>\n       <use xlink:href=\"#DejaVuSans-30\" x=\"290.576172\"/>\n       <use xlink:href=\"#DejaVuSans-35\" x=\"354.199219\"/>\n      </g>\n     </g>\n    </g>\n    <g id=\"xtick_4\">\n     <g id=\"line2d_4\">\n      <g>\n       <use xlink:href=\"#mee9e883025\" x=\"141.750178\" y=\"203.04\" style=\"stroke: #000000; stroke-width: 0.8\"/>\n      </g>\n     </g>\n     <g id=\"text_4\">\n      <!-- 2019-07 -->\n      <g transform=\"translate(104.525357 237.511846)rotate(-30)scale(0.1 -0.1)\">\n       <defs>\n        <path id=\"DejaVuSans-37\" d=\"M 525 4666 \nL 3525 4666 \nL 3525 4397 \nL 1831 0 \nL 1172 0 \nL 2766 4134 \nL 525 4134 \nL 525 4666 \nz\n\" transform=\"scale(0.015625)\"/>\n       </defs>\n       <use xlink:href=\"#DejaVuSans-32\"/>\n       <use xlink:href=\"#DejaVuSans-30\" x=\"63.623047\"/>\n       <use xlink:href=\"#DejaVuSans-31\" x=\"127.246094\"/>\n       <use xlink:href=\"#DejaVuSans-39\" x=\"190.869141\"/>\n       <use xlink:href=\"#DejaVuSans-2d\" x=\"254.492188\"/>\n       <use xlink:href=\"#DejaVuSans-30\" x=\"290.576172\"/>\n       <use xlink:href=\"#DejaVuSans-37\" x=\"354.199219\"/>\n      </g>\n     </g>\n    </g>\n    <g id=\"xtick_5\">\n     <g id=\"line2d_5\">\n      <g>\n       <use xlink:href=\"#mee9e883025\" x=\"173.786756\" y=\"203.04\" style=\"stroke: #000000; stroke-width: 0.8\"/>\n      </g>\n     </g>\n     <g id=\"text_5\">\n      <!-- 2019-09 -->\n      <g transform=\"translate(136.561935 237.511846)rotate(-30)scale(0.1 -0.1)\">\n       <use xlink:href=\"#DejaVuSans-32\"/>\n       <use xlink:href=\"#DejaVuSans-30\" x=\"63.623047\"/>\n       <use xlink:href=\"#DejaVuSans-31\" x=\"127.246094\"/>\n       <use xlink:href=\"#DejaVuSans-39\" x=\"190.869141\"/>\n       <use xlink:href=\"#DejaVuSans-2d\" x=\"254.492188\"/>\n       <use xlink:href=\"#DejaVuSans-30\" x=\"290.576172\"/>\n       <use xlink:href=\"#DejaVuSans-39\" x=\"354.199219\"/>\n      </g>\n     </g>\n    </g>\n    <g id=\"xtick_6\">\n     <g id=\"line2d_6\">\n      <g>\n       <use xlink:href=\"#mee9e883025\" x=\"205.306614\" y=\"203.04\" style=\"stroke: #000000; stroke-width: 0.8\"/>\n      </g>\n     </g>\n     <g id=\"text_6\">\n      <!-- 2019-11 -->\n      <g transform=\"translate(168.081794 237.511846)rotate(-30)scale(0.1 -0.1)\">\n       <use xlink:href=\"#DejaVuSans-32\"/>\n       <use xlink:href=\"#DejaVuSans-30\" x=\"63.623047\"/>\n       <use xlink:href=\"#DejaVuSans-31\" x=\"127.246094\"/>\n       <use xlink:href=\"#DejaVuSans-39\" x=\"190.869141\"/>\n       <use xlink:href=\"#DejaVuSans-2d\" x=\"254.492188\"/>\n       <use xlink:href=\"#DejaVuSans-31\" x=\"290.576172\"/>\n       <use xlink:href=\"#DejaVuSans-31\" x=\"354.199219\"/>\n      </g>\n     </g>\n    </g>\n    <g id=\"xtick_7\">\n     <g id=\"line2d_7\">\n      <g>\n       <use xlink:href=\"#mee9e883025\" x=\"236.826473\" y=\"203.04\" style=\"stroke: #000000; stroke-width: 0.8\"/>\n      </g>\n     </g>\n     <g id=\"text_7\">\n      <!-- 2020-01 -->\n      <g transform=\"translate(199.601652 237.511846)rotate(-30)scale(0.1 -0.1)\">\n       <use xlink:href=\"#DejaVuSans-32\"/>\n       <use xlink:href=\"#DejaVuSans-30\" x=\"63.623047\"/>\n       <use xlink:href=\"#DejaVuSans-32\" x=\"127.246094\"/>\n       <use xlink:href=\"#DejaVuSans-30\" x=\"190.869141\"/>\n       <use xlink:href=\"#DejaVuSans-2d\" x=\"254.492188\"/>\n       <use xlink:href=\"#DejaVuSans-30\" x=\"290.576172\"/>\n       <use xlink:href=\"#DejaVuSans-31\" x=\"354.199219\"/>\n      </g>\n     </g>\n    </g>\n    <g id=\"xtick_8\">\n     <g id=\"line2d_8\">\n      <g>\n       <use xlink:href=\"#mee9e883025\" x=\"267.829613\" y=\"203.04\" style=\"stroke: #000000; stroke-width: 0.8\"/>\n      </g>\n     </g>\n     <g id=\"text_8\">\n      <!-- 2020-03 -->\n      <g transform=\"translate(230.604792 237.511846)rotate(-30)scale(0.1 -0.1)\">\n       <use xlink:href=\"#DejaVuSans-32\"/>\n       <use xlink:href=\"#DejaVuSans-30\" x=\"63.623047\"/>\n       <use xlink:href=\"#DejaVuSans-32\" x=\"127.246094\"/>\n       <use xlink:href=\"#DejaVuSans-30\" x=\"190.869141\"/>\n       <use xlink:href=\"#DejaVuSans-2d\" x=\"254.492188\"/>\n       <use xlink:href=\"#DejaVuSans-30\" x=\"290.576172\"/>\n       <use xlink:href=\"#DejaVuSans-33\" x=\"354.199219\"/>\n      </g>\n     </g>\n    </g>\n    <g id=\"xtick_9\">\n     <g id=\"line2d_9\">\n      <g>\n       <use xlink:href=\"#mee9e883025\" x=\"299.349472\" y=\"203.04\" style=\"stroke: #000000; stroke-width: 0.8\"/>\n      </g>\n     </g>\n     <g id=\"text_9\">\n      <!-- 2020-05 -->\n      <g transform=\"translate(262.124651 237.511846)rotate(-30)scale(0.1 -0.1)\">\n       <use xlink:href=\"#DejaVuSans-32\"/>\n       <use xlink:href=\"#DejaVuSans-30\" x=\"63.623047\"/>\n       <use xlink:href=\"#DejaVuSans-32\" x=\"127.246094\"/>\n       <use xlink:href=\"#DejaVuSans-30\" x=\"190.869141\"/>\n       <use xlink:href=\"#DejaVuSans-2d\" x=\"254.492188\"/>\n       <use xlink:href=\"#DejaVuSans-30\" x=\"290.576172\"/>\n       <use xlink:href=\"#DejaVuSans-35\" x=\"354.199219\"/>\n      </g>\n     </g>\n    </g>\n    <g id=\"xtick_10\">\n     <g id=\"line2d_10\">\n      <g>\n       <use xlink:href=\"#mee9e883025\" x=\"330.869331\" y=\"203.04\" style=\"stroke: #000000; stroke-width: 0.8\"/>\n      </g>\n     </g>\n     <g id=\"text_10\">\n      <!-- 2020-07 -->\n      <g transform=\"translate(293.64451 237.511846)rotate(-30)scale(0.1 -0.1)\">\n       <use xlink:href=\"#DejaVuSans-32\"/>\n       <use xlink:href=\"#DejaVuSans-30\" x=\"63.623047\"/>\n       <use xlink:href=\"#DejaVuSans-32\" x=\"127.246094\"/>\n       <use xlink:href=\"#DejaVuSans-30\" x=\"190.869141\"/>\n       <use xlink:href=\"#DejaVuSans-2d\" x=\"254.492188\"/>\n       <use xlink:href=\"#DejaVuSans-30\" x=\"290.576172\"/>\n       <use xlink:href=\"#DejaVuSans-37\" x=\"354.199219\"/>\n      </g>\n     </g>\n    </g>\n    <g id=\"xtick_11\">\n     <g id=\"line2d_11\">\n      <g>\n       <use xlink:href=\"#mee9e883025\" x=\"362.905908\" y=\"203.04\" style=\"stroke: #000000; stroke-width: 0.8\"/>\n      </g>\n     </g>\n     <g id=\"text_11\">\n      <!-- 2020-09 -->\n      <g transform=\"translate(325.681088 237.511846)rotate(-30)scale(0.1 -0.1)\">\n       <use xlink:href=\"#DejaVuSans-32\"/>\n       <use xlink:href=\"#DejaVuSans-30\" x=\"63.623047\"/>\n       <use xlink:href=\"#DejaVuSans-32\" x=\"127.246094\"/>\n       <use xlink:href=\"#DejaVuSans-30\" x=\"190.869141\"/>\n       <use xlink:href=\"#DejaVuSans-2d\" x=\"254.492188\"/>\n       <use xlink:href=\"#DejaVuSans-30\" x=\"290.576172\"/>\n       <use xlink:href=\"#DejaVuSans-39\" x=\"354.199219\"/>\n      </g>\n     </g>\n    </g>\n    <g id=\"text_12\">\n     <!-- date -->\n     <g transform=\"translate(201.338344 250.911346)scale(0.1 -0.1)\">\n      <defs>\n       <path id=\"DejaVuSans-64\" d=\"M 2906 2969 \nL 2906 4863 \nL 3481 4863 \nL 3481 0 \nL 2906 0 \nL 2906 525 \nQ 2725 213 2448 61 \nQ 2172 -91 1784 -91 \nQ 1150 -91 751 415 \nQ 353 922 353 1747 \nQ 353 2572 751 3078 \nQ 1150 3584 1784 3584 \nQ 2172 3584 2448 3432 \nQ 2725 3281 2906 2969 \nz\nM 947 1747 \nQ 947 1113 1208 752 \nQ 1469 391 1925 391 \nQ 2381 391 2643 752 \nQ 2906 1113 2906 1747 \nQ 2906 2381 2643 2742 \nQ 2381 3103 1925 3103 \nQ 1469 3103 1208 2742 \nQ 947 2381 947 1747 \nz\n\" transform=\"scale(0.015625)\"/>\n       <path id=\"DejaVuSans-61\" d=\"M 2194 1759 \nQ 1497 1759 1228 1600 \nQ 959 1441 959 1056 \nQ 959 750 1161 570 \nQ 1363 391 1709 391 \nQ 2188 391 2477 730 \nQ 2766 1069 2766 1631 \nL 2766 1759 \nL 2194 1759 \nz\nM 3341 1997 \nL 3341 0 \nL 2766 0 \nL 2766 531 \nQ 2569 213 2275 61 \nQ 1981 -91 1556 -91 \nQ 1019 -91 701 211 \nQ 384 513 384 1019 \nQ 384 1609 779 1909 \nQ 1175 2209 1959 2209 \nL 2766 2209 \nL 2766 2266 \nQ 2766 2663 2505 2880 \nQ 2244 3097 1772 3097 \nQ 1472 3097 1187 3025 \nQ 903 2953 641 2809 \nL 641 3341 \nQ 956 3463 1253 3523 \nQ 1550 3584 1831 3584 \nQ 2591 3584 2966 3190 \nQ 3341 2797 3341 1997 \nz\n\" transform=\"scale(0.015625)\"/>\n       <path id=\"DejaVuSans-74\" d=\"M 1172 4494 \nL 1172 3500 \nL 2356 3500 \nL 2356 3053 \nL 1172 3053 \nL 1172 1153 \nQ 1172 725 1289 603 \nQ 1406 481 1766 481 \nL 2356 481 \nL 2356 0 \nL 1766 0 \nQ 1100 0 847 248 \nQ 594 497 594 1153 \nL 594 3053 \nL 172 3053 \nL 172 3500 \nL 594 3500 \nL 594 4494 \nL 1172 4494 \nz\n\" transform=\"scale(0.015625)\"/>\n       <path id=\"DejaVuSans-65\" d=\"M 3597 1894 \nL 3597 1613 \nL 953 1613 \nQ 991 1019 1311 708 \nQ 1631 397 2203 397 \nQ 2534 397 2845 478 \nQ 3156 559 3463 722 \nL 3463 178 \nQ 3153 47 2828 -22 \nQ 2503 -91 2169 -91 \nQ 1331 -91 842 396 \nQ 353 884 353 1716 \nQ 353 2575 817 3079 \nQ 1281 3584 2069 3584 \nQ 2775 3584 3186 3129 \nQ 3597 2675 3597 1894 \nz\nM 3022 2063 \nQ 3016 2534 2758 2815 \nQ 2500 3097 2075 3097 \nQ 1594 3097 1305 2825 \nQ 1016 2553 972 2059 \nL 3022 2063 \nz\n\" transform=\"scale(0.015625)\"/>\n      </defs>\n      <use xlink:href=\"#DejaVuSans-64\"/>\n      <use xlink:href=\"#DejaVuSans-61\" x=\"63.476562\"/>\n      <use xlink:href=\"#DejaVuSans-74\" x=\"124.755859\"/>\n      <use xlink:href=\"#DejaVuSans-65\" x=\"163.964844\"/>\n     </g>\n    </g>\n   </g>\n   <g id=\"matplotlib.axis_2\">\n    <g id=\"ytick_1\">\n     <g id=\"line2d_12\">\n      <defs>\n       <path id=\"m20f879bb55\" d=\"M 0 0 \nL -3.5 0 \n\" style=\"stroke: #000000; stroke-width: 0.8\"/>\n      </defs>\n      <g>\n       <use xlink:href=\"#m20f879bb55\" x=\"45.213344\" y=\"195.87558\" style=\"stroke: #000000; stroke-width: 0.8\"/>\n      </g>\n     </g>\n     <g id=\"text_13\">\n      <!-- 0.25 -->\n      <g transform=\"translate(15.947719 199.674799)scale(0.1 -0.1)\">\n       <defs>\n        <path id=\"DejaVuSans-2e\" d=\"M 684 794 \nL 1344 794 \nL 1344 0 \nL 684 0 \nL 684 794 \nz\n\" transform=\"scale(0.015625)\"/>\n       </defs>\n       <use xlink:href=\"#DejaVuSans-30\"/>\n       <use xlink:href=\"#DejaVuSans-2e\" x=\"63.623047\"/>\n       <use xlink:href=\"#DejaVuSans-32\" x=\"95.410156\"/>\n       <use xlink:href=\"#DejaVuSans-35\" x=\"159.033203\"/>\n      </g>\n     </g>\n    </g>\n    <g id=\"ytick_2\">\n     <g id=\"line2d_13\">\n      <g>\n       <use xlink:href=\"#m20f879bb55\" x=\"45.213344\" y=\"171.56921\" style=\"stroke: #000000; stroke-width: 0.8\"/>\n      </g>\n     </g>\n     <g id=\"text_14\">\n      <!-- 0.50 -->\n      <g transform=\"translate(15.947719 175.368428)scale(0.1 -0.1)\">\n       <use xlink:href=\"#DejaVuSans-30\"/>\n       <use xlink:href=\"#DejaVuSans-2e\" x=\"63.623047\"/>\n       <use xlink:href=\"#DejaVuSans-35\" x=\"95.410156\"/>\n       <use xlink:href=\"#DejaVuSans-30\" x=\"159.033203\"/>\n      </g>\n     </g>\n    </g>\n    <g id=\"ytick_3\">\n     <g id=\"line2d_14\">\n      <g>\n       <use xlink:href=\"#m20f879bb55\" x=\"45.213344\" y=\"147.262839\" style=\"stroke: #000000; stroke-width: 0.8\"/>\n      </g>\n     </g>\n     <g id=\"text_15\">\n      <!-- 0.75 -->\n      <g transform=\"translate(15.947719 151.062058)scale(0.1 -0.1)\">\n       <use xlink:href=\"#DejaVuSans-30\"/>\n       <use xlink:href=\"#DejaVuSans-2e\" x=\"63.623047\"/>\n       <use xlink:href=\"#DejaVuSans-37\" x=\"95.410156\"/>\n       <use xlink:href=\"#DejaVuSans-35\" x=\"159.033203\"/>\n      </g>\n     </g>\n    </g>\n    <g id=\"ytick_4\">\n     <g id=\"line2d_15\">\n      <g>\n       <use xlink:href=\"#m20f879bb55\" x=\"45.213344\" y=\"122.956469\" style=\"stroke: #000000; stroke-width: 0.8\"/>\n      </g>\n     </g>\n     <g id=\"text_16\">\n      <!-- 1.00 -->\n      <g transform=\"translate(15.947719 126.755688)scale(0.1 -0.1)\">\n       <use xlink:href=\"#DejaVuSans-31\"/>\n       <use xlink:href=\"#DejaVuSans-2e\" x=\"63.623047\"/>\n       <use xlink:href=\"#DejaVuSans-30\" x=\"95.410156\"/>\n       <use xlink:href=\"#DejaVuSans-30\" x=\"159.033203\"/>\n      </g>\n     </g>\n    </g>\n    <g id=\"ytick_5\">\n     <g id=\"line2d_16\">\n      <g>\n       <use xlink:href=\"#m20f879bb55\" x=\"45.213344\" y=\"98.650099\" style=\"stroke: #000000; stroke-width: 0.8\"/>\n      </g>\n     </g>\n     <g id=\"text_17\">\n      <!-- 1.25 -->\n      <g transform=\"translate(15.947719 102.449318)scale(0.1 -0.1)\">\n       <use xlink:href=\"#DejaVuSans-31\"/>\n       <use xlink:href=\"#DejaVuSans-2e\" x=\"63.623047\"/>\n       <use xlink:href=\"#DejaVuSans-32\" x=\"95.410156\"/>\n       <use xlink:href=\"#DejaVuSans-35\" x=\"159.033203\"/>\n      </g>\n     </g>\n    </g>\n    <g id=\"ytick_6\">\n     <g id=\"line2d_17\">\n      <g>\n       <use xlink:href=\"#m20f879bb55\" x=\"45.213344\" y=\"74.343729\" style=\"stroke: #000000; stroke-width: 0.8\"/>\n      </g>\n     </g>\n     <g id=\"text_18\">\n      <!-- 1.50 -->\n      <g transform=\"translate(15.947719 78.142947)scale(0.1 -0.1)\">\n       <use xlink:href=\"#DejaVuSans-31\"/>\n       <use xlink:href=\"#DejaVuSans-2e\" x=\"63.623047\"/>\n       <use xlink:href=\"#DejaVuSans-35\" x=\"95.410156\"/>\n       <use xlink:href=\"#DejaVuSans-30\" x=\"159.033203\"/>\n      </g>\n     </g>\n    </g>\n    <g id=\"ytick_7\">\n     <g id=\"line2d_18\">\n      <g>\n       <use xlink:href=\"#m20f879bb55\" x=\"45.213344\" y=\"50.037358\" style=\"stroke: #000000; stroke-width: 0.8\"/>\n      </g>\n     </g>\n     <g id=\"text_19\">\n      <!-- 1.75 -->\n      <g transform=\"translate(15.947719 53.836577)scale(0.1 -0.1)\">\n       <use xlink:href=\"#DejaVuSans-31\"/>\n       <use xlink:href=\"#DejaVuSans-2e\" x=\"63.623047\"/>\n       <use xlink:href=\"#DejaVuSans-37\" x=\"95.410156\"/>\n       <use xlink:href=\"#DejaVuSans-35\" x=\"159.033203\"/>\n      </g>\n     </g>\n    </g>\n    <g id=\"ytick_8\">\n     <g id=\"line2d_19\">\n      <g>\n       <use xlink:href=\"#m20f879bb55\" x=\"45.213344\" y=\"25.730988\" style=\"stroke: #000000; stroke-width: 0.8\"/>\n      </g>\n     </g>\n     <g id=\"text_20\">\n      <!-- 2.00 -->\n      <g transform=\"translate(15.947719 29.530207)scale(0.1 -0.1)\">\n       <use xlink:href=\"#DejaVuSans-32\"/>\n       <use xlink:href=\"#DejaVuSans-2e\" x=\"63.623047\"/>\n       <use xlink:href=\"#DejaVuSans-30\" x=\"95.410156\"/>\n       <use xlink:href=\"#DejaVuSans-30\" x=\"159.033203\"/>\n      </g>\n     </g>\n    </g>\n   </g>\n   <g id=\"line2d_20\">\n    <path d=\"M 60.431526 122.750046 \nL 60.436908 122.61243 \nL 60.447673 123.094085 \nL 60.840595 121.855544 \nL 60.862125 122.130775 \nL 60.89442 122.853257 \nL 60.953627 122.061967 \nL 60.95901 122.061967 \nL 60.964392 121.373889 \nL 60.969775 122.199583 \nL 62.379987 123.2317 \nL 62.428429 123.438124 \nL 62.401517 122.061967 \nL 62.476872 122.922065 \nL 62.487637 122.990873 \nL 62.514549 122.474814 \nL 62.896706 121.993159 \nL 63.004356 120.617002 \nL 63.009738 120.68581 \nL 63.031268 121.855544 \nL 63.418808 122.681238 \nL 63.483397 118.896806 \nL 63.547987 119.309653 \nL 63.946292 118.827999 \nL 63.978586 117.727073 \nL 64.053941 119.240846 \nL 64.059324 119.7225 \nL 64.064706 118.896806 \nL 64.457628 118.208728 \nL 64.581425 116.694955 \nL 65.99702 117.727073 \nL 66.002403 117.692669 \nL 66.01855 118.621575 \nL 66.099287 116.626148 \nL 66.10467 116.694955 \nL 66.1262 116.350916 \nL 66.131582 116.488532 \nL 66.513739 116.213301 \nL 66.519122 115.938069 \nL 66.605241 116.970187 \nL 66.610624 116.798167 \nL 66.632154 116.866975 \nL 66.648301 116.419724 \nL 67.030458 116.454128 \nL 67.159638 117.383034 \nL 67.16502 117.107802 \nL 67.574089 121.373889 \nL 67.595619 122.853257 \nL 67.676357 121.373889 \nL 67.681739 121.029849 \nL 68.063896 121.442697 \nL 68.106956 123.644547 \nL 68.193076 122.681238 \nL 68.198458 121.408293 \nL 69.614053 122.474814 \nL 69.635583 122.096371 \nL 69.689408 122.818853 \nL 69.71632 122.681238 \nL 69.732468 122.956469 \nL 69.748615 122.027563 \nL 70.130772 119.447269 \nL 70.136155 120.135348 \nL 70.173832 120.85783 \nL 70.184597 119.89452 \nL 70.222274 119.516077 \nL 70.259952 120.444983 \nL 70.265334 120.169751 \nL 70.658256 118.759191 \nL 70.674403 118.105516 \nL 70.717463 119.688097 \nL 70.771288 118.415151 \nL 70.776671 118.243132 \nL 70.782053 118.277536 \nL 71.158828 117.727073 \nL 71.169593 118.380748 \nL 71.234182 116.694955 \nL 71.261095 117.004591 \nL 71.27186 117.17661 \nL 71.29339 116.832571 \nL 71.298772 116.901379 \nL 71.680929 116.282108 \nL 71.767049 117.383034 \nL 71.707841 116.075685 \nL 71.793961 116.55734 \nL 71.799344 116.55734 \nL 71.804726 116.970187 \nL 71.815491 116.660552 \nL 73.742423 116.626148 \nL 73.86622 112.394465 \nL 73.876985 112.738505 \nL 73.882367 112.635293 \nL 74.264524 113.116948 \nL 74.275289 113.942642 \nL 74.350644 111.91281 \nL 74.366791 112.360061 \nL 74.372174 112.222446 \nL 74.399086 113.805026 \nL 74.781243 112.222446 \nL 74.899658 114.974759 \nL 74.910423 114.493104 \nL 74.915805 113.254563 \nL 75.297962 113.392179 \nL 75.319492 114.286681 \nL 75.378699 113.116948 \nL 75.416377 113.977046 \nL 75.421759 113.873834 \nL 75.432524 114.424297 \nL 76.848119 113.736218 \nL 76.858884 113.770622 \nL 76.971916 114.665124 \nL 76.982681 114.493104 \nL 77.364838 115.249991 \nL 77.494018 118.002304 \nL 77.4994 117.589457 \nL 77.876174 116.970187 \nL 77.892322 118.827999 \nL 77.983824 117.34863 \nL 77.994589 117.314226 \nL 78.016119 117.795881 \nL 78.398276 117.933497 \nL 78.452101 117.589457 \nL 78.479013 118.552767 \nL 78.484396 118.552767 \nL 78.505926 118.587171 \nL 78.522073 118.13992 \nL 78.532838 118.346344 \nL 78.914995 116.144493 \nL 78.92576 116.694955 \nL 78.936525 117.795881 \nL 78.984967 116.454128 \nL 79.038792 116.970187 \nL 79.044175 116.935783 \nL 79.049557 117.107802 \nL 80.465152 115.869261 \nL 80.551272 117.727073 \nL 80.583567 117.17661 \nL 80.594332 117.038995 \nL 80.599714 117.245418 \nL 80.987253 117.314226 \nL 81.008783 117.899093 \nL 81.078756 117.004591 \nL 81.084138 117.038995 \nL 81.100286 116.832571 \nL 81.116433 117.245418 \nL 81.49859 117.658265 \nL 81.530885 117.451842 \nL 81.611622 118.208728 \nL 81.622387 117.795881 \nL 81.633152 117.933497 \nL 82.015309 118.449555 \nL 82.085281 116.694955 \nL 82.149871 116.901379 \nL 82.532028 119.309653 \nL 82.53741 118.690383 \nL 82.553558 117.864689 \nL 82.602 118.965614 \nL 82.650443 118.277536 \nL 82.655825 118.552767 \nL 82.66659 118.13992 \nL 84.087567 117.038995 \nL 84.195217 115.559626 \nL 84.216747 115.697242 \nL 84.598904 115.525222 \nL 84.604286 115.318799 \nL 84.631199 116.144493 \nL 84.701171 115.800453 \nL 84.711936 115.834857 \nL 84.722701 115.972473 \nL 84.733466 115.456414 \nL 85.115623 114.905952 \nL 85.142535 114.974759 \nL 85.228655 116.075685 \nL 85.250185 115.800453 \nL 85.632342 115.249991 \nL 85.675402 116.075685 \nL 85.756139 116.006877 \nL 85.766904 116.282108 \nL 86.149061 116.213301 \nL 86.154443 116.316512 \nL 86.262093 116.626148 \nL 86.175973 116.006877 \nL 86.267476 116.488532 \nL 86.283623 116.626148 \nL 87.699218 115.938069 \nL 87.828398 114.596316 \nL 87.709983 116.075685 \nL 87.83378 114.905952 \nL 88.221319 113.633006 \nL 88.248232 113.83943 \nL 88.345117 114.183469 \nL 88.269762 113.564199 \nL 88.350499 114.149065 \nL 88.738038 114.699528 \nL 88.748803 115.387606 \nL 88.829541 113.392179 \nL 88.840306 113.66741 \nL 88.845688 113.185755 \nL 88.867218 113.529795 \nL 89.249375 113.736218 \nL 89.265522 114.01145 \nL 89.28167 113.116948 \nL 89.34626 113.220159 \nL 89.357025 113.151352 \nL 89.36779 113.701814 \nL 89.383937 113.460987 \nL 89.766094 114.871548 \nL 89.814536 116.626148 \nL 89.868361 114.252277 \nL 89.895274 114.493104 \nL 89.884509 114.080257 \nL 89.900656 114.355489 \nL 91.332398 116.213301 \nL 91.343163 116.075685 \nL 91.391606 114.286681 \nL 91.450813 114.905952 \nL 91.83297 113.254563 \nL 91.935237 115.834857 \nL 91.96215 115.456414 \nL 91.967532 115.181183 \nL 92.349689 115.490818 \nL 92.371219 116.763763 \nL 92.468104 116.178897 \nL 92.484251 115.662838 \nL 92.877173 115.731646 \nL 92.904085 116.522936 \nL 92.93638 115.59403 \nL 92.984823 115.76605 \nL 92.995588 115.800453 \nL 93.00097 115.456414 \nL 93.383127 114.355489 \nL 93.404657 115.938069 \nL 93.496159 114.905952 \nL 93.512307 114.217873 \nL 93.517689 114.424297 \nL 94.933284 113.564199 \nL 95.019404 112.428869 \nL 95.057081 112.669697 \nL 95.062464 112.566485 \nL 95.067846 112.807312 \nL 95.450003 112.222446 \nL 95.455385 112.360061 \nL 95.482298 113.942642 \nL 95.584565 113.529795 \nL 95.966722 112.566485 \nL 95.972104 112.841716 \nL 96.068989 113.564199 \nL 95.993634 112.428869 \nL 96.090519 113.288967 \nL 96.101284 113.426583 \nL 98.550317 111.671983 \nL 98.555699 111.740791 \nL 98.598759 111.190328 \nL 98.663349 111.878406 \nL 98.674114 112.016022 \nL 98.679497 111.844003 \nL 98.684879 111.947214 \nL 99.067036 113.288967 \nL 99.083183 112.944928 \nL 99.088566 112.772908 \nL 99.169303 113.633006 \nL 99.185451 113.736218 \nL 99.196216 113.873834 \nL 99.201598 113.770622 \nL 100.100474 114.217873 \nL 100.105856 114.183469 \nL 100.111239 113.529795 \nL 100.170446 114.871548 \nL 100.218889 113.66741 \nL 100.229654 113.805026 \nL 100.235036 113.701814 \nL 100.622575 112.807312 \nL 100.63334 113.013736 \nL 100.638723 113.460987 \nL 100.714078 112.428869 \nL 100.746373 113.323371 \nL 100.751755 113.254563 \nL 102.16735 114.217873 \nL 102.248087 113.254563 \nL 102.285765 113.529795 \nL 102.301912 114.114661 \nL 102.684069 113.357775 \nL 102.813249 114.665124 \nL 102.818631 114.63072 \nL 103.211553 113.736218 \nL 103.27076 113.185755 \nL 103.303055 114.321085 \nL 103.31382 114.217873 \nL 103.33535 114.699528 \nL 103.717507 114.974759 \nL 103.722889 114.561912 \nL 103.749802 115.146779 \nL 103.830539 114.699528 \nL 103.841304 114.63072 \nL 103.852069 115.181183 \nL 105.784383 113.460987 \nL 105.795148 114.217873 \nL 105.875885 112.704101 \nL 105.881268 112.704101 \nL 105.88665 112.532081 \nL 105.902798 113.151352 \nL 105.918945 112.979332 \nL 106.301102 112.497677 \nL 106.306484 112.910524 \nL 106.387222 112.25685 \nL 106.408752 112.463273 \nL 106.435664 113.04814 \nL 106.823203 113.770622 \nL 106.844733 114.183469 \nL 106.860881 113.66741 \nL 106.936236 113.908238 \nL 106.941618 113.83943 \nL 106.952383 114.149065 \nL 107.851259 116.075685 \nL 107.867406 114.940355 \nL 107.964291 115.387606 \nL 107.980439 115.181183 \nL 107.985821 115.662838 \nL 109.401416 115.834857 \nL 109.406798 116.110089 \nL 109.428328 115.215587 \nL 109.498301 115.353203 \nL 109.525213 114.940355 \nL 109.535978 115.249991 \nL 109.918135 114.974759 \nL 110.052697 115.972473 \nL 110.440236 115.249991 \nL 110.456384 115.662838 \nL 110.537121 114.905952 \nL 110.547886 115.146779 \nL 110.553269 115.146779 \nL 110.569416 115.834857 \nL 110.951573 116.213301 \nL 111.059223 117.623861 \nL 110.96772 115.662838 \nL 111.07537 117.038995 \nL 111.086135 117.555053 \nL 111.522117 114.768336 \nL 111.527499 114.252277 \nL 111.602854 114.355489 \nL 113.018449 116.970187 \nL 113.136863 115.800453 \nL 113.153011 116.006877 \nL 114.051887 115.869261 \nL 114.062652 115.318799 \nL 114.094947 116.694955 \nL 114.148772 116.694955 \nL 114.181066 117.142206 \nL 114.186449 116.350916 \nL 114.573988 117.52065 \nL 114.633196 116.591744 \nL 114.584753 118.174324 \nL 114.681638 117.658265 \nL 114.68702 118.105516 \nL 114.703168 117.933497 \nL 115.085325 116.798167 \nL 115.090707 117.038995 \nL 115.106855 117.864689 \nL 115.144532 115.662838 \nL 115.149915 115.869261 \nL 115.166062 115.490818 \nL 115.187592 116.763763 \nL 115.219887 116.213301 \nL 116.635482 117.658265 \nL 116.716219 118.965614 \nL 116.753896 118.415151 \nL 116.759279 118.346344 \nL 116.764661 118.621575 \nL 116.770044 118.552767 \nL 117.157583 117.589457 \nL 117.162966 117.795881 \nL 117.227556 116.832571 \nL 117.275998 117.314226 \nL 117.286763 117.692669 \nL 117.66892 118.552767 \nL 117.73351 117.038995 \nL 117.803482 117.245418 \nL 118.185639 116.55734 \nL 118.191021 116.694955 \nL 118.320201 118.002304 \nL 118.702358 117.795881 \nL 118.820772 118.621575 \nL 118.83692 118.277536 \nL 120.247132 117.451842 \nL 120.360164 118.724787 \nL 120.370929 118.896806 \nL 120.387077 118.759191 \nL 120.763851 117.383034 \nL 120.769234 118.13992 \nL 120.796146 116.488532 \nL 120.871501 116.935783 \nL 120.903796 117.34863 \nL 121.28057 117.727073 \nL 121.361308 119.963328 \nL 121.393602 118.002304 \nL 121.420515 117.52065 \nL 121.797289 118.690383 \nL 121.867262 121.717928 \nL 121.910321 121.408293 \nL 121.921086 121.4771 \nL 121.937234 120.68581 \nL 122.319391 119.584885 \nL 122.324773 118.896806 \nL 122.351686 120.410579 \nL 122.42704 119.619289 \nL 122.437805 119.447269 \nL 122.453953 119.688097 \nL 124.386267 119.653693 \nL 124.515446 121.717928 \nL 124.520829 121.64912 \nL 124.897603 122.61243 \nL 124.951428 123.438124 \nL 125.005253 122.130775 \nL 125.010635 122.474814 \nL 125.032165 121.029849 \nL 125.037548 121.167465 \nL 125.419705 121.305081 \nL 125.425087 121.236273 \nL 125.554267 124.332626 \nL 125.947189 126.052822 \nL 125.990249 124.539049 \nL 126.054838 125.295936 \nL 126.060221 125.639975 \nL 126.070986 125.571167 \nL 127.486581 124.676665 \nL 127.588848 122.922065 \nL 127.604995 123.541336 \nL 127.61576 123.747759 \nL 127.621143 123.472528 \nL 128.0033 122.061967 \nL 128.008682 122.199583 \nL 128.014065 122.543622 \nL 128.100184 120.995446 \nL 128.105567 121.167465 \nL 128.127097 120.651406 \nL 128.137862 120.68581 \nL 128.520019 121.442697 \nL 128.595373 123.919779 \nL 128.643816 123.506932 \nL 128.649198 123.506932 \nL 128.654581 123.954183 \nL 129.047503 123.782163 \nL 129.160535 122.371602 \nL 129.1713 122.818853 \nL 129.553457 122.406006 \nL 129.591134 123.644547 \nL 129.666489 123.094085 \nL 129.677254 122.887661 \nL 129.688019 123.644547 \nL 131.103614 124.160606 \nL 131.216646 122.646834 \nL 131.227411 122.818853 \nL 131.238176 123.162893 \nL 131.620333 121.511504 \nL 131.625715 121.924351 \nL 131.631098 122.061967 \nL 131.668775 121.098657 \nL 131.70107 121.236273 \nL 131.706452 120.926638 \nL 131.749512 121.752332 \nL 131.754895 121.64912 \nL 132.137052 122.027563 \nL 132.142434 122.337198 \nL 132.163964 121.339485 \nL 132.244701 122.130775 \nL 132.255466 121.958755 \nL 132.266231 122.302795 \nL 132.271614 122.268391 \nL 132.686066 121.236273 \nL 132.702213 121.993159 \nL 132.788333 121.580312 \nL 133.17049 122.61243 \nL 133.175872 123.334912 \nL 133.283522 123.025277 \nL 133.299669 122.646834 \nL 133.305052 122.818853 \nL 134.715264 123.2317 \nL 134.726029 124.263818 \nL 134.828296 123.644547 \nL 134.849826 123.40372 \nL 134.855209 123.506932 \nL 135.237366 122.543622 \nL 135.248131 123.2317 \nL 135.264278 122.474814 \nL 135.350398 122.990873 \nL 135.361163 122.750046 \nL 135.371928 122.853257 \nL 135.759467 123.369316 \nL 135.770232 123.678951 \nL 135.861734 123.128489 \nL 135.883264 122.784449 \nL 135.888647 122.887661 \nL 136.270804 121.64912 \nL 136.297716 123.162893 \nL 136.383836 122.337198 \nL 136.389218 122.44041 \nL 136.405366 122.061967 \nL 136.787523 122.44041 \nL 136.922085 120.892234 \nL 138.348445 121.580312 \nL 138.35921 121.4771 \nL 138.472242 122.61243 \nL 138.854399 122.268391 \nL 138.908223 123.782163 \nL 138.983578 123.541336 \nL 138.988961 123.472528 \nL 139.371118 122.543622 \nL 139.387265 122.956469 \nL 139.44109 122.268391 \nL 139.48415 122.750046 \nL 139.494915 122.887661 \nL 139.50568 122.750046 \nL 139.909366 123.300508 \nL 139.914749 123.266104 \nL 139.990104 124.057395 \nL 139.941661 123.059681 \nL 140.022399 123.713355 \nL 140.409938 124.057395 \nL 140.415321 124.470242 \nL 140.512205 123.40372 \nL 140.517588 123.644547 \nL 140.539118 123.162893 \nL 141.954713 121.614716 \nL 142.067745 123.438124 \nL 142.07851 123.128489 \nL 142.083892 123.197297 \nL 142.089275 123.162893 \nL 142.471432 123.094085 \nL 142.498344 123.300508 \nL 142.589846 122.337198 \nL 142.595229 122.646834 \nL 142.605994 122.474814 \nL 143.041975 120.823426 \nL 143.05274 120.961042 \nL 143.058123 120.548195 \nL 144.021589 120.582599 \nL 144.140003 119.7225 \nL 144.037736 120.892234 \nL 144.156151 119.756904 \nL 145.577128 119.7225 \nL 145.58251 119.412865 \nL 145.62557 120.204155 \nL 145.679395 119.997732 \nL 145.706308 119.653693 \nL 146.099229 120.169751 \nL 146.109994 120.135348 \nL 146.153054 120.720214 \nL 146.223027 120.410579 \nL 146.626713 119.137634 \nL 146.632096 119.309653 \nL 146.712833 118.002304 \nL 146.739746 119.034422 \nL 147.121902 118.31194 \nL 147.164962 117.727073 \nL 147.218787 118.621575 \nL 147.229552 118.415151 \nL 147.251082 118.862402 \nL 147.256465 118.690383 \nL 147.649386 117.658265 \nL 147.654769 117.451842 \nL 147.713976 118.346344 \nL 147.740889 118.243132 \nL 147.751654 118.174324 \nL 147.762419 118.036708 \nL 147.773184 118.13992 \nL 149.194161 118.071112 \nL 149.204926 117.795881 \nL 149.247986 118.277536 \nL 149.296428 117.967901 \nL 149.301811 118.277536 \nL 149.323341 117.589457 \nL 149.71088 117.314226 \nL 149.770087 116.901379 \nL 149.807765 117.658265 \nL 149.81853 117.383034 \nL 149.823912 117.486246 \nL 149.834677 117.142206 \nL 149.84006 117.383034 \nL 150.222216 116.488532 \nL 150.227599 116.626148 \nL 150.286806 115.697242 \nL 150.238364 117.107802 \nL 150.340631 116.316512 \nL 150.346014 116.55734 \nL 150.356779 116.488532 \nL 150.744318 116.729359 \nL 150.776613 118.002304 \nL 150.868115 117.486246 \nL 150.873498 117.17661 \nL 151.266419 116.419724 \nL 151.304097 116.626148 \nL 151.309479 116.798167 \nL 151.390217 116.282108 \nL 152.805811 115.731646 \nL 152.811194 115.800453 \nL 152.934991 116.55734 \nL 152.940374 116.694955 \nL 153.327913 116.454128 \nL 153.338678 116.350916 \nL 153.403268 116.970187 \nL 153.414033 116.935783 \nL 153.457093 117.245418 \nL 153.850014 117.52065 \nL 153.968429 117.107802 \nL 153.876927 117.589457 \nL 153.973812 117.17661 \nL 154.355968 117.52065 \nL 154.382881 116.591744 \nL 154.452853 118.243132 \nL 154.458236 118.174324 \nL 154.479766 118.31194 \nL 154.490531 118.243132 \nL 154.872687 118.002304 \nL 154.883452 118.036708 \nL 155.001867 119.172038 \nL 154.92113 118.002304 \nL 155.00725 118.965614 \nL 156.422844 119.516077 \nL 156.487434 121.167465 \nL 156.541259 120.582599 \nL 156.557407 120.85783 \nL 156.950328 121.889948 \nL 156.971858 122.509218 \nL 157.052596 121.167465 \nL 157.063361 120.754618 \nL 157.074126 121.305081 \nL 157.456282 120.376175 \nL 157.461665 120.513791 \nL 157.569315 121.580312 \nL 157.499342 120.479387 \nL 157.58008 121.029849 \nL 157.585462 121.029849 \nL 157.590845 121.305081 \nL 157.973001 121.717928 \nL 158.026826 120.410579 \nL 158.075269 122.302795 \nL 158.080651 122.061967 \nL 158.096799 121.236273 \nL 158.107564 121.717928 \nL 158.48972 121.511504 \nL 158.527398 123.40372 \nL 158.608135 122.61243 \nL 158.613518 122.44041 \nL 158.624283 122.784449 \nL 160.039877 126.534477 \nL 160.142145 128.942751 \nL 160.163675 128.048249 \nL 160.169057 128.048249 \nL 160.17444 128.66752 \nL 160.556596 126.91292 \nL 160.561979 127.016132 \nL 160.599656 128.117057 \nL 160.669629 127.360171 \nL 160.691159 126.947324 \nL 161.073315 129.080367 \nL 161.121758 130.318908 \nL 161.175583 129.045963 \nL 161.202495 127.70421 \nL 161.207878 128.117057 \nL 161.606182 124.883089 \nL 161.627712 123.678951 \nL 161.724597 123.713355 \nL 162.106753 123.128489 \nL 162.219786 124.779877 \nL 162.241316 124.539049 \nL 163.65691 125.915206 \nL 163.791473 128.117057 \nL 163.866827 127.600998 \nL 163.882975 128.048249 \nL 164.173629 128.736328 \nL 164.189777 127.016132 \nL 164.292044 127.188151 \nL 164.297427 127.08494 \nL 164.302809 127.222555 \nL 164.308192 127.222555 \nL 164.695731 129.734042 \nL 164.765703 130.662947 \nL 164.728026 129.562022 \nL 164.808763 130.112485 \nL 164.814146 130.112485 \nL 164.824911 129.734042 \nL 165.207067 129.321194 \nL 165.21245 129.424406 \nL 165.325482 130.628543 \nL 165.330865 130.318908 \nL 165.336247 130.318908 \nL 165.34163 130.112485 \nL 165.723786 129.424406 \nL 165.799141 127.566594 \nL 165.847584 128.082653 \nL 165.858349 127.497787 \nL 167.273943 125.261532 \nL 167.300856 125.984014 \nL 167.333151 125.020704 \nL 167.386976 125.846398 \nL 167.403123 125.915206 \nL 167.408506 125.502359 \nL 167.790662 125.295936 \nL 167.796045 125.433551 \nL 167.844487 124.057395 \nL 167.876782 124.745473 \nL 167.882165 124.642261 \nL 167.925225 125.227128 \nL 168.307381 124.814281 \nL 168.312764 124.883089 \nL 168.323529 124.539049 \nL 168.409649 125.364744 \nL 168.415031 125.295936 \nL 168.447326 125.020704 \nL 168.8241 125.055108 \nL 168.829483 124.951896 \nL 168.834865 124.814281 \nL 168.84563 125.674379 \nL 168.91022 125.639975 \nL 168.95328 126.293649 \nL 168.958663 126.12163 \nL 169.356967 128.117057 \nL 169.367732 127.910634 \nL 169.475382 129.562022 \nL 170.890976 128.805136 \nL 170.955566 129.699638 \nL 171.009391 129.493214 \nL 171.020156 129.562022 \nL 171.025539 129.355598 \nL 171.407695 129.080367 \nL 171.48305 130.662947 \nL 171.542258 130.59414 \nL 171.924414 130.284504 \nL 172.015917 127.360171 \nL 172.053594 128.529904 \nL 172.058977 128.805136 \nL 172.441133 127.463383 \nL 172.527253 128.633116 \nL 172.548783 127.256959 \nL 172.575696 127.566594 \nL 172.963235 126.947324 \nL 172.968617 126.981728 \nL 172.990147 128.013845 \nL 173.076267 127.188151 \nL 173.092415 126.534477 \nL 175.024728 127.428979 \nL 175.030111 127.325767 \nL 175.057023 127.773018 \nL 175.126996 126.603285 \nL 175.132378 126.809708 \nL 175.159291 126.603285 \nL 175.541447 126.12163 \nL 175.606037 125.467955 \nL 175.562977 126.396861 \nL 175.643715 126.259245 \nL 175.67601 126.534477 \nL 176.058166 125.915206 \nL 176.068931 125.777591 \nL 176.192729 127.360171 \nL 176.596415 128.598712 \nL 176.617945 128.220269 \nL 176.677153 127.773018 \nL 176.709448 128.254673 \nL 178.125042 126.672093 \nL 178.24884 124.539049 \nL 178.254222 124.539049 \nL 178.259605 124.332626 \nL 178.641761 124.19501 \nL 178.647144 123.954183 \nL 178.733264 124.745473 \nL 178.738646 124.745473 \nL 178.749411 124.848685 \nL 178.776324 124.126202 \nL 179.15848 123.919779 \nL 179.163863 123.506932 \nL 179.217688 124.745473 \nL 179.26613 123.988587 \nL 179.28766 123.610144 \nL 179.293043 123.644547 \nL 179.659052 123.57574 \nL 179.804379 124.814281 \nL 179.809762 124.504646 \nL 180.191918 124.332626 \nL 180.234978 123.644547 \nL 180.304951 124.126202 \nL 180.321098 124.332626 \nL 180.32648 123.782163 \nL 181.70978 123.162893 \nL 181.75284 127.841826 \nL 181.844343 126.12163 \nL 181.849725 126.052822 \nL 181.865873 127.222555 \nL 181.876637 127.945038 \nL 182.258794 128.082653 \nL 182.274942 129.080367 \nL 182.301854 127.463383 \nL 182.371827 128.598712 \nL 182.387974 128.873943 \nL 182.393356 128.805136 \nL 182.780896 128.598712 \nL 182.840103 129.149175 \nL 182.910075 127.291363 \nL 183.302997 126.637689 \nL 183.324527 125.811995 \nL 183.405265 126.844112 \nL 183.421412 127.08494 \nL 183.426794 126.7409 \nL 183.808951 126.568881 \nL 183.819716 125.777591 \nL 183.921984 126.087226 \nL 183.932748 126.259245 \nL 183.943513 125.811995 \nL 185.359108 125.915206 \nL 185.386021 127.222555 \nL 185.49367 126.947324 \nL 185.88121 127.153747 \nL 185.999624 129.011559 \nL 186.005007 128.736328 \nL 186.010389 128.805136 \nL 186.392546 129.321194 \nL 186.408694 130.215696 \nL 186.489431 128.701924 \nL 186.500196 128.908347 \nL 186.521726 128.770732 \nL 186.527108 128.805136 \nL 186.936178 130.2501 \nL 186.94156 130.181292 \nL 186.946943 130.456524 \nL 187.00615 129.871657 \nL 187.043827 129.940465 \nL 187.425984 129.906061 \nL 187.490574 129.802849 \nL 187.544399 130.559736 \nL 187.560546 129.906061 \nL 188.976141 129.837253 \nL 189.008436 130.559736 \nL 189.089173 130.043677 \nL 189.105321 129.871657 \nL 189.110703 130.112485 \nL 189.49286 129.63083 \nL 189.498243 129.665234 \nL 189.589745 130.766159 \nL 189.616657 130.662947 \nL 189.62204 130.628543 \nL 189.627422 130.731755 \nL 190.106464 132.658375 \nL 190.111846 132.589567 \nL 190.122611 133.071222 \nL 190.144141 132.96801 \nL 190.520916 131.626257 \nL 190.537063 133.896916 \nL 190.628565 132.142316 \nL 190.66086 131.763873 \nL 191.043017 130.59414 \nL 191.0484 130.146889 \nL 191.086077 131.282218 \nL 191.145284 131.075794 \nL 191.150667 131.075794 \nL 191.172197 130.938179 \nL 191.177579 131.21341 \nL 192.598557 131.970296 \nL 192.609322 131.144602 \nL 192.673912 132.589567 \nL 192.695441 132.17672 \nL 192.727736 132.727183 \nL 192.733119 132.451951 \nL 193.244455 135.135457 \nL 193.626612 133.552877 \nL 193.631995 133.93132 \nL 193.64276 133.896916 \nL 193.761174 135.410689 \nL 194.143331 135.307477 \nL 194.175626 134.688206 \nL 194.229451 135.754728 \nL 194.261746 134.929034 \nL 194.267128 134.997841 \nL 194.272511 134.791418 \nL 194.277893 134.791418 \nL 194.66005 134.034532 \nL 194.7677 132.795991 \nL 194.778465 132.933606 \nL 194.783847 132.864798 \nL 194.794612 133.7593 \nL 196.210207 134.791418 \nL 196.21559 135.066649 \nL 196.242502 133.793704 \nL 196.307092 134.10334 \nL 196.344769 134.378571 \nL 196.737691 134.034532 \nL 196.813046 133.415261 \nL 196.759221 134.137743 \nL 196.834576 134.10334 \nL 196.845341 134.344167 \nL 196.850723 134.034532 \nL 196.861488 134.206551 \nL 197.243645 133.7593 \nL 197.319 134.378571 \nL 197.25441 133.690492 \nL 197.36206 134.137743 \nL 197.378207 133.828108 \nL 197.760364 133.277645 \nL 197.814189 134.240955 \nL 197.873396 133.621685 \nL 197.878779 133.552877 \nL 197.884161 133.828108 \nL 197.894926 133.724896 \nL 198.277083 133.277645 \nL 198.395498 131.488642 \nL 198.40088 131.867085 \nL 198.406263 131.832681 \nL 198.411645 132.520759 \nL 199.82724 131.832681 \nL 199.84877 132.692779 \nL 199.91336 131.351026 \nL 199.918742 131.351026 \nL 199.93489 131.075794 \nL 199.95642 131.729469 \nL 199.961802 131.660661 \nL 200.343959 131.38543 \nL 200.387019 131.144602 \nL 200.467756 132.17672 \nL 200.478521 132.795991 \nL 200.866061 133.208838 \nL 200.941415 132.933606 \nL 200.876826 133.552877 \nL 200.962945 133.415261 \nL 200.979093 133.621685 \nL 200.989858 133.380857 \nL 200.99524 133.415261 \nL 201.377397 133.346453 \nL 201.431222 134.516187 \nL 201.506577 134.309763 \nL 201.511959 134.447379 \nL 201.899499 134.447379 \nL 201.904881 134.653802 \nL 201.953323 133.277645 \nL 201.985618 133.621685 \nL 201.991001 133.587281 \nL 202.017913 134.034532 \nL 202.028678 133.896916 \nL 203.449656 132.658375 \nL 203.578835 135.341881 \nL 203.966375 135.68592 \nL 204.052494 133.896916 \nL 204.079407 134.825822 \nL 204.095554 135.410689 \nL 204.477711 134.757014 \nL 204.590743 135.823536 \nL 204.601508 135.754728 \nL 204.612273 135.204265 \nL 204.99443 135.617112 \nL 204.999813 136.029959 \nL 205.069785 133.828108 \nL 205.085932 134.137743 \nL 205.091315 134.172147 \nL 205.107462 134.000128 \nL 205.128992 133.552877 \nL 205.511149 132.383143 \nL 205.613416 131.282218 \nL 205.634946 131.488642 \nL 205.640329 131.454238 \nL 205.645711 131.488642 \nL 207.061306 132.623971 \nL 207.066689 132.486355 \nL 207.163573 133.965724 \nL 207.185103 133.449665 \nL 207.190486 133.518473 \nL 207.195868 133.243241 \nL 207.578025 133.690492 \nL 207.637232 134.929034 \nL 207.685675 133.587281 \nL 207.691057 133.656089 \nL 207.712587 133.14003 \nL 208.110892 134.068936 \nL 208.116274 133.896916 \nL 208.213159 135.857939 \nL 208.229306 135.754728 \nL 208.611463 135.341881 \nL 208.740643 137.096481 \nL 208.746025 136.924461 \nL 209.128182 137.853367 \nL 209.133565 138.23181 \nL 209.187389 136.47721 \nL 209.219684 136.718038 \nL 209.262744 136.098767 \nL 210.678339 137.2685 \nL 210.694487 136.786845 \nL 210.748311 137.646943 \nL 210.780606 137.44052 \nL 210.812901 137.750155 \nL 211.195058 137.406116 \nL 211.200441 137.543732 \nL 211.22197 136.993269 \nL 211.28656 138.988696 \nL 211.345768 141.052932 \nL 211.701012 142.841935 \nL 211.706395 142.429088 \nL 211.711777 145.112594 \nL 211.722542 141.947434 \nL 211.819427 144.355708 \nL 211.840957 143.185975 \nL 211.846339 143.392398 \nL 212.228496 143.530014 \nL 212.260791 145.07819 \nL 212.287703 143.289186 \nL 212.336146 143.426802 \nL 212.341528 143.633226 \nL 212.352293 143.220379 \nL 212.363058 143.254783 \nL 212.750598 141.672202 \nL 212.782892 139.745583 \nL 212.869012 140.261641 \nL 212.874395 140.364853 \nL 212.879777 140.296045 \nL 214.295372 140.984124 \nL 214.424552 142.601108 \nL 214.429934 142.291473 \nL 214.806709 142.153857 \nL 214.812091 141.947434 \nL 214.849768 144.046073 \nL 214.876681 143.598822 \nL 214.882063 143.839649 \nL 214.946653 141.809818 \nL 215.32881 141.465779 \nL 215.334193 141.500183 \nL 215.404165 142.70432 \nL 215.45799 142.016241 \nL 215.463372 142.085049 \nL 215.899354 140.571277 \nL 215.969326 138.094194 \nL 215.980091 138.163002 \nL 216.362248 138.025387 \nL 216.405308 139.19512 \nL 216.426838 137.715751 \nL 216.469898 137.922175 \nL 216.47528 137.922175 \nL 216.480663 137.681347 \nL 216.49681 137.956579 \nL 217.912405 136.580422 \nL 217.955465 135.479496 \nL 218.025437 136.098767 \nL 218.036202 136.167575 \nL 218.046967 135.68592 \nL 218.472184 136.373998 \nL 218.482949 136.167575 \nL 218.547539 137.990983 \nL 218.563686 137.818963 \nL 218.945843 138.05979 \nL 218.994285 139.745583 \nL 219.058875 138.541445 \nL 219.064258 138.644657 \nL 219.075023 138.266214 \nL 219.080405 138.438234 \nL 219.979281 138.713465 \nL 219.984663 137.887771 \nL 220.016958 138.954292 \nL 220.049253 138.644657 \nL 221.529438 138.266214 \nL 221.664 140.227237 \nL 222.046157 141.328163 \nL 222.051539 141.190547 \nL 222.067687 140.124026 \nL 222.153807 141.878626 \nL 222.159189 141.981837 \nL 222.175337 141.672202 \nL 222.180719 141.809818 \nL 222.568258 142.429088 \nL 222.579023 142.360281 \nL 222.622083 140.984124 \nL 222.692056 142.016241 \nL 222.697438 142.360281 \nL 223.079595 141.947434 \nL 223.203392 140.15843 \nL 223.214157 140.364853 \nL 223.596314 140.15843 \nL 223.601696 139.676775 \nL 223.671669 141.534586 \nL 223.698581 140.915316 \nL 223.720111 141.224951 \nL 223.725494 140.846508 \nL 223.730876 141.052932 \nL 225.66319 138.369426 \nL 225.695485 136.133171 \nL 225.781605 137.027673 \nL 225.797752 137.337308 \nL 226.179909 137.2685 \nL 226.196056 136.098767 \nL 226.266029 137.543732 \nL 226.287559 136.993269 \nL 226.292941 137.130885 \nL 226.314471 136.30519 \nL 226.696628 135.204265 \nL 226.777365 132.795991 \nL 226.815043 133.552877 \nL 226.83119 133.14003 \nL 227.218729 132.864798 \nL 227.224112 132.933606 \nL 227.251024 134.481783 \nL 227.342527 133.277645 \nL 227.347909 132.589567 \nL 228.763504 132.245528 \nL 228.768886 132.417547 \nL 228.822711 131.626257 \nL 228.860389 131.832681 \nL 228.871154 131.626257 \nL 228.898066 132.17672 \nL 229.285605 131.179006 \nL 229.307135 131.523045 \nL 229.328665 131.006987 \nL 229.414785 133.346453 \nL 229.829237 132.039104 \nL 229.926122 130.800563 \nL 229.931504 131.041391 \nL 230.308278 130.731755 \nL 230.313661 130.318908 \nL 230.367486 131.454238 \nL 230.405163 131.38543 \nL 230.415928 131.660661 \nL 230.448223 131.351026 \nL 230.85191 131.006987 \nL 230.9165 129.768445 \nL 230.964942 130.2501 \nL 232.385919 130.2501 \nL 232.396684 129.63083 \nL 232.477422 131.041391 \nL 232.482804 130.800563 \nL 232.488187 130.834967 \nL 232.515099 130.387716 \nL 232.902638 131.21341 \nL 232.913403 130.972583 \nL 232.967228 130.318908 \nL 233.946841 129.906061 \nL 234.000666 129.149175 \nL 234.038344 130.387716 \nL 234.049109 130.112485 \nL 234.054491 130.284504 \nL 234.065256 129.837253 \nL 234.447413 129.906061 \nL 234.517385 131.21341 \nL 234.560445 130.559736 \nL 234.565828 130.490928 \nL 234.581975 130.731755 \nL 236.530436 132.692779 \nL 236.611174 133.105626 \nL 236.648851 131.935892 \nL 237.547727 131.075794 \nL 237.563874 131.110198 \nL 237.682289 128.254673 \nL 238.064446 127.910634 \nL 238.102123 129.665234 \nL 238.172096 128.289077 \nL 238.193626 126.706496 \nL 238.204391 127.016132 \nL 239.619985 125.192724 \nL 239.646898 125.089512 \nL 239.743783 125.984014 \nL 239.749165 126.018418 \nL 240.131322 126.259245 \nL 240.238972 127.188151 \nL 240.244354 127.119344 \nL 240.265884 126.396861 \nL 240.648041 125.984014 \nL 240.707248 128.873943 \nL 240.782603 128.461096 \nL 241.180907 128.048249 \nL 241.218585 126.809708 \nL 241.29394 127.945038 \nL 241.299322 127.841826 \nL 241.681479 128.392289 \nL 241.686861 128.289077 \nL 241.703009 127.910634 \nL 241.735304 128.942751 \nL 241.778364 128.908347 \nL 241.810659 129.217983 \nL 241.816041 128.805136 \nL 243.231636 129.045963 \nL 243.280078 126.672093 \nL 243.366198 127.325767 \nL 243.748355 127.566594 \nL 243.78065 126.431265 \nL 243.861387 127.08494 \nL 243.86677 127.153747 \nL 243.877535 126.637689 \nL 243.882917 126.878516 \nL 244.265074 127.566594 \nL 244.372724 126.500073 \nL 244.383489 126.91292 \nL 244.394254 127.394575 \nL 244.399636 127.153747 \nL 244.781793 126.396861 \nL 244.873295 126.809708 \nL 244.889443 126.603285 \nL 244.894825 126.534477 \nL 244.900208 126.7409 \nL 244.916355 126.672093 \nL 245.298512 126.7409 \nL 245.314659 127.428979 \nL 245.411544 127.016132 \nL 245.422309 127.222555 \nL 245.433074 126.878516 \nL 247.365388 128.461096 \nL 247.3923 128.289077 \nL 247.49995 130.2501 \nL 247.882107 130.869371 \nL 247.903637 130.59414 \nL 247.957462 131.695065 \nL 247.962844 131.626257 \nL 248.016669 132.864798 \nL 248.398826 133.862512 \nL 248.447268 130.869371 \nL 248.522623 131.351026 \nL 248.533388 130.731755 \nL 248.920927 132.0047 \nL 248.931692 131.282218 \nL 249.01243 133.208838 \nL 249.017812 133.14003 \nL 249.023195 133.380857 \nL 249.050107 132.451951 \nL 250.471084 134.516187 \nL 250.476467 134.447379 \nL 250.551822 133.071222 \nL 250.600264 133.415261 \nL 250.982421 133.277645 \nL 251.003951 131.660661 \nL 251.095453 132.451951 \nL 251.100836 132.486355 \nL 251.111601 132.0047 \nL 251.116983 132.039104 \nL 251.49914 131.660661 \nL 251.52067 131.763873 \nL 251.612172 131.282218 \nL 251.633702 131.695065 \nL 252.032006 132.727183 \nL 252.037389 133.036818 \nL 252.048154 132.107912 \nL 252.128891 132.383143 \nL 252.150421 132.17672 \nL 252.532578 132.245528 \nL 252.53796 132.211124 \nL 252.62408 133.93132 \nL 252.661758 133.484069 \nL 252.66714 133.552877 \nL 254.082735 133.105626 \nL 254.0935 133.380857 \nL 254.152707 132.245528 \nL 254.185002 132.727183 \nL 254.217297 132.107912 \nL 255.116173 130.59414 \nL 255.121555 130.731755 \nL 255.143085 129.63083 \nL 255.234588 131.21341 \nL 255.250735 130.662947 \nL 255.713629 133.312049 \nL 255.724394 133.002414 \nL 255.740542 132.589567 \nL 255.767454 132.795991 \nL 256.154993 133.828108 \nL 256.160376 133.793704 \nL 256.257261 135.066649 \nL 256.187288 133.484069 \nL 256.273408 134.206551 \nL 256.284173 133.7593 \nL 257.70515 135.238669 \nL 257.758975 137.096481 \nL 257.83433 136.373998 \nL 258.216487 136.064363 \nL 258.227252 136.47721 \nL 258.248782 135.720324 \nL 258.318754 135.754728 \nL 258.340284 136.133171 \nL 258.351049 134.997841 \nL 258.738588 133.828108 \nL 258.867768 131.935892 \nL 259.249925 131.970296 \nL 259.276837 131.591853 \nL 259.341427 132.451951 \nL 259.34681 132.589567 \nL 259.379104 131.970296 \nL 259.384487 132.107912 \nL 259.772026 131.660661 \nL 259.777409 131.729469 \nL 259.782791 131.591853 \nL 259.841999 132.795991 \nL 259.852764 132.795991 \nL 259.868911 133.174434 \nL 259.901206 132.658375 \nL 261.83352 133.552877 \nL 261.849667 134.584994 \nL 261.892727 133.002414 \nL 261.935787 133.14003 \nL 261.951934 133.690492 \nL 261.968082 132.795991 \nL 262.350239 132.727183 \nL 262.361004 133.036818 \nL 262.387916 132.314336 \nL 262.452506 132.692779 \nL 262.474036 132.383143 \nL 262.484801 132.830394 \nL 262.877723 132.623971 \nL 262.888488 132.727183 \nL 262.899253 132.211124 \nL 262.963842 133.656089 \nL 262.985372 133.656089 \nL 262.996137 133.415261 \nL 263.00152 133.793704 \nL 263.383677 135.617112 \nL 263.459032 137.578136 \nL 263.502091 137.130885 \nL 263.518239 136.64923 \nL 264.933834 139.883198 \nL 264.949981 141.121739 \nL 265.046866 140.571277 \nL 265.057631 140.468065 \nL 265.068396 140.708892 \nL 265.450553 139.952006 \nL 265.55282 144.218092 \nL 265.585115 143.117167 \nL 265.967272 142.566704 \nL 265.972654 141.775414 \nL 266.058774 144.424516 \nL 266.064156 144.424516 \nL 266.101834 145.938288 \nL 266.483991 149.860335 \nL 266.607788 144.768555 \nL 266.618553 146.419943 \nL 267.00071 148.621794 \nL 267.006092 149.72272 \nL 267.076065 146.21352 \nL 267.097594 146.626367 \nL 267.135272 143.736437 \nL 268.550867 142.566704 \nL 268.685429 138.713465 \nL 269.067586 138.197406 \nL 269.16447 141.121739 \nL 269.191383 139.81439 \nL 269.202148 140.7777 \nL 269.584305 139.81439 \nL 269.589687 139.952006 \nL 269.59507 139.057504 \nL 269.686572 141.809818 \nL 269.691954 141.809818 \nL 269.713484 140.743296 \nL 269.718867 140.7777 \nL 270.106406 142.738724 \nL 270.122554 141.56899 \nL 270.165614 143.66763 \nL 270.214056 143.32359 \nL 270.219438 143.942861 \nL 270.235586 142.910743 \nL 270.596213 145.25021 \nL 270.74154 149.997951 \nL 270.752305 149.860335 \nL 272.157135 167.88799 \nL 272.1679 173.805464 \nL 272.18943 161.901708 \nL 272.264784 167.647163 \nL 272.297079 169.332955 \nL 272.302462 169.229743 \nL 272.684619 167.750374 \nL 272.727679 173.667849 \nL 272.797651 168.644876 \nL 272.803033 167.062296 \nL 272.819181 167.509547 \nL 273.20672 170.640304 \nL 273.260545 168.300837 \nL 273.319752 171.328382 \nL 273.325135 170.261861 \nL 273.3359 171.878845 \nL 273.718057 177.727511 \nL 273.723439 179.722939 \nL 273.744969 175.525661 \nL 273.831089 178.862841 \nL 273.847236 179.20688 \nL 273.858001 177.245857 \nL 274.234776 176.351355 \nL 274.261688 177.761915 \nL 274.31013 175.044006 \nL 274.347808 176.867413 \nL 274.369338 172.154076 \nL 275.768785 179.103668 \nL 275.8872 180.823864 \nL 275.82261 178.931649 \nL 275.892582 180.651845 \nL 275.90873 178.931649 \nL 275.919495 180.96148 \nL 276.317799 182.337637 \nL 276.420066 184.126641 \nL 276.355476 180.548633 \nL 276.436214 183.989025 \nL 276.823753 189.9065 \nL 276.829136 189.493652 \nL 276.899108 194.138182 \nL 276.94755 192.073947 \nL 276.952933 188.977594 \nL 276.958315 192.658813 \nL 277.33509 190.869809 \nL 277.448122 182.028002 \nL 277.469652 182.750484 \nL 277.819514 180.617441 \nL 277.878721 180.514229 \nL 277.970223 186.810147 \nL 277.980988 184.195449 \nL 277.986371 184.47068 \nL 279.396583 184.849123 \nL 279.401966 188.048688 \nL 279.509615 186.362896 \nL 279.514998 186.294088 \nL 279.531145 187.085378 \nL 279.536528 187.085378 \nL 279.918685 186.122068 \nL 279.934832 184.505084 \nL 280.015569 186.947762 \nL 280.020952 186.775743 \nL 280.042482 187.154186 \nL 280.053247 187.085378 \nL 280.435404 187.085378 \nL 280.451551 188.083092 \nL 280.521523 183.920217 \nL 280.526906 183.644986 \nL 280.569966 186.603723 \nL 280.952123 185.846837 \nL 280.957505 186.294088 \nL 280.995182 181.339923 \nL 281.05439 185.537202 \nL 281.070537 185.640413 \nL 281.086685 185.227566 \nL 281.436547 184.952335 \nL 281.598021 188.667958 \nL 281.711054 186.328492 \nL 283.018999 189.184017 \nL 283.024381 190.52577 \nL 283.083588 188.289515 \nL 283.132031 189.837692 \nL 283.153561 189.080805 \nL 283.535718 187.567033 \nL 283.616455 189.459249 \nL 283.58416 187.532629 \nL 283.64875 188.94319 \nL 283.659515 189.218421 \nL 283.67028 188.048688 \nL 284.057819 188.220707 \nL 284.063202 188.117496 \nL 284.079349 187.80786 \nL 284.127791 188.667958 \nL 284.186999 185.227566 \nL 284.536861 183.713794 \nL 284.569156 185.055547 \nL 284.585303 184.057833 \nL 284.590685 179.99817 \nL 284.68757 184.6427 \nL 284.692953 184.29866 \nL 284.698335 184.161045 \nL 284.703718 184.264256 \nL 285.069727 180.823864 \nL 285.139699 185.158758 \nL 285.198907 183.060119 \nL 285.209672 182.131213 \nL 285.220437 182.475253 \nL 286.630649 181.511943 \nL 286.636032 182.475253 \nL 286.695239 180.96148 \nL 286.738299 181.615155 \nL 286.743681 181.546347 \nL 286.770594 181.855982 \nL 287.158133 180.204594 \nL 287.211958 179.826151 \nL 287.276548 182.268829 \nL 287.287313 181.855982 \nL 287.292695 181.993598 \nL 287.66947 180.96148 \nL 287.760972 182.200021 \nL 287.777119 181.271115 \nL 287.782502 181.030288 \nL 287.787884 181.408731 \nL 287.804032 181.305519 \nL 288.207718 176.695394 \nL 288.229248 178.277974 \nL 288.315368 180.858268 \nL 288.320751 180.273402 \nL 290.253064 179.413304 \nL 290.274594 178.24357 \nL 290.263829 179.482111 \nL 290.366097 179.03486 \nL 290.376862 179.172476 \nL 290.382244 178.931649 \nL 290.387627 179.138072 \nL 290.764401 178.277974 \nL 290.780548 177.521088 \nL 290.866668 178.518802 \nL 290.872051 178.312378 \nL 290.877433 178.381186 \nL 290.904346 178.002743 \nL 291.291885 179.894958 \nL 291.318797 181.511943 \nL 291.38877 179.791747 \nL 291.404917 180.204594 \nL 291.421065 179.310092 \nL 291.803221 179.99817 \nL 291.808604 180.823864 \nL 291.835516 179.757343 \nL 291.916254 180.548633 \nL 291.927019 180.651845 \nL 291.937784 181.030288 \nL 292.31994 180.342209 \nL 292.40606 178.277974 \nL 292.432973 178.553206 \nL 293.870097 178.794033 \nL 293.913157 176.007315 \nL 293.972365 179.310092 \nL 293.988512 179.482111 \nL 294.00466 178.346782 \nL 294.376051 179.310092 \nL 294.392199 178.312378 \nL 294.419111 179.929362 \nL 294.489084 178.828437 \nL 294.494466 178.897245 \nL 294.521379 178.002743 \nL 294.903535 177.314664 \nL 294.908918 177.727511 \nL 294.951978 175.594468 \nL 294.995038 176.076123 \nL 295.032715 175.456853 \nL 295.038098 175.732084 \nL 295.431019 173.392617 \nL 295.441784 171.465998 \nL 295.549434 171.638017 \nL 295.554817 171.810037 \nL 295.910061 170.640304 \nL 295.936973 169.195339 \nL 295.953121 171.775633 \nL 296.017711 170.812323 \nL 296.050006 170.124245 \nL 296.076918 170.571496 \nL 297.48713 172.3605 \nL 297.535573 170.399476 \nL 297.605545 170.502688 \nL 297.610928 170.640304 \nL 297.621693 170.468284 \nL 298.003849 168.988915 \nL 298.009232 169.401763 \nL 298.030762 170.881131 \nL 298.138412 170.296264 \nL 298.520568 169.573782 \nL 298.638983 163.690712 \nL 298.655131 164.172367 \nL 299.04267 162.555382 \nL 299.0642 158.702143 \nL 299.112642 162.865018 \nL 299.15032 162.348959 \nL 299.155702 162.348959 \nL 299.166467 162.589786 \nL 299.17185 162.383363 \nL 299.554006 164.791637 \nL 299.667039 166.511833 \nL 299.580919 164.654021 \nL 299.672421 166.271006 \nL 299.683186 166.167794 \nL 299.688569 166.443025 \nL 301.104163 166.030178 \nL 301.114928 164.791637 \nL 301.152606 166.683853 \nL 301.222578 164.963657 \nL 301.227961 164.963657 \nL 301.238726 164.654021 \nL 301.620882 162.486574 \nL 301.63703 164.619618 \nL 301.739297 163.862731 \nL 301.750062 164.172367 \nL 301.755445 163.553096 \nL 302.137601 166.890276 \nL 302.148366 166.477429 \nL 302.153749 166.030178 \nL 302.207574 168.404049 \nL 302.239869 167.750374 \nL 302.266781 168.369645 \nL 302.272164 168.025606 \nL 302.65432 166.787065 \nL 302.659703 167.027892 \nL 302.69738 166.511833 \nL 302.788883 168.713684 \nL 303.171039 167.750374 \nL 303.181804 167.922394 \nL 303.187187 168.472857 \nL 303.284072 167.750374 \nL 303.289454 167.750374 \nL 303.300219 167.199912 \nL 303.305602 167.543951 \nL 304.721196 168.438453 \nL 304.737344 168.816896 \nL 304.855759 167.199912 \nL 304.861141 167.199912 \nL 305.237915 165.273292 \nL 305.318653 167.440739 \nL 305.35633 167.027892 \nL 305.372478 168.232029 \nL 305.770782 171.362786 \nL 305.867667 173.186194 \nL 305.889197 172.635731 \nL 306.271353 174.080696 \nL 306.276736 173.736657 \nL 306.341326 171.156363 \nL 306.400533 172.222884 \nL 306.405916 172.085268 \nL 306.788072 171.534806 \nL 306.814985 171.947653 \nL 306.884957 171.328382 \nL 306.895722 171.39719 \nL 306.922635 170.571496 \nL 308.338229 167.681566 \nL 308.375907 165.548523 \nL 308.456644 165.995774 \nL 308.467409 165.96137 \nL 308.472792 166.511833 \nL 308.854948 166.374217 \nL 308.876478 165.135676 \nL 308.973363 165.273292 \nL 308.978746 165.617331 \nL 308.989511 165.410908 \nL 309.371667 164.447598 \nL 309.387815 162.383363 \nL 309.495465 162.933825 \nL 309.50623 163.209057 \nL 309.888386 162.865018 \nL 309.926064 164.688425 \nL 310.006801 164.000347 \nL 310.017566 163.656308 \nL 310.022949 164.034751 \nL 310.41587 165.032465 \nL 310.534285 164.034751 \nL 310.539668 163.793923 \nL 312.461216 161.764092 \nL 312.493511 162.348959 \nL 312.536571 161.557669 \nL 312.574249 161.901708 \nL 312.579631 161.8329 \nL 312.601161 162.314555 \nL 312.606544 162.314555 \nL 312.9887 161.282437 \nL 313.020995 163.5875 \nL 313.107115 163.037037 \nL 313.123263 163.346672 \nL 313.505419 163.484288 \nL 313.607687 162.00492 \nL 313.629217 162.658594 \nL 313.634599 163.41548 \nL 313.639982 163.346672 \nL 314.027521 163.897135 \nL 314.049051 164.860445 \nL 314.124406 163.862731 \nL 314.135171 163.449884 \nL 314.156701 163.897135 \nL 315.572295 163.621904 \nL 315.588443 162.899421 \nL 315.679945 163.621904 \nL 315.696093 163.41548 \nL 315.701475 163.828327 \nL 315.706858 163.690712 \nL 316.094397 163.484288 \nL 316.105162 163.174653 \nL 316.158987 163.965943 \nL 316.185899 163.862731 \nL 316.207429 163.897135 \nL 316.212812 163.449884 \nL 316.223577 163.037037 \nL 316.605733 161.936112 \nL 316.611116 162.348959 \nL 316.708001 161.282437 \nL 316.718766 161.213629 \nL 316.729531 161.729688 \nL 316.740296 161.420053 \nL 317.127835 161.351245 \nL 317.230102 159.046182 \nL 317.257015 159.562241 \nL 317.639171 157.085159 \nL 317.644554 157.601218 \nL 317.682231 156.190657 \nL 317.752204 157.498006 \nL 317.757586 157.773237 \nL 317.773734 157.222774 \nL 319.189328 154.883308 \nL 319.194711 154.952116 \nL 319.200093 154.573673 \nL 319.243153 155.812214 \nL 319.296978 155.571386 \nL 319.318508 156.121849 \nL 319.323891 155.846618 \nL 319.71143 157.979661 \nL 319.716812 158.942971 \nL 319.738342 157.153967 \nL 319.81908 158.186084 \nL 319.835227 157.910853 \nL 319.84061 158.598931 \nL 320.228149 160.353531 \nL 320.233531 161.420053 \nL 320.319651 159.252606 \nL 320.335799 159.837472 \nL 320.346564 159.493433 \nL 320.351946 160.009492 \nL 320.357329 159.837472 \nL 320.766398 165.204484 \nL 320.79331 167.922394 \nL 320.830988 164.722829 \nL 320.874048 166.339814 \nL 321.256204 163.5875 \nL 321.363854 167.062296 \nL 321.374619 166.683853 \nL 321.380002 166.752661 \nL 321.396149 166.374217 \nL 322.806361 167.991202 \nL 322.811744 167.88799 \nL 322.914011 163.174653 \nL 322.940924 164.103559 \nL 323.306933 160.938398 \nL 323.317698 161.488861 \nL 323.414583 164.172367 \nL 323.43073 163.553096 \nL 323.45226 164.000347 \nL 323.457643 163.346672 \nL 323.839799 163.690712 \nL 323.904389 163.071441 \nL 323.968979 164.860445 \nL 323.974362 164.585214 \nL 324.356518 164.241174 \nL 324.361901 164.894849 \nL 324.383431 163.828327 \nL 324.469551 164.722829 \nL 324.474933 164.929253 \nL 324.485698 164.654021 \nL 324.49108 164.722829 \nL 324.873237 164.275578 \nL 324.970122 165.410908 \nL 324.905532 164.069155 \nL 324.997035 164.963657 \nL 325.007799 165.3421 \nL 326.423394 166.030178 \nL 326.434159 165.514119 \nL 326.450307 166.236602 \nL 326.536427 165.858159 \nL 326.557956 165.617331 \nL 326.940113 164.55081 \nL 327.058528 166.064582 \nL 327.063911 166.030178 \nL 327.069293 166.167794 \nL 327.074675 166.064582 \nL 327.456832 166.92468 \nL 327.499892 170.468284 \nL 327.575247 168.713684 \nL 327.586012 168.438453 \nL 327.591394 168.67928 \nL 327.973551 168.988915 \nL 327.984316 167.371931 \nL 328.065054 169.332955 \nL 328.081201 169.092127 \nL 328.097348 168.644876 \nL 328.108113 169.126531 \nL 328.5118 171.156363 \nL 328.53333 170.984343 \nL 328.624832 171.603613 \nL 330.035045 171.672421 \nL 330.040427 172.3605 \nL 330.051192 171.121959 \nL 330.148077 172.119672 \nL 330.15346 172.326096 \nL 330.164224 171.672421 \nL 330.174989 171.878845 \nL 330.557146 171.810037 \nL 330.573294 172.498115 \nL 330.584059 171.706825 \nL 330.664796 171.741229 \nL 330.686326 171.156363 \nL 330.691708 171.22517 \nL 331.073865 170.502688 \nL 331.079248 170.640304 \nL 331.143838 171.947653 \nL 331.208427 171.328382 \nL 331.590584 171.328382 \nL 331.595967 171.087555 \nL 331.628262 171.706825 \nL 331.692852 171.603613 \nL 331.714381 171.259574 \nL 331.725146 171.741229 \nL 333.65746 172.704539 \nL 333.70052 178.002743 \nL 333.792022 177.211453 \nL 334.131119 178.759629 \nL 334.168797 178.209166 \nL 334.238769 175.216025 \nL 334.281829 176.592182 \nL 334.292594 176.48897 \nL 334.308741 176.798606 \nL 334.696281 176.041719 \nL 334.701663 176.076123 \nL 334.739341 176.936221 \nL 334.793165 175.594468 \nL 334.80393 175.800892 \nL 334.82546 174.975198 \nL 335.207617 174.596755 \nL 335.342179 176.557778 \nL 335.724336 176.213739 \nL 335.767396 176.695394 \nL 335.783544 175.972911 \nL 335.831986 176.179335 \nL 335.837368 176.213739 \nL 335.842751 176.007315 \nL 335.853516 176.007315 \nL 335.858898 175.594468 \nL 337.274493 175.628872 \nL 337.322936 176.695394 \nL 337.301406 175.560064 \nL 337.39829 176.316951 \nL 337.403673 176.385759 \nL 337.409055 176.282547 \nL 337.791212 176.764202 \nL 337.839655 176.179335 \nL 337.877332 176.798606 \nL 337.904244 176.48897 \nL 337.920392 176.557778 \nL 337.925774 176.420162 \nL 338.307931 174.90639 \nL 338.313314 175.628872 \nL 338.415581 174.527947 \nL 338.437111 174.424735 \nL 338.431728 174.837582 \nL 338.442493 174.493543 \nL 338.82465 175.388045 \nL 338.835415 175.284833 \nL 338.905388 173.839868 \nL 338.95383 174.321523 \nL 338.959212 174.768774 \nL 339.341369 173.908676 \nL 339.346752 174.149504 \nL 339.465166 175.628872 \nL 339.470549 175.560064 \nL 339.475931 175.663276 \nL 339.825793 175.456853 \nL 339.831176 176.557778 \nL 339.847323 175.388045 \nL 339.928061 176.007315 \nL 340.891526 175.250429 \nL 340.896909 175.353641 \nL 340.923821 175.112813 \nL 341.009941 175.594468 \nL 341.026088 175.594468 \nL 341.408245 174.011888 \nL 341.424393 174.73437 \nL 341.494365 173.908676 \nL 341.515895 173.94308 \nL 341.521277 173.667849 \nL 341.537425 174.011888 \nL 341.542807 173.805464 \nL 341.935729 174.768774 \nL 341.941112 174.493543 \nL 341.946494 174.183908 \nL 341.968024 174.90639 \nL 342.043379 174.837582 \nL 342.059526 174.90639 \nL 342.452448 175.044006 \nL 342.549333 175.319237 \nL 342.506273 174.459139 \nL 342.560098 175.07841 \nL 342.576245 174.699966 \nL 342.963785 175.044006 \nL 342.985315 174.321523 \nL 343.039139 175.181621 \nL 343.071434 175.044006 \nL 343.092964 174.527947 \nL 343.448209 174.975198 \nL 343.464356 173.94308 \nL 343.458974 175.112813 \nL 343.491269 174.355927 \nL 344.508559 175.353641 \nL 344.519324 175.216025 \nL 344.530089 174.975198 \nL 344.594679 175.835296 \nL 344.605444 175.835296 \nL 344.616209 175.766488 \nL 344.643121 176.213739 \nL 345.062956 176.557778 \nL 345.15984 177.177049 \nL 345.536615 175.388045 \nL 345.54738 175.69768 \nL 345.558145 176.144931 \nL 345.638882 174.665562 \nL 345.676559 174.252715 \nL 346.074864 175.353641 \nL 346.080246 175.663276 \nL 346.128688 175.009602 \nL 346.182513 175.250429 \nL 346.187896 175.456853 \nL 346.193278 175.388045 \nL 346.580818 174.768774 \nL 346.645407 175.8697 \nL 346.699232 175.491257 \nL 346.704615 175.560064 \nL 346.71538 175.181621 \nL 348.125592 175.009602 \nL 348.217094 173.667849 \nL 348.260154 173.94308 \nL 348.647694 173.874272 \nL 348.771491 172.429308 \nL 348.776873 172.566923 \nL 349.1375 171.954533 \nL 349.164413 171.018747 \nL 349.255915 171.56921 \nL 349.261297 172.085268 \nL 349.28821 170.846727 \nL 349.293592 170.915535 \nL 349.691897 174.768774 \nL 349.697279 175.560064 \nL 349.734956 174.321523 \nL 349.799546 174.631159 \nL 349.804929 174.768774 \nL 349.810311 174.562351 \nL 350.170938 174.975198 \nL 350.278588 176.351355 \nL 350.310883 176.213739 \nL 350.316265 176.248143 \nL 350.32703 175.8697 \nL 351.75339 175.525661 \nL 351.812597 176.420162 \nL 351.86104 175.594468 \nL 351.871805 175.250429 \nL 351.877187 175.353641 \nL 352.243197 174.837582 \nL 352.307786 174.046292 \nL 352.334699 174.871986 \nL 352.356229 174.527947 \nL 352.388524 175.491257 \nL 352.393906 175.353641 \nL 352.776063 174.631159 \nL 352.781446 174.975198 \nL 352.846035 175.319237 \nL 352.872948 174.837582 \nL 352.889095 174.940794 \nL 352.910625 175.112813 \nL 353.30893 175.388045 \nL 353.314312 175.216025 \nL 353.335842 174.90639 \nL 353.384284 175.422449 \nL 353.395049 175.388045 \nL 353.405814 175.628872 \nL 353.421962 175.112813 \nL 353.427344 175.112813 \nL 353.809501 174.837582 \nL 353.814884 174.975198 \nL 353.852561 174.218312 \nL 353.917151 174.768774 \nL 353.927916 174.768774 \nL 353.933298 174.975198 \nL 353.944063 174.699966 \nL 355.359658 174.1151 \nL 355.45116 174.837582 \nL 355.478073 174.699966 \nL 355.488838 174.562351 \nL 355.49422 174.837582 \nL 355.876377 174.90639 \nL 355.924819 175.732084 \nL 355.994792 175.388045 \nL 356.010939 175.663276 \nL 356.393096 174.803178 \nL 356.398479 174.321523 \nL 356.473833 175.250429 \nL 356.495363 174.940794 \nL 356.511511 175.284833 \nL 356.533041 175.181621 \nL 356.915198 175.663276 \nL 356.92058 175.422449 \nL 357.02823 174.321523 \nL 357.044377 174.424735 \nL 357.426534 174.940794 \nL 357.539566 174.149504 \nL 357.544949 174.424735 \nL 357.561096 174.424735 \nL 358.976691 174.596755 \nL 358.998221 173.839868 \nL 359.084341 174.527947 \nL 359.111253 174.699966 \nL 359.49341 174.527947 \nL 359.498793 174.596755 \nL 359.574147 175.422449 \nL 359.617207 175.044006 \nL 359.62259 174.940794 \nL 359.627972 175.009602 \nL 360.015512 175.112813 \nL 360.123161 176.248143 \nL 360.139309 176.144931 \nL 360.144691 175.766488 \nL 360.505318 175.800892 \nL 360.650645 175.181621 \nL 360.559143 175.8697 \nL 360.656028 175.216025 \nL 360.66141 175.319237 \nL 361.043567 174.699966 \nL 361.048949 175.628872 \nL 361.151217 174.803178 \nL 361.156599 174.665562 \nL 361.161982 174.975198 \nL 361.178129 174.837582 \nL 362.593724 175.525661 \nL 362.658314 175.938508 \nL 362.706756 175.732084 \nL 362.717521 175.594468 \nL 362.722904 175.938508 \nL 362.728286 175.938508 \nL 363.110443 176.867413 \nL 363.137355 176.351355 \nL 363.218093 176.695394 \nL 363.228858 176.936221 \nL 363.245005 176.867413 \nL 363.627162 176.83301 \nL 363.686369 176.48897 \nL 363.637927 176.901817 \nL 363.734812 176.83301 \nL 363.745577 176.936221 \nL 363.756342 176.798606 \nL 363.761724 176.83301 \nL 364.143881 176.557778 \nL 364.154646 176.626586 \nL 364.230001 177.761915 \nL 364.278443 177.383472 \nL 364.6606 176.936221 \nL 364.68213 178.484398 \nL 364.773632 177.177049 \nL 364.779015 177.177049 \nL 364.784397 177.005029 \nL 364.795162 177.177049 \n\" clip-path=\"url(#pccaefacde9)\" style=\"fill: none; stroke: #1f77b4; stroke-width: 1.5; stroke-linecap: square\"/>\n   </g>\n   <g id=\"line2d_21\">\n    <path d=\"M 60.431526 122.750046 \nL 60.436908 122.61243 \nL 60.447673 123.094085 \nL 60.840595 121.855544 \nL 60.862125 122.130775 \nL 60.89442 122.853257 \nL 60.953627 122.061967 \nL 60.95901 122.061967 \nL 60.964392 121.373889 \nL 60.969775 122.199583 \nL 62.379987 123.2317 \nL 62.428429 123.438124 \nL 62.401517 122.061967 \nL 62.476872 122.922065 \nL 62.487637 122.990873 \nL 62.514549 122.474814 \nL 62.896706 121.993159 \nL 63.004356 120.617002 \nL 63.009738 120.68581 \nL 63.031268 121.855544 \nL 63.418808 122.681238 \nL 63.483397 118.896806 \nL 63.547987 119.309653 \nL 63.946292 118.827999 \nL 63.978586 117.727073 \nL 64.053941 119.240846 \nL 64.059324 119.7225 \nL 64.064706 118.896806 \nL 64.457628 118.208728 \nL 64.581425 116.694955 \nL 65.99702 117.727073 \nL 66.002403 117.692669 \nL 66.01855 118.621575 \nL 66.099287 116.626148 \nL 66.10467 116.694955 \nL 66.1262 116.350916 \nL 66.131582 116.488532 \nL 66.513739 116.213301 \nL 66.519122 115.938069 \nL 66.605241 116.970187 \nL 66.610624 116.798167 \nL 66.632154 116.866975 \nL 66.648301 116.419724 \nL 67.030458 116.454128 \nL 67.159638 117.383034 \nL 67.16502 117.107802 \nL 67.574089 121.373889 \nL 67.595619 122.853257 \nL 67.676357 121.373889 \nL 67.681739 121.029849 \nL 68.063896 121.442697 \nL 68.106956 123.644547 \nL 68.193076 122.681238 \nL 68.198458 121.408293 \nL 69.614053 122.474814 \nL 69.635583 122.096371 \nL 69.689408 122.818853 \nL 69.71632 122.681238 \nL 69.732468 122.956469 \nL 69.748615 122.027563 \nL 70.130772 119.447269 \nL 70.136155 120.135348 \nL 70.173832 120.85783 \nL 70.184597 119.89452 \nL 70.222274 119.516077 \nL 70.259952 120.444983 \nL 70.265334 120.169751 \nL 70.658256 118.759191 \nL 70.674403 118.105516 \nL 70.717463 119.688097 \nL 70.771288 118.415151 \nL 70.776671 118.243132 \nL 70.782053 118.277536 \nL 71.158828 117.727073 \nL 71.169593 118.380748 \nL 71.234182 116.694955 \nL 71.261095 117.004591 \nL 71.27186 117.17661 \nL 71.29339 116.832571 \nL 71.298772 116.901379 \nL 71.680929 116.282108 \nL 71.767049 117.383034 \nL 71.707841 116.075685 \nL 71.793961 116.55734 \nL 71.799344 116.55734 \nL 71.804726 116.970187 \nL 71.815491 116.660552 \nL 73.742423 116.626148 \nL 73.86622 112.394465 \nL 73.876985 112.738505 \nL 73.882367 112.635293 \nL 74.264524 113.116948 \nL 74.275289 113.942642 \nL 74.350644 111.91281 \nL 74.366791 112.360061 \nL 74.372174 112.222446 \nL 74.399086 113.805026 \nL 74.781243 112.222446 \nL 74.899658 114.974759 \nL 74.910423 114.493104 \nL 74.915805 113.254563 \nL 75.297962 113.392179 \nL 75.319492 114.286681 \nL 75.378699 113.116948 \nL 75.416377 113.977046 \nL 75.421759 113.873834 \nL 75.432524 114.424297 \nL 76.848119 113.736218 \nL 76.858884 113.770622 \nL 76.971916 114.665124 \nL 76.982681 114.493104 \nL 77.364838 115.249991 \nL 77.494018 118.002304 \nL 77.4994 117.589457 \nL 77.876174 116.970187 \nL 77.892322 118.827999 \nL 77.983824 117.34863 \nL 77.994589 117.314226 \nL 78.016119 117.795881 \nL 78.398276 117.933497 \nL 78.452101 117.589457 \nL 78.479013 118.552767 \nL 78.484396 118.552767 \nL 78.505926 118.587171 \nL 78.522073 118.13992 \nL 78.532838 118.346344 \nL 78.914995 116.144493 \nL 78.92576 116.694955 \nL 78.936525 117.795881 \nL 78.984967 116.454128 \nL 79.038792 116.970187 \nL 79.044175 116.935783 \nL 79.049557 117.107802 \nL 80.465152 115.869261 \nL 80.551272 117.727073 \nL 80.583567 117.17661 \nL 80.594332 117.038995 \nL 80.599714 117.245418 \nL 80.987253 117.314226 \nL 81.008783 117.899093 \nL 81.078756 117.004591 \nL 81.084138 117.038995 \nL 81.100286 116.832571 \nL 81.116433 117.245418 \nL 81.49859 117.658265 \nL 81.530885 117.451842 \nL 81.611622 118.208728 \nL 81.622387 117.795881 \nL 81.633152 117.933497 \nL 82.015309 118.449555 \nL 82.085281 116.694955 \nL 82.149871 116.901379 \nL 82.532028 119.309653 \nL 82.53741 118.690383 \nL 82.553558 117.864689 \nL 82.602 118.965614 \nL 82.650443 118.277536 \nL 82.655825 118.552767 \nL 82.66659 118.13992 \nL 84.087567 117.038995 \nL 84.195217 115.559626 \nL 84.216747 115.697242 \nL 84.598904 115.525222 \nL 84.604286 115.318799 \nL 84.631199 116.144493 \nL 84.701171 115.800453 \nL 84.711936 115.834857 \nL 84.722701 115.972473 \nL 84.733466 115.456414 \nL 85.115623 114.905952 \nL 85.142535 114.974759 \nL 85.228655 116.075685 \nL 85.250185 115.800453 \nL 85.632342 115.249991 \nL 85.675402 116.075685 \nL 85.756139 116.006877 \nL 85.766904 116.282108 \nL 86.149061 116.213301 \nL 86.154443 116.316512 \nL 86.262093 116.626148 \nL 86.175973 116.006877 \nL 86.267476 116.488532 \nL 86.283623 116.626148 \nL 87.699218 115.938069 \nL 87.828398 114.596316 \nL 87.709983 116.075685 \nL 87.83378 114.905952 \nL 88.221319 113.633006 \nL 88.248232 113.83943 \nL 88.345117 114.183469 \nL 88.269762 113.564199 \nL 88.350499 114.149065 \nL 88.738038 114.699528 \nL 88.748803 115.387606 \nL 88.829541 113.392179 \nL 88.840306 113.66741 \nL 88.845688 113.185755 \nL 88.867218 113.529795 \nL 89.249375 113.736218 \nL 89.265522 114.01145 \nL 89.28167 113.116948 \nL 89.34626 113.220159 \nL 89.357025 113.151352 \nL 89.36779 113.701814 \nL 89.383937 113.460987 \nL 89.766094 114.871548 \nL 89.814536 116.626148 \nL 89.868361 114.252277 \nL 89.895274 114.493104 \nL 89.884509 114.080257 \nL 89.900656 114.355489 \nL 91.332398 116.213301 \nL 91.343163 116.075685 \nL 91.391606 114.286681 \nL 91.450813 114.905952 \nL 91.83297 113.254563 \nL 91.935237 115.834857 \nL 91.96215 115.456414 \nL 91.967532 115.181183 \nL 92.349689 115.490818 \nL 92.371219 116.763763 \nL 92.468104 116.178897 \nL 92.484251 115.662838 \nL 92.877173 115.731646 \nL 92.904085 116.522936 \nL 92.93638 115.59403 \nL 92.984823 115.76605 \nL 92.995588 115.800453 \nL 93.00097 115.456414 \nL 93.383127 114.355489 \nL 93.404657 115.938069 \nL 93.496159 114.905952 \nL 93.512307 114.217873 \nL 93.517689 114.424297 \nL 94.933284 113.564199 \nL 95.019404 112.428869 \nL 95.057081 112.669697 \nL 95.062464 112.566485 \nL 95.067846 112.807312 \nL 95.450003 112.222446 \nL 95.455385 112.360061 \nL 95.482298 113.942642 \nL 95.584565 113.529795 \nL 95.966722 112.566485 \nL 95.972104 112.841716 \nL 96.068989 113.564199 \nL 95.993634 112.428869 \nL 96.090519 113.288967 \nL 96.101284 113.426583 \nL 98.550317 111.671983 \nL 98.555699 111.740791 \nL 98.598759 111.190328 \nL 98.663349 111.878406 \nL 98.674114 112.016022 \nL 98.679497 111.844003 \nL 98.684879 111.947214 \nL 99.067036 113.288967 \nL 99.083183 112.944928 \nL 99.088566 112.772908 \nL 99.169303 113.633006 \nL 99.185451 113.736218 \nL 99.196216 113.873834 \nL 99.201598 113.770622 \nL 100.100474 114.217873 \nL 100.105856 114.183469 \nL 100.111239 113.529795 \nL 100.170446 114.871548 \nL 100.218889 113.66741 \nL 100.229654 113.805026 \nL 100.235036 113.701814 \nL 100.622575 112.807312 \nL 100.63334 113.013736 \nL 100.638723 113.460987 \nL 100.714078 112.428869 \nL 100.746373 113.323371 \nL 100.751755 113.254563 \nL 102.16735 114.217873 \nL 102.248087 113.254563 \nL 102.285765 113.529795 \nL 102.301912 114.114661 \nL 102.684069 113.357775 \nL 102.813249 114.665124 \nL 102.818631 114.63072 \nL 103.211553 113.736218 \nL 103.27076 113.185755 \nL 103.303055 114.321085 \nL 103.31382 114.217873 \nL 103.33535 114.699528 \nL 103.717507 114.974759 \nL 103.722889 114.561912 \nL 103.749802 115.146779 \nL 103.830539 114.699528 \nL 103.841304 114.63072 \nL 103.852069 115.181183 \nL 105.784383 113.460987 \nL 105.795148 114.217873 \nL 105.875885 112.704101 \nL 105.881268 112.704101 \nL 105.88665 112.532081 \nL 105.902798 113.151352 \nL 105.918945 112.979332 \nL 106.301102 112.497677 \nL 106.306484 112.910524 \nL 106.387222 112.25685 \nL 106.408752 112.463273 \nL 106.435664 113.04814 \nL 106.823203 113.770622 \nL 106.844733 114.183469 \nL 106.860881 113.66741 \nL 106.936236 113.908238 \nL 106.941618 113.83943 \nL 106.952383 114.149065 \nL 107.851259 116.075685 \nL 107.867406 114.940355 \nL 107.964291 115.387606 \nL 107.980439 115.181183 \nL 107.985821 115.662838 \nL 109.401416 115.834857 \nL 109.406798 116.110089 \nL 109.428328 115.215587 \nL 109.498301 115.353203 \nL 109.525213 114.940355 \nL 109.535978 115.249991 \nL 109.918135 114.974759 \nL 110.052697 115.972473 \nL 110.440236 115.249991 \nL 110.456384 115.662838 \nL 110.537121 114.905952 \nL 110.547886 115.146779 \nL 110.553269 115.146779 \nL 110.569416 115.834857 \nL 110.951573 116.213301 \nL 111.059223 117.623861 \nL 110.96772 115.662838 \nL 111.07537 117.038995 \nL 111.086135 117.555053 \nL 111.522117 114.768336 \nL 111.527499 114.252277 \nL 111.602854 114.355489 \nL 113.018449 116.970187 \nL 113.136863 115.800453 \nL 113.153011 116.006877 \nL 114.051887 115.869261 \nL 114.062652 115.318799 \nL 114.094947 116.694955 \nL 114.148772 116.694955 \nL 114.181066 117.142206 \nL 114.186449 116.350916 \nL 114.573988 117.52065 \nL 114.633196 116.591744 \nL 114.584753 118.174324 \nL 114.681638 117.658265 \nL 114.68702 118.105516 \nL 114.703168 117.933497 \nL 115.085325 116.798167 \nL 115.090707 117.038995 \nL 115.106855 117.864689 \nL 115.144532 115.662838 \nL 115.149915 115.869261 \nL 115.166062 115.490818 \nL 115.187592 116.763763 \nL 115.219887 116.213301 \nL 116.635482 117.658265 \nL 116.716219 118.965614 \nL 116.753896 118.415151 \nL 116.759279 118.346344 \nL 116.764661 118.621575 \nL 116.770044 118.552767 \nL 117.157583 117.589457 \nL 117.162966 117.795881 \nL 117.227556 116.832571 \nL 117.275998 117.314226 \nL 117.286763 117.692669 \nL 117.66892 118.552767 \nL 117.73351 117.038995 \nL 117.803482 117.245418 \nL 118.185639 116.55734 \nL 118.191021 116.694955 \nL 118.320201 118.002304 \nL 118.702358 117.795881 \nL 118.820772 118.621575 \nL 118.83692 118.277536 \nL 120.247132 117.451842 \nL 120.360164 118.724787 \nL 120.370929 118.896806 \nL 120.387077 118.759191 \nL 120.763851 117.383034 \nL 120.769234 118.13992 \nL 120.796146 116.488532 \nL 120.871501 116.935783 \nL 120.903796 117.34863 \nL 121.28057 117.727073 \nL 121.361308 119.963328 \nL 121.393602 118.002304 \nL 121.420515 117.52065 \nL 121.797289 118.690383 \nL 121.867262 121.717928 \nL 121.910321 121.408293 \nL 121.921086 121.4771 \nL 121.937234 120.68581 \nL 122.319391 119.584885 \nL 122.324773 118.896806 \nL 122.351686 120.410579 \nL 122.42704 119.619289 \nL 122.437805 119.447269 \nL 122.453953 119.688097 \nL 124.386267 119.653693 \nL 124.515446 121.717928 \nL 124.520829 121.64912 \nL 124.897603 122.61243 \nL 124.951428 123.438124 \nL 125.005253 122.130775 \nL 125.010635 122.474814 \nL 125.032165 121.029849 \nL 125.037548 121.167465 \nL 125.419705 121.305081 \nL 125.425087 121.236273 \nL 125.554267 124.332626 \nL 125.941806 126.190438 \nL 125.947189 125.91641 \nL 126.054838 127.502287 \nL 126.060221 127.166248 \nL 126.065603 127.403187 \nL 126.070986 127.234805 \nL 127.486581 128.113578 \nL 127.588848 126.42212 \nL 127.604995 127.019105 \nL 127.61576 127.2181 \nL 127.621143 126.952774 \nL 128.0033 125.592974 \nL 128.008682 125.725637 \nL 128.014065 126.057296 \nL 128.100184 124.564833 \nL 128.105567 124.730662 \nL 128.127097 124.233175 \nL 128.137862 124.26634 \nL 128.520019 124.995989 \nL 128.595373 127.383929 \nL 128.643816 126.985939 \nL 128.649198 126.985939 \nL 128.654581 127.417095 \nL 129.047503 127.251266 \nL 129.160535 125.891467 \nL 129.1713 126.322623 \nL 129.553457 125.924632 \nL 129.591134 127.118603 \nL 129.666489 126.587949 \nL 129.677254 126.388954 \nL 129.688019 127.118603 \nL 131.103614 127.61609 \nL 131.216646 126.156793 \nL 131.227411 126.322623 \nL 131.238176 126.654281 \nL 131.620333 125.062321 \nL 131.625715 125.460311 \nL 131.631098 125.592974 \nL 131.668775 124.664331 \nL 131.70107 124.796994 \nL 131.706452 124.498501 \nL 131.749512 125.294482 \nL 131.754895 125.194984 \nL 132.137052 125.559808 \nL 132.142434 125.858301 \nL 132.163964 124.896491 \nL 132.244701 125.659306 \nL 132.255466 125.493477 \nL 132.266231 125.825135 \nL 132.271614 125.791969 \nL 132.686066 124.796994 \nL 132.702213 125.526642 \nL 132.788333 125.128652 \nL 133.17049 126.123628 \nL 133.175872 126.82011 \nL 133.283522 126.521618 \nL 133.299669 126.156793 \nL 133.305052 126.322623 \nL 134.715264 126.720613 \nL 134.726029 127.715588 \nL 134.828296 127.118603 \nL 134.849826 126.886442 \nL 134.855209 126.985939 \nL 135.237366 126.057296 \nL 135.248131 126.720613 \nL 135.264278 125.990964 \nL 135.350398 126.488452 \nL 135.361163 126.256291 \nL 135.371928 126.355788 \nL 135.759467 126.853276 \nL 135.770232 127.151769 \nL 135.861734 126.621115 \nL 135.883264 126.289457 \nL 135.888647 126.388954 \nL 136.270804 125.194984 \nL 136.297716 126.654281 \nL 136.383836 125.858301 \nL 136.389218 125.957798 \nL 136.405366 125.592974 \nL 136.787523 125.957798 \nL 136.922085 124.465336 \nL 138.348445 125.128652 \nL 138.35921 125.029155 \nL 138.472242 126.123628 \nL 138.854399 125.791969 \nL 138.908223 127.251266 \nL 138.983578 127.019105 \nL 138.988961 126.952774 \nL 139.371118 126.057296 \nL 139.387265 126.455286 \nL 139.44109 125.791969 \nL 139.48415 126.256291 \nL 139.494915 126.388954 \nL 139.50568 126.256291 \nL 139.909366 126.786944 \nL 139.914749 126.753778 \nL 139.990104 127.516593 \nL 139.941661 126.554783 \nL 140.022399 127.184934 \nL 140.409938 127.516593 \nL 140.415321 127.914583 \nL 140.512205 126.886442 \nL 140.517588 127.118603 \nL 140.539118 126.654281 \nL 141.954713 125.161818 \nL 142.067745 126.919608 \nL 142.07851 126.621115 \nL 142.083892 126.687447 \nL 142.089275 126.654281 \nL 142.471432 126.587949 \nL 142.498344 126.786944 \nL 142.589846 125.858301 \nL 142.595229 126.156793 \nL 142.605994 125.990964 \nL 143.041975 124.399004 \nL 143.05274 124.531667 \nL 143.058123 124.133677 \nL 144.021589 124.166843 \nL 144.140003 123.337697 \nL 144.037736 124.465336 \nL 144.156151 123.370863 \nL 145.577128 123.337697 \nL 145.58251 123.039204 \nL 145.62557 123.802019 \nL 145.679395 123.603024 \nL 145.706308 123.271365 \nL 146.099229 123.768853 \nL 146.109994 123.735687 \nL 146.153054 124.299506 \nL 146.223027 124.001014 \nL 146.626713 122.773878 \nL 146.632096 122.939707 \nL 146.712833 121.679405 \nL 146.739746 122.67438 \nL 147.121902 121.977897 \nL 147.164962 121.414078 \nL 147.218787 122.27639 \nL 147.229552 122.077395 \nL 147.251082 122.508551 \nL 147.256465 122.342722 \nL 147.649386 121.347747 \nL 147.654769 121.148751 \nL 147.713976 122.011063 \nL 147.740889 121.911566 \nL 147.751654 121.845234 \nL 147.762419 121.712571 \nL 147.773184 121.812068 \nL 149.194161 121.745737 \nL 149.204926 121.48041 \nL 149.247986 121.944732 \nL 149.296428 121.646239 \nL 149.301811 121.944732 \nL 149.323341 121.281415 \nL 149.71088 121.016088 \nL 149.770087 120.618098 \nL 149.807765 121.347747 \nL 149.81853 121.08242 \nL 149.823912 121.181917 \nL 149.834677 120.850259 \nL 149.84006 121.08242 \nL 150.222216 120.220108 \nL 150.227599 120.352771 \nL 150.286806 119.457294 \nL 150.238364 120.817093 \nL 150.340631 120.054279 \nL 150.346014 120.28644 \nL 150.356779 120.220108 \nL 150.744318 120.452269 \nL 150.776613 121.679405 \nL 150.868115 121.181917 \nL 150.873498 120.883425 \nL 151.266419 120.153776 \nL 151.304097 120.352771 \nL 151.309479 120.518601 \nL 151.390217 120.021113 \nL 152.805811 119.490459 \nL 152.811194 119.556791 \nL 152.934991 120.28644 \nL 152.940374 120.419103 \nL 153.327913 120.186942 \nL 153.338678 120.087445 \nL 153.403268 120.68443 \nL 153.414033 120.651264 \nL 153.457093 120.949756 \nL 153.850014 121.215083 \nL 153.968429 120.817093 \nL 153.876927 121.281415 \nL 153.973812 120.883425 \nL 154.355968 121.215083 \nL 154.382881 120.319605 \nL 154.452853 121.911566 \nL 154.458236 121.845234 \nL 154.479766 121.977897 \nL 154.490531 121.911566 \nL 154.872687 121.679405 \nL 154.883452 121.712571 \nL 155.001867 122.807043 \nL 154.92113 121.679405 \nL 155.00725 122.608048 \nL 156.422844 123.138702 \nL 156.487434 124.730662 \nL 156.541259 124.166843 \nL 156.557407 124.43217 \nL 156.950328 125.427145 \nL 156.971858 126.02413 \nL 157.052596 124.730662 \nL 157.063361 124.332672 \nL 157.074126 124.863326 \nL 157.456282 123.967848 \nL 157.461665 124.100511 \nL 157.569315 125.128652 \nL 157.499342 124.067345 \nL 157.58008 124.597999 \nL 157.585462 124.597999 \nL 157.590845 124.863326 \nL 157.973001 125.261316 \nL 158.026826 124.001014 \nL 158.075269 125.825135 \nL 158.080651 125.592974 \nL 158.096799 124.796994 \nL 158.107564 125.261316 \nL 158.48972 125.062321 \nL 158.527398 126.886442 \nL 158.608135 126.123628 \nL 158.613518 125.957798 \nL 158.624283 126.289457 \nL 160.039877 129.904533 \nL 160.04526 130.368855 \nL 160.10985 128.966465 \nL 160.136762 129.001548 \nL 160.142145 128.488723 \nL 160.15291 129.386425 \nL 160.17444 128.776251 \nL 160.556596 130.528766 \nL 160.561979 130.429556 \nL 160.599656 129.367033 \nL 160.669629 130.110681 \nL 160.691159 130.514554 \nL 161.073315 128.463123 \nL 161.121758 127.217498 \nL 161.186348 127.444724 \nL 161.19173 127.861833 \nL 161.202495 126.749543 \nL 161.207878 127.166652 \nL 161.606182 123.899298 \nL 161.627712 122.68273 \nL 161.724597 122.71749 \nL 162.106753 122.126585 \nL 162.219786 123.795021 \nL 162.241316 123.551707 \nL 163.65691 124.942071 \nL 163.791473 127.166652 \nL 163.87221 126.158638 \nL 163.882975 126.193761 \nL 164.173629 125.491833 \nL 164.281279 128.774511 \nL 164.297427 128.571383 \nL 164.308192 128.706802 \nL 164.690348 130.805787 \nL 164.695731 130.433387 \nL 164.765703 129.516836 \nL 164.728026 130.614413 \nL 164.814146 129.727714 \nL 164.824911 129.347654 \nL 165.207067 128.933044 \nL 165.21245 129.036696 \nL 165.325482 130.245977 \nL 165.330865 129.935019 \nL 165.336247 129.935019 \nL 165.34163 129.727714 \nL 165.723786 129.036696 \nL 165.799141 127.170948 \nL 165.847584 127.689211 \nL 165.858349 127.101846 \nL 167.273943 124.856038 \nL 167.300856 125.581607 \nL 167.333151 124.614182 \nL 167.386976 125.443403 \nL 167.403123 125.512505 \nL 167.408506 125.097895 \nL 167.790662 124.890589 \nL 167.796045 125.028793 \nL 167.844487 123.646757 \nL 167.876782 124.337775 \nL 167.882165 124.234122 \nL 167.925225 124.821487 \nL 168.307381 124.406877 \nL 168.312764 124.475978 \nL 168.323529 124.13047 \nL 168.409649 124.959691 \nL 168.415031 124.890589 \nL 168.447326 124.614182 \nL 168.8241 124.648733 \nL 168.829483 124.54508 \nL 168.834865 124.406877 \nL 168.84563 125.270649 \nL 168.91022 125.236098 \nL 168.95328 125.892565 \nL 168.958663 125.719811 \nL 169.340819 127.274601 \nL 169.351584 127.032487 \nL 169.367732 127.033214 \nL 169.475382 125.35502 \nL 170.890976 126.147045 \nL 170.955566 125.221728 \nL 171.014774 125.366455 \nL 171.020156 125.510224 \nL 171.025539 125.294571 \nL 171.407695 125.007033 \nL 171.48305 126.660374 \nL 171.542258 126.588489 \nL 171.924414 126.26501 \nL 172.015917 123.209924 \nL 172.053594 124.431958 \nL 172.058977 124.719496 \nL 172.441133 123.31775 \nL 172.527253 124.539785 \nL 172.548783 123.102097 \nL 172.575696 123.425577 \nL 172.963235 122.778617 \nL 172.968617 122.81456 \nL 172.990147 123.892825 \nL 173.076267 123.030213 \nL 173.092415 122.347311 \nL 175.024728 123.281808 \nL 175.030111 123.173982 \nL 175.057023 123.64123 \nL 175.126996 122.419196 \nL 175.132378 122.634849 \nL 175.159291 122.419196 \nL 175.541447 121.916005 \nL 175.606037 121.233103 \nL 175.562977 122.203542 \nL 175.643715 122.059774 \nL 175.67601 122.347311 \nL 176.058166 121.700352 \nL 176.068931 121.556583 \nL 176.192729 123.209924 \nL 176.596415 124.503843 \nL 176.617945 124.108478 \nL 176.677153 123.64123 \nL 176.709448 124.144421 \nL 178.125042 122.49108 \nL 178.24884 120.262664 \nL 178.254222 120.262664 \nL 178.259605 120.047011 \nL 178.641761 119.903242 \nL 178.647144 119.651647 \nL 178.733264 120.478317 \nL 178.738646 120.478317 \nL 178.749411 120.586144 \nL 178.776324 119.831358 \nL 179.15848 119.615705 \nL 179.163863 119.184399 \nL 179.217688 120.478317 \nL 179.26613 119.687589 \nL 179.28766 119.292225 \nL 179.293043 119.328167 \nL 179.659052 119.256283 \nL 179.804379 120.550202 \nL 179.809762 120.226722 \nL 180.191918 120.047011 \nL 180.234978 119.328167 \nL 180.304951 119.831358 \nL 180.321098 120.047011 \nL 180.32648 119.471936 \nL 181.70978 118.824977 \nL 181.86049 125.793652 \nL 181.871255 125.235243 \nL 181.876637 124.706979 \nL 182.258794 124.564532 \nL 182.274942 123.524289 \nL 182.301854 125.225006 \nL 182.371827 124.051152 \nL 182.387974 123.761819 \nL 182.393356 123.834479 \nL 182.780896 124.052132 \nL 182.786278 124.341027 \nL 182.867016 122.968963 \nL 182.872398 123.222877 \nL 182.877781 123.259151 \nL 182.893928 122.642501 \nL 182.910075 122.243493 \nL 183.302997 121.554296 \nL 183.324527 120.683732 \nL 183.405265 121.771937 \nL 183.421412 122.025852 \nL 183.426794 121.663117 \nL 183.808951 121.481749 \nL 183.819716 120.647459 \nL 183.921984 120.97392 \nL 183.932748 121.155288 \nL 183.943513 120.683732 \nL 185.359108 120.792553 \nL 185.386021 122.170946 \nL 185.49367 121.880758 \nL 185.88121 122.098399 \nL 185.999624 124.057168 \nL 186.005007 123.76698 \nL 186.010389 123.839527 \nL 186.392546 124.383629 \nL 186.408694 125.32674 \nL 186.489431 123.730706 \nL 186.500196 123.948347 \nL 186.521726 123.803253 \nL 186.527108 123.839527 \nL 186.936178 125.363014 \nL 186.94156 125.290467 \nL 186.946943 125.580655 \nL 187.00615 124.964005 \nL 187.043827 125.036552 \nL 187.425984 125.000279 \nL 187.490574 124.891458 \nL 187.544399 125.689475 \nL 187.560546 125.000279 \nL 188.976141 124.927732 \nL 189.008436 125.689475 \nL 189.089173 125.145373 \nL 189.105321 124.964005 \nL 189.110703 125.21792 \nL 189.49286 124.710091 \nL 189.498243 124.746364 \nL 189.589745 125.907116 \nL 189.616657 125.798296 \nL 189.62204 125.762022 \nL 189.627422 125.870843 \nL 190.106464 127.902159 \nL 190.111846 127.829612 \nL 190.122611 128.337441 \nL 190.144141 128.228621 \nL 190.520916 126.813954 \nL 190.537063 129.208005 \nL 190.628565 127.358057 \nL 190.66086 126.959048 \nL 191.043017 125.725749 \nL 191.0484 125.254193 \nL 191.086077 126.451219 \nL 191.145284 126.233578 \nL 191.150667 126.233578 \nL 191.172197 126.088484 \nL 191.177579 126.378672 \nL 192.598557 127.176689 \nL 192.609322 126.306125 \nL 192.673912 127.829612 \nL 192.695441 127.39433 \nL 192.727736 127.974706 \nL 192.733119 127.684518 \nL 193.244455 130.513851 \nL 193.626612 128.84527 \nL 193.631995 129.244279 \nL 193.64276 129.208005 \nL 193.761174 130.804039 \nL 194.143331 130.695219 \nL 194.175626 130.042296 \nL 194.229451 131.166774 \nL 194.261746 130.29621 \nL 194.267128 130.368757 \nL 194.272511 130.151116 \nL 194.277893 130.151116 \nL 194.66005 129.353099 \nL 194.7677 128.047253 \nL 194.778465 128.192347 \nL 194.783847 128.1198 \nL 194.794612 129.062911 \nL 196.210207 130.151116 \nL 196.21559 130.441304 \nL 196.242502 129.099185 \nL 196.307092 129.425646 \nL 196.344769 129.715834 \nL 196.737691 129.353099 \nL 196.813046 128.700176 \nL 196.759221 129.46192 \nL 196.834576 129.425646 \nL 196.845341 129.679561 \nL 196.850723 129.353099 \nL 196.861488 129.534467 \nL 197.243645 129.062911 \nL 197.319 129.715834 \nL 197.25441 128.990364 \nL 197.36206 129.46192 \nL 197.378207 129.135458 \nL 197.760364 128.555082 \nL 197.814189 129.57074 \nL 197.873396 128.917817 \nL 197.878779 128.84527 \nL 197.884161 129.135458 \nL 197.894926 129.026638 \nL 198.277083 128.555082 \nL 198.395498 126.66886 \nL 198.40088 127.067869 \nL 198.406263 127.031595 \nL 198.411645 127.757065 \nL 199.82724 127.031595 \nL 199.84877 127.938433 \nL 199.91336 126.523766 \nL 199.918742 126.523766 \nL 199.93489 126.233578 \nL 199.95642 126.922775 \nL 199.961802 126.850228 \nL 200.343959 126.560039 \nL 200.387019 126.306125 \nL 200.467756 127.39433 \nL 200.478521 128.047253 \nL 200.866061 128.482535 \nL 200.941415 128.192347 \nL 200.876826 128.84527 \nL 200.962945 128.700176 \nL 200.979093 128.917817 \nL 200.989858 128.663903 \nL 200.99524 128.700176 \nL 201.377397 128.627629 \nL 201.431222 129.860928 \nL 201.506577 129.643287 \nL 201.511959 129.788381 \nL 201.899499 129.788381 \nL 201.904881 130.006022 \nL 201.953323 128.555082 \nL 201.985618 128.917817 \nL 201.991001 128.881544 \nL 202.017913 129.353099 \nL 202.028678 129.208005 \nL 203.449656 127.902159 \nL 203.578835 130.731492 \nL 203.966375 131.094227 \nL 204.052494 129.208005 \nL 204.079407 130.18739 \nL 204.095554 130.804039 \nL 204.477711 130.114843 \nL 204.590743 131.239321 \nL 204.601508 131.166774 \nL 204.612273 130.586398 \nL 204.99443 131.02168 \nL 204.999813 131.456962 \nL 205.069785 129.135458 \nL 205.085932 129.46192 \nL 205.091315 129.498193 \nL 205.107462 129.316826 \nL 205.128992 128.84527 \nL 205.511149 127.611971 \nL 205.613416 126.451219 \nL 205.634946 126.66886 \nL 205.640329 126.632587 \nL 205.645711 126.66886 \nL 207.061306 127.865886 \nL 207.066689 127.720792 \nL 207.131278 128.84527 \nL 207.136661 128.627629 \nL 207.163573 129.280552 \nL 207.195868 128.518809 \nL 207.578025 128.990364 \nL 207.637232 130.29621 \nL 207.685675 128.881544 \nL 207.691057 128.954091 \nL 207.712587 128.409988 \nL 208.110892 129.389373 \nL 208.116274 129.208005 \nL 208.213159 131.275595 \nL 208.229306 131.166774 \nL 208.611463 130.731492 \nL 208.740643 132.581441 \nL 208.746025 132.400073 \nL 209.128182 133.379458 \nL 209.133565 133.778467 \nL 209.187389 131.928518 \nL 209.219684 132.182432 \nL 209.262744 131.529509 \nL 210.678339 132.762808 \nL 210.694487 132.254979 \nL 210.748311 133.161817 \nL 210.780606 132.944176 \nL 210.812901 133.270638 \nL 211.195058 132.907902 \nL 211.200441 133.052996 \nL 211.22197 132.47262 \nL 211.28656 134.576484 \nL 211.345768 136.752894 \nL 211.701012 134.866672 \nL 211.706395 135.322091 \nL 211.711777 132.3933 \nL 211.722542 136.019397 \nL 211.819427 133.35746 \nL 211.840957 134.684515 \nL 211.846339 134.455299 \nL 212.228496 134.301667 \nL 212.260791 132.543354 \nL 212.287703 134.596378 \nL 212.336146 134.446343 \nL 212.341528 134.215768 \nL 212.352293 134.678194 \nL 212.363058 134.639971 \nL 212.750598 136.389551 \nL 212.782892 134.333296 \nL 212.869012 134.884078 \nL 212.874395 134.994235 \nL 212.879777 134.920797 \nL 214.295372 135.655174 \nL 214.424552 137.380959 \nL 214.429934 137.05049 \nL 214.806709 136.903615 \nL 214.849768 136.042095 \nL 214.828238 137.491116 \nL 214.908976 136.986491 \nL 214.941271 137.87171 \nL 214.946653 137.289498 \nL 215.32881 136.925616 \nL 215.334193 136.962004 \nL 215.404165 138.235593 \nL 215.45799 137.507828 \nL 215.463372 137.580604 \nL 215.845529 136.41618 \nL 215.861676 136.561733 \nL 215.867059 136.707286 \nL 215.915501 135.251756 \nL 215.969326 133.359566 \nL 215.980091 133.432343 \nL 216.362248 133.28679 \nL 216.405308 134.523991 \nL 216.426838 132.959295 \nL 216.469898 133.177625 \nL 216.47528 133.177625 \nL 216.480663 132.922907 \nL 216.49681 133.214013 \nL 217.912405 131.758483 \nL 217.955465 130.594059 \nL 218.025437 131.249047 \nL 218.036202 131.321824 \nL 218.046967 130.812388 \nL 218.472184 131.540153 \nL 218.482949 131.321824 \nL 218.547539 133.250402 \nL 218.563686 133.06846 \nL 218.945843 133.323178 \nL 218.994285 135.106203 \nL 219.058875 133.832614 \nL 219.064258 133.941778 \nL 219.075023 133.541508 \nL 219.080405 133.723449 \nL 219.979281 134.014555 \nL 219.984663 133.141237 \nL 220.016958 134.269273 \nL 220.049253 133.941778 \nL 221.529438 133.541508 \nL 221.664 135.615638 \nL 222.046157 136.780063 \nL 222.051539 136.63451 \nL 222.067687 135.506474 \nL 222.169954 135.875153 \nL 222.175337 135.986132 \nL 222.180719 135.838549 \nL 222.568258 135.171048 \nL 222.579023 135.246279 \nL 222.697438 137.029832 \nL 223.079595 137.470958 \nL 223.084977 137.761937 \nL 223.128037 136.389475 \nL 223.171097 136.461709 \nL 223.192627 136.678414 \nL 223.203392 136.17277 \nL 223.214157 136.389475 \nL 223.596314 136.17277 \nL 223.601696 135.667126 \nL 223.671669 137.617468 \nL 223.698581 136.967354 \nL 223.720111 137.292411 \nL 223.725494 136.895119 \nL 223.730876 137.111823 \nL 225.66319 134.294663 \nL 225.695485 131.947029 \nL 225.781605 132.886082 \nL 225.797752 133.211139 \nL 226.179909 133.138904 \nL 226.196056 131.910911 \nL 226.266029 133.427844 \nL 226.287559 132.849965 \nL 226.292941 132.994435 \nL 226.314471 132.127616 \nL 226.696628 130.971858 \nL 226.777365 128.443636 \nL 226.815043 129.23822 \nL 226.83119 128.804811 \nL 227.218729 128.515871 \nL 227.224112 128.588106 \nL 227.251024 130.213391 \nL 227.342527 128.949281 \nL 227.347909 128.226932 \nL 228.763504 127.865757 \nL 228.768886 128.046344 \nL 228.822711 127.215643 \nL 228.860389 127.432348 \nL 228.871154 127.215643 \nL 228.898066 127.793522 \nL 229.285605 126.746116 \nL 229.307135 127.107291 \nL 229.328665 126.565529 \nL 229.414785 129.021515 \nL 229.829237 127.649053 \nL 229.926122 126.348824 \nL 229.931504 126.601647 \nL 230.308278 126.27659 \nL 230.313661 125.84318 \nL 230.367486 127.035056 \nL 230.405163 126.962821 \nL 230.415928 127.251761 \nL 230.448223 126.926704 \nL 230.85191 126.565529 \nL 230.9165 125.265301 \nL 230.964942 125.770945 \nL 232.385919 125.770945 \nL 232.396684 125.120831 \nL 232.477422 126.601647 \nL 232.482804 126.348824 \nL 232.488187 126.384942 \nL 232.515099 125.915415 \nL 232.902638 126.782234 \nL 232.913403 126.529412 \nL 232.967228 125.84318 \nL 233.946841 125.409771 \nL 234.000666 124.615187 \nL 234.038344 125.915415 \nL 234.049109 125.626476 \nL 234.054491 125.807063 \nL 234.065256 125.337536 \nL 234.447413 125.409771 \nL 234.517385 126.782234 \nL 234.560445 126.096002 \nL 234.565828 126.023767 \nL 234.581975 126.27659 \nL 236.530436 128.335284 \nL 236.611174 128.768693 \nL 236.648851 127.5407 \nL 237.547727 126.637764 \nL 237.563874 126.673881 \nL 237.682289 123.676133 \nL 238.064446 123.314959 \nL 238.102123 125.156949 \nL 238.172096 123.712251 \nL 238.193626 122.050848 \nL 238.204391 122.375905 \nL 239.619985 120.461681 \nL 239.646898 120.353328 \nL 239.743783 121.292382 \nL 239.749165 121.328499 \nL 240.131322 121.581322 \nL 240.238972 122.556493 \nL 240.244354 122.484258 \nL 240.265884 121.725791 \nL 240.648041 121.292382 \nL 240.707248 124.326247 \nL 240.782603 123.892838 \nL 241.170142 123.531664 \nL 241.175525 123.676133 \nL 241.218585 122.159201 \nL 241.256262 122.953784 \nL 241.277792 122.953784 \nL 241.288557 123.423311 \nL 241.299322 123.242724 \nL 241.681479 123.820603 \nL 241.686861 123.712251 \nL 241.703009 123.314959 \nL 241.735304 124.398482 \nL 241.778364 124.362365 \nL 241.810659 124.687422 \nL 241.816041 124.254013 \nL 243.231636 124.506835 \nL 243.280078 122.014731 \nL 243.366198 122.700962 \nL 243.748355 122.953784 \nL 243.78065 121.761909 \nL 243.861387 122.44814 \nL 243.86677 122.520375 \nL 243.877535 121.978613 \nL 243.882917 122.231436 \nL 244.265074 122.953784 \nL 244.372724 121.834144 \nL 244.383489 122.267553 \nL 244.394254 122.773197 \nL 244.399636 122.520375 \nL 244.781793 121.725791 \nL 244.873295 122.159201 \nL 244.889443 121.942496 \nL 244.894825 121.870261 \nL 244.900208 122.086966 \nL 244.916355 122.014731 \nL 245.298512 122.086966 \nL 245.314659 122.809315 \nL 245.411544 122.375905 \nL 245.422309 122.59261 \nL 245.433074 122.231436 \nL 247.365388 123.892838 \nL 247.3923 123.712251 \nL 247.49995 125.770945 \nL 247.882107 126.421059 \nL 247.903637 126.13212 \nL 247.957462 127.287878 \nL 247.962844 127.215643 \nL 248.016669 128.515871 \nL 248.398826 129.563277 \nL 248.447268 126.421059 \nL 248.522623 126.926704 \nL 248.533388 126.27659 \nL 248.920927 127.612935 \nL 248.931692 126.854469 \nL 249.01243 128.877046 \nL 249.017812 128.804811 \nL 249.023195 129.057633 \nL 249.050107 128.082462 \nL 250.471084 130.249509 \nL 250.476467 130.177274 \nL 250.551822 128.732576 \nL 250.600264 129.09375 \nL 250.982421 128.949281 \nL 251.003951 127.251761 \nL 251.095453 128.082462 \nL 251.100836 128.118579 \nL 251.111601 127.612935 \nL 251.116983 127.649053 \nL 251.49914 127.251761 \nL 251.52067 127.360113 \nL 251.612172 126.854469 \nL 251.633702 127.287878 \nL 252.032006 128.371401 \nL 252.037389 128.696458 \nL 252.048154 127.721287 \nL 252.128891 128.010227 \nL 252.150421 127.793522 \nL 252.532578 127.865757 \nL 252.53796 127.82964 \nL 252.62408 129.635512 \nL 252.661758 129.165985 \nL 252.66714 129.23822 \nL 254.082735 128.768693 \nL 254.0935 129.057633 \nL 254.152707 127.865757 \nL 254.185002 128.371401 \nL 254.217297 127.721287 \nL 255.116173 126.13212 \nL 255.121555 126.27659 \nL 255.143085 125.120831 \nL 255.234588 126.782234 \nL 255.250735 126.204355 \nL 255.713629 128.985398 \nL 255.724394 128.660341 \nL 255.740542 128.226932 \nL 255.767454 128.443636 \nL 256.154993 129.52716 \nL 256.160376 129.491042 \nL 256.257261 130.827388 \nL 256.187288 129.165985 \nL 256.273408 129.924452 \nL 256.284173 129.454925 \nL 257.70515 131.007975 \nL 257.758975 132.958317 \nL 257.83433 132.199851 \nL 258.216487 131.874794 \nL 258.227252 132.308203 \nL 258.248782 131.513619 \nL 258.318754 131.549737 \nL 258.340284 131.947029 \nL 258.351049 130.755153 \nL 258.738588 129.52716 \nL 258.867768 127.5407 \nL 259.249925 127.576818 \nL 259.276837 127.179526 \nL 259.341427 128.082462 \nL 259.34681 128.226932 \nL 259.379104 127.576818 \nL 259.384487 127.721287 \nL 259.772026 127.251761 \nL 259.777409 127.323996 \nL 259.782791 127.179526 \nL 259.841999 128.443636 \nL 259.852764 128.443636 \nL 259.868911 128.840928 \nL 259.901206 128.299167 \nL 261.83352 129.23822 \nL 261.849667 130.321744 \nL 261.892727 128.660341 \nL 261.935787 128.804811 \nL 261.951934 129.38269 \nL 261.968082 128.443636 \nL 262.350239 128.371401 \nL 262.361004 128.696458 \nL 262.387916 127.937992 \nL 262.452506 128.335284 \nL 262.474036 128.010227 \nL 262.484801 128.479754 \nL 262.877723 128.263049 \nL 262.888488 128.371401 \nL 262.899253 127.82964 \nL 262.963842 129.346572 \nL 262.985372 129.346572 \nL 262.996137 129.09375 \nL 263.00152 129.491042 \nL 263.383677 131.405267 \nL 263.459032 133.463961 \nL 263.502091 132.994435 \nL 263.518239 132.48879 \nL 264.901539 135.739361 \nL 264.933834 135.594891 \nL 264.949981 134.277987 \nL 264.971511 135.609736 \nL 265.046866 134.886046 \nL 265.057631 134.996947 \nL 265.068396 134.739273 \nL 265.450553 135.553012 \nL 265.55282 130.838244 \nL 265.585115 132.124204 \nL 265.967272 132.753188 \nL 265.972654 133.644527 \nL 266.058774 130.67313 \nL 266.064156 130.67313 \nL 266.101834 128.863215 \nL 266.483991 124.039148 \nL 266.607788 130.710541 \nL 266.618553 128.734093 \nL 267.00071 126.004306 \nL 267.006092 124.55542 \nL 267.076065 129.155851 \nL 267.097594 128.655905 \nL 267.135272 132.178824 \nL 268.550867 133.525407 \nL 268.567014 134.329005 \nL 268.599309 130.728109 \nL 268.636986 131.37248 \nL 268.658516 132.092659 \nL 268.685429 130.424876 \nL 269.067586 129.856313 \nL 269.16447 133.078168 \nL 269.191383 131.637809 \nL 269.202148 132.699126 \nL 269.584305 131.637809 \nL 269.589687 131.789426 \nL 269.59507 130.803918 \nL 269.686572 133.836251 \nL 269.691954 133.836251 \nL 269.713484 132.661222 \nL 269.718867 132.699126 \nL 270.106406 134.859664 \nL 270.219438 132.920628 \nL 270.224821 133.156895 \nL 270.235586 134.09212 \nL 270.596213 131.48566 \nL 270.74154 125.592242 \nL 270.752305 125.781193 \nL 272.157135 101.580608 \nL 272.1679 87.677497 \nL 272.18943 116.793313 \nL 272.264784 105.883301 \nL 272.297079 102.167682 \nL 272.302462 102.407224 \nL 272.684619 105.826747 \nL 272.727679 91.706176 \nL 272.797651 104.578672 \nL 272.803033 108.128572 \nL 272.819181 107.191426 \nL 273.201338 101.9515 \nL 273.260545 105.866012 \nL 273.319752 98.868044 \nL 273.325135 101.516446 \nL 273.3359 97.609428 \nL 273.718057 82.768025 \nL 273.723439 76.309348 \nL 273.744969 90.371731 \nL 273.825706 80.630872 \nL 273.831089 80.630872 \nL 273.847236 79.468313 \nL 273.858001 86.128019 \nL 274.234776 88.92081 \nL 274.261688 84.660162 \nL 274.31013 92.983635 \nL 274.347808 87.78771 \nL 274.369338 101.83882 \nL 275.768785 84.714671 \nL 275.8872 79.132469 \nL 275.82261 85.479538 \nL 275.892582 79.748944 \nL 275.90873 85.740583 \nL 275.919495 79.08191 \nL 276.317799 74.087913 \nL 276.339329 68.153754 \nL 276.355476 81.520869 \nL 276.436214 68.755981 \nL 276.818371 49.611823 \nL 276.899108 16.101818 \nL 276.942168 28.436668 \nL 276.952933 53.402977 \nL 276.958315 33.727839 \nL 277.33509 45.847356 \nL 277.448122 88.776783 \nL 277.469652 86.372522 \nL 277.819514 93.997692 \nL 277.878721 96.110496 \nL 277.970223 74.00104 \nL 277.980988 85.279127 \nL 277.986371 84.247366 \nL 279.396583 82.806826 \nL 279.401966 70.36682 \nL 279.504233 75.171707 \nL 279.514998 78.933878 \nL 279.536528 75.591304 \nL 279.918685 79.799764 \nL 279.934832 86.269624 \nL 280.015569 76.608254 \nL 280.020952 77.35139 \nL 280.026334 75.73333 \nL 280.053247 76.062813 \nL 280.435404 76.062813 \nL 280.451551 71.694647 \nL 280.526906 90.125856 \nL 280.569966 78.903333 \nL 280.952123 82.087892 \nL 280.957505 80.289072 \nL 280.995182 98.696971 \nL 281.05439 84.384935 \nL 281.070537 83.989177 \nL 281.086685 85.606532 \nL 281.436547 86.666181 \nL 281.598021 71.495387 \nL 281.711054 82.140409 \nL 283.018999 70.496661 \nL 283.024381 64.017497 \nL 283.083588 75.413787 \nL 283.126648 69.929838 \nL 283.132031 68.245397 \nL 283.153561 72.016833 \nL 283.535718 79.22841 \nL 283.616455 70.993247 \nL 283.58416 79.682765 \nL 283.64875 73.48605 \nL 283.659515 72.200677 \nL 283.67028 77.747428 \nL 284.057819 76.984931 \nL 284.127791 75.169986 \nL 284.186999 89.750445 \nL 284.536861 95.399053 \nL 284.569156 90.807984 \nL 284.585303 94.435586 \nL 284.590685 108.567082 \nL 284.692953 96.411531 \nL 284.698335 96.886202 \nL 284.703718 96.532919 \nL 285.069727 108.376696 \nL 285.139699 94.880924 \nL 285.198907 102.142155 \nL 285.209672 105.059419 \nL 285.220437 104.013995 \nL 286.630649 106.981789 \nL 286.636032 104.161856 \nL 286.695239 108.765934 \nL 286.738299 106.935503 \nL 286.743681 107.137548 \nL 286.770594 106.227804 \nL 287.158133 111.081126 \nL 287.211958 112.376056 \nL 287.276548 105.561671 \nL 287.287313 106.804749 \nL 287.292695 106.397649 \nL 287.66947 109.472901 \nL 287.760972 105.994574 \nL 287.777119 108.750268 \nL 287.782502 109.439943 \nL 287.787884 108.369502 \nL 287.804032 108.670287 \nL 288.207718 121.452523 \nL 288.234631 117.441093 \nL 288.315368 111.228094 \nL 288.320751 112.84858 \nL 290.253064 115.1618 \nL 290.274594 118.213797 \nL 290.263829 115.013401 \nL 290.366097 116.302997 \nL 290.376862 115.95514 \nL 290.382244 116.56721 \nL 290.387627 116.048704 \nL 290.764401 118.230876 \nL 290.780548 120.051734 \nL 290.866668 117.697699 \nL 290.872051 118.205466 \nL 290.877433 118.03788 \nL 290.904346 118.961231 \nL 291.286502 115.493637 \nL 291.318797 109.974904 \nL 291.404917 113.650099 \nL 291.421065 116.017274 \nL 291.803221 114.26366 \nL 291.808604 112.087257 \nL 291.835516 114.982343 \nL 291.916254 112.906688 \nL 291.921636 112.906688 \nL 291.937784 111.593708 \nL 292.31994 113.502113 \nL 292.40606 118.813963 \nL 292.432973 118.148886 \nL 293.870097 117.558612 \nL 293.913157 124.113601 \nL 293.972365 116.539789 \nL 293.988512 116.105638 \nL 294.00466 118.996106 \nL 294.376051 116.666169 \nL 294.467554 119.191042 \nL 294.419111 115.176993 \nL 294.489084 118.023004 \nL 294.494466 117.853023 \nL 294.521379 120.04678 \nL 294.903535 121.680306 \nL 294.908918 120.731654 \nL 294.951978 125.568291 \nL 294.995038 124.555553 \nL 295.032715 125.887218 \nL 295.038098 125.306942 \nL 295.431019 130.269771 \nL 295.441784 133.897626 \nL 295.549434 133.707854 \nL 295.554817 133.401425 \nL 295.910061 135.499959 \nL 295.936973 137.96985 \nL 295.953121 133.670864 \nL 296.028476 136.235663 \nL 296.033858 136.235663 \nL 296.060771 135.548991 \nL 296.050006 136.641321 \nL 296.076918 135.902608 \nL 297.48713 132.863408 \nL 297.535573 136.34266 \nL 297.605545 136.181809 \nL 297.610928 135.949121 \nL 297.621693 136.241272 \nL 298.003849 138.739161 \nL 298.009232 138.082364 \nL 298.030762 135.643732 \nL 298.138412 136.691224 \nL 298.520568 137.9004 \nL 298.638983 146.62974 \nL 298.655131 146.011498 \nL 299.04267 148.146381 \nL 299.0642 152.736334 \nL 299.112642 147.906731 \nL 299.155702 148.556303 \nL 299.166467 148.25743 \nL 299.17185 148.515224 \nL 299.554006 145.529111 \nL 299.667039 143.220044 \nL 299.580919 145.753525 \nL 299.672421 143.565386 \nL 299.677804 143.565386 \nL 299.683186 143.712067 \nL 299.688569 143.322412 \nL 301.104163 143.912882 \nL 301.114928 145.637779 \nL 301.152606 143.035176 \nL 301.222578 145.465793 \nL 301.227961 145.465793 \nL 301.238726 145.883953 \nL 301.620882 148.784061 \nL 301.63703 146.082253 \nL 301.739297 147.090369 \nL 301.750062 146.687538 \nL 301.755445 147.50013 \nL 302.137601 143.216936 \nL 302.148366 143.821608 \nL 302.153749 144.457537 \nL 302.207574 141.021754 \nL 302.239869 142.030877 \nL 302.266781 141.09996 \nL 302.272164 141.625073 \nL 302.65432 143.49054 \nL 302.659703 143.144638 \nL 302.69738 143.901163 \nL 302.788883 140.6702 \nL 303.171039 142.158387 \nL 303.181804 141.902136 \nL 303.187187 141.077595 \nL 303.284072 142.172905 \nL 303.289454 142.172905 \nL 303.300219 142.990891 \nL 303.305602 142.48965 \nL 304.721196 141.169389 \nL 304.737344 140.594922 \nL 304.855759 143.048173 \nL 304.861141 143.048173 \nL 305.237915 145.853038 \nL 305.318653 142.892569 \nL 305.35633 143.500079 \nL 305.372478 141.736756 \nL 305.770782 136.899077 \nL 305.867667 133.724342 \nL 305.889197 134.730668 \nL 306.271353 132.133741 \nL 306.276736 132.790817 \nL 306.341326 137.503047 \nL 306.400533 135.682946 \nL 306.405916 135.925411 \nL 306.788072 136.88972 \nL 306.793455 136.182855 \nL 306.884957 137.261163 \nL 306.895722 137.144373 \nL 306.922635 138.543064 \nL 308.338229 143.298728 \nL 308.375907 146.349276 \nL 308.456644 145.783297 \nL 308.467409 145.83234 \nL 308.472792 145.077521 \nL 308.854948 145.270097 \nL 308.876478 146.968654 \nL 308.973363 146.822561 \nL 308.978746 146.362916 \nL 308.989511 146.641712 \nL 309.371667 147.935133 \nL 309.387815 150.546865 \nL 309.495465 149.918061 \nL 309.50623 149.579643 \nL 309.888386 150.005985 \nL 309.926064 147.714617 \nL 310.006801 148.620153 \nL 310.017566 149.057251 \nL 310.022949 148.581066 \nL 310.405105 147.528112 \nL 310.41587 147.306898 \nL 310.539668 148.935385 \nL 312.461216 151.500088 \nL 312.493511 150.813701 \nL 312.536571 151.762578 \nL 312.574249 151.361158 \nL 312.579631 151.44241 \nL 312.601161 150.873804 \nL 312.606544 150.873804 \nL 312.9887 152.109978 \nL 313.020995 149.394506 \nL 313.107115 150.089419 \nL 313.123263 149.708302 \nL 313.505419 149.537664 \nL 313.607687 151.34755 \nL 313.629217 150.573344 \nL 313.634599 149.657441 \nL 313.639982 149.742926 \nL 314.027521 149.058212 \nL 314.049051 147.83185 \nL 314.124406 149.12677 \nL 314.135171 149.64595 \nL 314.156701 149.091524 \nL 315.572295 149.439154 \nL 315.588443 150.341428 \nL 315.679945 149.456416 \nL 315.696093 149.714746 \nL 315.701475 149.202257 \nL 315.706858 149.37559 \nL 316.094397 149.634322 \nL 316.105162 150.018558 \nL 316.158987 149.039534 \nL 316.185899 149.172167 \nL 316.207429 149.128948 \nL 316.212812 149.69355 \nL 316.223577 150.204849 \nL 316.605733 151.552993 \nL 316.611116 151.066551 \nL 316.708001 152.326722 \nL 316.718766 152.405992 \nL 316.729531 151.810353 \nL 316.740296 152.171873 \nL 317.127835 152.251463 \nL 317.230102 154.829703 \nL 317.257015 154.278516 \nL 317.682231 157.905128 \nL 317.746821 157.032841 \nL 317.757586 156.340563 \nL 317.773734 156.901347 \nL 319.189328 159.252758 \nL 319.194711 159.188554 \nL 319.200093 159.542419 \nL 319.243153 158.390617 \nL 319.296978 158.629863 \nL 319.318508 158.102546 \nL 319.323891 158.369267 \nL 319.71143 156.29548 \nL 319.716812 155.306087 \nL 319.738342 157.169475 \nL 319.81908 156.131547 \nL 319.835227 156.415231 \nL 319.84061 155.710626 \nL 320.228149 153.867779 \nL 320.233531 152.68564 \nL 320.319651 155.134504 \nL 320.335799 154.506772 \nL 320.346564 154.880182 \nL 320.351946 154.324894 \nL 320.357329 154.513165 \nL 320.766398 148.50028 \nL 320.79331 144.83628 \nL 320.830988 149.245442 \nL 320.874048 147.134223 \nL 321.256204 150.868292 \nL 321.363854 146.441311 \nL 321.374619 146.971564 \nL 321.380002 146.877403 \nL 321.396149 147.396016 \nL 322.806361 145.208715 \nL 322.811744 145.356981 \nL 322.914011 151.652655 \nL 322.940924 150.527371 \nL 323.306933 154.458795 \nL 323.317698 153.848127 \nL 323.414583 150.766638 \nL 323.43073 151.532712 \nL 323.45226 150.993051 \nL 323.457643 151.798066 \nL 323.839799 151.38412 \nL 323.904389 152.147142 \nL 323.968979 149.96068 \nL 323.974362 150.31004 \nL 324.356518 150.742416 \nL 324.361901 149.931007 \nL 324.383431 151.277998 \nL 324.469551 150.174587 \nL 324.474933 149.914014 \nL 324.485698 150.263171 \nL 324.49108 150.176531 \nL 324.873237 150.741091 \nL 324.970122 149.320518 \nL 324.905532 151.003288 \nL 324.997035 149.903308 \nL 325.007799 149.421102 \nL 326.423394 148.533262 \nL 326.434159 149.214572 \nL 326.450307 148.270091 \nL 326.536427 148.779438 \nL 326.557956 149.095293 \nL 326.940113 150.484754 \nL 327.058528 148.550596 \nL 327.063911 148.596134 \nL 327.069293 148.414213 \nL 327.074675 148.551349 \nL 327.456832 147.412909 \nL 327.499892 142.328657 \nL 327.575247 145.037313 \nL 327.586012 145.438085 \nL 327.591394 145.090207 \nL 327.973551 144.638754 \nL 327.984316 146.989669 \nL 328.065054 144.201552 \nL 328.081201 144.560364 \nL 328.086584 144.509441 \nL 328.097348 145.220591 \nL 328.108113 144.519148 \nL 328.5118 141.478068 \nL 328.59792 140.780396 \nL 328.53333 141.769791 \nL 328.624832 140.786882 \nL 330.035045 140.674424 \nL 330.040427 139.546658 \nL 330.051192 141.610328 \nL 330.148077 139.998824 \nL 330.15346 139.654444 \nL 330.164224 140.752892 \nL 330.174989 140.416181 \nL 330.557146 140.529808 \nL 330.573294 139.386037 \nL 330.584059 140.71677 \nL 330.664796 140.667338 \nL 330.686326 141.62022 \nL 330.691708 141.509958 \nL 331.073865 142.670964 \nL 331.079248 142.456252 \nL 331.133073 140.360848 \nL 331.208427 141.393377 \nL 331.590584 141.393377 \nL 331.595967 141.781772 \nL 331.628262 140.78649 \nL 331.692852 140.962637 \nL 331.714381 141.520913 \nL 331.725146 140.742959 \nL 333.65746 139.163206 \nL 333.70052 129.242291 \nL 333.792022 131.032477 \nL 334.131119 127.820526 \nL 334.168797 129.047921 \nL 334.238769 135.354031 \nL 334.281829 132.715017 \nL 334.292594 132.921903 \nL 334.308741 132.300697 \nL 334.696281 133.829563 \nL 334.701663 133.762258 \nL 334.739341 132.072138 \nL 334.793165 134.751893 \nL 334.80393 134.381884 \nL 334.82546 135.961955 \nL 335.207617 136.666993 \nL 335.342179 133.000007 \nL 335.724336 133.687562 \nL 335.767396 132.748443 \nL 335.783544 134.186117 \nL 335.831986 133.791204 \nL 335.837368 133.723659 \nL 335.842751 134.129566 \nL 335.853516 134.129566 \nL 335.858898 134.933794 \nL 337.274493 134.868016 \nL 337.322936 132.798261 \nL 337.301406 135.006202 \nL 337.39829 133.573846 \nL 337.403673 133.43799 \nL 337.409055 133.642414 \nL 337.791212 132.692921 \nL 337.839655 133.879463 \nL 337.877332 132.656793 \nL 337.904244 133.281361 \nL 337.909627 133.144509 \nL 337.925774 133.420045 \nL 338.307931 136.421243 \nL 338.313314 135.084635 \nL 338.415581 137.180053 \nL 338.437111 137.377765 \nL 338.431728 136.61693 \nL 338.442493 137.253247 \nL 338.82465 135.629643 \nL 338.835415 135.826252 \nL 338.905388 138.479252 \nL 338.95383 137.629646 \nL 338.959212 136.824559 \nL 339.341369 138.403298 \nL 339.346752 137.977684 \nL 339.443636 135.276069 \nL 339.465166 135.278085 \nL 339.470549 135.409211 \nL 339.475931 135.213129 \nL 339.825793 135.607111 \nL 339.831176 133.525269 \nL 339.847323 135.875359 \nL 339.928061 134.784154 \nL 340.891526 136.247357 \nL 340.896909 136.054551 \nL 340.902291 135.6026 \nL 340.923821 136.511049 \nL 341.009941 135.612665 \nL 341.015323 135.612665 \nL 341.020706 135.743173 \nL 341.026088 135.613067 \nL 341.408245 138.614741 \nL 341.424393 137.333483 \nL 341.494365 138.822826 \nL 341.515895 138.763237 \nL 341.521277 139.247872 \nL 341.537425 138.646666 \nL 341.542807 139.011205 \nL 341.935729 137.312706 \nL 341.941112 137.814944 \nL 341.946494 138.373154 \nL 341.968024 137.077739 \nL 342.043379 137.205846 \nL 342.059526 137.079838 \nL 342.441683 136.953543 \nL 342.506273 137.901933 \nL 342.463213 136.317822 \nL 342.533185 136.841091 \nL 342.549333 136.335171 \nL 342.576245 137.481044 \nL 342.963785 136.854612 \nL 342.985315 138.174081 \nL 343.039139 136.610709 \nL 343.071434 136.867537 \nL 343.092964 137.814381 \nL 343.448209 137.007464 \nL 343.464356 138.956228 \nL 343.458974 136.791907 \nL 343.491269 138.235393 \nL 344.508559 136.451271 \nL 344.513942 136.579791 \nL 344.530089 137.153816 \nL 344.589296 135.745677 \nL 344.643121 134.824627 \nL 345.062956 134.155047 \nL 345.122163 134.164002 \nL 345.15984 132.931785 \nL 345.536615 136.561392 \nL 345.54738 135.981981 \nL 345.558145 135.132377 \nL 345.638882 137.913714 \nL 345.676559 138.655426 \nL 346.064099 136.873258 \nL 346.069481 136.937048 \nL 346.080246 136.105538 \nL 346.128688 137.327039 \nL 346.177131 137.080358 \nL 346.187896 136.507245 \nL 346.193278 136.635975 \nL 346.580818 137.790989 \nL 346.645407 135.758813 \nL 346.699232 136.478761 \nL 346.704615 136.349888 \nL 346.71538 137.059888 \nL 348.125592 137.377633 \nL 348.217094 139.798002 \nL 348.260154 139.324232 \nL 348.647694 139.444556 \nL 348.771491 141.922621 \nL 348.776873 141.697089 \nL 349.1375 142.706504 \nL 349.164413 144.19641 \nL 349.255915 143.383165 \nL 349.261297 142.567891 \nL 349.28821 144.536071 \nL 349.293592 144.430568 \nL 349.691897 138.393325 \nL 349.697279 136.96822 \nL 349.745721 139.243053 \nL 349.799546 138.714773 \nL 349.804929 138.468648 \nL 349.810311 138.840073 \nL 350.170938 138.103947 \nL 350.278588 135.569607 \nL 350.310883 135.836094 \nL 350.316265 135.770096 \nL 350.32703 136.494123 \nL 351.742625 137.143874 \nL 351.812597 135.456985 \nL 351.855657 135.990544 \nL 351.871805 137.682076 \nL 351.877187 137.492567 \nL 352.243197 138.444478 \nL 352.307786 139.866057 \nL 352.334699 138.409087 \nL 352.356229 139.032125 \nL 352.388524 137.291139 \nL 352.393906 137.546384 \nL 352.776063 138.869532 \nL 352.846035 137.635758 \nL 352.889095 138.331754 \nL 352.910625 138.020063 \nL 353.30893 137.517157 \nL 353.335842 138.404064 \nL 353.405814 137.082067 \nL 353.427344 138.04029 \nL 353.809501 138.541919 \nL 353.814884 138.294149 \nL 353.863326 139.654861 \nL 353.917151 138.687365 \nL 353.927916 138.687365 \nL 353.933298 138.316935 \nL 353.944063 138.81384 \nL 355.359658 139.860177 \nL 355.402718 138.590914 \nL 355.478073 138.842258 \nL 355.488838 139.08809 \nL 355.49422 138.598836 \nL 355.876377 138.475038 \nL 355.924819 136.969835 \nL 355.994792 137.623849 \nL 356.010939 137.114723 \nL 356.393096 138.719576 \nL 356.398479 139.584226 \nL 356.473833 137.926548 \nL 356.495363 138.492331 \nL 356.511511 137.869318 \nL 356.533041 138.0618 \nL 356.915198 137.179643 \nL 357.02823 139.629163 \nL 357.044377 139.447692 \nL 357.426534 138.537156 \nL 357.539566 139.954346 \nL 357.544949 139.474659 \nL 357.561096 139.47475 \nL 358.976691 139.17134 \nL 358.998221 140.50145 \nL 359.084341 139.304689 \nL 359.111253 139.000044 \nL 359.49341 139.307086 \nL 359.498793 139.185195 \nL 359.574147 137.696833 \nL 359.617207 138.390754 \nL 359.62259 138.577776 \nL 359.627972 138.453664 \nL 360.010129 138.453664 \nL 360.123161 136.164378 \nL 360.144691 137.08543 \nL 360.505318 137.021064 \nL 360.650645 138.180255 \nL 360.559143 136.89849 \nL 360.656028 138.117562 \nL 360.66141 137.929197 \nL 361.043567 139.064588 \nL 361.048949 137.40788 \nL 361.151217 138.925466 \nL 361.156599 139.171884 \nL 361.161982 138.620795 \nL 361.178129 138.869079 \nL 362.593724 137.635196 \nL 362.631401 136.869009 \nL 362.669079 137.644115 \nL 362.706756 137.263088 \nL 362.717521 137.519505 \nL 362.722904 136.881677 \nL 362.728286 136.881677 \nL 363.110443 135.13276 \nL 363.137355 136.149346 \nL 363.218093 135.488006 \nL 363.228858 135.017911 \nL 363.245005 135.155126 \nL 363.627162 135.222661 \nL 363.686369 135.899672 \nL 363.637927 135.090366 \nL 363.734812 135.232777 \nL 363.745577 135.030303 \nL 363.756342 135.30084 \nL 363.761724 135.233528 \nL 364.143881 135.772883 \nL 364.154646 135.639745 \nL 364.230001 133.399132 \nL 364.278443 134.177336 \nL 364.6606 135.076098 \nL 364.68213 131.948439 \nL 364.773632 134.664171 \nL 364.779015 134.664171 \nL 364.784397 135.006242 \nL 364.795162 134.666463 \n\" clip-path=\"url(#pccaefacde9)\" style=\"fill: none; stroke: #ff7f0e; stroke-width: 1.5; stroke-linecap: square\"/>\n   </g>\n   <g id=\"patch_3\">\n    <path d=\"M 45.213344 203.04 \nL 45.213344 7.2 \n\" style=\"fill: none; stroke: #000000; stroke-width: 0.8; stroke-linejoin: miter; stroke-linecap: square\"/>\n   </g>\n   <g id=\"patch_4\">\n    <path d=\"M 380.013344 203.04 \nL 380.013344 7.2 \n\" style=\"fill: none; stroke: #000000; stroke-width: 0.8; stroke-linejoin: miter; stroke-linecap: square\"/>\n   </g>\n   <g id=\"patch_5\">\n    <path d=\"M 45.213344 203.04 \nL 380.013344 203.04 \n\" style=\"fill: none; stroke: #000000; stroke-width: 0.8; stroke-linejoin: miter; stroke-linecap: square\"/>\n   </g>\n   <g id=\"patch_6\">\n    <path d=\"M 45.213344 7.2 \nL 380.013344 7.2 \n\" style=\"fill: none; stroke: #000000; stroke-width: 0.8; stroke-linejoin: miter; stroke-linecap: square\"/>\n   </g>\n   <g id=\"legend_1\">\n    <g id=\"patch_7\">\n     <path d=\"M 52.213344 45.1125 \nL 214.225844 45.1125 \nQ 216.225844 45.1125 216.225844 43.1125 \nL 216.225844 14.2 \nQ 216.225844 12.2 214.225844 12.2 \nL 52.213344 12.2 \nQ 50.213344 12.2 50.213344 14.2 \nL 50.213344 43.1125 \nQ 50.213344 45.1125 52.213344 45.1125 \nz\n\" style=\"fill: #ffffff; opacity: 0.8; stroke: #cccccc; stroke-linejoin: miter\"/>\n    </g>\n    <g id=\"line2d_22\">\n     <path d=\"M 54.213344 20.298437 \nL 64.213344 20.298437 \nL 74.213344 20.298437 \n\" style=\"fill: none; stroke: #1f77b4; stroke-width: 1.5; stroke-linecap: square\"/>\n    </g>\n    <g id=\"text_21\">\n     <!-- actual_returns -->\n     <g transform=\"translate(82.213344 23.798437)scale(0.1 -0.1)\">\n      <defs>\n       <path id=\"DejaVuSans-63\" d=\"M 3122 3366 \nL 3122 2828 \nQ 2878 2963 2633 3030 \nQ 2388 3097 2138 3097 \nQ 1578 3097 1268 2742 \nQ 959 2388 959 1747 \nQ 959 1106 1268 751 \nQ 1578 397 2138 397 \nQ 2388 397 2633 464 \nQ 2878 531 3122 666 \nL 3122 134 \nQ 2881 22 2623 -34 \nQ 2366 -91 2075 -91 \nQ 1284 -91 818 406 \nQ 353 903 353 1747 \nQ 353 2603 823 3093 \nQ 1294 3584 2113 3584 \nQ 2378 3584 2631 3529 \nQ 2884 3475 3122 3366 \nz\n\" transform=\"scale(0.015625)\"/>\n       <path id=\"DejaVuSans-75\" d=\"M 544 1381 \nL 544 3500 \nL 1119 3500 \nL 1119 1403 \nQ 1119 906 1312 657 \nQ 1506 409 1894 409 \nQ 2359 409 2629 706 \nQ 2900 1003 2900 1516 \nL 2900 3500 \nL 3475 3500 \nL 3475 0 \nL 2900 0 \nL 2900 538 \nQ 2691 219 2414 64 \nQ 2138 -91 1772 -91 \nQ 1169 -91 856 284 \nQ 544 659 544 1381 \nz\nM 1991 3584 \nL 1991 3584 \nz\n\" transform=\"scale(0.015625)\"/>\n       <path id=\"DejaVuSans-6c\" d=\"M 603 4863 \nL 1178 4863 \nL 1178 0 \nL 603 0 \nL 603 4863 \nz\n\" transform=\"scale(0.015625)\"/>\n       <path id=\"DejaVuSans-5f\" d=\"M 3263 -1063 \nL 3263 -1509 \nL -63 -1509 \nL -63 -1063 \nL 3263 -1063 \nz\n\" transform=\"scale(0.015625)\"/>\n       <path id=\"DejaVuSans-72\" d=\"M 2631 2963 \nQ 2534 3019 2420 3045 \nQ 2306 3072 2169 3072 \nQ 1681 3072 1420 2755 \nQ 1159 2438 1159 1844 \nL 1159 0 \nL 581 0 \nL 581 3500 \nL 1159 3500 \nL 1159 2956 \nQ 1341 3275 1631 3429 \nQ 1922 3584 2338 3584 \nQ 2397 3584 2469 3576 \nQ 2541 3569 2628 3553 \nL 2631 2963 \nz\n\" transform=\"scale(0.015625)\"/>\n       <path id=\"DejaVuSans-6e\" d=\"M 3513 2113 \nL 3513 0 \nL 2938 0 \nL 2938 2094 \nQ 2938 2591 2744 2837 \nQ 2550 3084 2163 3084 \nQ 1697 3084 1428 2787 \nQ 1159 2491 1159 1978 \nL 1159 0 \nL 581 0 \nL 581 3500 \nL 1159 3500 \nL 1159 2956 \nQ 1366 3272 1645 3428 \nQ 1925 3584 2291 3584 \nQ 2894 3584 3203 3211 \nQ 3513 2838 3513 2113 \nz\n\" transform=\"scale(0.015625)\"/>\n       <path id=\"DejaVuSans-73\" d=\"M 2834 3397 \nL 2834 2853 \nQ 2591 2978 2328 3040 \nQ 2066 3103 1784 3103 \nQ 1356 3103 1142 2972 \nQ 928 2841 928 2578 \nQ 928 2378 1081 2264 \nQ 1234 2150 1697 2047 \nL 1894 2003 \nQ 2506 1872 2764 1633 \nQ 3022 1394 3022 966 \nQ 3022 478 2636 193 \nQ 2250 -91 1575 -91 \nQ 1294 -91 989 -36 \nQ 684 19 347 128 \nL 347 722 \nQ 666 556 975 473 \nQ 1284 391 1588 391 \nQ 1994 391 2212 530 \nQ 2431 669 2431 922 \nQ 2431 1156 2273 1281 \nQ 2116 1406 1581 1522 \nL 1381 1569 \nQ 847 1681 609 1914 \nQ 372 2147 372 2553 \nQ 372 3047 722 3315 \nQ 1072 3584 1716 3584 \nQ 2034 3584 2315 3537 \nQ 2597 3491 2834 3397 \nz\n\" transform=\"scale(0.015625)\"/>\n      </defs>\n      <use xlink:href=\"#DejaVuSans-61\"/>\n      <use xlink:href=\"#DejaVuSans-63\" x=\"61.279297\"/>\n      <use xlink:href=\"#DejaVuSans-74\" x=\"116.259766\"/>\n      <use xlink:href=\"#DejaVuSans-75\" x=\"155.46875\"/>\n      <use xlink:href=\"#DejaVuSans-61\" x=\"218.847656\"/>\n      <use xlink:href=\"#DejaVuSans-6c\" x=\"280.126953\"/>\n      <use xlink:href=\"#DejaVuSans-5f\" x=\"307.910156\"/>\n      <use xlink:href=\"#DejaVuSans-72\" x=\"357.910156\"/>\n      <use xlink:href=\"#DejaVuSans-65\" x=\"396.773438\"/>\n      <use xlink:href=\"#DejaVuSans-74\" x=\"458.296875\"/>\n      <use xlink:href=\"#DejaVuSans-75\" x=\"497.505859\"/>\n      <use xlink:href=\"#DejaVuSans-72\" x=\"560.884766\"/>\n      <use xlink:href=\"#DejaVuSans-6e\" x=\"600.248047\"/>\n      <use xlink:href=\"#DejaVuSans-73\" x=\"663.626953\"/>\n     </g>\n    </g>\n    <g id=\"line2d_23\">\n     <path d=\"M 54.213344 35.254687 \nL 64.213344 35.254687 \nL 74.213344 35.254687 \n\" style=\"fill: none; stroke: #ff7f0e; stroke-width: 1.5; stroke-linecap: square\"/>\n    </g>\n    <g id=\"text_22\">\n     <!-- trading_algorithm_returns -->\n     <g transform=\"translate(82.213344 38.754687)scale(0.1 -0.1)\">\n      <defs>\n       <path id=\"DejaVuSans-69\" d=\"M 603 3500 \nL 1178 3500 \nL 1178 0 \nL 603 0 \nL 603 3500 \nz\nM 603 4863 \nL 1178 4863 \nL 1178 4134 \nL 603 4134 \nL 603 4863 \nz\n\" transform=\"scale(0.015625)\"/>\n       <path id=\"DejaVuSans-67\" d=\"M 2906 1791 \nQ 2906 2416 2648 2759 \nQ 2391 3103 1925 3103 \nQ 1463 3103 1205 2759 \nQ 947 2416 947 1791 \nQ 947 1169 1205 825 \nQ 1463 481 1925 481 \nQ 2391 481 2648 825 \nQ 2906 1169 2906 1791 \nz\nM 3481 434 \nQ 3481 -459 3084 -895 \nQ 2688 -1331 1869 -1331 \nQ 1566 -1331 1297 -1286 \nQ 1028 -1241 775 -1147 \nL 775 -588 \nQ 1028 -725 1275 -790 \nQ 1522 -856 1778 -856 \nQ 2344 -856 2625 -561 \nQ 2906 -266 2906 331 \nL 2906 616 \nQ 2728 306 2450 153 \nQ 2172 0 1784 0 \nQ 1141 0 747 490 \nQ 353 981 353 1791 \nQ 353 2603 747 3093 \nQ 1141 3584 1784 3584 \nQ 2172 3584 2450 3431 \nQ 2728 3278 2906 2969 \nL 2906 3500 \nL 3481 3500 \nL 3481 434 \nz\n\" transform=\"scale(0.015625)\"/>\n       <path id=\"DejaVuSans-6f\" d=\"M 1959 3097 \nQ 1497 3097 1228 2736 \nQ 959 2375 959 1747 \nQ 959 1119 1226 758 \nQ 1494 397 1959 397 \nQ 2419 397 2687 759 \nQ 2956 1122 2956 1747 \nQ 2956 2369 2687 2733 \nQ 2419 3097 1959 3097 \nz\nM 1959 3584 \nQ 2709 3584 3137 3096 \nQ 3566 2609 3566 1747 \nQ 3566 888 3137 398 \nQ 2709 -91 1959 -91 \nQ 1206 -91 779 398 \nQ 353 888 353 1747 \nQ 353 2609 779 3096 \nQ 1206 3584 1959 3584 \nz\n\" transform=\"scale(0.015625)\"/>\n       <path id=\"DejaVuSans-68\" d=\"M 3513 2113 \nL 3513 0 \nL 2938 0 \nL 2938 2094 \nQ 2938 2591 2744 2837 \nQ 2550 3084 2163 3084 \nQ 1697 3084 1428 2787 \nQ 1159 2491 1159 1978 \nL 1159 0 \nL 581 0 \nL 581 4863 \nL 1159 4863 \nL 1159 2956 \nQ 1366 3272 1645 3428 \nQ 1925 3584 2291 3584 \nQ 2894 3584 3203 3211 \nQ 3513 2838 3513 2113 \nz\n\" transform=\"scale(0.015625)\"/>\n       <path id=\"DejaVuSans-6d\" d=\"M 3328 2828 \nQ 3544 3216 3844 3400 \nQ 4144 3584 4550 3584 \nQ 5097 3584 5394 3201 \nQ 5691 2819 5691 2113 \nL 5691 0 \nL 5113 0 \nL 5113 2094 \nQ 5113 2597 4934 2840 \nQ 4756 3084 4391 3084 \nQ 3944 3084 3684 2787 \nQ 3425 2491 3425 1978 \nL 3425 0 \nL 2847 0 \nL 2847 2094 \nQ 2847 2600 2669 2842 \nQ 2491 3084 2119 3084 \nQ 1678 3084 1418 2786 \nQ 1159 2488 1159 1978 \nL 1159 0 \nL 581 0 \nL 581 3500 \nL 1159 3500 \nL 1159 2956 \nQ 1356 3278 1631 3431 \nQ 1906 3584 2284 3584 \nQ 2666 3584 2933 3390 \nQ 3200 3197 3328 2828 \nz\n\" transform=\"scale(0.015625)\"/>\n      </defs>\n      <use xlink:href=\"#DejaVuSans-74\"/>\n      <use xlink:href=\"#DejaVuSans-72\" x=\"39.208984\"/>\n      <use xlink:href=\"#DejaVuSans-61\" x=\"80.322266\"/>\n      <use xlink:href=\"#DejaVuSans-64\" x=\"141.601562\"/>\n      <use xlink:href=\"#DejaVuSans-69\" x=\"205.078125\"/>\n      <use xlink:href=\"#DejaVuSans-6e\" x=\"232.861328\"/>\n      <use xlink:href=\"#DejaVuSans-67\" x=\"296.240234\"/>\n      <use xlink:href=\"#DejaVuSans-5f\" x=\"359.716797\"/>\n      <use xlink:href=\"#DejaVuSans-61\" x=\"409.716797\"/>\n      <use xlink:href=\"#DejaVuSans-6c\" x=\"470.996094\"/>\n      <use xlink:href=\"#DejaVuSans-67\" x=\"498.779297\"/>\n      <use xlink:href=\"#DejaVuSans-6f\" x=\"562.255859\"/>\n      <use xlink:href=\"#DejaVuSans-72\" x=\"623.4375\"/>\n      <use xlink:href=\"#DejaVuSans-69\" x=\"664.550781\"/>\n      <use xlink:href=\"#DejaVuSans-74\" x=\"692.333984\"/>\n      <use xlink:href=\"#DejaVuSans-68\" x=\"731.542969\"/>\n      <use xlink:href=\"#DejaVuSans-6d\" x=\"794.921875\"/>\n      <use xlink:href=\"#DejaVuSans-5f\" x=\"892.333984\"/>\n      <use xlink:href=\"#DejaVuSans-72\" x=\"942.333984\"/>\n      <use xlink:href=\"#DejaVuSans-65\" x=\"981.197266\"/>\n      <use xlink:href=\"#DejaVuSans-74\" x=\"1042.720703\"/>\n      <use xlink:href=\"#DejaVuSans-75\" x=\"1081.929688\"/>\n      <use xlink:href=\"#DejaVuSans-72\" x=\"1145.308594\"/>\n      <use xlink:href=\"#DejaVuSans-6e\" x=\"1184.671875\"/>\n      <use xlink:href=\"#DejaVuSans-73\" x=\"1248.050781\"/>\n     </g>\n    </g>\n   </g>\n  </g>\n </g>\n <defs>\n  <clipPath id=\"pccaefacde9\">\n   <rect x=\"45.213344\" y=\"7.2\" width=\"334.8\" height=\"195.84\"/>\n  </clipPath>\n </defs>\n</svg>\n",
      "text/plain": [
       "<Figure size 432x288 with 1 Axes>"
      ]
     },
     "metadata": {
      "needs_background": "light"
     },
     "output_type": "display_data"
    }
   ],
   "source": [
    "# Calculate and plot the cumulative returns for the `actual_returns` and the `trading_algorithm_returns`\n",
    "(1 + predictions_df[[\"actual_returns\", \"trading_algorithm_returns\"]]).cumprod().plot()"
   ]
  },
  {
   "cell_type": "markdown",
   "metadata": {},
   "source": [
    "---\n",
    "\n",
    "# Add a New Machine Learning Model"
   ]
  },
  {
   "cell_type": "markdown",
   "metadata": {},
   "source": [
    "## Step 2: Import the `LogisticRegression` model from scikit-learn.\n"
   ]
  },
  {
   "cell_type": "code",
   "execution_count": 26,
   "metadata": {},
   "outputs": [],
   "source": [
    "# Import LogisticRegression from sklearn\n",
    "from sklearn.linear_model import LogisticRegression"
   ]
  },
  {
   "cell_type": "code",
   "execution_count": 27,
   "metadata": {},
   "outputs": [],
   "source": [
    "# Create an instance of the LogisticRegression model\n",
    "logistic_regression_model = LogisticRegression()"
   ]
  },
  {
   "cell_type": "markdown",
   "metadata": {},
   "source": [
    "## Step 3: Using the same training data that the SVM model used (`X_train_scaled` and `y_train`), fit the `LogisticRegression` model."
   ]
  },
  {
   "cell_type": "code",
   "execution_count": 28,
   "metadata": {},
   "outputs": [
    {
     "data": {
      "text/plain": [
       "LogisticRegression()"
      ]
     },
     "execution_count": 28,
     "metadata": {},
     "output_type": "execute_result"
    }
   ],
   "source": [
    "# Fit the LogisticRegression model\n",
    "logistic_regression_model.fit(X_train_scaled, y_train)"
   ]
  },
  {
   "cell_type": "markdown",
   "metadata": {},
   "source": [
    "## Step 4: Use the trained model to predict the trading signals for the training data. Use the `classification_report` module to evaluate the model."
   ]
  },
  {
   "cell_type": "code",
   "execution_count": 29,
   "metadata": {},
   "outputs": [
    {
     "data": {
      "text/plain": [
       "array([-1., -1., -1., ...,  1.,  1.,  1.])"
      ]
     },
     "execution_count": 29,
     "metadata": {},
     "output_type": "execute_result"
    }
   ],
   "source": [
    "# Use the trained LogisticRegression model to predict the trading signals for the training data\n",
    "lr_training_signal_predictions = logistic_regression_model.predict(X_train_scaled)\n",
    "\n",
    "# Diplay the predictions\n",
    "lr_training_signal_predictions"
   ]
  },
  {
   "cell_type": "code",
   "execution_count": 37,
   "metadata": {},
   "outputs": [
    {
     "name": "stdout",
     "output_type": "stream",
     "text": [
      "              precision    recall  f1-score   support\n",
      "\n",
      "        -1.0       0.51      0.24      0.33       741\n",
      "         1.0       0.52      0.77      0.62       776\n",
      "\n",
      "    accuracy                           0.51      1517\n",
      "   macro avg       0.51      0.51      0.47      1517\n",
      "weighted avg       0.51      0.51      0.48      1517\n",
      "\n"
     ]
    }
   ],
   "source": [
    "# Generate a classification report using the training data and the logistic regression model's predications\n",
    "lr_training_report = classification_report(y_train, lr_training_signal_predictions)\n",
    "\n",
    "# Review the classification report\n",
    "print(lr_training_report)"
   ]
  },
  {
   "cell_type": "markdown",
   "metadata": {},
   "source": [
    "## Step 5: Backtest the `LogisticRegression` model using the testing data to evaluate its performance."
   ]
  },
  {
   "cell_type": "code",
   "execution_count": 31,
   "metadata": {},
   "outputs": [],
   "source": [
    "# Use the trained model to predict the trading signals for the testing data.\n",
    "lr_testing_signal_predictions = logistic_regression_model.predict(X_test_scaled)"
   ]
  },
  {
   "cell_type": "code",
   "execution_count": 36,
   "metadata": {},
   "outputs": [
    {
     "name": "stdout",
     "output_type": "stream",
     "text": [
      "              precision    recall  f1-score   support\n",
      "\n",
      "        -1.0       0.52      0.07      0.12      4894\n",
      "         1.0       0.54      0.94      0.68      5559\n",
      "\n",
      "    accuracy                           0.53     10453\n",
      "   macro avg       0.53      0.51      0.40     10453\n",
      "weighted avg       0.53      0.53      0.42     10453\n",
      "\n"
     ]
    }
   ],
   "source": [
    "# Generate a classification report using the testing data and the logistic regression model's predictions\n",
    "lr_testing_report = classification_report(y_test, lr_testing_signal_predictions)\n",
    "\n",
    "# Review the testing classification report\n",
    "print(lr_testing_report)"
   ]
  },
  {
   "cell_type": "markdown",
   "metadata": {},
   "source": [
    "## Step 6: Compare the performance of the logistic regression and SVM models using the classification reports generated with the testing data. "
   ]
  },
  {
   "cell_type": "code",
   "execution_count": 33,
   "metadata": {},
   "outputs": [
    {
     "name": "stdout",
     "output_type": "stream",
     "text": [
      "Logistic Regression Classification Report\n",
      "              precision    recall  f1-score   support\n",
      "\n",
      "        -1.0       0.52      0.07      0.12      4894\n",
      "         1.0       0.54      0.94      0.68      5559\n",
      "\n",
      "    accuracy                           0.53     10453\n",
      "   macro avg       0.53      0.51      0.40     10453\n",
      "weighted avg       0.53      0.53      0.42     10453\n",
      "\n"
     ]
    }
   ],
   "source": [
    "# Print the classification report for the Logistic Regression model using the test data\n",
    "print(\"Logistic Regression Classification Report\")\n",
    "print(lr_testing_report)"
   ]
  },
  {
   "cell_type": "code",
   "execution_count": 34,
   "metadata": {},
   "outputs": [
    {
     "name": "stdout",
     "output_type": "stream",
     "text": [
      "SVM Classification Report\n",
      "              precision    recall  f1-score   support\n",
      "\n",
      "        -1.0       0.47      0.37      0.42      4894\n",
      "         1.0       0.53      0.64      0.58      5559\n",
      "\n",
      "    accuracy                           0.51     10453\n",
      "   macro avg       0.50      0.50      0.50     10453\n",
      "weighted avg       0.51      0.51      0.50     10453\n",
      "\n"
     ]
    }
   ],
   "source": [
    "# Print the classification report for the SVM model using the test data\n",
    "print(\"SVM Classification Report\")\n",
    "print(svm_testing_report)"
   ]
  },
  {
   "cell_type": "code",
   "execution_count": 35,
   "metadata": {},
   "outputs": [],
   "source": [
    "### Answer the following question:"
   ]
  },
  {
   "cell_type": "markdown",
   "metadata": {},
   "source": [
    "**Question:** Did the `LogisticRegression` perform better than the `SVM`?\n",
    "\n",
    "**Answer:** Yes! The logistic regression model performs a bit better than the SVM model since it has a higher accuracy score."
   ]
  },
  {
   "cell_type": "code",
   "execution_count": null,
   "metadata": {},
   "outputs": [],
   "source": []
  }
 ],
 "metadata": {
  "kernelspec": {
   "display_name": "Python 3.7.13",
   "language": "python",
   "name": "python3"
  },
  "language_info": {
   "codemirror_mode": {
    "name": "ipython",
    "version": 3
   },
   "file_extension": ".py",
   "mimetype": "text/x-python",
   "name": "python",
   "nbconvert_exporter": "python",
   "pygments_lexer": "ipython3",
   "version": "3.7.13"
  },
  "vscode": {
   "interpreter": {
    "hash": "b2ec66fa3d085a6e66869b1a678e052484c09c72639639e5b92cf1e8e9fcc898"
   }
  }
 },
 "nbformat": 4,
 "nbformat_minor": 4
}
