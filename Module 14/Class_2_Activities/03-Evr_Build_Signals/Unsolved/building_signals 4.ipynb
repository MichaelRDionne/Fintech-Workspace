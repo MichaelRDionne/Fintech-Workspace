{
 "cells": [
  {
   "cell_type": "markdown",
   "metadata": {},
   "source": [
    "# Using Finta for Trading Signals - ML Version\n",
    "\n",
    "In this demo, we will be utilizing the [finta Python library](https://pypi.org/project/finta/) that will power a machine learning trading system. \n"
   ]
  },
  {
   "cell_type": "code",
   "execution_count": 25,
   "metadata": {},
   "outputs": [],
   "source": [
    "# Import\n",
    "import pandas as pd\n",
    "import numpy as np\n",
    "import hvplot.pandas\n",
    "from pathlib import Path\n",
    "\n",
    "# Setting these options will allow for reviewing more of the DataFrames\n",
    "pd.set_option('display.max_rows', 200)\n",
    "pd.set_option('display.max_columns', 200)\n",
    "pd.set_option('display.width', 100)"
   ]
  },
  {
   "cell_type": "markdown",
   "metadata": {},
   "source": [
    "## Import the finta Python library"
   ]
  },
  {
   "cell_type": "code",
   "execution_count": 26,
   "metadata": {},
   "outputs": [],
   "source": [
    "# Import the finta Python library and the TA module\n",
    "from finta import TA"
   ]
  },
  {
   "cell_type": "markdown",
   "metadata": {},
   "source": [
    "## Import the CSV file and create the Pandas DataFrame"
   ]
  },
  {
   "cell_type": "code",
   "execution_count": 27,
   "metadata": {},
   "outputs": [
    {
     "data": {
      "text/html": [
       "<div>\n",
       "<style scoped>\n",
       "    .dataframe tbody tr th:only-of-type {\n",
       "        vertical-align: middle;\n",
       "    }\n",
       "\n",
       "    .dataframe tbody tr th {\n",
       "        vertical-align: top;\n",
       "    }\n",
       "\n",
       "    .dataframe thead th {\n",
       "        text-align: right;\n",
       "    }\n",
       "</style>\n",
       "<table border=\"1\" class=\"dataframe\">\n",
       "  <thead>\n",
       "    <tr style=\"text-align: right;\">\n",
       "      <th></th>\n",
       "      <th>open</th>\n",
       "      <th>high</th>\n",
       "      <th>low</th>\n",
       "      <th>close</th>\n",
       "      <th>volume</th>\n",
       "    </tr>\n",
       "    <tr>\n",
       "      <th>date</th>\n",
       "      <th></th>\n",
       "      <th></th>\n",
       "      <th></th>\n",
       "      <th></th>\n",
       "      <th></th>\n",
       "    </tr>\n",
       "  </thead>\n",
       "  <tbody>\n",
       "    <tr>\n",
       "      <th>2017-02-17</th>\n",
       "      <td>39.00</td>\n",
       "      <td>39.1600</td>\n",
       "      <td>38.9800</td>\n",
       "      <td>39.150</td>\n",
       "      <td>8261747</td>\n",
       "    </tr>\n",
       "    <tr>\n",
       "      <th>2017-02-21</th>\n",
       "      <td>39.38</td>\n",
       "      <td>39.5200</td>\n",
       "      <td>39.3300</td>\n",
       "      <td>39.500</td>\n",
       "      <td>6545010</td>\n",
       "    </tr>\n",
       "    <tr>\n",
       "      <th>2017-02-22</th>\n",
       "      <td>39.48</td>\n",
       "      <td>39.6000</td>\n",
       "      <td>39.4400</td>\n",
       "      <td>39.585</td>\n",
       "      <td>6539916</td>\n",
       "    </tr>\n",
       "    <tr>\n",
       "      <th>2017-02-23</th>\n",
       "      <td>39.77</td>\n",
       "      <td>39.7800</td>\n",
       "      <td>39.5657</td>\n",
       "      <td>39.590</td>\n",
       "      <td>15038719</td>\n",
       "    </tr>\n",
       "    <tr>\n",
       "      <th>2017-02-24</th>\n",
       "      <td>39.19</td>\n",
       "      <td>39.2665</td>\n",
       "      <td>39.1300</td>\n",
       "      <td>39.180</td>\n",
       "      <td>10561233</td>\n",
       "    </tr>\n",
       "  </tbody>\n",
       "</table>\n",
       "</div>"
      ],
      "text/plain": [
       "             open     high      low   close    volume\n",
       "date                                                 \n",
       "2017-02-17  39.00  39.1600  38.9800  39.150   8261747\n",
       "2017-02-21  39.38  39.5200  39.3300  39.500   6545010\n",
       "2017-02-22  39.48  39.6000  39.4400  39.585   6539916\n",
       "2017-02-23  39.77  39.7800  39.5657  39.590  15038719\n",
       "2017-02-24  39.19  39.2665  39.1300  39.180  10561233"
      ]
     },
     "execution_count": 27,
     "metadata": {},
     "output_type": "execute_result"
    }
   ],
   "source": [
    "# Read CSV file from resources folder into a Pandas DataFrame\n",
    "# Set the date as the DateTimeIndex\n",
    "df = pd.read_csv(\n",
    "    Path(\"../Resources/vanguard_em_daily.csv\"),\n",
    "    index_col = \"date\", \n",
    "    parse_dates = True, \n",
    "    infer_datetime_format = True\n",
    ")\n",
    "\n",
    "# Review the DataFrame\n",
    "df.head()"
   ]
  },
  {
   "cell_type": "code",
   "execution_count": 28,
   "metadata": {},
   "outputs": [
    {
     "data": {},
     "metadata": {},
     "output_type": "display_data"
    },
    {
     "data": {
      "application/vnd.holoviews_exec.v0+json": "",
      "text/html": [
       "<div id='1414'>\n",
       "  <div class=\"bk-root\" id=\"c7fa8795-934c-4a86-b336-f6c6883b3706\" data-root-id=\"1414\"></div>\n",
       "</div>\n",
       "<script type=\"application/javascript\">(function(root) {\n",
       "  function embed_document(root) {\n",
       "    var docs_json = {\"6fb83f2c-2618-4163-af9b-638fe82403e6\":{\"defs\":[{\"extends\":null,\"module\":null,\"name\":\"ReactiveHTML1\",\"overrides\":[],\"properties\":[]},{\"extends\":null,\"module\":null,\"name\":\"FlexBox1\",\"overrides\":[],\"properties\":[{\"default\":\"flex-start\",\"kind\":null,\"name\":\"align_content\"},{\"default\":\"flex-start\",\"kind\":null,\"name\":\"align_items\"},{\"default\":\"row\",\"kind\":null,\"name\":\"flex_direction\"},{\"default\":\"wrap\",\"kind\":null,\"name\":\"flex_wrap\"},{\"default\":\"flex-start\",\"kind\":null,\"name\":\"justify_content\"}]},{\"extends\":null,\"module\":null,\"name\":\"GridStack1\",\"overrides\":[],\"properties\":[{\"default\":\"warn\",\"kind\":null,\"name\":\"mode\"},{\"default\":null,\"kind\":null,\"name\":\"ncols\"},{\"default\":null,\"kind\":null,\"name\":\"nrows\"},{\"default\":true,\"kind\":null,\"name\":\"allow_resize\"},{\"default\":true,\"kind\":null,\"name\":\"allow_drag\"},{\"default\":[],\"kind\":null,\"name\":\"state\"}]},{\"extends\":null,\"module\":null,\"name\":\"click1\",\"overrides\":[],\"properties\":[{\"default\":\"\",\"kind\":null,\"name\":\"terminal_output\"},{\"default\":\"\",\"kind\":null,\"name\":\"debug_name\"},{\"default\":0,\"kind\":null,\"name\":\"clears\"}]},{\"extends\":null,\"module\":null,\"name\":\"TemplateActions1\",\"overrides\":[],\"properties\":[{\"default\":0,\"kind\":null,\"name\":\"open_modal\"},{\"default\":0,\"kind\":null,\"name\":\"close_modal\"}]},{\"extends\":null,\"module\":null,\"name\":\"MaterialTemplateActions1\",\"overrides\":[],\"properties\":[{\"default\":0,\"kind\":null,\"name\":\"open_modal\"},{\"default\":0,\"kind\":null,\"name\":\"close_modal\"}]}],\"roots\":{\"references\":[{\"attributes\":{},\"id\":\"1426\",\"type\":\"LinearScale\"},{\"attributes\":{\"bottom_units\":\"screen\",\"coordinates\":null,\"fill_alpha\":0.5,\"fill_color\":\"lightgrey\",\"group\":null,\"left_units\":\"screen\",\"level\":\"overlay\",\"line_alpha\":1.0,\"line_color\":\"black\",\"line_dash\":[4,4],\"line_width\":2,\"right_units\":\"screen\",\"syncable\":false,\"top_units\":\"screen\"},\"id\":\"1441\",\"type\":\"BoxAnnotation\"},{\"attributes\":{},\"id\":\"1433\",\"type\":\"BasicTicker\"},{\"attributes\":{\"axis_label\":\"date\",\"coordinates\":null,\"formatter\":{\"id\":\"1459\"},\"group\":null,\"major_label_policy\":{\"id\":\"1460\"},\"ticker\":{\"id\":\"1429\"}},\"id\":\"1428\",\"type\":\"DatetimeAxis\"},{\"attributes\":{\"below\":[{\"id\":\"1428\"}],\"center\":[{\"id\":\"1431\"},{\"id\":\"1435\"}],\"height\":300,\"left\":[{\"id\":\"1432\"}],\"margin\":[5,5,5,5],\"min_border_bottom\":10,\"min_border_left\":10,\"min_border_right\":10,\"min_border_top\":10,\"renderers\":[{\"id\":\"1455\"}],\"sizing_mode\":\"fixed\",\"title\":{\"id\":\"1420\"},\"toolbar\":{\"id\":\"1442\"},\"width\":700,\"x_range\":{\"id\":\"1416\"},\"x_scale\":{\"id\":\"1424\"},\"y_range\":{\"id\":\"1417\"},\"y_scale\":{\"id\":\"1426\"}},\"id\":\"1419\",\"subtype\":\"Figure\",\"type\":\"Plot\"},{\"attributes\":{},\"id\":\"1463\",\"type\":\"AllLabels\"},{\"attributes\":{\"num_minor_ticks\":5,\"tickers\":[{\"id\":\"1474\"},{\"id\":\"1475\"},{\"id\":\"1476\"},{\"id\":\"1477\"},{\"id\":\"1478\"},{\"id\":\"1479\"},{\"id\":\"1480\"},{\"id\":\"1481\"},{\"id\":\"1482\"},{\"id\":\"1483\"},{\"id\":\"1484\"},{\"id\":\"1485\"}]},\"id\":\"1429\",\"type\":\"DatetimeTicker\"},{\"attributes\":{\"axis\":{\"id\":\"1428\"},\"coordinates\":null,\"grid_line_color\":null,\"group\":null,\"ticker\":null},\"id\":\"1431\",\"type\":\"Grid\"},{\"attributes\":{},\"id\":\"1424\",\"type\":\"LinearScale\"},{\"attributes\":{\"end\":1612742400000.0,\"reset_end\":1612742400000.0,\"reset_start\":1487289600000.0,\"start\":1487289600000.0,\"tags\":[[[\"date\",\"date\",null]]]},\"id\":\"1416\",\"type\":\"Range1d\"},{\"attributes\":{\"line_alpha\":0.1,\"line_color\":\"#30a2da\",\"line_width\":2,\"x\":{\"field\":\"date\"},\"y\":{\"field\":\"close\"}},\"id\":\"1453\",\"type\":\"Line\"},{\"attributes\":{\"end\":57.216,\"reset_end\":57.216,\"reset_start\":27.984,\"start\":27.984,\"tags\":[[[\"close\",\"close\",null]]]},\"id\":\"1417\",\"type\":\"Range1d\"},{\"attributes\":{\"mantissas\":[1,2,5],\"max_interval\":500.0,\"num_minor_ticks\":0},\"id\":\"1474\",\"type\":\"AdaptiveTicker\"},{\"attributes\":{\"axis\":{\"id\":\"1432\"},\"coordinates\":null,\"dimension\":1,\"grid_line_color\":null,\"group\":null,\"ticker\":null},\"id\":\"1435\",\"type\":\"Grid\"},{\"attributes\":{\"source\":{\"id\":\"1449\"}},\"id\":\"1456\",\"type\":\"CDSView\"},{\"attributes\":{\"days\":[1,2,3,4,5,6,7,8,9,10,11,12,13,14,15,16,17,18,19,20,21,22,23,24,25,26,27,28,29,30,31]},\"id\":\"1477\",\"type\":\"DaysTicker\"},{\"attributes\":{\"axis_label\":\"\",\"coordinates\":null,\"formatter\":{\"id\":\"1462\"},\"group\":null,\"major_label_policy\":{\"id\":\"1463\"},\"ticker\":{\"id\":\"1433\"}},\"id\":\"1432\",\"type\":\"LinearAxis\"},{\"attributes\":{\"base\":24,\"mantissas\":[1,2,4,6,8,12],\"max_interval\":43200000.0,\"min_interval\":3600000.0,\"num_minor_ticks\":0},\"id\":\"1476\",\"type\":\"AdaptiveTicker\"},{\"attributes\":{\"line_color\":\"#30a2da\",\"line_width\":2,\"x\":{\"field\":\"date\"},\"y\":{\"field\":\"close\"}},\"id\":\"1457\",\"type\":\"Line\"},{\"attributes\":{\"days\":[1,4,7,10,13,16,19,22,25,28]},\"id\":\"1478\",\"type\":\"DaysTicker\"},{\"attributes\":{\"margin\":[5,5,5,5],\"name\":\"HSpacer01984\",\"sizing_mode\":\"stretch_width\"},\"id\":\"1415\",\"type\":\"Spacer\"},{\"attributes\":{},\"id\":\"1450\",\"type\":\"Selection\"},{\"attributes\":{\"base\":60,\"mantissas\":[1,2,5,10,15,20,30],\"max_interval\":1800000.0,\"min_interval\":1000.0,\"num_minor_ticks\":0},\"id\":\"1475\",\"type\":\"AdaptiveTicker\"},{\"attributes\":{\"coordinates\":null,\"group\":null,\"text\":\"Vanguard Emerging Markets ETF\",\"text_color\":\"black\",\"text_font_size\":\"12pt\"},\"id\":\"1420\",\"type\":\"Title\"},{\"attributes\":{\"days\":[1,8,15,22]},\"id\":\"1479\",\"type\":\"DaysTicker\"},{\"attributes\":{\"coordinates\":null,\"data_source\":{\"id\":\"1449\"},\"glyph\":{\"id\":\"1452\"},\"group\":null,\"hover_glyph\":null,\"muted_glyph\":{\"id\":\"1454\"},\"nonselection_glyph\":{\"id\":\"1453\"},\"selection_glyph\":{\"id\":\"1457\"},\"view\":{\"id\":\"1456\"}},\"id\":\"1455\",\"type\":\"GlyphRenderer\"},{\"attributes\":{\"data\":{\"close\":{\"__ndarray__\":\"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\",\"dtype\":\"float64\",\"order\":\"little\",\"shape\":[1000]},\"date\":{\"__ndarray__\":\"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\",\"dtype\":\"float64\",\"order\":\"little\",\"shape\":[1000]}},\"selected\":{\"id\":\"1450\"},\"selection_policy\":{\"id\":\"1471\"}},\"id\":\"1449\",\"type\":\"ColumnDataSource\"},{\"attributes\":{\"line_color\":\"#30a2da\",\"line_width\":2,\"x\":{\"field\":\"date\"},\"y\":{\"field\":\"close\"}},\"id\":\"1452\",\"type\":\"Line\"},{\"attributes\":{},\"id\":\"1459\",\"type\":\"DatetimeTickFormatter\"},{\"attributes\":{\"days\":[1,15]},\"id\":\"1480\",\"type\":\"DaysTicker\"},{\"attributes\":{\"line_alpha\":0.2,\"line_color\":\"#30a2da\",\"line_width\":2,\"x\":{\"field\":\"date\"},\"y\":{\"field\":\"close\"}},\"id\":\"1454\",\"type\":\"Line\"},{\"attributes\":{},\"id\":\"1471\",\"type\":\"UnionRenderers\"},{\"attributes\":{\"months\":[0,1,2,3,4,5,6,7,8,9,10,11]},\"id\":\"1481\",\"type\":\"MonthsTicker\"},{\"attributes\":{},\"id\":\"1460\",\"type\":\"AllLabels\"},{\"attributes\":{},\"id\":\"1436\",\"type\":\"SaveTool\"},{\"attributes\":{\"months\":[0,2,4,6,8,10]},\"id\":\"1482\",\"type\":\"MonthsTicker\"},{\"attributes\":{\"margin\":[5,5,5,5],\"name\":\"HSpacer01985\",\"sizing_mode\":\"stretch_width\"},\"id\":\"1508\",\"type\":\"Spacer\"},{\"attributes\":{\"callback\":null,\"formatters\":{\"@{date}\":\"datetime\"},\"renderers\":[{\"id\":\"1455\"}],\"tags\":[\"hv_created\"],\"tooltips\":[[\"date\",\"@{date}{%F %T}\"],[\"close\",\"@{close}\"]]},\"id\":\"1418\",\"type\":\"HoverTool\"},{\"attributes\":{},\"id\":\"1437\",\"type\":\"PanTool\"},{\"attributes\":{\"months\":[0,4,8]},\"id\":\"1483\",\"type\":\"MonthsTicker\"},{\"attributes\":{},\"id\":\"1438\",\"type\":\"WheelZoomTool\"},{\"attributes\":{\"months\":[0,6]},\"id\":\"1484\",\"type\":\"MonthsTicker\"},{\"attributes\":{\"tools\":[{\"id\":\"1418\"},{\"id\":\"1436\"},{\"id\":\"1437\"},{\"id\":\"1438\"},{\"id\":\"1439\"},{\"id\":\"1440\"}]},\"id\":\"1442\",\"type\":\"Toolbar\"},{\"attributes\":{\"overlay\":{\"id\":\"1441\"}},\"id\":\"1439\",\"type\":\"BoxZoomTool\"},{\"attributes\":{},\"id\":\"1485\",\"type\":\"YearsTicker\"},{\"attributes\":{\"children\":[{\"id\":\"1415\"},{\"id\":\"1419\"},{\"id\":\"1508\"}],\"margin\":[0,0,0,0],\"name\":\"Row01980\",\"tags\":[\"embedded\"]},\"id\":\"1414\",\"type\":\"Row\"},{\"attributes\":{},\"id\":\"1462\",\"type\":\"BasicTickFormatter\"},{\"attributes\":{},\"id\":\"1440\",\"type\":\"ResetTool\"}],\"root_ids\":[\"1414\"]},\"title\":\"Bokeh Application\",\"version\":\"2.4.3\"}};\n",
       "    var render_items = [{\"docid\":\"6fb83f2c-2618-4163-af9b-638fe82403e6\",\"root_ids\":[\"1414\"],\"roots\":{\"1414\":\"c7fa8795-934c-4a86-b336-f6c6883b3706\"}}];\n",
       "    root.Bokeh.embed.embed_items_notebook(docs_json, render_items);\n",
       "  }\n",
       "  if (root.Bokeh !== undefined && root.Bokeh.Panel !== undefined) {\n",
       "    embed_document(root);\n",
       "  } else {\n",
       "    var attempts = 0;\n",
       "    var timer = setInterval(function(root) {\n",
       "      if (root.Bokeh !== undefined && root.Bokeh.Panel !== undefined) {\n",
       "        clearInterval(timer);\n",
       "        embed_document(root);\n",
       "      } else if (document.readyState == \"complete\") {\n",
       "        attempts++;\n",
       "        if (attempts > 200) {\n",
       "          clearInterval(timer);\n",
       "          console.log(\"Bokeh: ERROR: Unable to run BokehJS code because BokehJS library is missing\");\n",
       "        }\n",
       "      }\n",
       "    }, 25, root)\n",
       "  }\n",
       "})(window);</script>"
      ],
      "text/plain": [
       ":Curve   [date]   (close)"
      ]
     },
     "execution_count": 28,
     "metadata": {
      "application/vnd.holoviews_exec.v0+json": {
       "id": "1414"
      }
     },
     "output_type": "execute_result"
    }
   ],
   "source": [
    "# Plot the DataFrame with hvplot\n",
    "df[\"close\"].hvplot(title='Vanguard Emerging Markets ETF')"
   ]
  },
  {
   "cell_type": "markdown",
   "metadata": {},
   "source": [
    "---\n",
    "\n",
    "## Part 1: \n",
    "\n",
    "### Create technical indicators from the finta library to use as input into the model."
   ]
  },
  {
   "cell_type": "code",
   "execution_count": 29,
   "metadata": {},
   "outputs": [],
   "source": [
    "# Calculate the daily returns using the closing prices and assign it as a new column called 'actual_returns'\n",
    "df['actual_returns'] = df['close'].pct_change()\n"
   ]
  },
  {
   "cell_type": "code",
   "execution_count": 30,
   "metadata": {},
   "outputs": [
    {
     "data": {
      "text/html": [
       "<div>\n",
       "<style scoped>\n",
       "    .dataframe tbody tr th:only-of-type {\n",
       "        vertical-align: middle;\n",
       "    }\n",
       "\n",
       "    .dataframe tbody tr th {\n",
       "        vertical-align: top;\n",
       "    }\n",
       "\n",
       "    .dataframe thead th {\n",
       "        text-align: right;\n",
       "    }\n",
       "</style>\n",
       "<table border=\"1\" class=\"dataframe\">\n",
       "  <thead>\n",
       "    <tr style=\"text-align: right;\">\n",
       "      <th></th>\n",
       "      <th>open</th>\n",
       "      <th>high</th>\n",
       "      <th>low</th>\n",
       "      <th>close</th>\n",
       "      <th>volume</th>\n",
       "      <th>actual_returns</th>\n",
       "    </tr>\n",
       "    <tr>\n",
       "      <th>date</th>\n",
       "      <th></th>\n",
       "      <th></th>\n",
       "      <th></th>\n",
       "      <th></th>\n",
       "      <th></th>\n",
       "      <th></th>\n",
       "    </tr>\n",
       "  </thead>\n",
       "  <tbody>\n",
       "    <tr>\n",
       "      <th>2017-02-21</th>\n",
       "      <td>39.38</td>\n",
       "      <td>39.5200</td>\n",
       "      <td>39.3300</td>\n",
       "      <td>39.500</td>\n",
       "      <td>6545010</td>\n",
       "      <td>0.008940</td>\n",
       "    </tr>\n",
       "    <tr>\n",
       "      <th>2017-02-22</th>\n",
       "      <td>39.48</td>\n",
       "      <td>39.6000</td>\n",
       "      <td>39.4400</td>\n",
       "      <td>39.585</td>\n",
       "      <td>6539916</td>\n",
       "      <td>0.002152</td>\n",
       "    </tr>\n",
       "    <tr>\n",
       "      <th>2017-02-23</th>\n",
       "      <td>39.77</td>\n",
       "      <td>39.7800</td>\n",
       "      <td>39.5657</td>\n",
       "      <td>39.590</td>\n",
       "      <td>15038719</td>\n",
       "      <td>0.000126</td>\n",
       "    </tr>\n",
       "    <tr>\n",
       "      <th>2017-02-24</th>\n",
       "      <td>39.19</td>\n",
       "      <td>39.2665</td>\n",
       "      <td>39.1300</td>\n",
       "      <td>39.180</td>\n",
       "      <td>10561233</td>\n",
       "      <td>-0.010356</td>\n",
       "    </tr>\n",
       "    <tr>\n",
       "      <th>2017-02-27</th>\n",
       "      <td>39.10</td>\n",
       "      <td>39.1700</td>\n",
       "      <td>38.9800</td>\n",
       "      <td>39.040</td>\n",
       "      <td>8039410</td>\n",
       "      <td>-0.003573</td>\n",
       "    </tr>\n",
       "  </tbody>\n",
       "</table>\n",
       "</div>"
      ],
      "text/plain": [
       "             open     high      low   close    volume  actual_returns\n",
       "date                                                                 \n",
       "2017-02-21  39.38  39.5200  39.3300  39.500   6545010        0.008940\n",
       "2017-02-22  39.48  39.6000  39.4400  39.585   6539916        0.002152\n",
       "2017-02-23  39.77  39.7800  39.5657  39.590  15038719        0.000126\n",
       "2017-02-24  39.19  39.2665  39.1300  39.180  10561233       -0.010356\n",
       "2017-02-27  39.10  39.1700  38.9800  39.040   8039410       -0.003573"
      ]
     },
     "metadata": {},
     "output_type": "display_data"
    },
    {
     "data": {
      "text/html": [
       "<div>\n",
       "<style scoped>\n",
       "    .dataframe tbody tr th:only-of-type {\n",
       "        vertical-align: middle;\n",
       "    }\n",
       "\n",
       "    .dataframe tbody tr th {\n",
       "        vertical-align: top;\n",
       "    }\n",
       "\n",
       "    .dataframe thead th {\n",
       "        text-align: right;\n",
       "    }\n",
       "</style>\n",
       "<table border=\"1\" class=\"dataframe\">\n",
       "  <thead>\n",
       "    <tr style=\"text-align: right;\">\n",
       "      <th></th>\n",
       "      <th>open</th>\n",
       "      <th>high</th>\n",
       "      <th>low</th>\n",
       "      <th>close</th>\n",
       "      <th>volume</th>\n",
       "      <th>actual_returns</th>\n",
       "    </tr>\n",
       "    <tr>\n",
       "      <th>date</th>\n",
       "      <th></th>\n",
       "      <th></th>\n",
       "      <th></th>\n",
       "      <th></th>\n",
       "      <th></th>\n",
       "      <th></th>\n",
       "    </tr>\n",
       "  </thead>\n",
       "  <tbody>\n",
       "    <tr>\n",
       "      <th>2021-02-02</th>\n",
       "      <td>53.85</td>\n",
       "      <td>53.860</td>\n",
       "      <td>53.57</td>\n",
       "      <td>53.80</td>\n",
       "      <td>8247570</td>\n",
       "      <td>0.015286</td>\n",
       "    </tr>\n",
       "    <tr>\n",
       "      <th>2021-02-03</th>\n",
       "      <td>54.09</td>\n",
       "      <td>54.185</td>\n",
       "      <td>53.81</td>\n",
       "      <td>54.00</td>\n",
       "      <td>7690728</td>\n",
       "      <td>0.003717</td>\n",
       "    </tr>\n",
       "    <tr>\n",
       "      <th>2021-02-04</th>\n",
       "      <td>54.06</td>\n",
       "      <td>54.110</td>\n",
       "      <td>53.74</td>\n",
       "      <td>54.11</td>\n",
       "      <td>6696371</td>\n",
       "      <td>0.002037</td>\n",
       "    </tr>\n",
       "    <tr>\n",
       "      <th>2021-02-05</th>\n",
       "      <td>54.31</td>\n",
       "      <td>54.520</td>\n",
       "      <td>54.09</td>\n",
       "      <td>54.50</td>\n",
       "      <td>6306178</td>\n",
       "      <td>0.007208</td>\n",
       "    </tr>\n",
       "    <tr>\n",
       "      <th>2021-02-08</th>\n",
       "      <td>54.57</td>\n",
       "      <td>54.860</td>\n",
       "      <td>54.50</td>\n",
       "      <td>54.78</td>\n",
       "      <td>6858819</td>\n",
       "      <td>0.005138</td>\n",
       "    </tr>\n",
       "  </tbody>\n",
       "</table>\n",
       "</div>"
      ],
      "text/plain": [
       "             open    high    low  close   volume  actual_returns\n",
       "date                                                            \n",
       "2021-02-02  53.85  53.860  53.57  53.80  8247570        0.015286\n",
       "2021-02-03  54.09  54.185  53.81  54.00  7690728        0.003717\n",
       "2021-02-04  54.06  54.110  53.74  54.11  6696371        0.002037\n",
       "2021-02-05  54.31  54.520  54.09  54.50  6306178        0.007208\n",
       "2021-02-08  54.57  54.860  54.50  54.78  6858819        0.005138"
      ]
     },
     "metadata": {},
     "output_type": "display_data"
    }
   ],
   "source": [
    "# Drop the NaNs using dropna and display the DataFrame\n",
    "df.dropna(inplace=True)\n",
    "\n",
    "display(df.head())\n",
    "display(df.tail())\n"
   ]
  },
  {
   "cell_type": "code",
   "execution_count": 31,
   "metadata": {},
   "outputs": [],
   "source": [
    "# Create a simple moving average (SMA) using a window size of 4. \n",
    "# Assign it to a new column called 'sma_4'\n",
    "short_window = 4\n",
    "df['sma_fast'] = TA.SMA(df,4)\n",
    "\n"
   ]
  },
  {
   "cell_type": "code",
   "execution_count": 32,
   "metadata": {},
   "outputs": [],
   "source": [
    "# Create a simple moving average (SMA) using a window size of 100. \n",
    "# Assign it to a new column called 'sma_100'\n",
    "long_window = 100\n",
    "df['sma_slow'] = TA.SMA(df,100)\n",
    "\n"
   ]
  },
  {
   "cell_type": "code",
   "execution_count": 34,
   "metadata": {},
   "outputs": [
    {
     "ename": "KeyError",
     "evalue": "1",
     "output_type": "error",
     "traceback": [
      "\u001b[0;31m---------------------------------------------------------------------------\u001b[0m",
      "\u001b[0;31mKeyError\u001b[0m                                  Traceback (most recent call last)",
      "\u001b[0;32m~/opt/anaconda3/envs/dev/lib/python3.7/site-packages/pandas/core/indexes/base.py\u001b[0m in \u001b[0;36mget_loc\u001b[0;34m(self, key, method, tolerance)\u001b[0m\n\u001b[1;32m   3360\u001b[0m             \u001b[0;32mtry\u001b[0m\u001b[0;34m:\u001b[0m\u001b[0;34m\u001b[0m\u001b[0;34m\u001b[0m\u001b[0m\n\u001b[0;32m-> 3361\u001b[0;31m                 \u001b[0;32mreturn\u001b[0m \u001b[0mself\u001b[0m\u001b[0;34m.\u001b[0m\u001b[0m_engine\u001b[0m\u001b[0;34m.\u001b[0m\u001b[0mget_loc\u001b[0m\u001b[0;34m(\u001b[0m\u001b[0mcasted_key\u001b[0m\u001b[0;34m)\u001b[0m\u001b[0;34m\u001b[0m\u001b[0;34m\u001b[0m\u001b[0m\n\u001b[0m\u001b[1;32m   3362\u001b[0m             \u001b[0;32mexcept\u001b[0m \u001b[0mKeyError\u001b[0m \u001b[0;32mas\u001b[0m \u001b[0merr\u001b[0m\u001b[0;34m:\u001b[0m\u001b[0;34m\u001b[0m\u001b[0;34m\u001b[0m\u001b[0m\n",
      "\u001b[0;32m~/opt/anaconda3/envs/dev/lib/python3.7/site-packages/pandas/_libs/index.pyx\u001b[0m in \u001b[0;36mpandas._libs.index.IndexEngine.get_loc\u001b[0;34m()\u001b[0m\n",
      "\u001b[0;32m~/opt/anaconda3/envs/dev/lib/python3.7/site-packages/pandas/_libs/index.pyx\u001b[0m in \u001b[0;36mpandas._libs.index.IndexEngine.get_loc\u001b[0;34m()\u001b[0m\n",
      "\u001b[0;32mpandas/_libs/hashtable_class_helper.pxi\u001b[0m in \u001b[0;36mpandas._libs.hashtable.PyObjectHashTable.get_item\u001b[0;34m()\u001b[0m\n",
      "\u001b[0;32mpandas/_libs/hashtable_class_helper.pxi\u001b[0m in \u001b[0;36mpandas._libs.hashtable.PyObjectHashTable.get_item\u001b[0;34m()\u001b[0m\n",
      "\u001b[0;31mKeyError\u001b[0m: 1",
      "\nThe above exception was the direct cause of the following exception:\n",
      "\u001b[0;31mKeyError\u001b[0m                                  Traceback (most recent call last)",
      "\u001b[0;32m/var/folders/rx/gc6cx7xx6vg9ddbljytmzcz00000gn/T/ipykernel_8116/674558950.py\u001b[0m in \u001b[0;36m<module>\u001b[0;34m\u001b[0m\n\u001b[1;32m      2\u001b[0m \u001b[0;31m# Create a Bollinger Band for the closing prices using a window size of 20\u001b[0m\u001b[0;34m\u001b[0m\u001b[0;34m\u001b[0m\u001b[0;34m\u001b[0m\u001b[0m\n\u001b[1;32m      3\u001b[0m \u001b[0;31m# Assign the upper and lower bands to columns called 'bbu' and 'bbl'\u001b[0m\u001b[0;34m\u001b[0m\u001b[0;34m\u001b[0m\u001b[0;34m\u001b[0m\u001b[0m\n\u001b[0;32m----> 4\u001b[0;31m \u001b[0mdf\u001b[0m\u001b[0;34m[\u001b[0m\u001b[0;34m'bbu'\u001b[0m\u001b[0;34m]\u001b[0m \u001b[0;34m=\u001b[0m \u001b[0mTA\u001b[0m\u001b[0;34m.\u001b[0m\u001b[0mBBANDS\u001b[0m\u001b[0;34m(\u001b[0m\u001b[0mdf\u001b[0m\u001b[0;34m,\u001b[0m\u001b[0;36m20\u001b[0m\u001b[0;34m)\u001b[0m\u001b[0;34m[\u001b[0m\u001b[0;36m1\u001b[0m\u001b[0;34m]\u001b[0m\u001b[0;34m\u001b[0m\u001b[0;34m\u001b[0m\u001b[0m\n\u001b[0m\u001b[1;32m      5\u001b[0m \u001b[0mdf\u001b[0m\u001b[0;34m[\u001b[0m\u001b[0;34m'bbl'\u001b[0m\u001b[0;34m]\u001b[0m \u001b[0;34m=\u001b[0m \u001b[0mTA\u001b[0m\u001b[0;34m.\u001b[0m\u001b[0mBBANDS\u001b[0m\u001b[0;34m(\u001b[0m\u001b[0mdf\u001b[0m\u001b[0;34m,\u001b[0m\u001b[0;36m20\u001b[0m\u001b[0;34m)\u001b[0m\u001b[0;34m[\u001b[0m\u001b[0;36m2\u001b[0m\u001b[0;34m]\u001b[0m\u001b[0;34m\u001b[0m\u001b[0;34m\u001b[0m\u001b[0m\n\u001b[1;32m      6\u001b[0m \u001b[0;34m\u001b[0m\u001b[0m\n",
      "\u001b[0;32m~/opt/anaconda3/envs/dev/lib/python3.7/site-packages/pandas/core/frame.py\u001b[0m in \u001b[0;36m__getitem__\u001b[0;34m(self, key)\u001b[0m\n\u001b[1;32m   3456\u001b[0m             \u001b[0;32mif\u001b[0m \u001b[0mself\u001b[0m\u001b[0;34m.\u001b[0m\u001b[0mcolumns\u001b[0m\u001b[0;34m.\u001b[0m\u001b[0mnlevels\u001b[0m \u001b[0;34m>\u001b[0m \u001b[0;36m1\u001b[0m\u001b[0;34m:\u001b[0m\u001b[0;34m\u001b[0m\u001b[0;34m\u001b[0m\u001b[0m\n\u001b[1;32m   3457\u001b[0m                 \u001b[0;32mreturn\u001b[0m \u001b[0mself\u001b[0m\u001b[0;34m.\u001b[0m\u001b[0m_getitem_multilevel\u001b[0m\u001b[0;34m(\u001b[0m\u001b[0mkey\u001b[0m\u001b[0;34m)\u001b[0m\u001b[0;34m\u001b[0m\u001b[0;34m\u001b[0m\u001b[0m\n\u001b[0;32m-> 3458\u001b[0;31m             \u001b[0mindexer\u001b[0m \u001b[0;34m=\u001b[0m \u001b[0mself\u001b[0m\u001b[0;34m.\u001b[0m\u001b[0mcolumns\u001b[0m\u001b[0;34m.\u001b[0m\u001b[0mget_loc\u001b[0m\u001b[0;34m(\u001b[0m\u001b[0mkey\u001b[0m\u001b[0;34m)\u001b[0m\u001b[0;34m\u001b[0m\u001b[0;34m\u001b[0m\u001b[0m\n\u001b[0m\u001b[1;32m   3459\u001b[0m             \u001b[0;32mif\u001b[0m \u001b[0mis_integer\u001b[0m\u001b[0;34m(\u001b[0m\u001b[0mindexer\u001b[0m\u001b[0;34m)\u001b[0m\u001b[0;34m:\u001b[0m\u001b[0;34m\u001b[0m\u001b[0;34m\u001b[0m\u001b[0m\n\u001b[1;32m   3460\u001b[0m                 \u001b[0mindexer\u001b[0m \u001b[0;34m=\u001b[0m \u001b[0;34m[\u001b[0m\u001b[0mindexer\u001b[0m\u001b[0;34m]\u001b[0m\u001b[0;34m\u001b[0m\u001b[0;34m\u001b[0m\u001b[0m\n",
      "\u001b[0;32m~/opt/anaconda3/envs/dev/lib/python3.7/site-packages/pandas/core/indexes/base.py\u001b[0m in \u001b[0;36mget_loc\u001b[0;34m(self, key, method, tolerance)\u001b[0m\n\u001b[1;32m   3361\u001b[0m                 \u001b[0;32mreturn\u001b[0m \u001b[0mself\u001b[0m\u001b[0;34m.\u001b[0m\u001b[0m_engine\u001b[0m\u001b[0;34m.\u001b[0m\u001b[0mget_loc\u001b[0m\u001b[0;34m(\u001b[0m\u001b[0mcasted_key\u001b[0m\u001b[0;34m)\u001b[0m\u001b[0;34m\u001b[0m\u001b[0;34m\u001b[0m\u001b[0m\n\u001b[1;32m   3362\u001b[0m             \u001b[0;32mexcept\u001b[0m \u001b[0mKeyError\u001b[0m \u001b[0;32mas\u001b[0m \u001b[0merr\u001b[0m\u001b[0;34m:\u001b[0m\u001b[0;34m\u001b[0m\u001b[0;34m\u001b[0m\u001b[0m\n\u001b[0;32m-> 3363\u001b[0;31m                 \u001b[0;32mraise\u001b[0m \u001b[0mKeyError\u001b[0m\u001b[0;34m(\u001b[0m\u001b[0mkey\u001b[0m\u001b[0;34m)\u001b[0m \u001b[0;32mfrom\u001b[0m \u001b[0merr\u001b[0m\u001b[0;34m\u001b[0m\u001b[0;34m\u001b[0m\u001b[0m\n\u001b[0m\u001b[1;32m   3364\u001b[0m \u001b[0;34m\u001b[0m\u001b[0m\n\u001b[1;32m   3365\u001b[0m         \u001b[0;32mif\u001b[0m \u001b[0mis_scalar\u001b[0m\u001b[0;34m(\u001b[0m\u001b[0mkey\u001b[0m\u001b[0;34m)\u001b[0m \u001b[0;32mand\u001b[0m \u001b[0misna\u001b[0m\u001b[0;34m(\u001b[0m\u001b[0mkey\u001b[0m\u001b[0;34m)\u001b[0m \u001b[0;32mand\u001b[0m \u001b[0;32mnot\u001b[0m \u001b[0mself\u001b[0m\u001b[0;34m.\u001b[0m\u001b[0mhasnans\u001b[0m\u001b[0;34m:\u001b[0m\u001b[0;34m\u001b[0m\u001b[0;34m\u001b[0m\u001b[0m\n",
      "\u001b[0;31mKeyError\u001b[0m: 1"
     ]
    }
   ],
   "source": [
    "# Create additional technical indicators\n",
    "# Create a Bollinger Band for the closing prices using a window size of 20\n",
    "# Assign the upper and lower bands to columns called 'bbu' and 'bbl'\n",
    "df['bbu'] = TA.BBANDS(df,20)[1]\n",
    "df['bbl'] = TA.BBANDS(df,20)[2]\n",
    " \n",
    "     \n",
    "\n",
    "\n"
   ]
  },
  {
   "cell_type": "code",
   "execution_count": 10,
   "metadata": {},
   "outputs": [],
   "source": [
    "# Drop the NaNs using dropna()\n",
    "df.dropna\n",
    "df\n"
   ]
  },
  {
   "cell_type": "code",
   "execution_count": 35,
   "metadata": {},
   "outputs": [
    {
     "ename": "KeyError",
     "evalue": "\"['ssma', 'ema', 'dema', 'tema'] not in index\"",
     "output_type": "error",
     "traceback": [
      "\u001b[0;31m---------------------------------------------------------------------------\u001b[0m",
      "\u001b[0;31mKeyError\u001b[0m                                  Traceback (most recent call last)",
      "\u001b[0;32m/var/folders/rx/gc6cx7xx6vg9ddbljytmzcz00000gn/T/ipykernel_8116/3909946056.py\u001b[0m in \u001b[0;36m<module>\u001b[0;34m\u001b[0m\n\u001b[1;32m      1\u001b[0m \u001b[0;31m# Assign a copy of the technical variable columns to a new DataFrame called `X` and lag it.\u001b[0m\u001b[0;34m\u001b[0m\u001b[0;34m\u001b[0m\u001b[0;34m\u001b[0m\u001b[0m\n\u001b[0;32m----> 2\u001b[0;31m \u001b[0mX\u001b[0m \u001b[0;34m=\u001b[0m \u001b[0mdf\u001b[0m\u001b[0;34m[\u001b[0m\u001b[0;34m[\u001b[0m\u001b[0;34m'sma_fast'\u001b[0m\u001b[0;34m,\u001b[0m\u001b[0;34m'sma_slow'\u001b[0m\u001b[0;34m,\u001b[0m \u001b[0;34m'ssma'\u001b[0m\u001b[0;34m,\u001b[0m \u001b[0;34m'ema'\u001b[0m\u001b[0;34m,\u001b[0m \u001b[0;34m'dema'\u001b[0m\u001b[0;34m,\u001b[0m \u001b[0;34m'tema'\u001b[0m\u001b[0;34m]\u001b[0m\u001b[0;34m]\u001b[0m\u001b[0;34m.\u001b[0m\u001b[0mshift\u001b[0m\u001b[0;34m(\u001b[0m\u001b[0;36m1\u001b[0m\u001b[0;34m)\u001b[0m\u001b[0;34m\u001b[0m\u001b[0;34m\u001b[0m\u001b[0m\n\u001b[0m",
      "\u001b[0;32m~/opt/anaconda3/envs/dev/lib/python3.7/site-packages/pandas/core/frame.py\u001b[0m in \u001b[0;36m__getitem__\u001b[0;34m(self, key)\u001b[0m\n\u001b[1;32m   3462\u001b[0m             \u001b[0;32mif\u001b[0m \u001b[0mis_iterator\u001b[0m\u001b[0;34m(\u001b[0m\u001b[0mkey\u001b[0m\u001b[0;34m)\u001b[0m\u001b[0;34m:\u001b[0m\u001b[0;34m\u001b[0m\u001b[0;34m\u001b[0m\u001b[0m\n\u001b[1;32m   3463\u001b[0m                 \u001b[0mkey\u001b[0m \u001b[0;34m=\u001b[0m \u001b[0mlist\u001b[0m\u001b[0;34m(\u001b[0m\u001b[0mkey\u001b[0m\u001b[0;34m)\u001b[0m\u001b[0;34m\u001b[0m\u001b[0;34m\u001b[0m\u001b[0m\n\u001b[0;32m-> 3464\u001b[0;31m             \u001b[0mindexer\u001b[0m \u001b[0;34m=\u001b[0m \u001b[0mself\u001b[0m\u001b[0;34m.\u001b[0m\u001b[0mloc\u001b[0m\u001b[0;34m.\u001b[0m\u001b[0m_get_listlike_indexer\u001b[0m\u001b[0;34m(\u001b[0m\u001b[0mkey\u001b[0m\u001b[0;34m,\u001b[0m \u001b[0maxis\u001b[0m\u001b[0;34m=\u001b[0m\u001b[0;36m1\u001b[0m\u001b[0;34m)\u001b[0m\u001b[0;34m[\u001b[0m\u001b[0;36m1\u001b[0m\u001b[0;34m]\u001b[0m\u001b[0;34m\u001b[0m\u001b[0;34m\u001b[0m\u001b[0m\n\u001b[0m\u001b[1;32m   3465\u001b[0m \u001b[0;34m\u001b[0m\u001b[0m\n\u001b[1;32m   3466\u001b[0m         \u001b[0;31m# take() does not accept boolean indexers\u001b[0m\u001b[0;34m\u001b[0m\u001b[0;34m\u001b[0m\u001b[0;34m\u001b[0m\u001b[0m\n",
      "\u001b[0;32m~/opt/anaconda3/envs/dev/lib/python3.7/site-packages/pandas/core/indexing.py\u001b[0m in \u001b[0;36m_get_listlike_indexer\u001b[0;34m(self, key, axis)\u001b[0m\n\u001b[1;32m   1312\u001b[0m             \u001b[0mkeyarr\u001b[0m\u001b[0;34m,\u001b[0m \u001b[0mindexer\u001b[0m\u001b[0;34m,\u001b[0m \u001b[0mnew_indexer\u001b[0m \u001b[0;34m=\u001b[0m \u001b[0max\u001b[0m\u001b[0;34m.\u001b[0m\u001b[0m_reindex_non_unique\u001b[0m\u001b[0;34m(\u001b[0m\u001b[0mkeyarr\u001b[0m\u001b[0;34m)\u001b[0m\u001b[0;34m\u001b[0m\u001b[0;34m\u001b[0m\u001b[0m\n\u001b[1;32m   1313\u001b[0m \u001b[0;34m\u001b[0m\u001b[0m\n\u001b[0;32m-> 1314\u001b[0;31m         \u001b[0mself\u001b[0m\u001b[0;34m.\u001b[0m\u001b[0m_validate_read_indexer\u001b[0m\u001b[0;34m(\u001b[0m\u001b[0mkeyarr\u001b[0m\u001b[0;34m,\u001b[0m \u001b[0mindexer\u001b[0m\u001b[0;34m,\u001b[0m \u001b[0maxis\u001b[0m\u001b[0;34m)\u001b[0m\u001b[0;34m\u001b[0m\u001b[0;34m\u001b[0m\u001b[0m\n\u001b[0m\u001b[1;32m   1315\u001b[0m \u001b[0;34m\u001b[0m\u001b[0m\n\u001b[1;32m   1316\u001b[0m         if needs_i8_conversion(ax.dtype) or isinstance(\n",
      "\u001b[0;32m~/opt/anaconda3/envs/dev/lib/python3.7/site-packages/pandas/core/indexing.py\u001b[0m in \u001b[0;36m_validate_read_indexer\u001b[0;34m(self, key, indexer, axis)\u001b[0m\n\u001b[1;32m   1375\u001b[0m \u001b[0;34m\u001b[0m\u001b[0m\n\u001b[1;32m   1376\u001b[0m             \u001b[0mnot_found\u001b[0m \u001b[0;34m=\u001b[0m \u001b[0mlist\u001b[0m\u001b[0;34m(\u001b[0m\u001b[0mensure_index\u001b[0m\u001b[0;34m(\u001b[0m\u001b[0mkey\u001b[0m\u001b[0;34m)\u001b[0m\u001b[0;34m[\u001b[0m\u001b[0mmissing_mask\u001b[0m\u001b[0;34m.\u001b[0m\u001b[0mnonzero\u001b[0m\u001b[0;34m(\u001b[0m\u001b[0;34m)\u001b[0m\u001b[0;34m[\u001b[0m\u001b[0;36m0\u001b[0m\u001b[0;34m]\u001b[0m\u001b[0;34m]\u001b[0m\u001b[0;34m.\u001b[0m\u001b[0munique\u001b[0m\u001b[0;34m(\u001b[0m\u001b[0;34m)\u001b[0m\u001b[0;34m)\u001b[0m\u001b[0;34m\u001b[0m\u001b[0;34m\u001b[0m\u001b[0m\n\u001b[0;32m-> 1377\u001b[0;31m             \u001b[0;32mraise\u001b[0m \u001b[0mKeyError\u001b[0m\u001b[0;34m(\u001b[0m\u001b[0;34mf\"{not_found} not in index\"\u001b[0m\u001b[0;34m)\u001b[0m\u001b[0;34m\u001b[0m\u001b[0;34m\u001b[0m\u001b[0m\n\u001b[0m\u001b[1;32m   1378\u001b[0m \u001b[0;34m\u001b[0m\u001b[0m\n\u001b[1;32m   1379\u001b[0m \u001b[0;34m\u001b[0m\u001b[0m\n",
      "\u001b[0;31mKeyError\u001b[0m: \"['ssma', 'ema', 'dema', 'tema'] not in index\""
     ]
    }
   ],
   "source": [
    "# Assign a copy of the technical variable columns to a new DataFrame called `X` and lag it.\n",
    "X = df[['sma_fast','sma_slow', 'ssma', 'ema', 'dema', 'tema']].shift(1)"
   ]
  },
  {
   "cell_type": "markdown",
   "metadata": {},
   "source": [
    "### Generate the target trading signal, y"
   ]
  },
  {
   "cell_type": "code",
   "execution_count": 12,
   "metadata": {},
   "outputs": [],
   "source": [
    "# Initialize the new `Signal` column\n"
   ]
  },
  {
   "cell_type": "code",
   "execution_count": 13,
   "metadata": {},
   "outputs": [],
   "source": [
    "# Generate signal to buy stock long\n"
   ]
  },
  {
   "cell_type": "code",
   "execution_count": 14,
   "metadata": {},
   "outputs": [],
   "source": [
    "# Generate signal to sell stock short\n"
   ]
  },
  {
   "cell_type": "code",
   "execution_count": 16,
   "metadata": {},
   "outputs": [],
   "source": [
    "# Copy the new \"signal\" column to a new Series called `y`.\n"
   ]
  }
 ],
 "metadata": {
  "kernelspec": {
   "display_name": "Python 3.7.13",
   "language": "python",
   "name": "python3"
  },
  "language_info": {
   "codemirror_mode": {
    "name": "ipython",
    "version": 3
   },
   "file_extension": ".py",
   "mimetype": "text/x-python",
   "name": "python",
   "nbconvert_exporter": "python",
   "pygments_lexer": "ipython3",
   "version": "3.7.13"
  },
  "vscode": {
   "interpreter": {
    "hash": "b2ec66fa3d085a6e66869b1a678e052484c09c72639639e5b92cf1e8e9fcc898"
   }
  }
 },
 "nbformat": 4,
 "nbformat_minor": 4
}
