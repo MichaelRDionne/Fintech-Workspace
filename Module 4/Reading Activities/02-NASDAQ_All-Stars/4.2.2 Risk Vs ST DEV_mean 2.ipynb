{
 "cells": [
  {
   "cell_type": "code",
   "execution_count": 1,
   "metadata": {},
   "outputs": [
    {
     "data": {
      "text/plain": [
       "11.911428571428571"
      ]
     },
     "execution_count": 1,
     "metadata": {},
     "output_type": "execute_result"
    }
   ],
   "source": [
    "\n",
    "import pandas as pd\n",
    "from pathlib import Path\n",
    "%matplotlib inline\n",
    "\n",
    "# Calculating the mean using ‘sum’ and ‘count’\n",
    "stock_abc = pd.DataFrame({'close': [11.25, 11.98, 10.74, 11.16, 12.35, 12.87, 13.03]})\n",
    "stock_abc_mean_1 = stock_abc['close'].sum() / stock_abc['close'].count()\n",
    "stock_abc_mean_1\n",
    "\n"
   ]
  },
  {
   "cell_type": "code",
   "execution_count": 3,
   "metadata": {},
   "outputs": [
    {
     "data": {
      "text/plain": [
       "11.911428571428571"
      ]
     },
     "execution_count": 3,
     "metadata": {},
     "output_type": "execute_result"
    }
   ],
   "source": [
    "# Calculating the mean using 'mean'\n",
    "stock_abc_mean_2 = stock_abc['close'].mean()\n",
    "stock_abc_mean_2\n"
   ]
  },
  {
   "cell_type": "code",
   "execution_count": null,
   "metadata": {},
   "outputs": [],
   "source": []
  }
 ],
 "metadata": {
  "interpreter": {
   "hash": "b2ec66fa3d085a6e66869b1a678e052484c09c72639639e5b92cf1e8e9fcc898"
  },
  "kernelspec": {
   "display_name": "Python 3.9.12 ('dev')",
   "language": "python",
   "name": "python3"
  },
  "language_info": {
   "codemirror_mode": {
    "name": "ipython",
    "version": 3
   },
   "file_extension": ".py",
   "mimetype": "text/x-python",
   "name": "python",
   "nbconvert_exporter": "python",
   "pygments_lexer": "ipython3",
   "version": "3.9.12"
  },
  "orig_nbformat": 4
 },
 "nbformat": 4,
 "nbformat_minor": 2
}
