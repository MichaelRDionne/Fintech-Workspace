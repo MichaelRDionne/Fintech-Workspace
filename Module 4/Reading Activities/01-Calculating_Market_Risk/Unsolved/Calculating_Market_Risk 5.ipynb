{
 "cells": [
  {
   "cell_type": "markdown",
   "metadata": {},
   "source": [
    "# Calculating Market Risk\n",
    "\n",
    "In this activity, you’ll calculate the beta for three stocks to identify the most conservative investment. \n",
    "\n",
    "Instructions:\n",
    "\n",
    "1. Import the required libraries and dependencies.\n",
    "\n",
    "2. Use the `read_csv` function and the `Path` module to import `tech_data.csv` into a Pandas DataFrame.\n",
    "\n",
    "3. Use the Pandas `pct_change` function together with the `dropna` function to calculate the daily returns for each stock in the DataFrame.\n",
    "\n",
    "4. Use the Pandas `var` function to calculate the variance for all the stocks in the DataFrame.\n",
    "\n",
    "5. Use the Pandas `var` function to calculate the variance for just the S&P 500. (You’ll use this in the beta calculation.)\n",
    "\n",
    "6. Use the Pandas `cov` function to calculate the covariance between each social media stock (FB, TWTR, and SNAP) and the market (S&P 500).\n",
    "\n",
    "7. Calculate the beta value for each of the three social media stocks by dividing the covariance of the stock by the variance of the market.\n",
    "\n",
    "8. Answer the following question: Based on your calculations of the betas, which of the three social media stocks presents the most conservative investment?\n",
    "\n",
    "References:\n",
    "\n",
    "[Pandas var function](https://pandas.pydata.org/pandas-docs/stable/reference/api/pandas.DataFrame.var.html)\n",
    "\n",
    "[Pandas cov function](https://pandas.pydata.org/pandas-docs/stable/reference/api/pandas.DataFrame.var.html)\n",
    "\n",
    "\n"
   ]
  },
  {
   "cell_type": "markdown",
   "metadata": {},
   "source": [
    "## Step 1: Import the required libraries and dependencies."
   ]
  },
  {
   "cell_type": "code",
   "execution_count": 1,
   "metadata": {},
   "outputs": [],
   "source": [
    "# Import the Pandas library\n",
    "import pandas as pd\n",
    "\n",
    "# Import the NumPy library\n",
    "import numpy as np\n",
    "\n",
    "# Import the Path module from the Pathlib library\n",
    "from pathlib import Path\n",
    "\n",
    "# Import the %matplotlib inline dependency\n",
    "%matplotlib inline\n"
   ]
  },
  {
   "cell_type": "markdown",
   "metadata": {},
   "source": [
    "## Step 2: Use the `read_csv` function and the `Path` module to import `tech_data.csv` into a Pandas DataFrame."
   ]
  },
  {
   "cell_type": "code",
   "execution_count": 5,
   "metadata": {},
   "outputs": [
    {
     "data": {
      "text/html": [
       "<div>\n",
       "<style scoped>\n",
       "    .dataframe tbody tr th:only-of-type {\n",
       "        vertical-align: middle;\n",
       "    }\n",
       "\n",
       "    .dataframe tbody tr th {\n",
       "        vertical-align: top;\n",
       "    }\n",
       "\n",
       "    .dataframe thead th {\n",
       "        text-align: right;\n",
       "    }\n",
       "</style>\n",
       "<table border=\"1\" class=\"dataframe\">\n",
       "  <thead>\n",
       "    <tr style=\"text-align: right;\">\n",
       "      <th></th>\n",
       "      <th>FB</th>\n",
       "      <th>TWTR</th>\n",
       "      <th>SNAP</th>\n",
       "      <th>S&amp;P 500</th>\n",
       "    </tr>\n",
       "    <tr>\n",
       "      <th>Date</th>\n",
       "      <th></th>\n",
       "      <th></th>\n",
       "      <th></th>\n",
       "      <th></th>\n",
       "    </tr>\n",
       "  </thead>\n",
       "  <tbody>\n",
       "    <tr>\n",
       "      <th>2019-05-13</th>\n",
       "      <td>181.54</td>\n",
       "      <td>36.59</td>\n",
       "      <td>10.11</td>\n",
       "      <td>2811.870117</td>\n",
       "    </tr>\n",
       "    <tr>\n",
       "      <th>2019-05-14</th>\n",
       "      <td>180.73</td>\n",
       "      <td>36.93</td>\n",
       "      <td>10.49</td>\n",
       "      <td>2834.409912</td>\n",
       "    </tr>\n",
       "    <tr>\n",
       "      <th>2019-05-15</th>\n",
       "      <td>186.27</td>\n",
       "      <td>37.90</td>\n",
       "      <td>10.66</td>\n",
       "      <td>2850.959961</td>\n",
       "    </tr>\n",
       "    <tr>\n",
       "      <th>2019-05-16</th>\n",
       "      <td>186.99</td>\n",
       "      <td>38.30</td>\n",
       "      <td>11.42</td>\n",
       "      <td>2876.320068</td>\n",
       "    </tr>\n",
       "    <tr>\n",
       "      <th>2019-05-17</th>\n",
       "      <td>185.30</td>\n",
       "      <td>37.50</td>\n",
       "      <td>11.49</td>\n",
       "      <td>2859.530029</td>\n",
       "    </tr>\n",
       "  </tbody>\n",
       "</table>\n",
       "</div>"
      ],
      "text/plain": [
       "                FB   TWTR   SNAP      S&P 500\n",
       "Date                                         \n",
       "2019-05-13  181.54  36.59  10.11  2811.870117\n",
       "2019-05-14  180.73  36.93  10.49  2834.409912\n",
       "2019-05-15  186.27  37.90  10.66  2850.959961\n",
       "2019-05-16  186.99  38.30  11.42  2876.320068\n",
       "2019-05-17  185.30  37.50  11.49  2859.530029"
      ]
     },
     "execution_count": 5,
     "metadata": {},
     "output_type": "execute_result"
    }
   ],
   "source": [
    "# Using the read_csv function and the Path module, read in the \"tech_data.csv\" file from the Resources folder\n",
    "# Set the \"Date\" as the index column \n",
    "# Be sure to set the DatetimeIndex using the parse_dates and infer_datetime_format parameters\n",
    "tech_df = pd.read_csv(\n",
    "    Path(\"../Resources/tech_data.csv\"), \n",
    "    index_col=\"Date\", \n",
    "    parse_dates=True, \n",
    "    infer_datetime_format=True\n",
    ")\n",
    "\n",
    "# Review the 'tech_df' DataFrame with both the 'head' & 'tail' functions\n",
    "tech_df.head()\n",
    "tech_df.tail()\n",
    "    \n"
   ]
  },
  {
   "cell_type": "markdown",
   "metadata": {},
   "source": [
    "## Step 3: Use the Pandas `pct_change` function together with the `dropna` function to calculate the daily returns for each stock in the DataFrame."
   ]
  },
  {
   "cell_type": "code",
   "execution_count": 6,
   "metadata": {},
   "outputs": [
    {
     "data": {
      "text/html": [
       "<div>\n",
       "<style scoped>\n",
       "    .dataframe tbody tr th:only-of-type {\n",
       "        vertical-align: middle;\n",
       "    }\n",
       "\n",
       "    .dataframe tbody tr th {\n",
       "        vertical-align: top;\n",
       "    }\n",
       "\n",
       "    .dataframe thead th {\n",
       "        text-align: right;\n",
       "    }\n",
       "</style>\n",
       "<table border=\"1\" class=\"dataframe\">\n",
       "  <thead>\n",
       "    <tr style=\"text-align: right;\">\n",
       "      <th></th>\n",
       "      <th>FB</th>\n",
       "      <th>TWTR</th>\n",
       "      <th>SNAP</th>\n",
       "      <th>S&amp;P 500</th>\n",
       "    </tr>\n",
       "    <tr>\n",
       "      <th>Date</th>\n",
       "      <th></th>\n",
       "      <th></th>\n",
       "      <th></th>\n",
       "      <th></th>\n",
       "    </tr>\n",
       "  </thead>\n",
       "  <tbody>\n",
       "    <tr>\n",
       "      <th>2017-03-03</th>\n",
       "      <td>0.002998</td>\n",
       "      <td>-0.002533</td>\n",
       "      <td>0.106618</td>\n",
       "      <td>0.000504</td>\n",
       "    </tr>\n",
       "    <tr>\n",
       "      <th>2017-03-06</th>\n",
       "      <td>0.001823</td>\n",
       "      <td>-0.012063</td>\n",
       "      <td>-0.122554</td>\n",
       "      <td>-0.003277</td>\n",
       "    </tr>\n",
       "    <tr>\n",
       "      <th>2017-03-07</th>\n",
       "      <td>-0.000873</td>\n",
       "      <td>-0.024422</td>\n",
       "      <td>-0.098023</td>\n",
       "      <td>-0.002913</td>\n",
       "    </tr>\n",
       "    <tr>\n",
       "      <th>2017-03-08</th>\n",
       "      <td>0.003059</td>\n",
       "      <td>0.003953</td>\n",
       "      <td>0.063899</td>\n",
       "      <td>-0.002284</td>\n",
       "    </tr>\n",
       "    <tr>\n",
       "      <th>2017-03-09</th>\n",
       "      <td>0.003776</td>\n",
       "      <td>-0.001312</td>\n",
       "      <td>-0.004384</td>\n",
       "      <td>0.000800</td>\n",
       "    </tr>\n",
       "  </tbody>\n",
       "</table>\n",
       "</div>"
      ],
      "text/plain": [
       "                  FB      TWTR      SNAP   S&P 500\n",
       "Date                                              \n",
       "2017-03-03  0.002998 -0.002533  0.106618  0.000504\n",
       "2017-03-06  0.001823 -0.012063 -0.122554 -0.003277\n",
       "2017-03-07 -0.000873 -0.024422 -0.098023 -0.002913\n",
       "2017-03-08  0.003059  0.003953  0.063899 -0.002284\n",
       "2017-03-09  0.003776 -0.001312 -0.004384  0.000800"
      ]
     },
     "execution_count": 6,
     "metadata": {},
     "output_type": "execute_result"
    }
   ],
   "source": [
    "# Using the Pandas pct_change function in conjunction with the dropna function, create the tech daily returns DataFrame\n",
    "tech_daily_returns = tech_df.pct_change().dropna()\n",
    "\n",
    "\n",
    "# Review the first 5 rows of the tech daily returns DataFrame\n",
    "tech_daily_returns.head()\n",
    "\n"
   ]
  },
  {
   "cell_type": "markdown",
   "metadata": {},
   "source": [
    "## Step 4: Use the Pandas `var` function to calculate the variance for all the stocks in the DataFrame."
   ]
  },
  {
   "cell_type": "code",
   "execution_count": 7,
   "metadata": {},
   "outputs": [
    {
     "data": {
      "text/plain": [
       "FB         0.000374\n",
       "TWTR       0.000982\n",
       "SNAP       0.001745\n",
       "S&P 500    0.000070\n",
       "dtype: float64"
      ]
     },
     "execution_count": 7,
     "metadata": {},
     "output_type": "execute_result"
    }
   ],
   "source": [
    "# Using the Pandas var function, calculate the variance of all stocks in the tech daily returns DataFrame\n",
    "tech_daily_returns.var()\n"
   ]
  },
  {
   "cell_type": "markdown",
   "metadata": {},
   "source": [
    "## Step 5: Use the Pandas `var` function to calculate the variance for just the S&P 500. (You’ll use this in the beta calculation.)"
   ]
  },
  {
   "cell_type": "code",
   "execution_count": 13,
   "metadata": {},
   "outputs": [
    {
     "data": {
      "text/plain": [
       "7.00079617330316e-05"
      ]
     },
     "execution_count": 13,
     "metadata": {},
     "output_type": "execute_result"
    }
   ],
   "source": [
    "# Using the Pandas var function, generate the variance for just the S&P 500\n",
    "# The S&P 500 is being used as the proxy for the market throughout this activity\n",
    "variance_market = tech_daily_returns['S&P 500'].var()\n",
    "\n",
    "# View the variance of the market\n",
    "variance_market"
   ]
  },
  {
   "cell_type": "markdown",
   "metadata": {},
   "source": [
    "## Step 6: Use the Pandas `cov` function to calculate the covariance between each social media stock (FB, TWTR, and SNAP) and the market (S&P 500)."
   ]
  },
  {
   "cell_type": "code",
   "execution_count": 15,
   "metadata": {},
   "outputs": [
    {
     "data": {
      "text/plain": [
       "8.971694582778615e-05"
      ]
     },
     "execution_count": 15,
     "metadata": {},
     "output_type": "execute_result"
    }
   ],
   "source": [
    "# Using the Pandas cov function, calculate the covariance between the daily returns of FB and the daily returns of the S&P 500\n",
    "fb_covariance = tech_daily_returns['FB'].cov(tech_daily_returns['S&P 500'])\n",
    "\n",
    "# View the FB covariance\n",
    "fb_covariance\n",
    "\n"
   ]
  },
  {
   "cell_type": "code",
   "execution_count": 16,
   "metadata": {},
   "outputs": [
    {
     "data": {
      "text/plain": [
       "0.00010569463221453385"
      ]
     },
     "execution_count": 16,
     "metadata": {},
     "output_type": "execute_result"
    }
   ],
   "source": [
    "# Using the Pandas cov function, calculate the covariance between the daily returns of TWTR and the daily returns of the S&P 500\n",
    "twtr_covariance = tech_daily_returns['TWTR'].cov(tech_daily_returns['S&P 500'])\n",
    "\n",
    "# View the TWTR covariance\n",
    "twtr_covariance\n",
    "\n"
   ]
  },
  {
   "cell_type": "code",
   "execution_count": 17,
   "metadata": {},
   "outputs": [
    {
     "data": {
      "text/plain": [
       "7.769087430496202e-05"
      ]
     },
     "execution_count": 17,
     "metadata": {},
     "output_type": "execute_result"
    }
   ],
   "source": [
    "# Using the Pandas cov function, calculate the covariance between the daily returns of SNAP and the daily returns of the S&P 500\n",
    "snap_covariance = tech_daily_returns['SNAP'].cov(tech_daily_returns['S&P 500'])\n",
    "\n",
    "# View the SNAP covariance\n",
    "snap_covariance\n",
    "\n"
   ]
  },
  {
   "cell_type": "markdown",
   "metadata": {},
   "source": [
    "## Step 7: Calculate the beta value for each of the three social media stocks by dividing the covariance of the stock by the variance of the market."
   ]
  },
  {
   "cell_type": "code",
   "execution_count": 18,
   "metadata": {},
   "outputs": [
    {
     "data": {
      "text/plain": [
       "1.2815248952670955"
      ]
     },
     "execution_count": 18,
     "metadata": {},
     "output_type": "execute_result"
    }
   ],
   "source": [
    "# Calculate beta of FB by dividing the covariance of FB by the variance of the S&P 500\n",
    "fb_beta = fb_covariance / variance_market\n",
    "\n",
    "# Print the beta of FB\n",
    "fb_beta\n"
   ]
  },
  {
   "cell_type": "code",
   "execution_count": 19,
   "metadata": {},
   "outputs": [
    {
     "data": {
      "text/plain": [
       "1.509751599647906"
      ]
     },
     "execution_count": 19,
     "metadata": {},
     "output_type": "execute_result"
    }
   ],
   "source": [
    "# Calculate beta of TWTR by dividing the covariance of TWTR by the variance of the S&P 500\n",
    "TWTR_beta = twtr_covariance / variance_market\n",
    "\n",
    "# Print the beta of FB\n",
    "TWTR_beta\n"
   ]
  },
  {
   "cell_type": "code",
   "execution_count": 20,
   "metadata": {},
   "outputs": [
    {
     "data": {
      "text/plain": [
       "1.1097434117740557"
      ]
     },
     "execution_count": 20,
     "metadata": {},
     "output_type": "execute_result"
    }
   ],
   "source": [
    "# Calculate beta of SNAP by dividing the covariance of SNAP by the variance of the S&P 500\n",
    "SNAP_beta = snap_covariance / variance_market\n",
    "\n",
    "# Print the beta of FB\n",
    "SNAP_beta\n"
   ]
  },
  {
   "cell_type": "markdown",
   "metadata": {},
   "source": [
    "## Step 8: Answer the following question: Based on your calculations of the betas, which of the three social media stocks presents the most conservative investment?"
   ]
  },
  {
   "cell_type": "markdown",
   "metadata": {},
   "source": [
    "**Question:** Based on your calculations of beta, which of the 3 social media stocks presents the most conservative investment?\n",
    "\n",
    "**Answer:** # YOUR ANSWER HERE"
   ]
  },
  {
   "cell_type": "code",
   "execution_count": null,
   "metadata": {},
   "outputs": [],
   "source": []
  }
 ],
 "metadata": {
  "interpreter": {
   "hash": "b2ec66fa3d085a6e66869b1a678e052484c09c72639639e5b92cf1e8e9fcc898"
  },
  "kernelspec": {
   "display_name": "Python 3.9.12 ('dev')",
   "language": "python",
   "name": "python3"
  },
  "language_info": {
   "codemirror_mode": {
    "name": "ipython",
    "version": 3
   },
   "file_extension": ".py",
   "mimetype": "text/x-python",
   "name": "python",
   "nbconvert_exporter": "python",
   "pygments_lexer": "ipython3",
   "version": "3.9.12"
  }
 },
 "nbformat": 4,
 "nbformat_minor": 4
}
