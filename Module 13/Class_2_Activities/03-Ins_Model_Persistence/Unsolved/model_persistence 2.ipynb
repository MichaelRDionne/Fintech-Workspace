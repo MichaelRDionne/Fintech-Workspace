{
 "cells": [
  {
   "cell_type": "markdown",
   "metadata": {},
   "source": [
    "# Model Persistence"
   ]
  },
  {
   "cell_type": "code",
   "execution_count": 1,
   "metadata": {},
   "outputs": [],
   "source": [
    "# Initial imports\n",
    "from tensorflow.keras.models import Sequential\n",
    "from tensorflow.keras.layers import Dense\n",
    "from pathlib import Path\n",
    "import pandas as pd"
   ]
  },
  {
   "cell_type": "code",
   "execution_count": 2,
   "metadata": {},
   "outputs": [
    {
     "data": {
      "text/html": [
       "<div>\n",
       "<style scoped>\n",
       "    .dataframe tbody tr th:only-of-type {\n",
       "        vertical-align: middle;\n",
       "    }\n",
       "\n",
       "    .dataframe tbody tr th {\n",
       "        vertical-align: top;\n",
       "    }\n",
       "\n",
       "    .dataframe thead th {\n",
       "        text-align: right;\n",
       "    }\n",
       "</style>\n",
       "<table border=\"1\" class=\"dataframe\">\n",
       "  <thead>\n",
       "    <tr style=\"text-align: right;\">\n",
       "      <th></th>\n",
       "      <th>fixed acidity</th>\n",
       "      <th>volatile acidity</th>\n",
       "      <th>citric acid</th>\n",
       "      <th>residual sugar</th>\n",
       "      <th>chlorides</th>\n",
       "      <th>free sulfur dioxide</th>\n",
       "      <th>total sulfur dioxide</th>\n",
       "      <th>density</th>\n",
       "      <th>pH</th>\n",
       "      <th>sulphates</th>\n",
       "      <th>alcohol</th>\n",
       "      <th>quality</th>\n",
       "    </tr>\n",
       "  </thead>\n",
       "  <tbody>\n",
       "    <tr>\n",
       "      <th>0</th>\n",
       "      <td>7.4</td>\n",
       "      <td>0.70</td>\n",
       "      <td>0.00</td>\n",
       "      <td>1.9</td>\n",
       "      <td>0.076</td>\n",
       "      <td>11.0</td>\n",
       "      <td>34.0</td>\n",
       "      <td>0.9978</td>\n",
       "      <td>3.51</td>\n",
       "      <td>0.56</td>\n",
       "      <td>9.4</td>\n",
       "      <td>5</td>\n",
       "    </tr>\n",
       "    <tr>\n",
       "      <th>1</th>\n",
       "      <td>7.8</td>\n",
       "      <td>0.88</td>\n",
       "      <td>0.00</td>\n",
       "      <td>2.6</td>\n",
       "      <td>0.098</td>\n",
       "      <td>25.0</td>\n",
       "      <td>67.0</td>\n",
       "      <td>0.9968</td>\n",
       "      <td>3.20</td>\n",
       "      <td>0.68</td>\n",
       "      <td>9.8</td>\n",
       "      <td>5</td>\n",
       "    </tr>\n",
       "    <tr>\n",
       "      <th>2</th>\n",
       "      <td>7.8</td>\n",
       "      <td>0.76</td>\n",
       "      <td>0.04</td>\n",
       "      <td>2.3</td>\n",
       "      <td>0.092</td>\n",
       "      <td>15.0</td>\n",
       "      <td>54.0</td>\n",
       "      <td>0.9970</td>\n",
       "      <td>3.26</td>\n",
       "      <td>0.65</td>\n",
       "      <td>9.8</td>\n",
       "      <td>5</td>\n",
       "    </tr>\n",
       "    <tr>\n",
       "      <th>3</th>\n",
       "      <td>11.2</td>\n",
       "      <td>0.28</td>\n",
       "      <td>0.56</td>\n",
       "      <td>1.9</td>\n",
       "      <td>0.075</td>\n",
       "      <td>17.0</td>\n",
       "      <td>60.0</td>\n",
       "      <td>0.9980</td>\n",
       "      <td>3.16</td>\n",
       "      <td>0.58</td>\n",
       "      <td>9.8</td>\n",
       "      <td>6</td>\n",
       "    </tr>\n",
       "    <tr>\n",
       "      <th>4</th>\n",
       "      <td>7.4</td>\n",
       "      <td>0.70</td>\n",
       "      <td>0.00</td>\n",
       "      <td>1.9</td>\n",
       "      <td>0.076</td>\n",
       "      <td>11.0</td>\n",
       "      <td>34.0</td>\n",
       "      <td>0.9978</td>\n",
       "      <td>3.51</td>\n",
       "      <td>0.56</td>\n",
       "      <td>9.4</td>\n",
       "      <td>5</td>\n",
       "    </tr>\n",
       "  </tbody>\n",
       "</table>\n",
       "</div>"
      ],
      "text/plain": [
       "   fixed acidity  volatile acidity  citric acid  residual sugar  chlorides  \\\n",
       "0            7.4              0.70         0.00             1.9      0.076   \n",
       "1            7.8              0.88         0.00             2.6      0.098   \n",
       "2            7.8              0.76         0.04             2.3      0.092   \n",
       "3           11.2              0.28         0.56             1.9      0.075   \n",
       "4            7.4              0.70         0.00             1.9      0.076   \n",
       "\n",
       "   free sulfur dioxide  total sulfur dioxide  density    pH  sulphates  \\\n",
       "0                 11.0                  34.0   0.9978  3.51       0.56   \n",
       "1                 25.0                  67.0   0.9968  3.20       0.68   \n",
       "2                 15.0                  54.0   0.9970  3.26       0.65   \n",
       "3                 17.0                  60.0   0.9980  3.16       0.58   \n",
       "4                 11.0                  34.0   0.9978  3.51       0.56   \n",
       "\n",
       "   alcohol  quality  \n",
       "0      9.4        5  \n",
       "1      9.8        5  \n",
       "2      9.8        5  \n",
       "3      9.8        6  \n",
       "4      9.4        5  "
      ]
     },
     "execution_count": 2,
     "metadata": {},
     "output_type": "execute_result"
    }
   ],
   "source": [
    "# Read in data\n",
    "data = Path(\"../Resources/winequality.csv\")\n",
    "df = pd.read_csv(data, delimiter=\";\")\n",
    "df.head()"
   ]
  },
  {
   "cell_type": "markdown",
   "metadata": {},
   "source": [
    "## Prepare the data"
   ]
  },
  {
   "cell_type": "code",
   "execution_count": 3,
   "metadata": {},
   "outputs": [],
   "source": [
    "# Define the features X set and the target y vector\n",
    "X = df.drop(columns=\"quality\")\n",
    "y = df[\"quality\"]\n",
    " \n"
   ]
  },
  {
   "cell_type": "code",
   "execution_count": 4,
   "metadata": {},
   "outputs": [],
   "source": [
    "# Scale the data\n",
    "from sklearn.preprocessing import StandardScaler\n",
    "X_scaler = StandardScaler().fit(X)\n",
    "y_scaler = StandardScaler().fit(y.values.reshape(-1, 1))\n"
   ]
  },
  {
   "cell_type": "markdown",
   "metadata": {},
   "source": [
    "## Create the shallow neural network model"
   ]
  },
  {
   "cell_type": "code",
   "execution_count": 9,
   "metadata": {},
   "outputs": [
    {
     "name": "stderr",
     "output_type": "stream",
     "text": [
      "2022-09-07 20:52:39.633137: I tensorflow/core/common_runtime/pluggable_device/pluggable_device_factory.cc:305] Could not identify NUMA node of platform GPU ID 0, defaulting to 0. Your kernel may not have been built with NUMA support.\n",
      "2022-09-07 20:52:39.633270: I tensorflow/core/common_runtime/pluggable_device/pluggable_device_factory.cc:271] Created TensorFlow device (/job:localhost/replica:0/task:0/device:GPU:0 with 0 MB memory) -> physical PluggableDevice (device: 0, name: METAL, pci bus id: <undefined>)\n"
     ]
    },
    {
     "name": "stdout",
     "output_type": "stream",
     "text": [
      "Metal device set to: Apple M1 Max\n",
      "\n",
      "systemMemory: 64.00 GB\n",
      "maxCacheSize: 24.00 GB\n",
      "\n"
     ]
    }
   ],
   "source": [
    "# Define the model - shallow neural network\n",
    "number_inputs = 11\n",
    "number_hidden_nodes = 8\n",
    "model = Sequential()\n",
    "\n",
    "# Hidden layer\n",
    "model.add(Dense(units=number_hidden_nodes, activation=\"relu\", input_dim=number_inputs))\n",
    "\n",
    "# Output layer\n",
    "model.add(Dense(units=1, activation=\"linear\"))\n"
   ]
  },
  {
   "cell_type": "code",
   "execution_count": 10,
   "metadata": {},
   "outputs": [
    {
     "name": "stdout",
     "output_type": "stream",
     "text": [
      "Epoch 1/50\n"
     ]
    },
    {
     "name": "stderr",
     "output_type": "stream",
     "text": [
      "2022-09-07 20:52:42.080275: W tensorflow/core/platform/profile_utils/cpu_utils.cc:128] Failed to get CPU frequency: 0 Hz\n",
      "2022-09-07 20:52:42.242451: I tensorflow/core/grappler/optimizers/custom_graph_optimizer_registry.cc:113] Plugin optimizer for device_type GPU is enabled.\n"
     ]
    },
    {
     "name": "stdout",
     "output_type": "stream",
     "text": [
      "50/50 - 2s - loss: 1.4577 - 2s/epoch - 42ms/step\n",
      "Epoch 2/50\n",
      "50/50 - 0s - loss: 1.0992 - 199ms/epoch - 4ms/step\n",
      "Epoch 3/50\n",
      "50/50 - 0s - loss: 0.9343 - 201ms/epoch - 4ms/step\n",
      "Epoch 4/50\n",
      "50/50 - 0s - loss: 0.8441 - 200ms/epoch - 4ms/step\n",
      "Epoch 5/50\n",
      "50/50 - 0s - loss: 0.7898 - 199ms/epoch - 4ms/step\n",
      "Epoch 6/50\n",
      "50/50 - 0s - loss: 0.7502 - 207ms/epoch - 4ms/step\n",
      "Epoch 7/50\n",
      "50/50 - 0s - loss: 0.7216 - 229ms/epoch - 5ms/step\n",
      "Epoch 8/50\n",
      "50/50 - 0s - loss: 0.6981 - 218ms/epoch - 4ms/step\n",
      "Epoch 9/50\n",
      "50/50 - 0s - loss: 0.6802 - 194ms/epoch - 4ms/step\n",
      "Epoch 10/50\n",
      "50/50 - 0s - loss: 0.6659 - 196ms/epoch - 4ms/step\n",
      "Epoch 11/50\n",
      "50/50 - 0s - loss: 0.6546 - 196ms/epoch - 4ms/step\n",
      "Epoch 12/50\n",
      "50/50 - 0s - loss: 0.6447 - 195ms/epoch - 4ms/step\n",
      "Epoch 13/50\n",
      "50/50 - 0s - loss: 0.6378 - 194ms/epoch - 4ms/step\n",
      "Epoch 14/50\n",
      "50/50 - 0s - loss: 0.6325 - 206ms/epoch - 4ms/step\n",
      "Epoch 15/50\n",
      "50/50 - 0s - loss: 0.6273 - 198ms/epoch - 4ms/step\n",
      "Epoch 16/50\n",
      "50/50 - 0s - loss: 0.6234 - 200ms/epoch - 4ms/step\n",
      "Epoch 17/50\n",
      "50/50 - 0s - loss: 0.6193 - 195ms/epoch - 4ms/step\n",
      "Epoch 18/50\n",
      "50/50 - 0s - loss: 0.6157 - 186ms/epoch - 4ms/step\n",
      "Epoch 19/50\n",
      "50/50 - 0s - loss: 0.6138 - 209ms/epoch - 4ms/step\n",
      "Epoch 20/50\n",
      "50/50 - 0s - loss: 0.6108 - 189ms/epoch - 4ms/step\n",
      "Epoch 21/50\n",
      "50/50 - 0s - loss: 0.6078 - 187ms/epoch - 4ms/step\n",
      "Epoch 22/50\n",
      "50/50 - 0s - loss: 0.6061 - 206ms/epoch - 4ms/step\n",
      "Epoch 23/50\n",
      "50/50 - 0s - loss: 0.6046 - 215ms/epoch - 4ms/step\n",
      "Epoch 24/50\n",
      "50/50 - 0s - loss: 0.6026 - 216ms/epoch - 4ms/step\n",
      "Epoch 25/50\n",
      "50/50 - 0s - loss: 0.6004 - 207ms/epoch - 4ms/step\n",
      "Epoch 26/50\n",
      "50/50 - 0s - loss: 0.5997 - 198ms/epoch - 4ms/step\n",
      "Epoch 27/50\n",
      "50/50 - 0s - loss: 0.5986 - 192ms/epoch - 4ms/step\n",
      "Epoch 28/50\n",
      "50/50 - 0s - loss: 0.5969 - 190ms/epoch - 4ms/step\n",
      "Epoch 29/50\n",
      "50/50 - 0s - loss: 0.5959 - 184ms/epoch - 4ms/step\n",
      "Epoch 30/50\n",
      "50/50 - 0s - loss: 0.5944 - 182ms/epoch - 4ms/step\n",
      "Epoch 31/50\n",
      "50/50 - 0s - loss: 0.5939 - 187ms/epoch - 4ms/step\n",
      "Epoch 32/50\n",
      "50/50 - 0s - loss: 0.5921 - 185ms/epoch - 4ms/step\n",
      "Epoch 33/50\n",
      "50/50 - 0s - loss: 0.5920 - 192ms/epoch - 4ms/step\n",
      "Epoch 34/50\n",
      "50/50 - 0s - loss: 0.5906 - 189ms/epoch - 4ms/step\n",
      "Epoch 35/50\n",
      "50/50 - 0s - loss: 0.5892 - 190ms/epoch - 4ms/step\n",
      "Epoch 36/50\n",
      "50/50 - 0s - loss: 0.5883 - 195ms/epoch - 4ms/step\n",
      "Epoch 37/50\n",
      "50/50 - 0s - loss: 0.5881 - 187ms/epoch - 4ms/step\n",
      "Epoch 38/50\n",
      "50/50 - 0s - loss: 0.5865 - 182ms/epoch - 4ms/step\n",
      "Epoch 39/50\n",
      "50/50 - 0s - loss: 0.5856 - 197ms/epoch - 4ms/step\n",
      "Epoch 40/50\n",
      "50/50 - 0s - loss: 0.5867 - 199ms/epoch - 4ms/step\n",
      "Epoch 41/50\n",
      "50/50 - 0s - loss: 0.5841 - 191ms/epoch - 4ms/step\n",
      "Epoch 42/50\n",
      "50/50 - 0s - loss: 0.5833 - 195ms/epoch - 4ms/step\n",
      "Epoch 43/50\n",
      "50/50 - 0s - loss: 0.5824 - 186ms/epoch - 4ms/step\n",
      "Epoch 44/50\n",
      "50/50 - 0s - loss: 0.5821 - 184ms/epoch - 4ms/step\n",
      "Epoch 45/50\n",
      "50/50 - 0s - loss: 0.5816 - 197ms/epoch - 4ms/step\n",
      "Epoch 46/50\n",
      "50/50 - 0s - loss: 0.5808 - 190ms/epoch - 4ms/step\n",
      "Epoch 47/50\n",
      "50/50 - 0s - loss: 0.5799 - 193ms/epoch - 4ms/step\n",
      "Epoch 48/50\n",
      "50/50 - 0s - loss: 0.5789 - 189ms/epoch - 4ms/step\n",
      "Epoch 49/50\n",
      "50/50 - 0s - loss: 0.5783 - 189ms/epoch - 4ms/step\n",
      "Epoch 50/50\n",
      "50/50 - 0s - loss: 0.5780 - 178ms/epoch - 4ms/step\n"
     ]
    },
    {
     "data": {
      "text/plain": [
       "<keras.callbacks.History at 0x2bbb72e20>"
      ]
     },
     "execution_count": 10,
     "metadata": {},
     "output_type": "execute_result"
    }
   ],
   "source": [
    "# Compile the model\n",
    "model.compile(optimizer=\"adam\", loss=\"mean_squared_error\")\n",
    "# Fit the model\n",
    "model.fit(X_scaler.transform(X), y_scaler.transform(y.values.reshape(-1, 1)), epochs=50, shuffle=True, verbose=2)\n"
   ]
  },
  {
   "cell_type": "markdown",
   "metadata": {},
   "source": [
    "## Save the model as JSON to a file"
   ]
  },
  {
   "cell_type": "code",
   "execution_count": 11,
   "metadata": {},
   "outputs": [],
   "source": [
    "# Save model as JSON\n",
    "model_json = model.to_json()\n",
    "with open(\"model.json\", \"w\") as json_file:\n",
    "    json_file.write(model_json)\n",
    "    "
   ]
  },
  {
   "cell_type": "markdown",
   "metadata": {},
   "source": [
    "## Save the model weights"
   ]
  },
  {
   "cell_type": "code",
   "execution_count": 12,
   "metadata": {},
   "outputs": [],
   "source": [
    "# Save weights\n",
    "model.save_weights(\"model.h5\")\n",
    "model.save(\"trained_wine_model.h5\")\n",
    "\n"
   ]
  },
  {
   "cell_type": "markdown",
   "metadata": {},
   "source": [
    "## Load the model and weights"
   ]
  },
  {
   "cell_type": "code",
   "execution_count": 13,
   "metadata": {},
   "outputs": [
    {
     "data": {
      "text/plain": [
       "[array([[-0.35223213,  0.2827387 , -0.05744759, -0.05993642,  0.11678293,\n",
       "         -0.54285455,  0.2150582 , -0.19167177],\n",
       "        [-0.22898494, -0.17392047, -0.44273055,  0.17662185, -0.47147045,\n",
       "          0.16494274,  0.49733132,  0.23951253],\n",
       "        [ 0.24776794, -0.47366074,  0.17113923,  0.34679568,  0.24449903,\n",
       "         -0.5860094 , -0.19931722,  0.40837076],\n",
       "        [-0.66641325,  0.19958663, -0.27368003,  0.01594844, -0.09454963,\n",
       "         -0.28496256, -0.03212892, -0.17470816],\n",
       "        [ 0.57636636, -0.11675254, -0.5310952 , -0.002727  ,  0.06835777,\n",
       "         -0.26229745,  0.22495504,  0.35163465],\n",
       "        [ 0.40199748,  0.04910909,  0.24383973, -0.12731567,  0.2631143 ,\n",
       "          0.18355948, -0.09343597, -0.01494479],\n",
       "        [ 0.33221087, -0.38608715, -0.42410466, -0.16502188,  0.01556935,\n",
       "         -0.69180954,  0.4605886 , -0.06201668],\n",
       "        [ 0.37248933, -0.5029645 , -0.07151648, -0.28641316,  0.40266386,\n",
       "          0.286256  ,  0.4039055 , -0.44102204],\n",
       "        [-0.07284229,  0.11903139, -0.0030729 ,  0.06298368, -0.03046524,\n",
       "          0.41530713, -0.11926141, -0.2451801 ],\n",
       "        [ 0.3080431 ,  0.3950332 , -0.07172372, -0.7974278 ,  0.3534514 ,\n",
       "         -0.26789075,  0.04394669, -0.24663664],\n",
       "        [-0.07899762,  0.17974941, -0.32109314, -0.16572052,  0.68588376,\n",
       "          0.20475666, -0.10579388,  0.17581154]], dtype=float32),\n",
       " array([ 0.03300319,  0.1354139 , -0.24325344, -0.01145703,  0.1013709 ,\n",
       "        -0.3474254 ,  0.06353593,  0.04093067], dtype=float32)]"
      ]
     },
     "execution_count": 13,
     "metadata": {},
     "output_type": "execute_result"
    }
   ],
   "source": [
    "model.layers[0].get_weights()\n"
   ]
  },
  {
   "cell_type": "code",
   "execution_count": 15,
   "metadata": {},
   "outputs": [],
   "source": [
    "# Load the saved model to make predictions\n",
    "from tensorflow.keras.models import model_from_json\n",
    "\n",
    "# Imports\n",
    "\n",
    "# load json and create model\n",
    "file_path = Path(\"model.json\")\n",
    "with open(file_path, \"r\") as json_file:\n",
    "    json_savedModel= json_file.read()\n",
    "    \n",
    "# load weights into new model\n",
    "model = model_from_json(json_savedModel)\n",
    "\n"
   ]
  },
  {
   "cell_type": "markdown",
   "metadata": {},
   "source": [
    "## Make predictions with the model"
   ]
  },
  {
   "cell_type": "code",
   "execution_count": 16,
   "metadata": {},
   "outputs": [
    {
     "name": "stderr",
     "output_type": "stream",
     "text": [
      "/opt/miniconda3/lib/python3.9/site-packages/sklearn/base.py:450: UserWarning: X does not have valid feature names, but StandardScaler was fitted with feature names\n",
      "  warnings.warn(\n",
      "2022-09-07 20:53:55.229150: I tensorflow/core/grappler/optimizers/custom_graph_optimizer_registry.cc:113] Plugin optimizer for device_type GPU is enabled.\n"
     ]
    },
    {
     "name": "stdout",
     "output_type": "stream",
     "text": [
      "1/1 [==============================] - 0s 238ms/step\n"
     ]
    },
    {
     "data": {
      "text/plain": [
       "array([[-0.71714133]], dtype=float32)"
      ]
     },
     "execution_count": 16,
     "metadata": {},
     "output_type": "execute_result"
    }
   ],
   "source": [
    "# Make some predictions with the loaded model\n",
    "model.load_weights(\"model.h5\")\n",
    "model.predict(X_scaler.transform([[7.4, 0.7, 0, 1.9, 0.076, 11, 34, 0.9978, 3.51, 0.56, 9.4]]))\n"
   ]
  },
  {
   "cell_type": "code",
   "execution_count": null,
   "metadata": {},
   "outputs": [],
   "source": []
  }
 ],
 "metadata": {
  "file_extension": ".py",
  "kernelspec": {
   "display_name": "Python 3.9.12 ('base')",
   "language": "python",
   "name": "python3"
  },
  "language_info": {
   "codemirror_mode": {
    "name": "ipython",
    "version": 3
   },
   "file_extension": ".py",
   "mimetype": "text/x-python",
   "name": "python",
   "nbconvert_exporter": "python",
   "pygments_lexer": "ipython3",
   "version": "3.9.12"
  },
  "mimetype": "text/x-python",
  "name": "python",
  "npconvert_exporter": "python",
  "pygments_lexer": "ipython3",
  "version": 3,
  "vscode": {
   "interpreter": {
    "hash": "3d597f4c481aa0f25dceb95d2a0067e73c0966dcbd003d741d821a7208527ecf"
   }
  }
 },
 "nbformat": 4,
 "nbformat_minor": 4
}
