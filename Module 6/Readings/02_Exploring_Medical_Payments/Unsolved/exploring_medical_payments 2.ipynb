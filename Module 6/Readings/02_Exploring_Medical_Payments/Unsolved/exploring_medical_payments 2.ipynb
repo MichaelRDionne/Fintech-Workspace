{
 "cells": [
  {
   "cell_type": "markdown",
   "metadata": {},
   "source": [
    "# Exploring Medical Payments\n",
    "\n",
    "In this activity, you’ll explore medical payments for diabetes by state. You’ll do so by using interactive visualizations, numerical and visual aggregation, and analysis.\n",
    "\n",
    "\n",
    "Instructions:\n",
    "\n",
    "Note that data from `hospital_claims.csv` has already been loaded into this notebook, and three DataFrames have been created: \n",
    "\n",
    "* `hospital_data` contains all of the information from the CSV file.\n",
    "\n",
    "* `procedure_638_payments` contains all columns of data with a \"DRG Definition\" of \"638 - DIABETES W CC\"\n",
    "\n",
    "* `average_total_payments_by_state` contains only the \"Provider State\" and \"Average Total Payments\" columns from the `procedure_638_payments` DataFrame.\n",
    "\n",
    "This activity is broken down into three main sections:\n",
    "\n",
    "1. Explore the average total payments by state\n",
    "\n",
    "2. Explore the average total payments in California\n",
    "\n",
    "3. Explore the outliers in the data\n",
    "\n",
    "In the first two sections, you’ll both numerically and visually aggregate the data from the DataFrame that the starter code supplies.\n",
    "\n",
    "#### Explore the Average Total Payments by State\n",
    "\n",
    "In this section, you’ll explore the average total payments by state by numerically and visually aggregating the data. \n",
    "\n",
    "##### Numerically Aggregate the Data\n",
    "\n",
    "First, apply grouping and numerical aggregation by completing the following steps:\n",
    "\n",
    "1. Create a DataFrame called `total_payments_by_state` by grouping the `average_total_payments_by_state` DataFrame by “Provider State”. Then use the `sum` function to aggregate the results.\n",
    "\n",
    "2. Sort the data by price by using `.sort_values (“Average Total Payments”)` on the DataFrame from Step 1.\n",
    "\n",
    "3. Display the first five states in the sorted DataFrame. These states have the lowest total payments.\n",
    "\n",
    "4. Display the state with the highest total payment.\n",
    "\n",
    "##### Visually Aggregate the Data\n",
    "\n",
    "Next, use hvPlot to create interactive visualizations that allow you to explore the data. To do so, complete the following steps:\n",
    "\n",
    "1. Import the hvPlot library for Pandas.\n",
    "\n",
    "2. Plot the `total_payments_by_state` DataFrame by using the following code:\n",
    "    \n",
    "    ```python\n",
    "    total_payments_by_state_sorted.hvplot.bar(x=\"Provider State\", y=\"Average Total Payments\")\n",
    "    ```\n",
    "\n",
    "3. Use your visualization and apply the pan, zoom, and hover widgets to answer the following questions:\n",
    "\n",
    "    * Based on your visualization, which state has the highest total payment?\n",
    "    * Which state has the lowest total payment?\n",
    "\n",
    "#### Explore the Average Total Payments in California\n",
    "\n",
    "In the previous section, you found that California has the highest total payments for diabetes care. In this section, you’ll further explore the California prices by using visual and numerical aggregation.\n",
    "\n",
    "##### Visually Aggregate the Data\n",
    "\n",
    "First, visually aggregate the data by completing the following steps:\n",
    "\n",
    "1. Using the `average_total_payments_by_state` DataFrame, create a bar plot, and group the data by provider state via the hvPlot `groupby` parameter. Use the hvPlot widget dropdown menu to select the prices for California.\n",
    "\n",
    "2. Use your visualization and apply the pan, zoom, and hover widgets to answer the following questions:\n",
    "\n",
    "    * What patterns do you notice in the data?\n",
    "    * Do any data points influence the total payments amount?\n",
    "\n",
    "##### Numerically Aggregate the Data\n",
    "\n",
    "Next, numerically aggregate the California data by completing the following steps: \n",
    "\n",
    "1. Create a DataFrame by using the `loc` function and by using the `average_total _payments_by_state` DataFrame filtered only for California (CA). Sort the values by average total payments, and then review both the first five and the last five rows of data.\n",
    "\n",
    "2. Plot the sorted DataFrame as an hvPlot bar chart.\n",
    "\n",
    "3. Use your visualization and apply the pan, zoom, and hover widgets to answer the following questions:\n",
    "    * How many payments appear to be outliers?\n",
    "    * What’s the approximate value of those payments?\n",
    "\n",
    "#### Explore the Outliers in the Data\n",
    "\n",
    "In this section, you’ll use the DataFrame that you generated in your analysis of the California average total payments to explore the outlier payments. Complete the following steps:\n",
    "\n",
    "1. Use the `describe` function to find the mean value of the average total payments.\n",
    "\n",
    "2. Use the interactive bar plot (for the sorted values of the California average total payments) to estimate a payment value that you can use to filter out the highest three data spikes.\n",
    "\n",
    "3. Use `loc` or `iloc` to filter out the three outlier payments from the California average total payments. Then recalculate the summary statistics by using the `describe` function.\n",
    "\n",
    "4. Review the two sets of summary statistics that you generated in this section and answer the following question. \n",
    "\n",
    "    * How much do the outliers change the mean value of the California average total payments for diabetes?\n",
    "\n",
    "\n",
    "\n",
    "References:\n",
    "\n",
    "[Pandas groupby](https://pandas.pydata.org/pandas-docs/stable/reference/api/pandas.DataFrame.groupby.html)"
   ]
  },
  {
   "cell_type": "code",
   "execution_count": null,
   "metadata": {},
   "outputs": [],
   "source": [
    "# Import the required libraries and dependencies\n",
    "import pandas as pd\n",
    "from pathlib import Path"
   ]
  },
  {
   "cell_type": "markdown",
   "metadata": {},
   "source": [
    "## Prepare the Data (Included)\n",
    "\n",
    "Three DataFrames have been created: \n",
    "\n",
    "* `hospital_data` contains all of the information from the CSV file.\n",
    "\n",
    "* `procedure_638_payments` contains all columns of data with a \"DRG Definition\" of \"638 - DIABETES W CC\"\n",
    "\n",
    "* `average_total_payments_by_state` contains only the \"Provider State\" and \"Average Total Payments\" columns from the `procedure_638_payments` DataFrame."
   ]
  },
  {
   "cell_type": "code",
   "execution_count": null,
   "metadata": {},
   "outputs": [],
   "source": [
    "# Using the read_csv function and Path module, read in the \n",
    "# hospital_claims.csv file from the Resources folder\n",
    "hospital_data = pd.read_csv(Path(\"../Resources/hospital_claims.csv\"))\n",
    "\n",
    "# Review the DataFrame\n",
    "hospital_data.head()"
   ]
  },
  {
   "cell_type": "code",
   "execution_count": null,
   "metadata": {},
   "outputs": [],
   "source": [
    "# Slice the data to only look at medical costs associated with diabetes\n",
    "# the DRG Definition code is \"638 - DIABETES W CC\"\n",
    "procedure_638_payments = hospital_data.loc[hospital_data[\"DRG Definition\"] == \"638 - DIABETES W CC\"]\n",
    "\n",
    "# Review the first and last five rows of the DataFrame\n",
    "display(procedure_638_payments.head())\n",
    "display(procedure_638_payments.tail())"
   ]
  },
  {
   "cell_type": "code",
   "execution_count": null,
   "metadata": {},
   "outputs": [],
   "source": [
    "# Create a DataFrame that includes only the Provider State and Average Total Payments column\n",
    "# from the procedure 638 information\n",
    "average_total_payments_by_state = procedure_638_payments[[\"Provider State\", \"Average Total Payments\"]]\n",
    "\n",
    "# Review the first and last five rows of the DataFrame\n",
    "display(average_total_payments_by_state.head())\n",
    "display(average_total_payments_by_state.tail())"
   ]
  },
  {
   "cell_type": "markdown",
   "metadata": {},
   "source": [
    "## Explore Average Total Payments by State\n",
    "\n",
    "In this section, you’ll explore the average total payments by state by numerically and visually aggregating the data. "
   ]
  },
  {
   "cell_type": "markdown",
   "metadata": {},
   "source": [
    "### Numerically Aggregate the Data\n",
    "\n",
    "First, apply grouping and numerical aggregation by completing the following steps:\n",
    "\n",
    "1. Create a DataFrame called `total_payments_by_state` by grouping the `average_total_payments_by_state` DataFrame by “Provider State”. Then use the `sum` function to aggregate the results.\n",
    "\n",
    "2. Sort the data by price by using `.sort_values (“Average Total Payments”)` on the DataFrame from Step 1.\n",
    "\n",
    "3. Display the first five states in the sorted DataFrame. These states have the lowest total payments.\n",
    "\n",
    "4. Display the state with the highest total payment.\n",
    "\n"
   ]
  },
  {
   "cell_type": "markdown",
   "metadata": {},
   "source": [
    "#### Step 1: Create a DataFrame called `total_payments_by_state` by grouping the `average_total_payments_by_state` DataFrame by “Provider State”. Then use the `sum` function to aggregate the results."
   ]
  },
  {
   "cell_type": "code",
   "execution_count": null,
   "metadata": {},
   "outputs": [],
   "source": [
    "# Group the data by the \"Provider State\" and then sum the aggregate\n",
    "total_payments_by_state = average_total_payments_by_state.groupby(\"Provider State\").sum()\n",
    "\n",
    "# View the result\n",
    "total_payments_by_state\n",
    "\n"
   ]
  },
  {
   "cell_type": "markdown",
   "metadata": {},
   "source": [
    "#### Step 2: Sort the data by price by using `.sort_values (“Average Total Payments”)` on the DataFrame from Step 1."
   ]
  },
  {
   "cell_type": "code",
   "execution_count": null,
   "metadata": {},
   "outputs": [],
   "source": [
    "# Sort the states by their price\n",
    "# and display the top and bottom five states by total payments\n",
    "total_payments_by_state_sorted = total_payments_by_state.sort_values(\"Average Total Payments\")\n",
    "\n"
   ]
  },
  {
   "cell_type": "markdown",
   "metadata": {},
   "source": [
    "#### Step 3: Display the first five states in the sorted DataFrame. These states have the lowest total payments."
   ]
  },
  {
   "cell_type": "code",
   "execution_count": null,
   "metadata": {},
   "outputs": [],
   "source": [
    "# Display the first 5 states in the sorted DataFrame.\n",
    "# These should have the lowest total payments\n",
    "total_payments_by_state_sorted.head()\n"
   ]
  },
  {
   "cell_type": "markdown",
   "metadata": {},
   "source": [
    "#### Step 4: Display the state with the highest total payment."
   ]
  },
  {
   "cell_type": "code",
   "execution_count": null,
   "metadata": {},
   "outputs": [],
   "source": [
    "# Determine which state has the highest average total payment\n",
    "state_with_highest_total = total_payments_by_state_sorted.tail(1)\n",
    "\n",
    "# View the state\n",
    "state_with_highest_total\n"
   ]
  },
  {
   "cell_type": "markdown",
   "metadata": {},
   "source": [
    "---"
   ]
  },
  {
   "cell_type": "markdown",
   "metadata": {},
   "source": [
    "### Visually Aggregate the Data\n",
    "\n",
    "Next, use hvPlot to create interactive visualizations that allow you to explore the data. To do so, complete the following steps:\n",
    "\n",
    "1. Import the hvPlot library for Pandas.\n",
    "\n",
    "2. Plot the `total_payments_by_state` DataFrame by using the following code:\n",
    "    \n",
    "    ```python\n",
    "    total_payments_by_state_sorted.hvplot.bar(x=\"Provider State\", y=\"Average Total Payments\")\n",
    "    ```\n",
    "\n",
    "3. Use your visualization and apply the pan, zoom, and hover widgets to answer the following questions:\n",
    "\n",
    "    * Based on your visualization, which state has the highest total payment?\n",
    "\n",
    "    * Which state has the lowest total payment?\n",
    "\n",
    "\n",
    "\n"
   ]
  },
  {
   "cell_type": "markdown",
   "metadata": {},
   "source": [
    "#### Step 1: Import the hvPlot library for Pandas."
   ]
  },
  {
   "cell_type": "code",
   "execution_count": null,
   "metadata": {},
   "outputs": [],
   "source": [
    "# Import the hvPlot library\n",
    "import hvplot.pandas\n"
   ]
  },
  {
   "cell_type": "markdown",
   "metadata": {},
   "source": [
    "#### Step 2: Plot the `total_payments_by_state` DataFrame by using the following code:\n",
    "    \n",
    "```python\n",
    "total_payments_by_state_sorted.hvplot.bar(x=\"Provider State\", y=\"Average Total Payments\")\n",
    "```"
   ]
  },
  {
   "cell_type": "code",
   "execution_count": null,
   "metadata": {},
   "outputs": [],
   "source": [
    "# Create an interactive bar plot with hvplot where the x-axis is the \"Provider State\" \n",
    "# and the y-axis is the \"Average Total Payments\"\n",
    "total_payments_by_state_sorted.hvplot.bar(x=\"Provider State\", y=\"Average Total Payments\", rot=90)\n"
   ]
  },
  {
   "cell_type": "markdown",
   "metadata": {},
   "source": [
    "#### Step 3: Use your visualization and apply the pan, zoom, and hover widgets to answer the following questions:"
   ]
  },
  {
   "cell_type": "markdown",
   "metadata": {},
   "source": [
    "**Question:** Based on your visualization, which state has the highest total payment?\n",
    "\n",
    "**Answer:**  # YOUR ANSWER HERE\n"
   ]
  },
  {
   "cell_type": "markdown",
   "metadata": {},
   "source": [
    "**Question:** Which state has the lowest total payment?\n",
    "\n",
    "**Answer:** # YOUR ANSWER HERE"
   ]
  },
  {
   "cell_type": "markdown",
   "metadata": {},
   "source": [
    "---"
   ]
  },
  {
   "cell_type": "markdown",
   "metadata": {},
   "source": [
    "## Explore the Average Total Payments in California\n",
    "\n",
    "In the previous section, you found that California has the highest total payments for diabetes care. In this section, you’ll further explore the California prices by using visual and numerical aggregation.\n"
   ]
  },
  {
   "cell_type": "markdown",
   "metadata": {},
   "source": [
    "### Visually Aggregate the Data\n",
    "\n",
    "First, visually aggregate the data by completing the following steps:\n",
    "\n",
    "1. Using the `average_total_payments_by_state` DataFrame, create a bar plot, and group the data by provider state via the hvPlot `groupby` parameter. Use the hvPlot widget dropdown menu to select the prices for California.\n",
    "\n",
    "2. Use your visualization and apply the pan, zoom, and hover widgets to answer the following questions:\n",
    "\n",
    "    * What patterns do you notice in the data?\n",
    "\n",
    "    * Do any data points influence the total payments amount?\n"
   ]
  },
  {
   "cell_type": "markdown",
   "metadata": {},
   "source": [
    "#### Step 1: Using the `average_total_payments_by_state` DataFrame, create a bar plot, and group the data by provider state via the hvPlot `groupby` parameter. Use the hvPlot widget dropdown menu to select the prices for California."
   ]
  },
  {
   "cell_type": "code",
   "execution_count": null,
   "metadata": {},
   "outputs": [],
   "source": [
    "# Create a hvplot.bar chart and groupby the \"Provider State\"\n",
    "# then select California\n",
    "average_total_payments_by_state.hvplot.bar(\n",
    "    groupby=\"Provider State\", \n",
    "    rot=90,\n",
    "    size=(35,7)\n",
    ")\n"
   ]
  },
  {
   "cell_type": "markdown",
   "metadata": {},
   "source": [
    "#### Step 2: Use your visualization and apply the pan, zoom, and hover widgets to answer the following questions:"
   ]
  },
  {
   "cell_type": "markdown",
   "metadata": {},
   "source": [
    "**Question:** Referring to the visualization of California's data, what patterns do you notice in the data?\n",
    "\n",
    "**Answer:** # YOUR ANSWER HERE\n",
    "\n"
   ]
  },
  {
   "cell_type": "markdown",
   "metadata": {},
   "source": [
    "**Question:** Do any data points influence the total payments amount?\n",
    "\n",
    "**Answer:**  # YOUR ANSWER HERE"
   ]
  },
  {
   "cell_type": "markdown",
   "metadata": {},
   "source": [
    "### Numerically Aggregate the Data\n",
    "\n",
    "Next, numerically aggregate the California data by completing the following steps: \n",
    "\n",
    "1. Create a DataFrame by using the `loc` function and by using the `average_total _payments_by_state` DataFrame filtered only for California (CA). Sort the values by average total payments, and then review both the first five and the last five rows of data.\n",
    "\n",
    "2. Plot the sorted DataFrame as an hvPlot bar chart.\n",
    "\n",
    "3. Use your visualization and apply the pan, zoom, and hover widgets to answer the following questions:\n",
    "    * How many payments appear to be outliers?\n",
    "    * What’s the approximate value of those payments?\n"
   ]
  },
  {
   "cell_type": "markdown",
   "metadata": {},
   "source": [
    "#### Step 1: Create a DataFrame by using the `loc` function and by using the `average_total _payments_by_state` DataFrame filtered only for California (CA). Sort the values by average total payments, and then review both the first five and the last five rows of data."
   ]
  },
  {
   "cell_type": "code",
   "execution_count": null,
   "metadata": {},
   "outputs": [],
   "source": [
    "# Using the `loc` function, create a DataFrame of the average total payment by state\n",
    "# filtered for only California (CA)\n",
    "ca_average_total_payments = average_total_payments_by_state.loc[average_total_payments_by_state[\"Provider State\"]==\"CA\"]\n",
    "\n",
    "# Sort the data\n",
    "ca_average_total_payments = ca_average_total_payments.sort_values(\"Average Total Payments\")\n",
    "\n",
    "# View the first five rows of the DataFrame\n",
    "display(ca_average_total_payments.head())\n",
    "display(ca_average_total_payments.tail())\n",
    "\n",
    "    "
   ]
  },
  {
   "cell_type": "markdown",
   "metadata": {},
   "source": [
    "#### Step 2: Plot the sorted DataFrame as an hvPlot bar chart."
   ]
  },
  {
   "cell_type": "code",
   "execution_count": null,
   "metadata": {},
   "outputs": [],
   "source": [
    "# Use hvPlot to visualize the sorted data for California\n",
    "ca_average_total_payments.hvplot.bar(rot=90, size=(35, 7))\n"
   ]
  },
  {
   "cell_type": "markdown",
   "metadata": {},
   "source": [
    "#### Step 3: Use your visualization and apply the pan, zoom, and hover widgets to answer the following questions:"
   ]
  },
  {
   "cell_type": "markdown",
   "metadata": {},
   "source": [
    "**Question:** How many payments appear to be outliers? What’s the approximate value of those payments?\n",
    "\n",
    "**Answer:** "
   ]
  },
  {
   "cell_type": "markdown",
   "metadata": {},
   "source": [
    "### Explore the Outliers in the Data\n",
    "\n",
    "In this section, you’ll use the DataFrame that you generated in your analysis of the California average total payments to explore the outlier payments. Complete the following steps:\n",
    "\n",
    "1. Use the `describe` function to find the mean value of the average total payments.\n",
    "\n",
    "2. Use the interactive bar plot (for the sorted values of the California average total payments) to estimate a payment value that you can use to filter out the highest three data spikes.\n",
    "\n",
    "3. Use `loc` or `iloc` to filter out the three outlier payments from the California average total payments. Then recalculate the summary statistics by using the `describe` function.\n",
    "\n",
    "4. Review the two sets of summary statistics that you generated in this section and answer the following question:\n",
    "\n",
    "    * How much do the outliers change the mean value of the California average total payments for diabetes?\n",
    "\n"
   ]
  },
  {
   "cell_type": "markdown",
   "metadata": {},
   "source": [
    "#### Step 1: Use the `describe` function to find the mean value of the average total payments."
   ]
  },
  {
   "cell_type": "code",
   "execution_count": null,
   "metadata": {},
   "outputs": [],
   "source": [
    "# Use the describe function to calculate the mean value of California's average total payments.\n",
    "ca_average_total_payments.describe()\n",
    "\n"
   ]
  },
  {
   "cell_type": "markdown",
   "metadata": {},
   "source": [
    "#### Step 2: Use the interactive bar plot (for the sorted values of the California average total payments) to estimate a payment value that you can use to filter out the highest three data spikes."
   ]
  },
  {
   "cell_type": "code",
   "execution_count": null,
   "metadata": {},
   "outputs": [],
   "source": [
    "# Using the ca_average_total_payments DataFrame, create a conditional statement \n",
    "# that can be used to filter out the three largest payments\n",
    "ca_average_total_payments[\"Average Total Payments\"] < 15000\n"
   ]
  },
  {
   "cell_type": "markdown",
   "metadata": {},
   "source": [
    "#### Step 3: Use `loc` to filter out the three outlier payments from the California average total payments. Then recalculate the summary statistics by using the `describe` function."
   ]
  },
  {
   "cell_type": "code",
   "execution_count": null,
   "metadata": {},
   "outputs": [],
   "source": [
    "# Create a DataFrame that filters out the 3 largest payments from the California data \n",
    "filtered_california_payments = ca_average_total_payments.loc[\n",
    "    ca_average_total_payments[\"Average Total Payments\"] < 15000\n",
    "]\n",
    "\n",
    "# View the filtered DataFrame in a plot\n",
    "filtered_california_payments.hvplot.bar(rot=90, size=(35, 7))\n"
   ]
  },
  {
   "cell_type": "code",
   "execution_count": null,
   "metadata": {},
   "outputs": [],
   "source": [
    "# Use the describe function to calculate summary statistics for the filtered data.\n",
    "filtered_california_payments.describe()\n",
    "\n"
   ]
  },
  {
   "cell_type": "markdown",
   "metadata": {},
   "source": [
    "#### Step 4: Review the two sets of summary statistics that you generated in this section and answer the following question."
   ]
  },
  {
   "cell_type": "markdown",
   "metadata": {},
   "source": [
    "**Question:**  How much do the outliers change the mean value of the California average total payments for diabetes?\n",
    "\n",
    "**Answer:** # YOUR ANSWER HERE"
   ]
  },
  {
   "cell_type": "code",
   "execution_count": null,
   "metadata": {},
   "outputs": [],
   "source": []
  }
 ],
 "metadata": {
  "interpreter": {
   "hash": "b2ec66fa3d085a6e66869b1a678e052484c09c72639639e5b92cf1e8e9fcc898"
  },
  "kernel_info": {
   "name": "python3"
  },
  "kernelspec": {
   "display_name": "Python 3 (ipykernel)",
   "language": "python",
   "name": "python3"
  },
  "language_info": {
   "codemirror_mode": {
    "name": "ipython",
    "version": 3
   },
   "file_extension": ".py",
   "mimetype": "text/x-python",
   "name": "python",
   "nbconvert_exporter": "python",
   "pygments_lexer": "ipython3",
   "version": "3.9.12"
  },
  "nteract": {
   "version": "0.12.3"
  }
 },
 "nbformat": 4,
 "nbformat_minor": 4
}
