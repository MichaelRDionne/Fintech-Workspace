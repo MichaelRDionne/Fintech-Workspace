{
 "cells": [
  {
   "cell_type": "code",
   "execution_count": null,
   "metadata": {},
   "outputs": [],
   "source": [
    "import hashlib\n",
    "\n",
    "def hash_number(number):\n",
    "    sha = hashlib.sha256()\n",
    "    value = str(number).encode()\n",
    "    sha.update(value)\n",
    "    return sha.hexdigest()\n",
    "\n",
    "count = 0\n",
    "hash = hash_number(count)\n",
    "print(f\"The first hash is {hash}\")\n",
    "\n",
    "while not hash.startswith(\"0000\"):\n",
    "    count += 1\n",
    "    hash = hash_number(count)\n",
    "\n",
    "print(f\"Found a hash with four zeros after {count} attempts\")\n",
    "print(hash)"
   ]
  }
 ],
 "metadata": {
  "kernelspec": {
   "display_name": "Python 3.9.12 ('base')",
   "language": "python",
   "name": "python3"
  },
  "language_info": {
   "name": "python",
   "version": "3.9.12"
  },
  "orig_nbformat": 4,
  "vscode": {
   "interpreter": {
    "hash": "3d597f4c481aa0f25dceb95d2a0067e73c0966dcbd003d741d821a7208527ecf"
   }
  }
 },
 "nbformat": 4,
 "nbformat_minor": 2
}
