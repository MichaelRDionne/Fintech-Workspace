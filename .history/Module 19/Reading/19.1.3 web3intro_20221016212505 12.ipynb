# Import the Web3 library
from web3 import Web3

# Import the RPC Provider
from web3 import EthereumTesterProvider

# Create an instance of Web3
w3 = Web3()

