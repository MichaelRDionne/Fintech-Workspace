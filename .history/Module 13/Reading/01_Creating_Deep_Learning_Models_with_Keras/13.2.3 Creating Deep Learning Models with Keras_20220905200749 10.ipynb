# Imports
import pandas as pd
from pathlib import Path
import tensorflow as tf
from tensorflow.keras.layers import Dense
from tensorflow.keras.models import Sequential
from sklearn.preprocessing import StandardScaler
from sklearn.model_selection import train_test_split
