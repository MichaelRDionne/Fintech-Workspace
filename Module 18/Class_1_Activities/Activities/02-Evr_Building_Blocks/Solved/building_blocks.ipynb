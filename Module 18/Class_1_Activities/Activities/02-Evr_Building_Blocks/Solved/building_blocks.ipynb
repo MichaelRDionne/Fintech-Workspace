{
 "cells": [
  {
   "cell_type": "markdown",
   "metadata": {},
   "source": [
    "# Creating, Chaining, & Hashing Blocks"
   ]
  },
  {
   "cell_type": "code",
   "execution_count": null,
   "metadata": {},
   "outputs": [
    {
     "ename": "",
     "evalue": "",
     "output_type": "error",
     "traceback": [
      "\u001b[1;31mFailed to start the Kernel. \n",
      "\u001b[1;31mKernel dev (Python 3.9.12) is not usable. Check the Jupyter output tab for more information. \n",
      "\u001b[1;31mView Jupyter <a href='command:jupyter.viewOutput'>log</a> for further details."
     ]
    }
   ],
   "source": [
    "# Initial imports\n",
    "from dataclasses import dataclass\n",
    "from datetime import datetime"
   ]
  },
  {
   "cell_type": "markdown",
   "metadata": {},
   "source": [
    "## Define the `Block` class"
   ]
  },
  {
   "cell_type": "code",
   "execution_count": 3,
   "metadata": {},
   "outputs": [],
   "source": [
    "# Define a new dataclass called Block\n",
    "@dataclass\n",
    "class Block:\n",
    "    # Define the parameters that the Block class will hold    \n",
    "    shares: str\n",
    "    buyer_id: int\n",
    "    seller_id: int\n",
    "    trade_time: str = datetime.utcnow().strftime(\"%H:%M:%S\")"
   ]
  },
  {
   "cell_type": "markdown",
   "metadata": {},
   "source": [
    "## Modify the `shares` field"
   ]
  },
  {
   "cell_type": "code",
   "execution_count": 4,
   "metadata": {},
   "outputs": [],
   "source": [
    "# Required libraries\n",
    "from typing import Any"
   ]
  },
  {
   "cell_type": "code",
   "execution_count": 5,
   "metadata": {},
   "outputs": [],
   "source": [
    "# Change the shares field to hold anything\n",
    "@dataclass\n",
    "class Block():\n",
    "    shares: Any\n",
    "    buyer_id: int\n",
    "    seller_id: int\n",
    "    trade_time: str = datetime.utcnow().strftime(\"%H:%M:%S\")"
   ]
  },
  {
   "cell_type": "markdown",
   "metadata": {},
   "source": [
    "## Create a new block to register a new trade"
   ]
  },
  {
   "cell_type": "code",
   "execution_count": 6,
   "metadata": {},
   "outputs": [],
   "source": [
    "# Create a new block object\n",
    "new_trade = Block(shares=1000, buyer_id=10, seller_id=15)"
   ]
  },
  {
   "cell_type": "code",
   "execution_count": 7,
   "metadata": {},
   "outputs": [
    {
     "name": "stdout",
     "output_type": "stream",
     "text": [
      "Block(shares=1000, buyer_id=10, seller_id=15, trade_time='06:36:08')\n"
     ]
    }
   ],
   "source": [
    "# Display the new_trade object data\n",
    "print(new_trade)"
   ]
  },
  {
   "cell_type": "markdown",
   "metadata": {},
   "source": [
    "## Hash and Python object"
   ]
  },
  {
   "cell_type": "code",
   "execution_count": 8,
   "metadata": {},
   "outputs": [],
   "source": [
    "# Required libraries\n",
    "import hashlib"
   ]
  },
  {
   "cell_type": "code",
   "execution_count": 9,
   "metadata": {},
   "outputs": [],
   "source": [
    "# Set the hashing algorithm to use\n",
    "sha = hashlib.sha256()"
   ]
  },
  {
   "cell_type": "code",
   "execution_count": 10,
   "metadata": {},
   "outputs": [
    {
     "name": "stdout",
     "output_type": "stream",
     "text": [
      "06:36:08\n"
     ]
    }
   ],
   "source": [
    "# Create an attribute that registers the current time\n",
    "trade_time = datetime.utcnow().strftime(\"%H:%M:%S\")\n",
    "\n",
    "# Print the value of trade_time\n",
    "print(trade_time)"
   ]
  },
  {
   "cell_type": "code",
   "execution_count": 11,
   "metadata": {},
   "outputs": [
    {
     "data": {
      "text/plain": [
       "b'06:36:08'"
      ]
     },
     "execution_count": 11,
     "metadata": {},
     "output_type": "execute_result"
    }
   ],
   "source": [
    "# Convert  the string date to a numeric representation\n",
    "trade_time_encoded = trade_time.encode()\n",
    "\n",
    "# Print the numeric representation of the current time\n",
    "trade_time_encoded"
   ]
  },
  {
   "cell_type": "code",
   "execution_count": 12,
   "metadata": {},
   "outputs": [
    {
     "name": "stdout",
     "output_type": "stream",
     "text": [
      "8c7fd44e647cd7bf703c69ecd986ac80cb5eb9f352bf6506826c8b578a86fc67\n"
     ]
    }
   ],
   "source": [
    "# Hash the encoded trade date/time\n",
    "sha.update(trade_time_encoded)\n",
    "\n",
    "# Print the hashed time\n",
    "print(sha.hexdigest())"
   ]
  },
  {
   "cell_type": "markdown",
   "metadata": {},
   "source": [
    "## Implement `self`-made hashes"
   ]
  },
  {
   "cell_type": "code",
   "execution_count": 13,
   "metadata": {},
   "outputs": [],
   "source": [
    "# Create a hashing function\n",
    "def hash_block(self):\n",
    "   # Declare a hashing algorithm\n",
    "    sha = hashlib.sha256()\n",
    "    \n",
    "    # Encode the time of trade\n",
    "    trade_time_encoded = self.trade_time.encode()\n",
    "    \n",
    "    # Add the encoded trade time into the hash\n",
    "    sha.update(trade_time_encoded)\n",
    "   \n",
    "    # Turn the shares data into an encoded string\n",
    "    data = str(self.shares).encode()\n",
    "    \n",
    "    # Add the encoded shares traded data into the hash\n",
    "    sha.update(data)\n",
    "\n",
    "    # Return the hash to the rest of the Block class\n",
    "    return sha.hexdigest()"
   ]
  },
  {
   "cell_type": "markdown",
   "metadata": {},
   "source": [
    "## Inserting the hash function into the `Block`"
   ]
  },
  {
   "cell_type": "code",
   "execution_count": 14,
   "metadata": {},
   "outputs": [],
   "source": [
    "@dataclass\n",
    "class Block:\n",
    "    shares: Any\n",
    "    buyer_id: int\n",
    "    seller_id: int\n",
    "    trade_time: str = datetime.utcnow().strftime(\"%H:%M:%S\")\n",
    "\n",
    "    def hash_block(self):\n",
    "        # Declare a hashing algorithm\n",
    "        sha = hashlib.sha256()\n",
    "\n",
    "        # Encode the time of trade\n",
    "        trade_time_encoded = self.trade_time.encode()\n",
    "        \n",
    "        # Add the encoded trade time into the hash\n",
    "        sha.update(trade_time_encoded)\n",
    "\n",
    "        # Turn the shares data into an encoded string\n",
    "        data = str(self.shares).encode()\n",
    "        \n",
    "        # Add the encoded shares traded data into the hash\n",
    "        sha.update(data)\n",
    "\n",
    "        # Return the hash to the rest of the Block class\n",
    "        return sha.hexdigest()"
   ]
  },
  {
   "cell_type": "code",
   "execution_count": 15,
   "metadata": {},
   "outputs": [],
   "source": [
    "# Create and save a new block\n",
    "new_block = Block(shares=1000, buyer_id=10, seller_id=50)"
   ]
  },
  {
   "cell_type": "code",
   "execution_count": 16,
   "metadata": {},
   "outputs": [],
   "source": [
    "# Has the block using the newly created `hash_block` function\n",
    "block_hash = new_block.hash_block()"
   ]
  },
  {
   "cell_type": "code",
   "execution_count": 17,
   "metadata": {},
   "outputs": [
    {
     "name": "stdout",
     "output_type": "stream",
     "text": [
      "2ada53a7f0228d26409320f59c582d387487fc74d6ac6f9df6a69d1b1877b7a8\n"
     ]
    }
   ],
   "source": [
    "# Print the hashed block\n",
    "print(block_hash)"
   ]
  },
  {
   "cell_type": "markdown",
   "metadata": {},
   "source": [
    "## The `Chain` class"
   ]
  },
  {
   "cell_type": "code",
   "execution_count": 18,
   "metadata": {},
   "outputs": [],
   "source": [
    "# Import a `List` function to hold a list of blocks\n",
    "from typing import List"
   ]
  },
  {
   "cell_type": "code",
   "execution_count": 19,
   "metadata": {},
   "outputs": [],
   "source": [
    "# Create the StockChain dataclass\n",
    "@dataclass\n",
    "class StockChain:\n",
    "    chain: List[Block]    \n",
    "    def add_block(self, block):\n",
    "        \"\"\"\n",
    "        The function `add_block` adds any new `block` to the `chain` list\n",
    "        \"\"\"\n",
    "        self.chain += [block]"
   ]
  },
  {
   "cell_type": "code",
   "execution_count": 20,
   "metadata": {},
   "outputs": [
    {
     "name": "stdout",
     "output_type": "stream",
     "text": [
      "StockChain(chain=[Block(shares=100, buyer_id=10, seller_id=50, trade_time='06:36:08')])\n"
     ]
    }
   ],
   "source": [
    "# Create a new StockChain, containing a single new `Block` instance in a list\n",
    "stockchain = StockChain([Block(shares=100, buyer_id=10, seller_id=50)])\n",
    "\n",
    "# Print the stockchain data\n",
    "print(stockchain)"
   ]
  },
  {
   "cell_type": "markdown",
   "metadata": {},
   "source": [
    "## Link blocks in a chain"
   ]
  },
  {
   "cell_type": "code",
   "execution_count": 21,
   "metadata": {},
   "outputs": [
    {
     "name": "stdout",
     "output_type": "stream",
     "text": [
      "Block(shares=100, buyer_id=10, seller_id=50, trade_time='06:36:08')\n"
     ]
    }
   ],
   "source": [
    "# Get the most recent block (since it's also the first block, it's the genesis block)\n",
    "previous_block = stockchain.chain[-1]\n",
    "\n",
    "# Print previous block\n",
    "print(previous_block)"
   ]
  },
  {
   "cell_type": "code",
   "execution_count": 22,
   "metadata": {},
   "outputs": [
    {
     "name": "stdout",
     "output_type": "stream",
     "text": [
      "29c37f6b645a3240964357243a79a732c678da8f907a4a5d3f4c11b446012bf1\n"
     ]
    }
   ],
   "source": [
    "# Declare a hash method\n",
    "sha = hashlib.sha256()\n",
    "\n",
    "# Convert block data to string and encode it\n",
    "previous_hash = str(previous_block).encode()\n",
    "\n",
    "# Hash the encoded data\n",
    "sha.update(previous_hash)\n",
    "\n",
    "# Print the hashed data\n",
    "print(sha.hexdigest())\n",
    "\n",
    "# Save the hash of the previous block\n",
    "previous_hash = sha.hexdigest()"
   ]
  },
  {
   "cell_type": "code",
   "execution_count": 23,
   "metadata": {},
   "outputs": [],
   "source": [
    "# Update the Block class to include all the hasing functions\n",
    "@dataclass\n",
    "class Block:\n",
    "    shares: Any\n",
    "    buyer_id: int\n",
    "    seller_id: int\n",
    "    trade_time: str = datetime.utcnow().strftime(\"%H:%M:%S\")\n",
    "\n",
    "    ### NEW CODE: Store the previous hash (default to 0 if none exists) ##\n",
    "    prev_hash: str = \"0\"\n",
    "    ###############\n",
    "\n",
    "    def hash_block(self):\n",
    "       # Declare a hashing algorithm\n",
    "        sha = hashlib.sha256()\n",
    "\n",
    "        # Encode the time of trade\n",
    "        trade_time_encoded = self.trade_time.encode()\n",
    "        \n",
    "        # Add the encoded trade time into the hash\n",
    "        sha.update(trade_time_encoded)\n",
    "\n",
    "        # Turn the shares data into an encoded string\n",
    "        data = str(self.shares).encode()\n",
    "        \n",
    "        # Add the encoded shares traded data into the hash\n",
    "        sha.update(data)\n",
    "\n",
    "        ### NEW CODE: Take the previous hash and insert it into the new one ##    \n",
    "        prev_hash = str(self.prev_hash).encode()\n",
    "        sha.update(prev_hash)\n",
    "        ###############\n",
    "\n",
    "        # Return the hash to the rest of the Block class\n",
    "        return sha.hexdigest()"
   ]
  },
  {
   "cell_type": "code",
   "execution_count": 24,
   "metadata": {},
   "outputs": [
    {
     "name": "stdout",
     "output_type": "stream",
     "text": [
      "Block(shares=500, buyer_id=13, seller_id=99, trade_time='06:36:09', prev_hash='29c37f6b645a3240964357243a79a732c678da8f907a4a5d3f4c11b446012bf1')\n"
     ]
    }
   ],
   "source": [
    "# Create a new block - previous hash gets added in as an attribute\n",
    "new_block = Block(shares=500, buyer_id=13, seller_id=99, prev_hash = previous_hash)\n",
    "\n",
    "# Print new_block data\n",
    "print(new_block)"
   ]
  },
  {
   "cell_type": "code",
   "execution_count": 25,
   "metadata": {},
   "outputs": [
    {
     "name": "stdout",
     "output_type": "stream",
     "text": [
      "StockChain(chain=[Block(shares=100, buyer_id=10, seller_id=50, trade_time='06:36:08'), Block(shares=500, buyer_id=13, seller_id=99, trade_time='06:36:09', prev_hash='29c37f6b645a3240964357243a79a732c678da8f907a4a5d3f4c11b446012bf1')])\n"
     ]
    }
   ],
   "source": [
    "# Add the new block to the chain\n",
    "stockchain.add_block(new_block)\n",
    "\n",
    "# Display stockchain data\n",
    "print(stockchain)"
   ]
  }
 ],
 "metadata": {
  "kernelspec": {
   "display_name": "dev",
   "language": "python",
   "name": "dev"
  },
  "language_info": {
   "codemirror_mode": {
    "name": "ipython",
    "version": 3
   },
   "file_extension": ".py",
   "mimetype": "text/x-python",
   "name": "python",
   "nbconvert_exporter": "python",
   "pygments_lexer": "ipython3",
   "version": "3.9.12"
  },
  "vscode": {
   "interpreter": {
    "hash": "3d597f4c481aa0f25dceb95d2a0067e73c0966dcbd003d741d821a7208527ecf"
   }
  }
 },
 "nbformat": 4,
 "nbformat_minor": 4
}
