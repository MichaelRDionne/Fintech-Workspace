{
 "cells": [
  {
   "cell_type": "code",
   "execution_count": 40,
   "id": "44828492-5655-4bec-9ee1-08f1e8871cb0",
   "metadata": {},
   "outputs": [],
   "source": [
    "class Student(): \n",
    "    def __init__(self, input_name='Kevin'): \n",
    "        self.name=input_name\n",
    "        self.grade=90\n",
    "        \n",
    "    def get_name(self): \n",
    "        return self.name\n",
    "    \n",
    "    def change_name(self, new_name): \n",
    "        self.name=new_name\n",
    "        \n",
    "    def __repr__(self): \n",
    "        return f\"name: {self.name}, grade: {self.grade}\""
   ]
  },
  {
   "cell_type": "code",
   "execution_count": 41,
   "id": "f7c12903-1c0b-457e-9d3e-c7f17aa9ed0f",
   "metadata": {},
   "outputs": [],
   "source": [
    "student_a=Student()"
   ]
  },
  {
   "cell_type": "code",
   "execution_count": 42,
   "id": "ba9a0d5a-3783-49c6-9a77-f0ba9ec1eb29",
   "metadata": {},
   "outputs": [
    {
     "data": {
      "text/plain": [
       "'Kevin'"
      ]
     },
     "execution_count": 42,
     "metadata": {},
     "output_type": "execute_result"
    }
   ],
   "source": [
    "student_a.name"
   ]
  },
  {
   "cell_type": "code",
   "execution_count": 43,
   "id": "57c5ed2f-e20e-40a6-ba8d-44b20ccaecd4",
   "metadata": {},
   "outputs": [
    {
     "data": {
      "text/plain": [
       "'Kevin'"
      ]
     },
     "execution_count": 43,
     "metadata": {},
     "output_type": "execute_result"
    }
   ],
   "source": [
    "student_a.get_name()"
   ]
  },
  {
   "cell_type": "code",
   "execution_count": 44,
   "id": "88a7af37-2d00-4198-bd52-f8b90fe81564",
   "metadata": {},
   "outputs": [],
   "source": [
    "student_a.change_name('Kev')"
   ]
  },
  {
   "cell_type": "code",
   "execution_count": 45,
   "id": "b1fe7fb6-6f58-4c8f-805a-e369a0db197d",
   "metadata": {},
   "outputs": [
    {
     "data": {
      "text/plain": [
       "'Kev'"
      ]
     },
     "execution_count": 45,
     "metadata": {},
     "output_type": "execute_result"
    }
   ],
   "source": [
    "student_a.name"
   ]
  },
  {
   "cell_type": "code",
   "execution_count": 46,
   "id": "f3422bac-869a-4d1c-b442-72b6483a1f94",
   "metadata": {},
   "outputs": [
    {
     "data": {
      "text/plain": [
       "90"
      ]
     },
     "execution_count": 46,
     "metadata": {},
     "output_type": "execute_result"
    }
   ],
   "source": [
    "student_a.grade"
   ]
  },
  {
   "cell_type": "code",
   "execution_count": 47,
   "id": "54b87257-fe23-428f-a02c-624a41621cab",
   "metadata": {},
   "outputs": [
    {
     "data": {
      "text/plain": [
       "name: Kev, grade: 90"
      ]
     },
     "execution_count": 47,
     "metadata": {},
     "output_type": "execute_result"
    }
   ],
   "source": [
    "student_a"
   ]
  },
  {
   "cell_type": "code",
   "execution_count": 22,
   "id": "df2e35fe-be95-4aa0-9336-95ad3ac89f4c",
   "metadata": {},
   "outputs": [],
   "source": [
    "student_b=Student('Jennifer')"
   ]
  },
  {
   "cell_type": "code",
   "execution_count": 23,
   "id": "cad0bd1a-9719-4f99-a17a-a5298a5ef7bd",
   "metadata": {},
   "outputs": [
    {
     "data": {
      "text/plain": [
       "'Jennifer'"
      ]
     },
     "execution_count": 23,
     "metadata": {},
     "output_type": "execute_result"
    }
   ],
   "source": [
    "student_b.name"
   ]
  },
  {
   "cell_type": "code",
   "execution_count": null,
   "id": "e596ead4-f7af-46a6-9757-84f954301569",
   "metadata": {},
   "outputs": [],
   "source": []
  }
 ],
 "metadata": {
  "kernelspec": {
   "display_name": "Python 3 (ipykernel)",
   "language": "python",
   "name": "python3"
  },
  "language_info": {
   "codemirror_mode": {
    "name": "ipython",
    "version": 3
   },
   "file_extension": ".py",
   "mimetype": "text/x-python",
   "name": "python",
   "nbconvert_exporter": "python",
   "pygments_lexer": "ipython3",
   "version": "3.7.11"
  }
 },
 "nbformat": 4,
 "nbformat_minor": 5
}
