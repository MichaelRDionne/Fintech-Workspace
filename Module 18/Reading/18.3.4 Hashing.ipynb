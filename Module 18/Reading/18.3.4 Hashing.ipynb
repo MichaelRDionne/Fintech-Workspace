{
 "cells": [
  {
   "cell_type": "code",
   "execution_count": null,
   "metadata": {},
   "outputs": [],
   "source": [
    "import hashlib\n",
    "\n",
    "def hash_number(number):\n",
    "    sha = hashlib.sha256()\n",
    "    value = str(number).encode()\n",
    "    sha.update(value)\n",
    "    return sha.hexdigest()\n",
    "\n",
    "count = 0\n",
    "hash = hash_number(count)\n",
    "print(f\"The first hash is {hash}\")\n",
    "\n",
    "while not hash.startswith(\"0000\"):\n",
    "    count += 1\n",
    "    hash = hash_number(count)\n",
    "\n",
    "print(f\"Found a hash with four zeros after {count} attempts\")\n",
    "print(hash)"
   ]
  }
 ],
 "metadata": {
  "kernelspec": {
   "display_name": "dev",
   "language": "python",
   "name": "dev"
  },
  "language_info": {
   "name": "python",
   "version": "3.9.12"
  },
  "orig_nbformat": 4,
  "vscode": {
   "interpreter": {
    "hash": "aee8b7b246df8f9039afb4144a1f6fd8d2ca17a180786b69acc140d282b71a49"
   }
  }
 },
 "nbformat": 4,
 "nbformat_minor": 2
}
