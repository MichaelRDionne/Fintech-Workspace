{
 "cells": [
  {
   "cell_type": "code",
   "execution_count": null,
   "metadata": {},
   "outputs": [
    {
     "ename": "",
     "evalue": "",
     "output_type": "error",
     "traceback": [
      "\u001b[1;31mFailed to start the Kernel. \n",
      "\u001b[1;31mKernel dev (Python 3.9.12) is not usable. Check the Jupyter output tab for more information. \n",
      "\u001b[1;31mView Jupyter <a href='command:jupyter.viewOutput'>log</a> for further details."
     ]
    }
   ],
   "source": [
    "import hashlib\n",
    "\n",
    "def hash_number(number):\n",
    "    sha = hashlib.sha256()\n",
    "    value = str(number).encode()\n",
    "    sha.update(value)\n",
    "    return sha.hexdigest()\n",
    "\n",
    "count = 0\n",
    "hash = hash_number(count)\n",
    "print(f\"The first hash is {hash}\")\n",
    "\n",
    "while not hash.startswith(\"0000000\"):\n",
    "    count += 1\n",
    "    hash = hash_number(count)\n",
    "\n",
    "print(f\"Found a hash with four zeros after {count} attempts\")\n",
    "print(hash)"
   ]
  },
  {
   "cell_type": "code",
   "execution_count": 3,
   "metadata": {},
   "outputs": [
    {
     "name": "stdout",
     "output_type": "stream",
     "text": [
      "The original nonce is: 0\n",
      "The original block hash is: ee665879622e882b3e996e490132b228a1104e4787c9c5569cff5c37979249ad\n",
      "The new nonce is now: 1\n",
      "The new block hash is now: 0c8e7d3df39777e93242ae74bf82013606003c2ff80ed8db5c6c2018a0e0ac1a\n"
     ]
    }
   ],
   "source": [
    "from dataclasses import dataclass\n",
    "from typing import Any\n",
    "import datetime as datetime\n",
    "import hashlib\n",
    "from typing import List\n",
    "\n",
    "\n",
    "@dataclass\n",
    "class Block:\n",
    "    data: Any\n",
    "    creator_id: int\n",
    "    timestamp: str = datetime.datetime.utcnow().strftime(\"%H:%M:%S\")\n",
    "    prev_hash: str = \"0\"\n",
    "    nonce: int = 0\n",
    "\n",
    "    def hash_block(self):\n",
    "        sha = hashlib.sha256()\n",
    "\n",
    "        data = str(self.data).encode()\n",
    "        sha.update(data)\n",
    "\n",
    "        creator_id = str(self.creator_id).encode()\n",
    "        sha.update(data)\n",
    "\n",
    "        prev_hash = str(self.prev_hash).encode()\n",
    "        sha.update(prev_hash)\n",
    "\n",
    "        timestamp = str(self.timestamp).encode()\n",
    "        sha.update(timestamp)\n",
    "\n",
    "        nonce = str(self.nonce).encode()\n",
    "        sha.update(nonce)\n",
    "\n",
    "        return sha.hexdigest()\n",
    "\n",
    "# Create a test block and view the nonce and hash\n",
    "block = Block(\"test\", 1)\n",
    "print(f\"The original nonce is: {block.nonce}\")\n",
    "print(f\"The original block hash is: {block.hash_block()}\")\n",
    "\n",
    "# Update the test block and view the nonce and hash\n",
    "block.nonce += 1\n",
    "print(f\"The new nonce is now: {block.nonce}\")\n",
    "print(f\"The new block hash is now: {block.hash_block()}\")\n",
    "\n",
    "@dataclass\n",
    "class PyChain:\n",
    "    chain: List[Block]\n",
    "    difficulty: int = 4\n",
    "\n",
    "    def proof_of_work(self, block):\n",
    "        calculated_hash = block.hash_block()\n",
    "\n",
    "        num_of_zeros = \"0\" * self.difficulty\n",
    "\n",
    "        while not calculated_hash.startswith(num_of_zeros):\n",
    "            block.nonce += 1\n",
    "            calculated_hash = block.hash_block()\n",
    "\n",
    "        return block\n",
    "\n",
    "    def add_block(self, candidate_block):\n",
    "        block = self.proof_of_work(candidate_block)\n",
    "        self.chain += [block]\n"
   ]
  }
 ],
 "metadata": {
  "kernelspec": {
   "display_name": "dev",
   "language": "python",
   "name": "dev"
  },
  "language_info": {
   "codemirror_mode": {
    "name": "ipython",
    "version": 3
   },
   "file_extension": ".py",
   "mimetype": "text/x-python",
   "name": "python",
   "nbconvert_exporter": "python",
   "pygments_lexer": "ipython3",
   "version": "3.9.12"
  },
  "orig_nbformat": 4,
  "vscode": {
   "interpreter": {
    "hash": "aee8b7b246df8f9039afb4144a1f6fd8d2ca17a180786b69acc140d282b71a49"
   }
  }
 },
 "nbformat": 4,
 "nbformat_minor": 2
}
