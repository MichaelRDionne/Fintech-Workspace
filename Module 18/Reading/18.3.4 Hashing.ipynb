{
 "cells": [
  {
   "cell_type": "code",
   "execution_count": 1,
   "metadata": {},
   "outputs": [
    {
     "name": "stdout",
     "output_type": "stream",
     "text": [
      "The first hash is 5feceb66ffc86f38d952786c6d696c79c2dbc239dd4e91b46729d73a27fb57e9\n",
      "Found a hash with four zeros after 665782 attempts\n",
      "0000000399c6aea5ad0c709a9bc331a3ed6494702bd1d129d8c817a0257a1462\n"
     ]
    }
   ],
   "source": [
    "import hashlib\n",
    "\n",
    "def hash_number(number):\n",
    "    sha = hashlib.sha256()\n",
    "    value = str(number).encode()\n",
    "    sha.update(value)\n",
    "    return sha.hexdigest()\n",
    "\n",
    "count = 0\n",
    "hash = hash_number(count)\n",
    "print(f\"The first hash is {hash}\")\n",
    "\n",
    "while not hash.startswith(\"0000000\"):\n",
    "    count += 1\n",
    "    hash = hash_number(count)\n",
    "\n",
    "print(f\"Found a hash with four zeros after {count} attempts\")\n",
    "print(hash)"
   ]
  },
  {
   "cell_type": "code",
   "execution_count": 3,
   "metadata": {},
   "outputs": [
    {
     "name": "stdout",
     "output_type": "stream",
     "text": [
      "The original nonce is: 0\n",
      "The original block hash is: 78a556570432bfc0d1e33680da5ca6acdbe581339c68ec6326bed70bc20731f1\n",
      "The new nonce is now: 1\n",
      "The new block hash is now: 30cab3bb33216900eea7badc43bf1bdae852a2de6e3b6d69fda6c05f9a6f71fc\n"
     ]
    }
   ],
   "source": [
    "from dataclasses import dataclass\n",
    "from typing import Any\n",
    "import datetime as datetime\n",
    "import hashlib\n",
    "from typing import List\n",
    "\n",
    "\n",
    "@dataclass\n",
    "class Block:\n",
    "    data: Any\n",
    "    creator_id: int\n",
    "    timestamp: str = datetime.datetime.utcnow().strftime(\"%H:%M:%S\")\n",
    "    prev_hash: str = \"0\"\n",
    "    nonce: int = 0\n",
    "\n",
    "    def hash_block(self):\n",
    "        sha = hashlib.sha256()\n",
    "\n",
    "        data = str(self.data).encode()\n",
    "        sha.update(data)\n",
    "\n",
    "        creator_id = str(self.creator_id).encode()\n",
    "        sha.update(data)\n",
    "\n",
    "        prev_hash = str(self.prev_hash).encode()\n",
    "        sha.update(prev_hash)\n",
    "\n",
    "        timestamp = str(self.timestamp).encode()\n",
    "        sha.update(timestamp)\n",
    "\n",
    "        nonce = str(self.nonce).encode()\n",
    "        sha.update(nonce)\n",
    "\n",
    "        return sha.hexdigest()\n",
    "\n",
    "# Create a test block and view the nonce and hash\n",
    "block = Block(\"test\", 1)\n",
    "print(f\"The original nonce is: {block.nonce}\")\n",
    "print(f\"The original block hash is: {block.hash_block()}\")\n",
    "\n",
    "# Update the test block and view the nonce and hash\n",
    "block.nonce += 1\n",
    "print(f\"The new nonce is now: {block.nonce}\")\n",
    "print(f\"The new block hash is now: {block.hash_block()}\")\n",
    "\n",
    "@dataclass\n",
    "class PyChain:\n",
    "    chain: List[Block]\n",
    "    difficulty: int = 4\n",
    "\n",
    "    def proof_of_work(self, block):\n",
    "        calculated_hash = block.hash_block()\n",
    "\n",
    "        num_of_zeros = \"0\" * self.difficulty\n",
    "\n",
    "        while not calculated_hash.startswith(num_of_zeros):\n",
    "            block.nonce += 1\n",
    "            calculated_hash = block.hash_block()\n",
    "\n",
    "        return block\n",
    "\n",
    "    def add_block(self, candidate_block):\n",
    "        block = self.proof_of_work(candidate_block)\n",
    "        self.chain += [block]\n"
   ]
  }
 ],
 "metadata": {
  "kernelspec": {
   "display_name": "dev",
   "language": "python",
   "name": "dev"
  },
  "orig_nbformat": 4,
  "vscode": {
   "interpreter": {
    "hash": "397704579725e15f5c7cb49fe5f0341eb7531c82d19f2c29d197e8b64ab5776b"
   }
  }
 },
 "nbformat": 4,
 "nbformat_minor": 2
}
