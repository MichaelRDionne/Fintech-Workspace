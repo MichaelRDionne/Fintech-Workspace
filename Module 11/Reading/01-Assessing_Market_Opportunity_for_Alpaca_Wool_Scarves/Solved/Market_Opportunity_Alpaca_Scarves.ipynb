{
  "cells": [
    {
      "cell_type": "markdown",
      "metadata": {
        "id": "9__TGpY_J4ts"
      },
      "source": [
        "#  Assessing Market Opportunities for Alpaca Wool Scarves\n",
        "\n",
        "In this activity, you’ll use time series forecasting to analyze Google Trends data. The purpose will be to validate market opportunities to help the Aymara indigenous people in Bolivia export alpaca wool scarves to different countries or regions.\n",
        "\n",
        "You’ll continue collaborating with the International Co-operative Alliance. But now, you’ll use Prophet to validate prospective market opportunities\n",
        "\n",
        "Instructions\n",
        "\n",
        "1. Read the Google Trends data into a Pandas DataFrame, and then plot the general trends.\n",
        "\n",
        "2. Prepare the data to fit the Prophet model. Create two new DataFrames: one for Canada and another for Uruguay. Recall setting the column names to “ds” for the dates and “y” for the trend values.\n",
        "\n",
        "3. Create two Prophet models, one for each country.\n",
        "\n",
        "4. Fit the Prophet models.\n",
        "\n",
        "5. Use the `make_future_dataframe` function to forecast one year of trend dates.\n",
        "\n",
        "    > **Hint** Google Trends data is collected weekly. So, set the `freq` parameter to `W`, and set `periods=52` (because one year has 52 weeks).\n",
        "\n",
        "6. Predict the future trends data by using the `predict` method for both the Canada and Uruguay models. \n",
        "\n",
        "7. Plot Prophet’s predictions by using the `plot` function. Pass the forecasts for Canada and Uruguay, respectively, as the parameters. \n",
        "\n",
        "8. Analyze the forecast results by plotting the forecast DataFrame's “yhat”, “yhat_lower”, and “yhat_upper” columns for each the Canadian and Uruguay models. Set the “ds” column as the DataFrame index before creating these plots.\n",
        "\n",
        "9. Use the `plot_component` function from the Prophet models to analyze the patterns of the Google Trends times series data for the Canada and Uruguay models. Be sure to reset the index by converting “ds” back to a column before creating these plots. \n",
        "\n",
        "References\n",
        "\n",
        "[Prophet Python API](https://facebook.github.io/prophet/docs/quick_start.html#python-api)\n",
        "\n",
        "[Pandas rename function](https://pandas.pydata.org/pandas-docs/stable/reference/api/pandas.DataFrame.rename.html)\n"
      ]
    },
    {
      "cell_type": "code",
      "execution_count": 6,
      "metadata": {
        "colab": {
          "base_uri": "https://localhost:8080/"
        },
        "id": "dxjzz0O0Mge0",
        "outputId": "1ab27914-9e60-40b4-c792-860ce56dd793"
      },
      "outputs": [
        {
          "name": "stdout",
          "output_type": "stream",
          "text": [
            "Requirement already satisfied: pystan in /Users/michaeldionne/opt/anaconda3/lib/python3.9/site-packages (3.5.0)\n",
            "Requirement already satisfied: pysimdjson<4.0,>=3.2 in /Users/michaeldionne/opt/anaconda3/lib/python3.9/site-packages (from pystan) (3.2.0)\n",
            "Requirement already satisfied: aiohttp<4.0,>=3.6 in /Users/michaeldionne/opt/anaconda3/lib/python3.9/site-packages (from pystan) (3.8.1)\n",
            "Requirement already satisfied: numpy<2.0,>=1.19 in /Users/michaeldionne/opt/anaconda3/lib/python3.9/site-packages (from pystan) (1.21.5)\n",
            "Requirement already satisfied: clikit<0.7,>=0.6 in /Users/michaeldionne/opt/anaconda3/lib/python3.9/site-packages (from pystan) (0.6.2)\n",
            "Requirement already satisfied: setuptools in /Users/michaeldionne/opt/anaconda3/lib/python3.9/site-packages (from pystan) (61.2.0)\n",
            "Requirement already satisfied: httpstan<4.9,>=4.8 in /Users/michaeldionne/opt/anaconda3/lib/python3.9/site-packages (from pystan) (4.8.2)\n",
            "Requirement already satisfied: attrs>=17.3.0 in /Users/michaeldionne/opt/anaconda3/lib/python3.9/site-packages (from aiohttp<4.0,>=3.6->pystan) (21.4.0)\n",
            "Requirement already satisfied: frozenlist>=1.1.1 in /Users/michaeldionne/opt/anaconda3/lib/python3.9/site-packages (from aiohttp<4.0,>=3.6->pystan) (1.2.0)\n",
            "Requirement already satisfied: aiosignal>=1.1.2 in /Users/michaeldionne/opt/anaconda3/lib/python3.9/site-packages (from aiohttp<4.0,>=3.6->pystan) (1.2.0)\n",
            "Requirement already satisfied: async-timeout<5.0,>=4.0.0a3 in /Users/michaeldionne/opt/anaconda3/lib/python3.9/site-packages (from aiohttp<4.0,>=3.6->pystan) (4.0.1)\n",
            "Requirement already satisfied: multidict<7.0,>=4.5 in /Users/michaeldionne/opt/anaconda3/lib/python3.9/site-packages (from aiohttp<4.0,>=3.6->pystan) (5.2.0)\n",
            "Requirement already satisfied: charset-normalizer<3.0,>=2.0 in /Users/michaeldionne/opt/anaconda3/lib/python3.9/site-packages (from aiohttp<4.0,>=3.6->pystan) (2.0.4)\n",
            "Requirement already satisfied: yarl<2.0,>=1.0 in /Users/michaeldionne/opt/anaconda3/lib/python3.9/site-packages (from aiohttp<4.0,>=3.6->pystan) (1.6.3)\n",
            "Requirement already satisfied: pastel<0.3.0,>=0.2.0 in /Users/michaeldionne/opt/anaconda3/lib/python3.9/site-packages (from clikit<0.7,>=0.6->pystan) (0.2.1)\n",
            "Requirement already satisfied: crashtest<0.4.0,>=0.3.0 in /Users/michaeldionne/opt/anaconda3/lib/python3.9/site-packages (from clikit<0.7,>=0.6->pystan) (0.3.1)\n",
            "Requirement already satisfied: pylev<2.0,>=1.3 in /Users/michaeldionne/opt/anaconda3/lib/python3.9/site-packages (from clikit<0.7,>=0.6->pystan) (1.4.0)\n",
            "Requirement already satisfied: appdirs<2.0,>=1.4 in /Users/michaeldionne/opt/anaconda3/lib/python3.9/site-packages (from httpstan<4.9,>=4.8->pystan) (1.4.4)\n",
            "Requirement already satisfied: webargs<9.0,>=8.0 in /Users/michaeldionne/opt/anaconda3/lib/python3.9/site-packages (from httpstan<4.9,>=4.8->pystan) (8.2.0)\n",
            "Requirement already satisfied: marshmallow<4.0,>=3.10 in /Users/michaeldionne/opt/anaconda3/lib/python3.9/site-packages (from httpstan<4.9,>=4.8->pystan) (3.17.1)\n",
            "Requirement already satisfied: typing-extensions>=3.6.5 in /Users/michaeldionne/opt/anaconda3/lib/python3.9/site-packages (from async-timeout<5.0,>=4.0.0a3->aiohttp<4.0,>=3.6->pystan) (4.1.1)\n",
            "Requirement already satisfied: packaging>=17.0 in /Users/michaeldionne/opt/anaconda3/lib/python3.9/site-packages (from marshmallow<4.0,>=3.10->httpstan<4.9,>=4.8->pystan) (21.3)\n",
            "Requirement already satisfied: idna>=2.0 in /Users/michaeldionne/opt/anaconda3/lib/python3.9/site-packages (from yarl<2.0,>=1.0->aiohttp<4.0,>=3.6->pystan) (3.3)\n",
            "Requirement already satisfied: pyparsing!=3.0.5,>=2.0.2 in /Users/michaeldionne/opt/anaconda3/lib/python3.9/site-packages (from packaging>=17.0->marshmallow<4.0,>=3.10->httpstan<4.9,>=4.8->pystan) (3.0.4)\n",
            "\n",
            "\u001b[1m[\u001b[0m\u001b[34;49mnotice\u001b[0m\u001b[1;39;49m]\u001b[0m\u001b[39;49m A new release of pip available: \u001b[0m\u001b[31;49m22.2\u001b[0m\u001b[39;49m -> \u001b[0m\u001b[32;49m22.2.2\u001b[0m\n",
            "\u001b[1m[\u001b[0m\u001b[34;49mnotice\u001b[0m\u001b[1;39;49m]\u001b[0m\u001b[39;49m To update, run: \u001b[0m\u001b[32;49mpip install --upgrade pip\u001b[0m\n",
            "Requirement already satisfied: prophet in /Users/michaeldionne/opt/anaconda3/lib/python3.9/site-packages (1.1)\n",
            "Requirement already satisfied: matplotlib>=2.0.0 in /Users/michaeldionne/opt/anaconda3/lib/python3.9/site-packages (from prophet) (3.5.2)\n",
            "Requirement already satisfied: convertdate>=2.1.2 in /Users/michaeldionne/opt/anaconda3/lib/python3.9/site-packages (from prophet) (2.4.0)\n",
            "Requirement already satisfied: setuptools>=42 in /Users/michaeldionne/opt/anaconda3/lib/python3.9/site-packages (from prophet) (61.2.0)\n",
            "Requirement already satisfied: numpy>=1.15.4 in /Users/michaeldionne/opt/anaconda3/lib/python3.9/site-packages (from prophet) (1.21.5)\n",
            "Collecting cmdstanpy>=1.0.1\n",
            "  Downloading cmdstanpy-1.0.7-py3-none-any.whl (80 kB)\n",
            "\u001b[2K     \u001b[90m━━━━━━━━━━━━━━━━━━━━━━━━━━━━━━━━━━━━━━━━\u001b[0m \u001b[32m80.7/80.7 kB\u001b[0m \u001b[31m1.1 MB/s\u001b[0m eta \u001b[36m0:00:00\u001b[0ma \u001b[36m0:00:01\u001b[0m\n",
            "\u001b[?25hRequirement already satisfied: LunarCalendar>=0.0.9 in /Users/michaeldionne/opt/anaconda3/lib/python3.9/site-packages (from prophet) (0.0.9)\n",
            "Requirement already satisfied: holidays>=0.13 in /Users/michaeldionne/opt/anaconda3/lib/python3.9/site-packages (from prophet) (0.15)\n",
            "Requirement already satisfied: tqdm>=4.36.1 in /Users/michaeldionne/opt/anaconda3/lib/python3.9/site-packages (from prophet) (4.64.0)\n",
            "Requirement already satisfied: Cython>=0.22 in /Users/michaeldionne/opt/anaconda3/lib/python3.9/site-packages (from prophet) (0.29.30)\n",
            "Requirement already satisfied: python-dateutil>=2.8.0 in /Users/michaeldionne/opt/anaconda3/lib/python3.9/site-packages (from prophet) (2.8.2)\n",
            "Requirement already satisfied: pandas>=1.0.4 in /Users/michaeldionne/opt/anaconda3/lib/python3.9/site-packages (from prophet) (1.4.3)\n",
            "Requirement already satisfied: wheel>=0.37.0 in /Users/michaeldionne/opt/anaconda3/lib/python3.9/site-packages (from prophet) (0.37.1)\n",
            "Requirement already satisfied: setuptools-git>=1.2 in /Users/michaeldionne/opt/anaconda3/lib/python3.9/site-packages (from prophet) (1.2)\n",
            "Requirement already satisfied: ujson in /Users/michaeldionne/opt/anaconda3/lib/python3.9/site-packages (from cmdstanpy>=1.0.1->prophet) (5.4.0)\n",
            "Requirement already satisfied: pymeeus<=1,>=0.3.13 in /Users/michaeldionne/opt/anaconda3/lib/python3.9/site-packages (from convertdate>=2.1.2->prophet) (0.5.11)\n",
            "Requirement already satisfied: korean-lunar-calendar in /Users/michaeldionne/opt/anaconda3/lib/python3.9/site-packages (from holidays>=0.13->prophet) (0.2.1)\n",
            "Requirement already satisfied: hijri-converter in /Users/michaeldionne/opt/anaconda3/lib/python3.9/site-packages (from holidays>=0.13->prophet) (2.2.4)\n",
            "Requirement already satisfied: ephem>=3.7.5.3 in /Users/michaeldionne/opt/anaconda3/lib/python3.9/site-packages (from LunarCalendar>=0.0.9->prophet) (4.1.3)\n",
            "Requirement already satisfied: pytz in /Users/michaeldionne/opt/anaconda3/lib/python3.9/site-packages (from LunarCalendar>=0.0.9->prophet) (2022.1)\n",
            "Requirement already satisfied: packaging>=20.0 in /Users/michaeldionne/opt/anaconda3/lib/python3.9/site-packages (from matplotlib>=2.0.0->prophet) (21.3)\n",
            "Requirement already satisfied: pyparsing>=2.2.1 in /Users/michaeldionne/opt/anaconda3/lib/python3.9/site-packages (from matplotlib>=2.0.0->prophet) (3.0.4)\n",
            "Requirement already satisfied: pillow>=6.2.0 in /Users/michaeldionne/opt/anaconda3/lib/python3.9/site-packages (from matplotlib>=2.0.0->prophet) (9.2.0)\n",
            "Requirement already satisfied: fonttools>=4.22.0 in /Users/michaeldionne/opt/anaconda3/lib/python3.9/site-packages (from matplotlib>=2.0.0->prophet) (4.25.0)\n",
            "Requirement already satisfied: cycler>=0.10 in /Users/michaeldionne/opt/anaconda3/lib/python3.9/site-packages (from matplotlib>=2.0.0->prophet) (0.11.0)\n",
            "Requirement already satisfied: kiwisolver>=1.0.1 in /Users/michaeldionne/opt/anaconda3/lib/python3.9/site-packages (from matplotlib>=2.0.0->prophet) (1.4.2)\n",
            "Requirement already satisfied: six>=1.5 in /Users/michaeldionne/opt/anaconda3/lib/python3.9/site-packages (from python-dateutil>=2.8.0->prophet) (1.16.0)\n",
            "Installing collected packages: cmdstanpy\n",
            "  Attempting uninstall: cmdstanpy\n",
            "    Found existing installation: cmdstanpy 0.9.5\n",
            "    Uninstalling cmdstanpy-0.9.5:\n",
            "      Successfully uninstalled cmdstanpy-0.9.5\n",
            "Successfully installed cmdstanpy-1.0.7\n",
            "\n",
            "\u001b[1m[\u001b[0m\u001b[34;49mnotice\u001b[0m\u001b[1;39;49m]\u001b[0m\u001b[39;49m A new release of pip available: \u001b[0m\u001b[31;49m22.2\u001b[0m\u001b[39;49m -> \u001b[0m\u001b[32;49m22.2.2\u001b[0m\n",
            "\u001b[1m[\u001b[0m\u001b[34;49mnotice\u001b[0m\u001b[1;39;49m]\u001b[0m\u001b[39;49m To update, run: \u001b[0m\u001b[32;49mpip install --upgrade pip\u001b[0m\n"
          ]
        }
      ],
      "source": [
        "# Install the required libraries\n",
        "!pip install pystan\n",
        "!pip install prophet"
      ]
    },
    {
      "cell_type": "code",
      "execution_count": 7,
      "metadata": {
        "id": "wfnvgqh7J4tx"
      },
      "outputs": [],
      "source": [
        "# Import the required libraries and dependencies\n",
        "import pandas as pd\n",
        "import datetime as dt\n",
        "from prophet import Prophet\n",
        "import matplotlib.pyplot as plt\n",
        "%matplotlib inline"
      ]
    },
    {
      "cell_type": "markdown",
      "metadata": {
        "id": "-nkXaUjwJ4t0"
      },
      "source": [
        "## Step 1: Read the Google Trends data into a Pandas DataFrame, and then plot the general trends."
      ]
    },
    {
      "cell_type": "code",
      "execution_count": 8,
      "metadata": {
        "colab": {
          "base_uri": "https://localhost:8080/",
          "height": 252,
          "resources": {
            "http://localhost:8080/nbextensions/google.colab/files.js": {
              "data": "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",
              "headers": [
                [
                  "content-type",
                  "application/javascript"
                ]
              ],
              "ok": true,
              "status": 200,
              "status_text": ""
            }
          }
        },
        "id": "nvFp7BRQJ4t0",
        "outputId": "b435ed50-d05f-4a72-db6f-f67f83603456"
      },
      "outputs": [
        {
          "ename": "FileNotFoundError",
          "evalue": "[Errno 2] No such file or directory: 'scarf-google-trends-data.csv'",
          "output_type": "error",
          "traceback": [
            "\u001b[0;31m---------------------------------------------------------------------------\u001b[0m",
            "\u001b[0;31mFileNotFoundError\u001b[0m                         Traceback (most recent call last)",
            "\u001b[1;32m/Users/michaeldionne/Documents/GitHub/Fintech-Workspace/Module 11/Reading/01-Assessing_Market_Opportunity_for_Alpaca_Wool_Scarves/Solved/Market_Opportunity_Alpaca_Scarves.ipynb Cell 5\u001b[0m in \u001b[0;36m<cell line: 5>\u001b[0;34m()\u001b[0m\n\u001b[1;32m      <a href='vscode-notebook-cell:/Users/michaeldionne/Documents/GitHub/Fintech-Workspace/Module%2011/Reading/01-Assessing_Market_Opportunity_for_Alpaca_Wool_Scarves/Solved/Market_Opportunity_Alpaca_Scarves.ipynb#W4sZmlsZQ%3D%3D?line=0'>1</a>\u001b[0m \u001b[39m# Read the data from the scarf-google-trends-data.csv file into a Pandas DataFrame\u001b[39;00m\n\u001b[1;32m      <a href='vscode-notebook-cell:/Users/michaeldionne/Documents/GitHub/Fintech-Workspace/Module%2011/Reading/01-Assessing_Market_Opportunity_for_Alpaca_Wool_Scarves/Solved/Market_Opportunity_Alpaca_Scarves.ipynb#W4sZmlsZQ%3D%3D?line=1'>2</a>\u001b[0m \u001b[39m#from google.colab import files\u001b[39;00m\n\u001b[1;32m      <a href='vscode-notebook-cell:/Users/michaeldionne/Documents/GitHub/Fintech-Workspace/Module%2011/Reading/01-Assessing_Market_Opportunity_for_Alpaca_Wool_Scarves/Solved/Market_Opportunity_Alpaca_Scarves.ipynb#W4sZmlsZQ%3D%3D?line=2'>3</a>\u001b[0m \u001b[39m#uploaded = files.upload()\u001b[39;00m\n\u001b[0;32m----> <a href='vscode-notebook-cell:/Users/michaeldionne/Documents/GitHub/Fintech-Workspace/Module%2011/Reading/01-Assessing_Market_Opportunity_for_Alpaca_Wool_Scarves/Solved/Market_Opportunity_Alpaca_Scarves.ipynb#W4sZmlsZQ%3D%3D?line=4'>5</a>\u001b[0m df_alpaca \u001b[39m=\u001b[39m pd\u001b[39m.\u001b[39;49mread_csv(\u001b[39m\"\u001b[39;49m\u001b[39mscarf-google-trends-data.csv\u001b[39;49m\u001b[39m\"\u001b[39;49m)\n\u001b[1;32m      <a href='vscode-notebook-cell:/Users/michaeldionne/Documents/GitHub/Fintech-Workspace/Module%2011/Reading/01-Assessing_Market_Opportunity_for_Alpaca_Wool_Scarves/Solved/Market_Opportunity_Alpaca_Scarves.ipynb#W4sZmlsZQ%3D%3D?line=6'>7</a>\u001b[0m \u001b[39m# Review the DataFrame\u001b[39;00m\n\u001b[1;32m      <a href='vscode-notebook-cell:/Users/michaeldionne/Documents/GitHub/Fintech-Workspace/Module%2011/Reading/01-Assessing_Market_Opportunity_for_Alpaca_Wool_Scarves/Solved/Market_Opportunity_Alpaca_Scarves.ipynb#W4sZmlsZQ%3D%3D?line=7'>8</a>\u001b[0m df_alpaca\u001b[39m.\u001b[39mhead()\n",
            "File \u001b[0;32m~/opt/anaconda3/lib/python3.9/site-packages/pandas/util/_decorators.py:311\u001b[0m, in \u001b[0;36mdeprecate_nonkeyword_arguments.<locals>.decorate.<locals>.wrapper\u001b[0;34m(*args, **kwargs)\u001b[0m\n\u001b[1;32m    305\u001b[0m \u001b[39mif\u001b[39;00m \u001b[39mlen\u001b[39m(args) \u001b[39m>\u001b[39m num_allow_args:\n\u001b[1;32m    306\u001b[0m     warnings\u001b[39m.\u001b[39mwarn(\n\u001b[1;32m    307\u001b[0m         msg\u001b[39m.\u001b[39mformat(arguments\u001b[39m=\u001b[39marguments),\n\u001b[1;32m    308\u001b[0m         \u001b[39mFutureWarning\u001b[39;00m,\n\u001b[1;32m    309\u001b[0m         stacklevel\u001b[39m=\u001b[39mstacklevel,\n\u001b[1;32m    310\u001b[0m     )\n\u001b[0;32m--> 311\u001b[0m \u001b[39mreturn\u001b[39;00m func(\u001b[39m*\u001b[39;49margs, \u001b[39m*\u001b[39;49m\u001b[39m*\u001b[39;49mkwargs)\n",
            "File \u001b[0;32m~/opt/anaconda3/lib/python3.9/site-packages/pandas/io/parsers/readers.py:680\u001b[0m, in \u001b[0;36mread_csv\u001b[0;34m(filepath_or_buffer, sep, delimiter, header, names, index_col, usecols, squeeze, prefix, mangle_dupe_cols, dtype, engine, converters, true_values, false_values, skipinitialspace, skiprows, skipfooter, nrows, na_values, keep_default_na, na_filter, verbose, skip_blank_lines, parse_dates, infer_datetime_format, keep_date_col, date_parser, dayfirst, cache_dates, iterator, chunksize, compression, thousands, decimal, lineterminator, quotechar, quoting, doublequote, escapechar, comment, encoding, encoding_errors, dialect, error_bad_lines, warn_bad_lines, on_bad_lines, delim_whitespace, low_memory, memory_map, float_precision, storage_options)\u001b[0m\n\u001b[1;32m    665\u001b[0m kwds_defaults \u001b[39m=\u001b[39m _refine_defaults_read(\n\u001b[1;32m    666\u001b[0m     dialect,\n\u001b[1;32m    667\u001b[0m     delimiter,\n\u001b[0;32m   (...)\u001b[0m\n\u001b[1;32m    676\u001b[0m     defaults\u001b[39m=\u001b[39m{\u001b[39m\"\u001b[39m\u001b[39mdelimiter\u001b[39m\u001b[39m\"\u001b[39m: \u001b[39m\"\u001b[39m\u001b[39m,\u001b[39m\u001b[39m\"\u001b[39m},\n\u001b[1;32m    677\u001b[0m )\n\u001b[1;32m    678\u001b[0m kwds\u001b[39m.\u001b[39mupdate(kwds_defaults)\n\u001b[0;32m--> 680\u001b[0m \u001b[39mreturn\u001b[39;00m _read(filepath_or_buffer, kwds)\n",
            "File \u001b[0;32m~/opt/anaconda3/lib/python3.9/site-packages/pandas/io/parsers/readers.py:575\u001b[0m, in \u001b[0;36m_read\u001b[0;34m(filepath_or_buffer, kwds)\u001b[0m\n\u001b[1;32m    572\u001b[0m _validate_names(kwds\u001b[39m.\u001b[39mget(\u001b[39m\"\u001b[39m\u001b[39mnames\u001b[39m\u001b[39m\"\u001b[39m, \u001b[39mNone\u001b[39;00m))\n\u001b[1;32m    574\u001b[0m \u001b[39m# Create the parser.\u001b[39;00m\n\u001b[0;32m--> 575\u001b[0m parser \u001b[39m=\u001b[39m TextFileReader(filepath_or_buffer, \u001b[39m*\u001b[39;49m\u001b[39m*\u001b[39;49mkwds)\n\u001b[1;32m    577\u001b[0m \u001b[39mif\u001b[39;00m chunksize \u001b[39mor\u001b[39;00m iterator:\n\u001b[1;32m    578\u001b[0m     \u001b[39mreturn\u001b[39;00m parser\n",
            "File \u001b[0;32m~/opt/anaconda3/lib/python3.9/site-packages/pandas/io/parsers/readers.py:934\u001b[0m, in \u001b[0;36mTextFileReader.__init__\u001b[0;34m(self, f, engine, **kwds)\u001b[0m\n\u001b[1;32m    931\u001b[0m     \u001b[39mself\u001b[39m\u001b[39m.\u001b[39moptions[\u001b[39m\"\u001b[39m\u001b[39mhas_index_names\u001b[39m\u001b[39m\"\u001b[39m] \u001b[39m=\u001b[39m kwds[\u001b[39m\"\u001b[39m\u001b[39mhas_index_names\u001b[39m\u001b[39m\"\u001b[39m]\n\u001b[1;32m    933\u001b[0m \u001b[39mself\u001b[39m\u001b[39m.\u001b[39mhandles: IOHandles \u001b[39m|\u001b[39m \u001b[39mNone\u001b[39;00m \u001b[39m=\u001b[39m \u001b[39mNone\u001b[39;00m\n\u001b[0;32m--> 934\u001b[0m \u001b[39mself\u001b[39m\u001b[39m.\u001b[39m_engine \u001b[39m=\u001b[39m \u001b[39mself\u001b[39;49m\u001b[39m.\u001b[39;49m_make_engine(f, \u001b[39mself\u001b[39;49m\u001b[39m.\u001b[39;49mengine)\n",
            "File \u001b[0;32m~/opt/anaconda3/lib/python3.9/site-packages/pandas/io/parsers/readers.py:1218\u001b[0m, in \u001b[0;36mTextFileReader._make_engine\u001b[0;34m(self, f, engine)\u001b[0m\n\u001b[1;32m   1214\u001b[0m     mode \u001b[39m=\u001b[39m \u001b[39m\"\u001b[39m\u001b[39mrb\u001b[39m\u001b[39m\"\u001b[39m\n\u001b[1;32m   1215\u001b[0m \u001b[39m# error: No overload variant of \"get_handle\" matches argument types\u001b[39;00m\n\u001b[1;32m   1216\u001b[0m \u001b[39m# \"Union[str, PathLike[str], ReadCsvBuffer[bytes], ReadCsvBuffer[str]]\"\u001b[39;00m\n\u001b[1;32m   1217\u001b[0m \u001b[39m# , \"str\", \"bool\", \"Any\", \"Any\", \"Any\", \"Any\", \"Any\"\u001b[39;00m\n\u001b[0;32m-> 1218\u001b[0m \u001b[39mself\u001b[39m\u001b[39m.\u001b[39mhandles \u001b[39m=\u001b[39m get_handle(  \u001b[39m# type: ignore[call-overload]\u001b[39;49;00m\n\u001b[1;32m   1219\u001b[0m     f,\n\u001b[1;32m   1220\u001b[0m     mode,\n\u001b[1;32m   1221\u001b[0m     encoding\u001b[39m=\u001b[39;49m\u001b[39mself\u001b[39;49m\u001b[39m.\u001b[39;49moptions\u001b[39m.\u001b[39;49mget(\u001b[39m\"\u001b[39;49m\u001b[39mencoding\u001b[39;49m\u001b[39m\"\u001b[39;49m, \u001b[39mNone\u001b[39;49;00m),\n\u001b[1;32m   1222\u001b[0m     compression\u001b[39m=\u001b[39;49m\u001b[39mself\u001b[39;49m\u001b[39m.\u001b[39;49moptions\u001b[39m.\u001b[39;49mget(\u001b[39m\"\u001b[39;49m\u001b[39mcompression\u001b[39;49m\u001b[39m\"\u001b[39;49m, \u001b[39mNone\u001b[39;49;00m),\n\u001b[1;32m   1223\u001b[0m     memory_map\u001b[39m=\u001b[39;49m\u001b[39mself\u001b[39;49m\u001b[39m.\u001b[39;49moptions\u001b[39m.\u001b[39;49mget(\u001b[39m\"\u001b[39;49m\u001b[39mmemory_map\u001b[39;49m\u001b[39m\"\u001b[39;49m, \u001b[39mFalse\u001b[39;49;00m),\n\u001b[1;32m   1224\u001b[0m     is_text\u001b[39m=\u001b[39;49mis_text,\n\u001b[1;32m   1225\u001b[0m     errors\u001b[39m=\u001b[39;49m\u001b[39mself\u001b[39;49m\u001b[39m.\u001b[39;49moptions\u001b[39m.\u001b[39;49mget(\u001b[39m\"\u001b[39;49m\u001b[39mencoding_errors\u001b[39;49m\u001b[39m\"\u001b[39;49m, \u001b[39m\"\u001b[39;49m\u001b[39mstrict\u001b[39;49m\u001b[39m\"\u001b[39;49m),\n\u001b[1;32m   1226\u001b[0m     storage_options\u001b[39m=\u001b[39;49m\u001b[39mself\u001b[39;49m\u001b[39m.\u001b[39;49moptions\u001b[39m.\u001b[39;49mget(\u001b[39m\"\u001b[39;49m\u001b[39mstorage_options\u001b[39;49m\u001b[39m\"\u001b[39;49m, \u001b[39mNone\u001b[39;49;00m),\n\u001b[1;32m   1227\u001b[0m )\n\u001b[1;32m   1228\u001b[0m \u001b[39massert\u001b[39;00m \u001b[39mself\u001b[39m\u001b[39m.\u001b[39mhandles \u001b[39mis\u001b[39;00m \u001b[39mnot\u001b[39;00m \u001b[39mNone\u001b[39;00m\n\u001b[1;32m   1229\u001b[0m f \u001b[39m=\u001b[39m \u001b[39mself\u001b[39m\u001b[39m.\u001b[39mhandles\u001b[39m.\u001b[39mhandle\n",
            "File \u001b[0;32m~/opt/anaconda3/lib/python3.9/site-packages/pandas/io/common.py:786\u001b[0m, in \u001b[0;36mget_handle\u001b[0;34m(path_or_buf, mode, encoding, compression, memory_map, is_text, errors, storage_options)\u001b[0m\n\u001b[1;32m    781\u001b[0m \u001b[39melif\u001b[39;00m \u001b[39misinstance\u001b[39m(handle, \u001b[39mstr\u001b[39m):\n\u001b[1;32m    782\u001b[0m     \u001b[39m# Check whether the filename is to be opened in binary mode.\u001b[39;00m\n\u001b[1;32m    783\u001b[0m     \u001b[39m# Binary mode does not support 'encoding' and 'newline'.\u001b[39;00m\n\u001b[1;32m    784\u001b[0m     \u001b[39mif\u001b[39;00m ioargs\u001b[39m.\u001b[39mencoding \u001b[39mand\u001b[39;00m \u001b[39m\"\u001b[39m\u001b[39mb\u001b[39m\u001b[39m\"\u001b[39m \u001b[39mnot\u001b[39;00m \u001b[39min\u001b[39;00m ioargs\u001b[39m.\u001b[39mmode:\n\u001b[1;32m    785\u001b[0m         \u001b[39m# Encoding\u001b[39;00m\n\u001b[0;32m--> 786\u001b[0m         handle \u001b[39m=\u001b[39m \u001b[39mopen\u001b[39;49m(\n\u001b[1;32m    787\u001b[0m             handle,\n\u001b[1;32m    788\u001b[0m             ioargs\u001b[39m.\u001b[39;49mmode,\n\u001b[1;32m    789\u001b[0m             encoding\u001b[39m=\u001b[39;49mioargs\u001b[39m.\u001b[39;49mencoding,\n\u001b[1;32m    790\u001b[0m             errors\u001b[39m=\u001b[39;49merrors,\n\u001b[1;32m    791\u001b[0m             newline\u001b[39m=\u001b[39;49m\u001b[39m\"\u001b[39;49m\u001b[39m\"\u001b[39;49m,\n\u001b[1;32m    792\u001b[0m         )\n\u001b[1;32m    793\u001b[0m     \u001b[39melse\u001b[39;00m:\n\u001b[1;32m    794\u001b[0m         \u001b[39m# Binary mode\u001b[39;00m\n\u001b[1;32m    795\u001b[0m         handle \u001b[39m=\u001b[39m \u001b[39mopen\u001b[39m(handle, ioargs\u001b[39m.\u001b[39mmode)\n",
            "\u001b[0;31mFileNotFoundError\u001b[0m: [Errno 2] No such file or directory: 'scarf-google-trends-data.csv'"
          ]
        }
      ],
      "source": [
        "# Read the data from the scarf-google-trends-data.csv file into a Pandas DataFrame\n",
        "#from google.colab import files\n",
        "#uploaded = files.upload()\n",
        "\n",
        "df_alpaca = pd.read_csv(\"scarf-google-trends-data.csv\")\n",
        "\n",
        "# Review the DataFrame\n",
        "df_alpaca.head()"
      ]
    },
    {
      "cell_type": "markdown",
      "metadata": {
        "id": "Tgn6WPpcJ4t1"
      },
      "source": [
        "## Step 2: Prepare the data to fit the Prophet model. Create two new DataFrames: one for Canada and another for Uruguay. Recall setting the column names to “ds” for the dates and “y” for the trend values.\n"
      ]
    },
    {
      "cell_type": "code",
      "execution_count": null,
      "metadata": {
        "colab": {
          "base_uri": "https://localhost:8080/",
          "height": 195
        },
        "id": "8pj3yzwfJ4t1",
        "outputId": "3ea423da-d433-49d2-daa9-0e103ad414c3"
      },
      "outputs": [],
      "source": [
        "# Create a DataFrame for Canada to include the week and canada columns\n",
        "df_canada = df_alpaca[[\"week\", \"canada\"]]\n",
        "\n",
        "# Rename the columns to the Prophet model syntax \n",
        "df_canada = df_canada.rename(columns={\"week\":\"ds\", \"canada\":\"y\"})\n",
        "\n",
        "# Review the Canada DataFrame\n",
        "df_canada.head()"
      ]
    },
    {
      "cell_type": "code",
      "execution_count": null,
      "metadata": {
        "colab": {
          "base_uri": "https://localhost:8080/",
          "height": 195
        },
        "id": "aVyjc-ABJ4t1",
        "outputId": "3f752143-5d78-462f-994f-98b9abd283b8"
      },
      "outputs": [],
      "source": [
        "# # Create a DataFrame for Uruguay to include the week and uruguay columns\n",
        "df_uruguay = df_alpaca[[\"week\", \"uruguay\"]]\n",
        "\n",
        "# Rename the columns to the Prophet model syntax \n",
        "df_uruguay = df_uruguay.rename(columns={\"week\":\"ds\", \"uruguay\":\"y\"})\n",
        "\n",
        "# Review the Uruguay DataFrame\n",
        "df_uruguay.head()"
      ]
    },
    {
      "cell_type": "markdown",
      "metadata": {
        "id": "lmRz1coYJ4t2"
      },
      "source": [
        "## Step 3: Create two Prophet models, one for each country"
      ]
    },
    {
      "cell_type": "code",
      "execution_count": null,
      "metadata": {
        "id": "bgx8TwxOJ4t2"
      },
      "outputs": [],
      "source": [
        "# Create a Prophet model for Canada\n",
        "model_canada = Prophet()"
      ]
    },
    {
      "cell_type": "code",
      "execution_count": null,
      "metadata": {
        "id": "X67qg-yfJ4t2"
      },
      "outputs": [],
      "source": [
        "# Create a Prophet model for Uruguay\n",
        "model_uruguay = Prophet()"
      ]
    },
    {
      "cell_type": "markdown",
      "metadata": {
        "id": "oRyFMAp-J4t2"
      },
      "source": [
        "## Step 4: Fit the Prophet models"
      ]
    },
    {
      "cell_type": "code",
      "execution_count": null,
      "metadata": {
        "colab": {
          "base_uri": "https://localhost:8080/"
        },
        "id": "Twh_ThOhJ4t3",
        "outputId": "58d8ca7e-5d66-484a-b266-972dd162ac6a"
      },
      "outputs": [],
      "source": [
        "# Fit the Canada Prophet model\n",
        "model_canada.fit(df_canada)"
      ]
    },
    {
      "cell_type": "code",
      "execution_count": null,
      "metadata": {
        "colab": {
          "base_uri": "https://localhost:8080/"
        },
        "id": "sSaWkiyKJ4t3",
        "outputId": "95178fb4-5950-4107-982a-6ff7110b7336"
      },
      "outputs": [],
      "source": [
        "# Fit the Uruguay Prophet model\n",
        "model_uruguay.fit(df_uruguay)"
      ]
    },
    {
      "cell_type": "markdown",
      "metadata": {
        "id": "I1GFXMvTJ4t3"
      },
      "source": [
        "## Step 5: Use the `make_future_dataframe` function to forecast one year of trend dates.\n",
        "\n",
        "> **Hint** Google Trends data is collected weekly. So, set the `freq` parameter to `W`, and set `periods=52` (because one year has 52 weeks).\n"
      ]
    },
    {
      "cell_type": "code",
      "execution_count": null,
      "metadata": {
        "colab": {
          "base_uri": "https://localhost:8080/",
          "height": 195
        },
        "id": "wiLnZrRgJ4t3",
        "outputId": "e4eca405-6dfe-4bda-afc3-28b1ec0e3ce2"
      },
      "outputs": [],
      "source": [
        "# Forecast one year of weekly future trends data for Canada \n",
        "future_canada = model_canada.make_future_dataframe(periods=52, freq=\"W\")\n",
        "\n",
        "# Display the last five rows of the future_canada DataFrame\n",
        "future_canada.tail()"
      ]
    },
    {
      "cell_type": "code",
      "execution_count": null,
      "metadata": {
        "colab": {
          "base_uri": "https://localhost:8080/",
          "height": 195
        },
        "id": "CM--JfOlJ4t4",
        "outputId": "9cbf64da-f136-4150-809c-04e3bfeab6ef"
      },
      "outputs": [],
      "source": [
        "# Forecast one year of weekly future trends data for Uruguay \n",
        "future_uruguay = model_uruguay.make_future_dataframe(periods=52, freq=\"W\")\n",
        "\n",
        "# Display the last five rows of the future_uruguay DataFrame\n",
        "future_uruguay.tail()"
      ]
    },
    {
      "cell_type": "markdown",
      "metadata": {
        "id": "bcH_aii0J4t4"
      },
      "source": [
        "## Step 6: Predict the future trends data by using the `predict` method for both the Canada and Uruguay models. "
      ]
    },
    {
      "cell_type": "code",
      "execution_count": null,
      "metadata": {
        "colab": {
          "base_uri": "https://localhost:8080/",
          "height": 299
        },
        "id": "vwfP6SkWJ4t4",
        "outputId": "445f804a-1be1-486f-cd0e-a9a82eaabf95"
      },
      "outputs": [],
      "source": [
        "# Make predictions for Canada using the future_canada DataFrame\n",
        "forecast_canada = model_canada.predict(future_canada)\n",
        "\n",
        "# Display the first five rows of the forecast_canada DataFrame\n",
        "forecast_canada.head()"
      ]
    },
    {
      "cell_type": "code",
      "execution_count": null,
      "metadata": {
        "colab": {
          "base_uri": "https://localhost:8080/",
          "height": 299
        },
        "id": "WTsw_5JRJ4t4",
        "outputId": "278eaa62-ca5f-460a-8482-7becb0d084cc"
      },
      "outputs": [],
      "source": [
        "# Make predictions for Uruguay using the future_uruguay DataFrame\n",
        "forecast_uruguay = model_uruguay.predict(future_uruguay)\n",
        "\n",
        "# Display the first five rows of the forecast_uruguay DataFrame\n",
        "forecast_uruguay.head()"
      ]
    },
    {
      "cell_type": "markdown",
      "metadata": {
        "id": "Mwqw9OwkJ4t5"
      },
      "source": [
        "## Step 7: Plot Prophet’s predictions by using the `plot` function. Pass the forecasts for Canada and Uruguay, respectively, as the parameters. "
      ]
    },
    {
      "cell_type": "code",
      "execution_count": null,
      "metadata": {
        "colab": {
          "base_uri": "https://localhost:8080/",
          "height": 865
        },
        "id": "EqLVTdDyJ4t5",
        "outputId": "7896f48f-4652-4d85-da8c-7bd84a7a8094"
      },
      "outputs": [],
      "source": [
        "# Plot the Prophet predictions for Canada \n",
        "model_canada.plot(forecast_canada)"
      ]
    },
    {
      "cell_type": "code",
      "execution_count": null,
      "metadata": {
        "colab": {
          "base_uri": "https://localhost:8080/",
          "height": 865
        },
        "id": "6myUMBJIJ4t5",
        "outputId": "d06fe13e-4d20-4d1b-9728-4e5d1f2f88fb"
      },
      "outputs": [],
      "source": [
        "# Plot the Prophet predictions for Uruguay \n",
        "model_uruguay.plot(forecast_uruguay)"
      ]
    },
    {
      "cell_type": "markdown",
      "metadata": {
        "id": "B7--2oV9J4t6"
      },
      "source": [
        "## Step 8: Analyze the forecast results by plotting the forecast DataFrame's “yhat”, “yhat_lower”, and “yhat_upper” columns for each the Canadian and Uruguay models. Set the “ds” column as the DataFrame index before creating these plots."
      ]
    },
    {
      "cell_type": "code",
      "execution_count": 5,
      "metadata": {
        "colab": {
          "base_uri": "https://localhost:8080/",
          "height": 329
        },
        "id": "gjJ6P3E1J4t6",
        "outputId": "bc4dcb3a-7042-4606-99d3-a01a4bb4b732"
      },
      "outputs": [
        {
          "ename": "NameError",
          "evalue": "name 'forecast_canada' is not defined",
          "output_type": "error",
          "traceback": [
            "\u001b[0;31m---------------------------------------------------------------------------\u001b[0m",
            "\u001b[0;31mNameError\u001b[0m                                 Traceback (most recent call last)",
            "\u001b[1;32m/Users/michaeldionne/Documents/GitHub/Fintech-Workspace/Module 11/Reading/01-Assessing_Market_Opportunity_for_Alpaca_Wool_Scarves/Solved/Market_Opportunity_Alpaca_Scarves.ipynb Cell 25\u001b[0m in \u001b[0;36m<cell line: 2>\u001b[0;34m()\u001b[0m\n\u001b[1;32m      <a href='vscode-notebook-cell:/Users/michaeldionne/Documents/GitHub/Fintech-Workspace/Module%2011/Reading/01-Assessing_Market_Opportunity_for_Alpaca_Wool_Scarves/Solved/Market_Opportunity_Alpaca_Scarves.ipynb#X33sZmlsZQ%3D%3D?line=0'>1</a>\u001b[0m \u001b[39m# Set the index in the forecast_canada DataFrame to the ds datetime column \u001b[39;00m\n\u001b[0;32m----> <a href='vscode-notebook-cell:/Users/michaeldionne/Documents/GitHub/Fintech-Workspace/Module%2011/Reading/01-Assessing_Market_Opportunity_for_Alpaca_Wool_Scarves/Solved/Market_Opportunity_Alpaca_Scarves.ipynb#X33sZmlsZQ%3D%3D?line=1'>2</a>\u001b[0m forecast_canada \u001b[39m=\u001b[39m forecast_canada\u001b[39m.\u001b[39mset_index(\u001b[39m'\u001b[39m\u001b[39mds\u001b[39m\u001b[39m'\u001b[39m)\n\u001b[1;32m      <a href='vscode-notebook-cell:/Users/michaeldionne/Documents/GitHub/Fintech-Workspace/Module%2011/Reading/01-Assessing_Market_Opportunity_for_Alpaca_Wool_Scarves/Solved/Market_Opportunity_Alpaca_Scarves.ipynb#X33sZmlsZQ%3D%3D?line=3'>4</a>\u001b[0m \u001b[39m# Display the forecast_canada DataFrame\u001b[39;00m\n\u001b[1;32m      <a href='vscode-notebook-cell:/Users/michaeldionne/Documents/GitHub/Fintech-Workspace/Module%2011/Reading/01-Assessing_Market_Opportunity_for_Alpaca_Wool_Scarves/Solved/Market_Opportunity_Alpaca_Scarves.ipynb#X33sZmlsZQ%3D%3D?line=4'>5</a>\u001b[0m forecast_canada\u001b[39m.\u001b[39mhead()\n",
            "\u001b[0;31mNameError\u001b[0m: name 'forecast_canada' is not defined"
          ]
        }
      ],
      "source": [
        "# Set the index in the forecast_canada DataFrame to the ds datetime column \n",
        "forecast_canada = forecast_canada.set_index('ds')\n",
        "\n",
        "# Display the forecast_canada DataFrame\n",
        "forecast_canada.head()\n"
      ]
    },
    {
      "cell_type": "code",
      "execution_count": null,
      "metadata": {
        "colab": {
          "base_uri": "https://localhost:8080/",
          "height": 309
        },
        "id": "iRxOmE1DJ4t6",
        "outputId": "646a6bae-8087-4e18-afd7-8f1cbb7564ad"
      },
      "outputs": [],
      "source": [
        "# Plot predictions for our forecast_canada DataFrame for the 52 week period \n",
        "forecast_canada[['yhat', 'yhat_lower', 'yhat_upper']].iloc[-52:,:].plot()\n"
      ]
    },
    {
      "cell_type": "code",
      "execution_count": null,
      "metadata": {
        "colab": {
          "base_uri": "https://localhost:8080/",
          "height": 329
        },
        "id": "Ob-PlN0GJ4t6",
        "outputId": "145caaa4-a3fd-4aa6-c9e1-caeb4abebcb0"
      },
      "outputs": [],
      "source": [
        "# Set the index in the forecast_uruguay DataFrame to the ds datetime column \n",
        "forecast_uruguay = forecast_uruguay.set_index('ds')\n",
        "\n",
        "# Display the forecast_uruguay DataFrame\n",
        "forecast_uruguay.head()"
      ]
    },
    {
      "cell_type": "code",
      "execution_count": null,
      "metadata": {
        "colab": {
          "base_uri": "https://localhost:8080/",
          "height": 313
        },
        "id": "HEgytOh0J4t7",
        "outputId": "65cbe7ac-1927-4fd9-fef0-092b7fc13287"
      },
      "outputs": [],
      "source": [
        "# Plot predictions for our forecast_uruguay DataFrame for the 52 week period \n",
        "forecast_uruguay[['yhat', 'yhat_lower', 'yhat_upper']].iloc[-52:,:].plot()"
      ]
    },
    {
      "cell_type": "markdown",
      "metadata": {
        "id": "m7koOqP8J4t7"
      },
      "source": [
        "## Step 9: Use the `plot_component` function from the Prophet models to analyze the patterns of the Google Trends times series data for the Canada and Uruguay models. Be sure to reset the index by converting “ds” back to a column before creating these plots."
      ]
    },
    {
      "cell_type": "code",
      "execution_count": null,
      "metadata": {
        "colab": {
          "base_uri": "https://localhost:8080/",
          "height": 441
        },
        "id": "thqsTpD0J4t7",
        "outputId": "9a779cde-ac5c-4a1d-8374-64be797c61ba"
      },
      "outputs": [],
      "source": [
        "# Reset the index in the forecast_canada DataFrame\n",
        "forecast_canada = forecast_canada.reset_index()\n",
        "\n",
        "# Use the plot_components function to visualize the forecast results \n",
        "# for the forecast_canada DataFrame\n",
        "fig_canada = model_canada.plot_components(forecast_canada)"
      ]
    },
    {
      "cell_type": "code",
      "execution_count": null,
      "metadata": {
        "colab": {
          "base_uri": "https://localhost:8080/",
          "height": 445
        },
        "id": "PC3z1qFNJ4t7",
        "outputId": "21f17acc-e78a-4b19-eeef-64bcbc12ca6a"
      },
      "outputs": [],
      "source": [
        "# Reset the index in the forecast_uruguay DataFrame\n",
        "forecast_uruguay = forecast_uruguay.reset_index()\n",
        "\n",
        "# Use the plot_components function to visualize the forecast results \n",
        "# for the forecast_uruguay DataFrame\n",
        "fig_uruguay = model_uruguay.plot_components(forecast_uruguay)"
      ]
    },
    {
      "cell_type": "code",
      "execution_count": null,
      "metadata": {
        "id": "zbQV0271J4t8"
      },
      "outputs": [],
      "source": []
    }
  ],
  "metadata": {
    "colab": {
      "name": "assessing_market_opportunity_for_alpaca_wool_scarves.ipynb",
      "provenance": []
    },
    "kernelspec": {
      "display_name": "Python 3.9.12 ('base')",
      "language": "python",
      "name": "python3"
    },
    "language_info": {
      "codemirror_mode": {
        "name": "ipython",
        "version": 3
      },
      "file_extension": ".py",
      "mimetype": "text/x-python",
      "name": "python",
      "nbconvert_exporter": "python",
      "pygments_lexer": "ipython3",
      "version": "3.9.12"
    },
    "vscode": {
      "interpreter": {
        "hash": "9f9f0028ed00a77b5841224094b6ee571a1d31fe1c24a19bb0718bf24051cff8"
      }
    }
  },
  "nbformat": 4,
  "nbformat_minor": 0
}
