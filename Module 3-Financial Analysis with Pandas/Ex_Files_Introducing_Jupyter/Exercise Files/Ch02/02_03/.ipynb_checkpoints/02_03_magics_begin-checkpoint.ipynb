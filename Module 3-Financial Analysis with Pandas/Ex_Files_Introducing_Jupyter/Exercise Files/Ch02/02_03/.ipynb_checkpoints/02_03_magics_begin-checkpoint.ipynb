{
 "cells": [
  {
   "cell_type": "code",
   "execution_count": null,
   "metadata": {},
   "outputs": [],
   "source": [
    "# %load helper\n",
    "import pandas as pd\n",
    "df = pd.read_csv(\"Environmental_Data_Deep_Moor_2015.csv\")\n",
    "\n",
    "def get_day(d):\n",
    "  return df[df['date']==d]\n",
    "\n"
   ]
  },
  {
   "cell_type": "code",
   "execution_count": null,
   "metadata": {},
   "outputs": [],
   "source": []
  }
 ],
 "metadata": {
  "kernelspec": {
   "display_name": "Python 3 (ipykernel)",
   "language": "python",
   "name": "python3"
  },
  "language_info": {
   "codemirror_mode": {
    "name": "ipython",
    "version": 3
   },
   "file_extension": ".py",
   "mimetype": "text/x-python",
   "name": "python",
   "nbconvert_exporter": "python",
   "pygments_lexer": "ipython3",
   "version": "3.9.12"
  }
 },
 "nbformat": 4,
 "nbformat_minor": 2
}
