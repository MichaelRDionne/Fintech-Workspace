{
 "cells": [
  {
   "cell_type": "markdown",
   "metadata": {},
   "source": [
    "# Headerless Horseman\n",
    "\n",
    "In this activity, you’ll update the column headers of a DataFrame.\n",
    "\n",
    "\n",
    "Instructions:\n",
    "\n",
    "1. Import the Pandas and `pathlib` libraries.\n",
    "\n",
    "2. Define the relative path to the CSV file by using the `Path` module.\n",
    "\n",
    "3. Use the Pandas `read_csv` function to create the DataFrame.\n",
    "\n",
    "4. Use the `head` function to view the first five rows of the DataFrame.\n",
    "\n",
    "5. Create a list of column names that contains the values `Date`, `Cisco`, `Dell`, `Intel`, and `Microsoft`.\n",
    "\n",
    "6. Assign the list of column names as the column headers for the DataFrame.\n",
    "\n",
    "7. To confirm that Pandas correctly assigned the column headers, call the `head` function to view the first five rows of the DataFrame.\n",
    "   \n",
    "\n",
    "References:\n",
    "\n",
    "[Pandas read_csv function](https://pandas.pydata.org/pandas-docs/stable/reference/api/pandas.read_csv.html)\n",
    "\n",
    "\n",
    "[Pandas head function](https://pandas.pydata.org/pandas-docs/stable/reference/api/pandas.DataFrame.head.html)\n",
    "\n"
   ]
  },
  {
   "cell_type": "markdown",
   "metadata": {},
   "source": [
    "## Step 1: Import the Pandas and `pathlib` libraries."
   ]
  },
  {
   "cell_type": "code",
   "execution_count": 9,
   "metadata": {},
   "outputs": [],
   "source": [
    "# Import the Pandas library\n",
    "import pandas as pd\n",
    "\n",
    "# Import the Path module from the pathlib library\n",
    "from pathlib import Path\n"
   ]
  },
  {
   "cell_type": "markdown",
   "metadata": {},
   "source": [
    "## Step 2: Define the relative path to the CSV file by using the `Path` module."
   ]
  },
  {
   "cell_type": "code",
   "execution_count": 10,
   "metadata": {},
   "outputs": [],
   "source": [
    "# Using the Path module, set the relative path to the \"the_four_horsemen.csv\" file\n",
    "# This \"the_four_horsemen.csv\" file is located in your Resources folder\n",
    "csvpath = Path(\"/Users/michaeldionne/Desktop/Fintech-Workspace/Module 3/Reading activities/03_Fix_Rows/sales.csv\")\n"
   ]
  },
  {
   "cell_type": "markdown",
   "metadata": {},
   "source": [
    "## Step 3. Use the Pandas `read_csv` function to create the DataFrame."
   ]
  },
  {
   "cell_type": "code",
   "execution_count": 11,
   "metadata": {},
   "outputs": [],
   "source": [
    "# Use the Pandas read_csv function to create the DataFrame\n",
    "# Read in the `csvpath` variable \n",
    "# To the `read_csv` function, add the parameter header and set it equal to the value None\n",
    "sales_dataframe = pd.read_csv(\n",
    "    Path(\"/Users/michaeldionne/Desktop/Fintech-Workspace/Module 3/Reading activities/03_Fix_Rows/sales.csv\"),\n",
    "    index_col=\"Date\",\n",
    "    parse_dates=True,\n",
    "    infer_datetime_format=True)\n"
   ]
  },
  {
   "cell_type": "markdown",
   "metadata": {},
   "source": [
    "## Step 4: Use the `head` function to view the first five rows of the DataFrame."
   ]
  },
  {
   "cell_type": "code",
   "execution_count": 12,
   "metadata": {},
   "outputs": [
    {
     "data": {
      "text/html": [
       "<div>\n",
       "<style scoped>\n",
       "    .dataframe tbody tr th:only-of-type {\n",
       "        vertical-align: middle;\n",
       "    }\n",
       "\n",
       "    .dataframe tbody tr th {\n",
       "        vertical-align: top;\n",
       "    }\n",
       "\n",
       "    .dataframe thead th {\n",
       "        text-align: right;\n",
       "    }\n",
       "</style>\n",
       "<table border=\"1\" class=\"dataframe\">\n",
       "  <thead>\n",
       "    <tr style=\"text-align: right;\">\n",
       "      <th></th>\n",
       "      <th>Net Sales (mill)</th>\n",
       "      <th>Net Income (mill)</th>\n",
       "      <th>EPS</th>\n",
       "    </tr>\n",
       "    <tr>\n",
       "      <th>Date</th>\n",
       "      <th></th>\n",
       "      <th></th>\n",
       "      <th></th>\n",
       "    </tr>\n",
       "  </thead>\n",
       "  <tbody>\n",
       "    <tr>\n",
       "      <th>2017-09-30</th>\n",
       "      <td>229,234</td>\n",
       "      <td>48,351</td>\n",
       "      <td>$9.27</td>\n",
       "    </tr>\n",
       "    <tr>\n",
       "      <th>2018-09-29</th>\n",
       "      <td>265,595</td>\n",
       "      <td>59,531</td>\n",
       "      <td>$12.01</td>\n",
       "    </tr>\n",
       "    <tr>\n",
       "      <th>2019-09-28</th>\n",
       "      <td>260,174</td>\n",
       "      <td>55,256</td>\n",
       "      <td>$11.97</td>\n",
       "    </tr>\n",
       "  </tbody>\n",
       "</table>\n",
       "</div>"
      ],
      "text/plain": [
       "           Net Sales (mill) Net Income (mill)     EPS\n",
       "Date                                                 \n",
       "2017-09-30          229,234            48,351   $9.27\n",
       "2018-09-29          265,595            59,531  $12.01\n",
       "2019-09-28          260,174            55,256  $11.97"
      ]
     },
     "execution_count": 12,
     "metadata": {},
     "output_type": "execute_result"
    }
   ],
   "source": [
    "# Call the head function to review the first 5 rows of the DataFrame\n",
    "\n",
    "sales_dataframe.head()"
   ]
  },
  {
   "cell_type": "markdown",
   "metadata": {},
   "source": [
    "## Step 5: Create a list of column names that contains the values `Date`, `Cisco`, `Dell`, `Intel`, and `Microsoft`."
   ]
  },
  {
   "cell_type": "code",
   "execution_count": 13,
   "metadata": {},
   "outputs": [],
   "source": [
    "# Create a list that contains the names that will be used for the column header\n",
    "# The values, in order, are: 'Date', 'Cisco', 'Dell', 'Intel', 'Microsoft'\n",
    "\n"
   ]
  },
  {
   "cell_type": "markdown",
   "metadata": {},
   "source": [
    "## Step 6: Assign the list of column names as the column headers for the DataFrame."
   ]
  },
  {
   "cell_type": "code",
   "execution_count": 14,
   "metadata": {},
   "outputs": [],
   "source": [
    "# Call the 'horseman_df' and the `columns` attribute\n",
    "# Set that equal to the variable name assigned to the list of column names\n",
    "# YOUR CODE HERE\n"
   ]
  },
  {
   "cell_type": "markdown",
   "metadata": {},
   "source": [
    "## Step 7: To confirm that Pandas correctly assigned the column headers, call the `head` function to view the first five rows of the DataFrame."
   ]
  },
  {
   "cell_type": "code",
   "execution_count": 15,
   "metadata": {},
   "outputs": [
    {
     "data": {
      "text/html": [
       "<div>\n",
       "<style scoped>\n",
       "    .dataframe tbody tr th:only-of-type {\n",
       "        vertical-align: middle;\n",
       "    }\n",
       "\n",
       "    .dataframe tbody tr th {\n",
       "        vertical-align: top;\n",
       "    }\n",
       "\n",
       "    .dataframe thead th {\n",
       "        text-align: right;\n",
       "    }\n",
       "</style>\n",
       "<table border=\"1\" class=\"dataframe\">\n",
       "  <thead>\n",
       "    <tr style=\"text-align: right;\">\n",
       "      <th></th>\n",
       "      <th>Net Sales (mill)</th>\n",
       "      <th>Net Income (mill)</th>\n",
       "      <th>EPS</th>\n",
       "    </tr>\n",
       "    <tr>\n",
       "      <th>Date</th>\n",
       "      <th></th>\n",
       "      <th></th>\n",
       "      <th></th>\n",
       "    </tr>\n",
       "  </thead>\n",
       "  <tbody>\n",
       "    <tr>\n",
       "      <th>2017-09-30</th>\n",
       "      <td>229,234</td>\n",
       "      <td>48,351</td>\n",
       "      <td>$9.27</td>\n",
       "    </tr>\n",
       "    <tr>\n",
       "      <th>2018-09-29</th>\n",
       "      <td>265,595</td>\n",
       "      <td>59,531</td>\n",
       "      <td>$12.01</td>\n",
       "    </tr>\n",
       "    <tr>\n",
       "      <th>2019-09-28</th>\n",
       "      <td>260,174</td>\n",
       "      <td>55,256</td>\n",
       "      <td>$11.97</td>\n",
       "    </tr>\n",
       "  </tbody>\n",
       "</table>\n",
       "</div>"
      ],
      "text/plain": [
       "           Net Sales (mill) Net Income (mill)     EPS\n",
       "Date                                                 \n",
       "2017-09-30          229,234            48,351   $9.27\n",
       "2018-09-29          265,595            59,531  $12.01\n",
       "2019-09-28          260,174            55,256  $11.97"
      ]
     },
     "execution_count": 15,
     "metadata": {},
     "output_type": "execute_result"
    }
   ],
   "source": [
    "# Call the head function to review the first 5 rows of the DataFrame\n",
    "# Confirm that the column headers have been assigned appropriately\n",
    "sales_dataframe.head()\n",
    "\n"
   ]
  }
 ],
 "metadata": {
  "kernelspec": {
   "display_name": "dev",
   "language": "python",
   "name": "dev"
  },
  "language_info": {
   "codemirror_mode": {
    "name": "ipython",
    "version": 3
   },
   "file_extension": ".py",
   "mimetype": "text/x-python",
   "name": "python",
   "nbconvert_exporter": "python",
   "pygments_lexer": "ipython3",
   "version": "3.7.13"
  }
 },
 "nbformat": 4,
 "nbformat_minor": 4
}
