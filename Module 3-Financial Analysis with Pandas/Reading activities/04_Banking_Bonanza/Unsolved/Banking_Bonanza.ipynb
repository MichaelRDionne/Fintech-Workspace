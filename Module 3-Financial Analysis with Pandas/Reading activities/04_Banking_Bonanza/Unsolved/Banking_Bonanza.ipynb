{
 "cells": [
  {
   "cell_type": "markdown",
   "metadata": {},
   "source": [
    "# Banking Bonanza\n",
    "\n",
    "In this activity, you’ll use Pandas functions to perform both a high-level and a targeted analysis of trends in bank funding rates—that is, the bank’s cost to borrow money.\n",
    "\n",
    "Instructions:\n",
    "\n",
    "1. Import the Pandas and `pathlib` libraries.\n",
    "\n",
    "2. Use `Path` with the `read_csv` function to read the CSV file into the DataFrame. Review the first five rows of the DataFrame to confirm the import.\n",
    "\n",
    "3. Use the `plot` function to visualize how each of the rates in the DataFrame has evolved over time.\n",
    "\n",
    "4. Use the `describe` function to generate the summary statistics for the DataFrame. Then use these statistics to determine the spread (or difference) between the average funding rate of the bank and the average prime rate that the bank charges its most credit-worthy customers. This spread quantifies one way that the bank profits from lending.\n",
    "\n",
    "5. Use the `loc` function to create a new DataFrame that includes all the rows of only the Funding Rate column. Review this Funding Rate DataFrame by creating both a line plot and a histogram.\n",
    "\n",
    "6. Use the `loc` function to create a new DataFrame that includes the data only from 2020. This new DataFrame should include all the columns of data. Review this 2020 DataFrame by creating a box plot to determine how the data was distributed during 2020.\n",
    "\n",
    "7. Use conditional statements to filter and analyze the 2020 DataFrame. The goal is to compare the bank’s profits from the times that the funding rates were greater than or equal to 1% to the times that they were less than 1%.\n",
    "  \n"
   ]
  },
  {
   "cell_type": "markdown",
   "metadata": {},
   "source": [
    "## Step 1: Import the Pandas and `pathlib` libraries."
   ]
  },
  {
   "cell_type": "code",
   "execution_count": 1,
   "metadata": {},
   "outputs": [],
   "source": [
    "# Import the Pandas library\n",
    "import pandas as pd\n",
    "\n",
    "\n",
    "# Import the Path module from the pathlib library\n",
    "from pathlib import Path\n"
   ]
  },
  {
   "cell_type": "markdown",
   "metadata": {},
   "source": [
    "## Step 2: Use `Path` with the `read_csv` function to read the CSV file into the DataFrame. Review the first five rows of the DataFrame to confirm the import."
   ]
  },
  {
   "cell_type": "code",
   "execution_count": 2,
   "metadata": {},
   "outputs": [
    {
     "data": {
      "text/html": [
       "<div>\n",
       "<style scoped>\n",
       "    .dataframe tbody tr th:only-of-type {\n",
       "        vertical-align: middle;\n",
       "    }\n",
       "\n",
       "    .dataframe tbody tr th {\n",
       "        vertical-align: top;\n",
       "    }\n",
       "\n",
       "    .dataframe thead th {\n",
       "        text-align: right;\n",
       "    }\n",
       "</style>\n",
       "<table border=\"1\" class=\"dataframe\">\n",
       "  <thead>\n",
       "    <tr style=\"text-align: right;\">\n",
       "      <th></th>\n",
       "      <th>Funding Rate</th>\n",
       "      <th>Prime Rate</th>\n",
       "      <th>Retail Rate</th>\n",
       "      <th>Sub-prime Rate</th>\n",
       "    </tr>\n",
       "    <tr>\n",
       "      <th>Date</th>\n",
       "      <th></th>\n",
       "      <th></th>\n",
       "      <th></th>\n",
       "      <th></th>\n",
       "    </tr>\n",
       "  </thead>\n",
       "  <tbody>\n",
       "    <tr>\n",
       "      <th>2019-01-01</th>\n",
       "      <td>1.49</td>\n",
       "      <td>2.70</td>\n",
       "      <td>4.69</td>\n",
       "      <td>7.77</td>\n",
       "    </tr>\n",
       "    <tr>\n",
       "      <th>2019-01-02</th>\n",
       "      <td>1.84</td>\n",
       "      <td>2.82</td>\n",
       "      <td>4.64</td>\n",
       "      <td>8.06</td>\n",
       "    </tr>\n",
       "    <tr>\n",
       "      <th>2019-01-03</th>\n",
       "      <td>1.69</td>\n",
       "      <td>2.92</td>\n",
       "      <td>4.61</td>\n",
       "      <td>8.08</td>\n",
       "    </tr>\n",
       "    <tr>\n",
       "      <th>2019-01-04</th>\n",
       "      <td>1.57</td>\n",
       "      <td>3.01</td>\n",
       "      <td>4.70</td>\n",
       "      <td>8.04</td>\n",
       "    </tr>\n",
       "    <tr>\n",
       "      <th>2019-01-05</th>\n",
       "      <td>1.30</td>\n",
       "      <td>2.94</td>\n",
       "      <td>5.05</td>\n",
       "      <td>7.95</td>\n",
       "    </tr>\n",
       "  </tbody>\n",
       "</table>\n",
       "</div>"
      ],
      "text/plain": [
       "            Funding Rate  Prime Rate  Retail Rate  Sub-prime Rate\n",
       "Date                                                             \n",
       "2019-01-01          1.49        2.70         4.69            7.77\n",
       "2019-01-02          1.84        2.82         4.64            8.06\n",
       "2019-01-03          1.69        2.92         4.61            8.08\n",
       "2019-01-04          1.57        3.01         4.70            8.04\n",
       "2019-01-05          1.30        2.94         5.05            7.95"
      ]
     },
     "execution_count": 2,
     "metadata": {},
     "output_type": "execute_result"
    }
   ],
   "source": [
    "# Read in the CSV file called \"lending_rates.csv\" using the Path module. \n",
    "# The CSV file is located in the Resources folder.\n",
    "# Set the index to the column \"Date\"\n",
    "# Set the parse_dates and infer_datetime_format parameters\n",
    "lending_rates_df = pd.read_csv(\n",
    "        Path(\"../Resources/lending_rates.csv\"), \n",
    "        index_col=\"Date\", \n",
    "        parse_dates=True, \n",
    "        infer_datetime_format=True\n",
    ")\n",
    "\n",
    "# Review the first 5 rows of the DataFrame\n",
    "lending_rates_df.head()\n",
    "\n"
   ]
  },
  {
   "cell_type": "markdown",
   "metadata": {},
   "source": [
    "## Step 3. se the `plot` function to visualize how each of the rates in the DataFrame has evolved over time."
   ]
  },
  {
   "cell_type": "code",
   "execution_count": 7,
   "metadata": {},
   "outputs": [
    {
     "data": {
      "text/plain": [
       "<AxesSubplot:xlabel='Date'>"
      ]
     },
     "execution_count": 7,
     "metadata": {},
     "output_type": "execute_result"
    },
    {
     "data": {
      "image/png": "[encoded data removed]",
      "text/plain": [
       "<Figure size 432x288 with 1 Axes>"
      ]
     },
     "metadata": {
      "needs_background": "light"
     },
     "output_type": "display_data"
    }
   ],
   "source": [
    "# Use the default line plot to vizualize the rates in the DataFrame\n",
    "lending_rates_df.plot()\n",
    "\n",
    "\n"
   ]
  },
  {
   "cell_type": "markdown",
   "metadata": {},
   "source": [
    "## Step 4: Use the `describe` function to generate the summary statistics for the DataFrame. Then use these statistics to determine the spread (or difference) between the average funding rate of the bank and the average prime rate that the bank charges its most credit-worthy customers. This spread quantifies one way that the bank profits from lending."
   ]
  },
  {
   "cell_type": "code",
   "execution_count": 4,
   "metadata": {},
   "outputs": [
    {
     "data": {
      "text/html": [
       "<div>\n",
       "<style scoped>\n",
       "    .dataframe tbody tr th:only-of-type {\n",
       "        vertical-align: middle;\n",
       "    }\n",
       "\n",
       "    .dataframe tbody tr th {\n",
       "        vertical-align: top;\n",
       "    }\n",
       "\n",
       "    .dataframe thead th {\n",
       "        text-align: right;\n",
       "    }\n",
       "</style>\n",
       "<table border=\"1\" class=\"dataframe\">\n",
       "  <thead>\n",
       "    <tr style=\"text-align: right;\">\n",
       "      <th></th>\n",
       "      <th>Funding Rate</th>\n",
       "      <th>Prime Rate</th>\n",
       "      <th>Retail Rate</th>\n",
       "      <th>Sub-prime Rate</th>\n",
       "    </tr>\n",
       "  </thead>\n",
       "  <tbody>\n",
       "    <tr>\n",
       "      <th>count</th>\n",
       "      <td>730.000000</td>\n",
       "      <td>730.000000</td>\n",
       "      <td>730.000000</td>\n",
       "      <td>730.000000</td>\n",
       "    </tr>\n",
       "    <tr>\n",
       "      <th>mean</th>\n",
       "      <td>0.988342</td>\n",
       "      <td>3.036301</td>\n",
       "      <td>5.091781</td>\n",
       "      <td>7.933849</td>\n",
       "    </tr>\n",
       "    <tr>\n",
       "      <th>std</th>\n",
       "      <td>0.151529</td>\n",
       "      <td>0.167394</td>\n",
       "      <td>0.306843</td>\n",
       "      <td>0.480240</td>\n",
       "    </tr>\n",
       "    <tr>\n",
       "      <th>min</th>\n",
       "      <td>0.600000</td>\n",
       "      <td>2.510000</td>\n",
       "      <td>4.050000</td>\n",
       "      <td>6.490000</td>\n",
       "    </tr>\n",
       "    <tr>\n",
       "      <th>25%</th>\n",
       "      <td>0.900000</td>\n",
       "      <td>2.950000</td>\n",
       "      <td>4.900000</td>\n",
       "      <td>7.620000</td>\n",
       "    </tr>\n",
       "    <tr>\n",
       "      <th>50%</th>\n",
       "      <td>1.005000</td>\n",
       "      <td>3.050000</td>\n",
       "      <td>5.090000</td>\n",
       "      <td>7.910000</td>\n",
       "    </tr>\n",
       "    <tr>\n",
       "      <th>75%</th>\n",
       "      <td>1.070000</td>\n",
       "      <td>3.170000</td>\n",
       "      <td>5.280000</td>\n",
       "      <td>8.240000</td>\n",
       "    </tr>\n",
       "    <tr>\n",
       "      <th>max</th>\n",
       "      <td>1.840000</td>\n",
       "      <td>3.360000</td>\n",
       "      <td>5.860000</td>\n",
       "      <td>9.190000</td>\n",
       "    </tr>\n",
       "  </tbody>\n",
       "</table>\n",
       "</div>"
      ],
      "text/plain": [
       "       Funding Rate  Prime Rate  Retail Rate  Sub-prime Rate\n",
       "count    730.000000  730.000000   730.000000      730.000000\n",
       "mean       0.988342    3.036301     5.091781        7.933849\n",
       "std        0.151529    0.167394     0.306843        0.480240\n",
       "min        0.600000    2.510000     4.050000        6.490000\n",
       "25%        0.900000    2.950000     4.900000        7.620000\n",
       "50%        1.005000    3.050000     5.090000        7.910000\n",
       "75%        1.070000    3.170000     5.280000        8.240000\n",
       "max        1.840000    3.360000     5.860000        9.190000"
      ]
     },
     "execution_count": 4,
     "metadata": {},
     "output_type": "execute_result"
    }
   ],
   "source": [
    "# Use the describe function to generate summary statistics for the DataFrame\n",
    "lending_rates_df.describe()\n",
    "\n"
   ]
  },
  {
   "cell_type": "markdown",
   "metadata": {},
   "source": [
    "**Question:** Can you quantify the spread, or difference between the bank's average funding rate and the average prime rate that it charges its most credit-worthy customers?\n",
    "\n",
    "**Answer:** # YOUR ANSWER HERE"
   ]
  },
  {
   "cell_type": "markdown",
   "metadata": {},
   "source": [
    "## Step 5: Use the `loc` function to create a new DataFrame that includes all the rows of only the Funding Rate column. Review this Funding Rate DataFrame by creating both a line plot and a histogram."
   ]
  },
  {
   "cell_type": "code",
   "execution_count": 5,
   "metadata": {},
   "outputs": [
    {
     "data": {
      "text/html": [
       "<div>\n",
       "<style scoped>\n",
       "    .dataframe tbody tr th:only-of-type {\n",
       "        vertical-align: middle;\n",
       "    }\n",
       "\n",
       "    .dataframe tbody tr th {\n",
       "        vertical-align: top;\n",
       "    }\n",
       "\n",
       "    .dataframe thead th {\n",
       "        text-align: right;\n",
       "    }\n",
       "</style>\n",
       "<table border=\"1\" class=\"dataframe\">\n",
       "  <thead>\n",
       "    <tr style=\"text-align: right;\">\n",
       "      <th></th>\n",
       "      <th>Funding Rate</th>\n",
       "    </tr>\n",
       "    <tr>\n",
       "      <th>Date</th>\n",
       "      <th></th>\n",
       "    </tr>\n",
       "  </thead>\n",
       "  <tbody>\n",
       "    <tr>\n",
       "      <th>2019-01-01</th>\n",
       "      <td>1.49</td>\n",
       "    </tr>\n",
       "    <tr>\n",
       "      <th>2019-01-02</th>\n",
       "      <td>1.84</td>\n",
       "    </tr>\n",
       "    <tr>\n",
       "      <th>2019-01-03</th>\n",
       "      <td>1.69</td>\n",
       "    </tr>\n",
       "    <tr>\n",
       "      <th>2019-01-04</th>\n",
       "      <td>1.57</td>\n",
       "    </tr>\n",
       "    <tr>\n",
       "      <th>2019-01-05</th>\n",
       "      <td>1.30</td>\n",
       "    </tr>\n",
       "  </tbody>\n",
       "</table>\n",
       "</div>"
      ],
      "text/plain": [
       "            Funding Rate\n",
       "Date                    \n",
       "2019-01-01          1.49\n",
       "2019-01-02          1.84\n",
       "2019-01-03          1.69\n",
       "2019-01-04          1.57\n",
       "2019-01-05          1.30"
      ]
     },
     "execution_count": 5,
     "metadata": {},
     "output_type": "execute_result"
    }
   ],
   "source": [
    "# Use the loc function to create a `funding_rate` Series\n",
    "# The Series should contains all rows for the \"Funding Rate\" column only\n",
    "boolean_filter = [True, False, False, False]\n",
    "funding_rate = lending_rates_df.loc[:, boolean_filter]\n",
    "\n",
    "\n",
    "# Review the top 5 rows of the `funding_rate` Series\n",
    "funding_rate.head()\n",
    "\n"
   ]
  },
  {
   "cell_type": "code",
   "execution_count": 8,
   "metadata": {},
   "outputs": [
    {
     "data": {
      "text/plain": [
       "<AxesSubplot:xlabel='Date'>"
      ]
     },
     "execution_count": 8,
     "metadata": {},
     "output_type": "execute_result"
    },
    {
     "data": {
      "image/png": "[encoded data removed]",
      "text/plain": [
       "<Figure size 432x288 with 1 Axes>"
      ]
     },
     "metadata": {
      "needs_background": "light"
     },
     "output_type": "display_data"
    }
   ],
   "source": [
    "# Create a line plot to visualize how the funding rate values changed over time\n",
    "funding_rate.plot()\n",
    "\n",
    "\n"
   ]
  },
  {
   "cell_type": "code",
   "execution_count": 9,
   "metadata": {},
   "outputs": [
    {
     "data": {
      "text/plain": [
       "<AxesSubplot:ylabel='Frequency'>"
      ]
     },
     "execution_count": 9,
     "metadata": {},
     "output_type": "execute_result"
    },
    {
     "data": {
      "image/png": "[encoded data removed]",
      "text/plain": [
       "<Figure size 432x288 with 1 Axes>"
      ]
     },
     "metadata": {
      "needs_background": "light"
     },
     "output_type": "display_data"
    }
   ],
   "source": [
    "# Plot a histogram to visualize the distribution of the funding rates\n",
    "funding_rate.plot(kind=\"hist\")\n",
    "\n"
   ]
  },
  {
   "cell_type": "markdown",
   "metadata": {},
   "source": [
    "## Step 6: Use the `loc` function to create a new DataFrame that includes the data only from 2020. This new DataFrame should include all the columns of data. Review this 2020 DataFrame by creating a box plot to determine how the data was distributed during 2020."
   ]
  },
  {
   "cell_type": "code",
   "execution_count": 10,
   "metadata": {},
   "outputs": [
    {
     "data": {
      "text/html": [
       "<div>\n",
       "<style scoped>\n",
       "    .dataframe tbody tr th:only-of-type {\n",
       "        vertical-align: middle;\n",
       "    }\n",
       "\n",
       "    .dataframe tbody tr th {\n",
       "        vertical-align: top;\n",
       "    }\n",
       "\n",
       "    .dataframe thead th {\n",
       "        text-align: right;\n",
       "    }\n",
       "</style>\n",
       "<table border=\"1\" class=\"dataframe\">\n",
       "  <thead>\n",
       "    <tr style=\"text-align: right;\">\n",
       "      <th></th>\n",
       "      <th>Funding Rate</th>\n",
       "      <th>Prime Rate</th>\n",
       "      <th>Retail Rate</th>\n",
       "      <th>Sub-prime Rate</th>\n",
       "    </tr>\n",
       "    <tr>\n",
       "      <th>Date</th>\n",
       "      <th></th>\n",
       "      <th></th>\n",
       "      <th></th>\n",
       "      <th></th>\n",
       "    </tr>\n",
       "  </thead>\n",
       "  <tbody>\n",
       "    <tr>\n",
       "      <th>2020-01-01</th>\n",
       "      <td>1.03</td>\n",
       "      <td>2.98</td>\n",
       "      <td>5.37</td>\n",
       "      <td>7.56</td>\n",
       "    </tr>\n",
       "    <tr>\n",
       "      <th>2020-01-02</th>\n",
       "      <td>1.05</td>\n",
       "      <td>3.00</td>\n",
       "      <td>5.34</td>\n",
       "      <td>7.73</td>\n",
       "    </tr>\n",
       "    <tr>\n",
       "      <th>2020-01-03</th>\n",
       "      <td>1.07</td>\n",
       "      <td>2.99</td>\n",
       "      <td>5.32</td>\n",
       "      <td>7.93</td>\n",
       "    </tr>\n",
       "    <tr>\n",
       "      <th>2020-01-04</th>\n",
       "      <td>1.09</td>\n",
       "      <td>2.98</td>\n",
       "      <td>5.28</td>\n",
       "      <td>7.96</td>\n",
       "    </tr>\n",
       "    <tr>\n",
       "      <th>2020-01-05</th>\n",
       "      <td>1.10</td>\n",
       "      <td>2.99</td>\n",
       "      <td>5.21</td>\n",
       "      <td>7.95</td>\n",
       "    </tr>\n",
       "    <tr>\n",
       "      <th>2020-01-06</th>\n",
       "      <td>1.09</td>\n",
       "      <td>3.00</td>\n",
       "      <td>5.17</td>\n",
       "      <td>8.00</td>\n",
       "    </tr>\n",
       "    <tr>\n",
       "      <th>2020-01-07</th>\n",
       "      <td>1.08</td>\n",
       "      <td>3.00</td>\n",
       "      <td>5.17</td>\n",
       "      <td>7.92</td>\n",
       "    </tr>\n",
       "    <tr>\n",
       "      <th>2020-01-08</th>\n",
       "      <td>1.08</td>\n",
       "      <td>3.01</td>\n",
       "      <td>5.16</td>\n",
       "      <td>7.86</td>\n",
       "    </tr>\n",
       "    <tr>\n",
       "      <th>2020-01-09</th>\n",
       "      <td>1.05</td>\n",
       "      <td>3.04</td>\n",
       "      <td>5.14</td>\n",
       "      <td>7.78</td>\n",
       "    </tr>\n",
       "    <tr>\n",
       "      <th>2020-01-10</th>\n",
       "      <td>1.03</td>\n",
       "      <td>3.07</td>\n",
       "      <td>5.16</td>\n",
       "      <td>7.84</td>\n",
       "    </tr>\n",
       "  </tbody>\n",
       "</table>\n",
       "</div>"
      ],
      "text/plain": [
       "            Funding Rate  Prime Rate  Retail Rate  Sub-prime Rate\n",
       "Date                                                             \n",
       "2020-01-01          1.03        2.98         5.37            7.56\n",
       "2020-01-02          1.05        3.00         5.34            7.73\n",
       "2020-01-03          1.07        2.99         5.32            7.93\n",
       "2020-01-04          1.09        2.98         5.28            7.96\n",
       "2020-01-05          1.10        2.99         5.21            7.95\n",
       "2020-01-06          1.09        3.00         5.17            8.00\n",
       "2020-01-07          1.08        3.00         5.17            7.92\n",
       "2020-01-08          1.08        3.01         5.16            7.86\n",
       "2020-01-09          1.05        3.04         5.14            7.78\n",
       "2020-01-10          1.03        3.07         5.16            7.84"
      ]
     },
     "execution_count": 10,
     "metadata": {},
     "output_type": "execute_result"
    }
   ],
   "source": [
    "# Using the loc function, create a DataFrame that includes data only from 2020\n",
    "# This DataFrame should include all columns and rows of data\n",
    "\n",
    "rates_2020_df = lending_rates_df.loc['2020-01-01': '2020-12-31']\n",
    "# Review the first 10 rows of the DataFrame\n",
    "rates_2020_df.head(10)\n"
   ]
  },
  {
   "cell_type": "code",
   "execution_count": 11,
   "metadata": {},
   "outputs": [
    {
     "data": {
      "text/plain": [
       "<AxesSubplot:>"
      ]
     },
     "execution_count": 11,
     "metadata": {},
     "output_type": "execute_result"
    },
    {
     "data": {
      "image/png": "[encoded data removed]",
      "text/plain": [
       "<Figure size 432x288 with 1 Axes>"
      ]
     },
     "metadata": {
      "needs_background": "light"
     },
     "output_type": "display_data"
    }
   ],
   "source": [
    "# Create a box plot that visualizes the distribution of the different rates over 2020\n",
    "rates_2020_df.plot(kind='box')\n",
    "\n"
   ]
  },
  {
   "cell_type": "markdown",
   "metadata": {},
   "source": [
    "**Question:** Based on the box-plot visualization, what category of rates exhibited the largest distribution for 2020? What category of rates exhibit the smallest distribution for 2020?\n",
    "\n",
    "**Answer:** # YOUR ANSWER HERE"
   ]
  },
  {
   "cell_type": "markdown",
   "metadata": {},
   "source": [
    "## Step 7: Use conditional statements to filter and analyze the 2020 DataFrame. The goal is to compare the bank’s profits from the times that the funding rates were greater than or equal to 1% to the times that they were less than 1%."
   ]
  },
  {
   "cell_type": "code",
   "execution_count": 15,
   "metadata": {},
   "outputs": [
    {
     "data": {
      "text/html": [
       "<div>\n",
       "<style scoped>\n",
       "    .dataframe tbody tr th:only-of-type {\n",
       "        vertical-align: middle;\n",
       "    }\n",
       "\n",
       "    .dataframe tbody tr th {\n",
       "        vertical-align: top;\n",
       "    }\n",
       "\n",
       "    .dataframe thead th {\n",
       "        text-align: right;\n",
       "    }\n",
       "</style>\n",
       "<table border=\"1\" class=\"dataframe\">\n",
       "  <thead>\n",
       "    <tr style=\"text-align: right;\">\n",
       "      <th></th>\n",
       "      <th>Funding Rate</th>\n",
       "      <th>Prime Rate</th>\n",
       "      <th>Retail Rate</th>\n",
       "      <th>Sub-prime Rate</th>\n",
       "    </tr>\n",
       "    <tr>\n",
       "      <th>Date</th>\n",
       "      <th></th>\n",
       "      <th></th>\n",
       "      <th></th>\n",
       "      <th></th>\n",
       "    </tr>\n",
       "  </thead>\n",
       "  <tbody>\n",
       "    <tr>\n",
       "      <th>2020-01-01</th>\n",
       "      <td>1.03</td>\n",
       "      <td>2.98</td>\n",
       "      <td>5.37</td>\n",
       "      <td>7.56</td>\n",
       "    </tr>\n",
       "    <tr>\n",
       "      <th>2020-01-02</th>\n",
       "      <td>1.05</td>\n",
       "      <td>3.00</td>\n",
       "      <td>5.34</td>\n",
       "      <td>7.73</td>\n",
       "    </tr>\n",
       "    <tr>\n",
       "      <th>2020-01-03</th>\n",
       "      <td>1.07</td>\n",
       "      <td>2.99</td>\n",
       "      <td>5.32</td>\n",
       "      <td>7.93</td>\n",
       "    </tr>\n",
       "    <tr>\n",
       "      <th>2020-01-04</th>\n",
       "      <td>1.09</td>\n",
       "      <td>2.98</td>\n",
       "      <td>5.28</td>\n",
       "      <td>7.96</td>\n",
       "    </tr>\n",
       "    <tr>\n",
       "      <th>2020-01-05</th>\n",
       "      <td>1.10</td>\n",
       "      <td>2.99</td>\n",
       "      <td>5.21</td>\n",
       "      <td>7.95</td>\n",
       "    </tr>\n",
       "  </tbody>\n",
       "</table>\n",
       "</div>"
      ],
      "text/plain": [
       "            Funding Rate  Prime Rate  Retail Rate  Sub-prime Rate\n",
       "Date                                                             \n",
       "2020-01-01          1.03        2.98         5.37            7.56\n",
       "2020-01-02          1.05        3.00         5.34            7.73\n",
       "2020-01-03          1.07        2.99         5.32            7.93\n",
       "2020-01-04          1.09        2.98         5.28            7.96\n",
       "2020-01-05          1.10        2.99         5.21            7.95"
      ]
     },
     "execution_count": 15,
     "metadata": {},
     "output_type": "execute_result"
    }
   ],
   "source": [
    "# Add a conditional statement to the `rates_2020_df` DataFrame\n",
    "# Keep only days when `Funding Rate` is  greater than or equal to 1.00%\n",
    "high_filter_rates = rates_2020_df[\"Funding Rate\"] >= 1.00\n",
    "\n",
    "\n",
    "# Create a subset of the `rates_2020_df` DataFrame using the loc function \n",
    "# in conjunction with the conditional statement that includes only funding rates\n",
    "# that are greater than or equal to 1%\n",
    "high_funding_rates_df = rates_2020_df.loc[high_filter_rates]\n",
    "\n",
    "# Review the first 5 rows of the `high_funding_rates_df` DataFrame \n",
    "high_funding_rates_df.head()\n"
   ]
  },
  {
   "cell_type": "code",
   "execution_count": 16,
   "metadata": {},
   "outputs": [
    {
     "data": {
      "text/html": [
       "<div>\n",
       "<style scoped>\n",
       "    .dataframe tbody tr th:only-of-type {\n",
       "        vertical-align: middle;\n",
       "    }\n",
       "\n",
       "    .dataframe tbody tr th {\n",
       "        vertical-align: top;\n",
       "    }\n",
       "\n",
       "    .dataframe thead th {\n",
       "        text-align: right;\n",
       "    }\n",
       "</style>\n",
       "<table border=\"1\" class=\"dataframe\">\n",
       "  <thead>\n",
       "    <tr style=\"text-align: right;\">\n",
       "      <th></th>\n",
       "      <th>Funding Rate</th>\n",
       "      <th>Prime Rate</th>\n",
       "      <th>Retail Rate</th>\n",
       "      <th>Sub-prime Rate</th>\n",
       "    </tr>\n",
       "  </thead>\n",
       "  <tbody>\n",
       "    <tr>\n",
       "      <th>count</th>\n",
       "      <td>223.000000</td>\n",
       "      <td>223.000000</td>\n",
       "      <td>223.000000</td>\n",
       "      <td>223.000000</td>\n",
       "    </tr>\n",
       "    <tr>\n",
       "      <th>mean</th>\n",
       "      <td>1.058610</td>\n",
       "      <td>3.079103</td>\n",
       "      <td>4.937892</td>\n",
       "      <td>8.102466</td>\n",
       "    </tr>\n",
       "    <tr>\n",
       "      <th>std</th>\n",
       "      <td>0.049886</td>\n",
       "      <td>0.186234</td>\n",
       "      <td>0.148799</td>\n",
       "      <td>0.455891</td>\n",
       "    </tr>\n",
       "    <tr>\n",
       "      <th>min</th>\n",
       "      <td>1.000000</td>\n",
       "      <td>2.680000</td>\n",
       "      <td>4.590000</td>\n",
       "      <td>6.820000</td>\n",
       "    </tr>\n",
       "    <tr>\n",
       "      <th>25%</th>\n",
       "      <td>1.025000</td>\n",
       "      <td>2.930000</td>\n",
       "      <td>4.850000</td>\n",
       "      <td>7.845000</td>\n",
       "    </tr>\n",
       "    <tr>\n",
       "      <th>50%</th>\n",
       "      <td>1.050000</td>\n",
       "      <td>3.150000</td>\n",
       "      <td>4.930000</td>\n",
       "      <td>8.130000</td>\n",
       "    </tr>\n",
       "    <tr>\n",
       "      <th>75%</th>\n",
       "      <td>1.080000</td>\n",
       "      <td>3.230000</td>\n",
       "      <td>5.040000</td>\n",
       "      <td>8.405000</td>\n",
       "    </tr>\n",
       "    <tr>\n",
       "      <th>max</th>\n",
       "      <td>1.220000</td>\n",
       "      <td>3.360000</td>\n",
       "      <td>5.370000</td>\n",
       "      <td>9.190000</td>\n",
       "    </tr>\n",
       "  </tbody>\n",
       "</table>\n",
       "</div>"
      ],
      "text/plain": [
       "       Funding Rate  Prime Rate  Retail Rate  Sub-prime Rate\n",
       "count    223.000000  223.000000   223.000000      223.000000\n",
       "mean       1.058610    3.079103     4.937892        8.102466\n",
       "std        0.049886    0.186234     0.148799        0.455891\n",
       "min        1.000000    2.680000     4.590000        6.820000\n",
       "25%        1.025000    2.930000     4.850000        7.845000\n",
       "50%        1.050000    3.150000     4.930000        8.130000\n",
       "75%        1.080000    3.230000     5.040000        8.405000\n",
       "max        1.220000    3.360000     5.370000        9.190000"
      ]
     },
     "execution_count": 16,
     "metadata": {},
     "output_type": "execute_result"
    }
   ],
   "source": [
    "# Use thed describe function to generate summary statistics of the `high_funding_rates` DataFrame.\n",
    "high_funding_rates_df.describe()\n"
   ]
  },
  {
   "cell_type": "code",
   "execution_count": 21,
   "metadata": {},
   "outputs": [
    {
     "data": {
      "text/html": [
       "<div>\n",
       "<style scoped>\n",
       "    .dataframe tbody tr th:only-of-type {\n",
       "        vertical-align: middle;\n",
       "    }\n",
       "\n",
       "    .dataframe tbody tr th {\n",
       "        vertical-align: top;\n",
       "    }\n",
       "\n",
       "    .dataframe thead th {\n",
       "        text-align: right;\n",
       "    }\n",
       "</style>\n",
       "<table border=\"1\" class=\"dataframe\">\n",
       "  <thead>\n",
       "    <tr style=\"text-align: right;\">\n",
       "      <th></th>\n",
       "      <th>Funding Rate</th>\n",
       "      <th>Prime Rate</th>\n",
       "      <th>Retail Rate</th>\n",
       "      <th>Sub-prime Rate</th>\n",
       "    </tr>\n",
       "    <tr>\n",
       "      <th>Date</th>\n",
       "      <th></th>\n",
       "      <th></th>\n",
       "      <th></th>\n",
       "      <th></th>\n",
       "    </tr>\n",
       "  </thead>\n",
       "  <tbody>\n",
       "    <tr>\n",
       "      <th>2020-01-13</th>\n",
       "      <td>0.96</td>\n",
       "      <td>3.12</td>\n",
       "      <td>5.16</td>\n",
       "      <td>7.96</td>\n",
       "    </tr>\n",
       "    <tr>\n",
       "      <th>2020-01-14</th>\n",
       "      <td>0.95</td>\n",
       "      <td>3.13</td>\n",
       "      <td>5.23</td>\n",
       "      <td>7.96</td>\n",
       "    </tr>\n",
       "    <tr>\n",
       "      <th>2020-01-15</th>\n",
       "      <td>0.93</td>\n",
       "      <td>3.09</td>\n",
       "      <td>5.28</td>\n",
       "      <td>7.96</td>\n",
       "    </tr>\n",
       "    <tr>\n",
       "      <th>2020-01-16</th>\n",
       "      <td>0.91</td>\n",
       "      <td>3.06</td>\n",
       "      <td>5.30</td>\n",
       "      <td>8.05</td>\n",
       "    </tr>\n",
       "    <tr>\n",
       "      <th>2020-01-17</th>\n",
       "      <td>0.92</td>\n",
       "      <td>3.02</td>\n",
       "      <td>5.35</td>\n",
       "      <td>8.16</td>\n",
       "    </tr>\n",
       "  </tbody>\n",
       "</table>\n",
       "</div>"
      ],
      "text/plain": [
       "            Funding Rate  Prime Rate  Retail Rate  Sub-prime Rate\n",
       "Date                                                             \n",
       "2020-01-13          0.96        3.12         5.16            7.96\n",
       "2020-01-14          0.95        3.13         5.23            7.96\n",
       "2020-01-15          0.93        3.09         5.28            7.96\n",
       "2020-01-16          0.91        3.06         5.30            8.05\n",
       "2020-01-17          0.92        3.02         5.35            8.16"
      ]
     },
     "execution_count": 21,
     "metadata": {},
     "output_type": "execute_result"
    }
   ],
   "source": [
    "# Add a conditional statement to the `rates_2020_df` DataFrame\n",
    "# Keep only days when `Funding Rate` is  less than 1.00%.\n",
    "low_filter_rates = rates_2020_df['Funding Rate'] < 1.00\n",
    "\n",
    "# Create a subset of the `rates_2020_df` DataFrame using the loc function \n",
    "# in conjunction with the conditional statement that includes only funding rates\n",
    "# that are less than 1%\n",
    "low_funding_rates_df = rates_2020_df.loc[low_filter_rates]\n",
    "\n",
    "# Review the first 5 rows of the `low_funding_rates_df` DataFrame \n",
    "low_funding_rates_df.head()\n",
    "\n",
    "\n"
   ]
  },
  {
   "cell_type": "code",
   "execution_count": 23,
   "metadata": {},
   "outputs": [
    {
     "data": {
      "text/html": [
       "<div>\n",
       "<style scoped>\n",
       "    .dataframe tbody tr th:only-of-type {\n",
       "        vertical-align: middle;\n",
       "    }\n",
       "\n",
       "    .dataframe tbody tr th {\n",
       "        vertical-align: top;\n",
       "    }\n",
       "\n",
       "    .dataframe thead th {\n",
       "        text-align: right;\n",
       "    }\n",
       "</style>\n",
       "<table border=\"1\" class=\"dataframe\">\n",
       "  <thead>\n",
       "    <tr style=\"text-align: right;\">\n",
       "      <th></th>\n",
       "      <th>Funding Rate</th>\n",
       "      <th>Prime Rate</th>\n",
       "      <th>Retail Rate</th>\n",
       "      <th>Sub-prime Rate</th>\n",
       "    </tr>\n",
       "  </thead>\n",
       "  <tbody>\n",
       "    <tr>\n",
       "      <th>count</th>\n",
       "      <td>142.000000</td>\n",
       "      <td>142.000000</td>\n",
       "      <td>142.000000</td>\n",
       "      <td>142.000000</td>\n",
       "    </tr>\n",
       "    <tr>\n",
       "      <th>mean</th>\n",
       "      <td>0.920845</td>\n",
       "      <td>2.964789</td>\n",
       "      <td>5.064225</td>\n",
       "      <td>8.095986</td>\n",
       "    </tr>\n",
       "    <tr>\n",
       "      <th>std</th>\n",
       "      <td>0.053136</td>\n",
       "      <td>0.195658</td>\n",
       "      <td>0.227821</td>\n",
       "      <td>0.417543</td>\n",
       "    </tr>\n",
       "    <tr>\n",
       "      <th>min</th>\n",
       "      <td>0.780000</td>\n",
       "      <td>2.590000</td>\n",
       "      <td>4.570000</td>\n",
       "      <td>7.340000</td>\n",
       "    </tr>\n",
       "    <tr>\n",
       "      <th>25%</th>\n",
       "      <td>0.880000</td>\n",
       "      <td>2.760000</td>\n",
       "      <td>4.922500</td>\n",
       "      <td>7.740000</td>\n",
       "    </tr>\n",
       "    <tr>\n",
       "      <th>50%</th>\n",
       "      <td>0.930000</td>\n",
       "      <td>3.030000</td>\n",
       "      <td>5.120000</td>\n",
       "      <td>8.095000</td>\n",
       "    </tr>\n",
       "    <tr>\n",
       "      <th>75%</th>\n",
       "      <td>0.960000</td>\n",
       "      <td>3.110000</td>\n",
       "      <td>5.230000</td>\n",
       "      <td>8.427500</td>\n",
       "    </tr>\n",
       "    <tr>\n",
       "      <th>max</th>\n",
       "      <td>0.990000</td>\n",
       "      <td>3.300000</td>\n",
       "      <td>5.450000</td>\n",
       "      <td>8.960000</td>\n",
       "    </tr>\n",
       "  </tbody>\n",
       "</table>\n",
       "</div>"
      ],
      "text/plain": [
       "       Funding Rate  Prime Rate  Retail Rate  Sub-prime Rate\n",
       "count    142.000000  142.000000   142.000000      142.000000\n",
       "mean       0.920845    2.964789     5.064225        8.095986\n",
       "std        0.053136    0.195658     0.227821        0.417543\n",
       "min        0.780000    2.590000     4.570000        7.340000\n",
       "25%        0.880000    2.760000     4.922500        7.740000\n",
       "50%        0.930000    3.030000     5.120000        8.095000\n",
       "75%        0.960000    3.110000     5.230000        8.427500\n",
       "max        0.990000    3.300000     5.450000        8.960000"
      ]
     },
     "execution_count": 23,
     "metadata": {},
     "output_type": "execute_result"
    }
   ],
   "source": [
    "# Use the describe function to generate summary statistics of the `low_funding_rates` DataFrame.\n",
    "low_funding_rates_df.describe()\n",
    "\n"
   ]
  },
  {
   "cell_type": "markdown",
   "metadata": {},
   "source": [
    "**Question:** What does the average profit spread, across the banks different clients, look like on days in 2020 when the Funding Rate is less than 1% versus when the Funding Rate is greater than or equal to 1%?\n",
    "\n",
    "**Answer:** # YOUR CODE HERE"
   ]
  },
  {
   "cell_type": "code",
   "execution_count": null,
   "metadata": {},
   "outputs": [],
   "source": []
  }
 ],
 "metadata": {
  "interpreter": {
   "hash": "b2ec66fa3d085a6e66869b1a678e052484c09c72639639e5b92cf1e8e9fcc898"
  },
  "kernelspec": {
   "display_name": "Python 3.7.13 ('dev')",
   "language": "python",
   "name": "python3"
  },
  "language_info": {
   "codemirror_mode": {
    "name": "ipython",
    "version": 3
   },
   "file_extension": ".py",
   "mimetype": "text/x-python",
   "name": "python",
   "nbconvert_exporter": "python",
   "pygments_lexer": "ipython3",
   "version": "3.7.13"
  }
 },
 "nbformat": 4,
 "nbformat_minor": 4
}
