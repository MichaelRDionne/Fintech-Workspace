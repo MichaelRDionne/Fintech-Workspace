{
 "cells": [
  {
   "cell_type": "code",
   "execution_count": 1,
   "metadata": {},
   "outputs": [],
   "source": [
    "# Import the required libraries and dependencies including \n",
    "# Pandas and pathlib . \n",
    "import pandas as pd\n",
    "from pathlib import Path"
   ]
  },
  {
   "cell_type": "code",
   "execution_count": 4,
   "metadata": {},
   "outputs": [
    {
     "data": {
      "text/html": [
       "<div>\n",
       "<style scoped>\n",
       "    .dataframe tbody tr th:only-of-type {\n",
       "        vertical-align: middle;\n",
       "    }\n",
       "\n",
       "    .dataframe tbody tr th {\n",
       "        vertical-align: top;\n",
       "    }\n",
       "\n",
       "    .dataframe thead th {\n",
       "        text-align: right;\n",
       "    }\n",
       "</style>\n",
       "<table border=\"1\" class=\"dataframe\">\n",
       "  <thead>\n",
       "    <tr style=\"text-align: right;\">\n",
       "      <th></th>\n",
       "      <th>Close</th>\n",
       "    </tr>\n",
       "    <tr>\n",
       "      <th>Timestamp</th>\n",
       "      <th></th>\n",
       "    </tr>\n",
       "  </thead>\n",
       "  <tbody>\n",
       "    <tr>\n",
       "      <th>2015-01-07 20:24:00</th>\n",
       "      <td>360.00</td>\n",
       "    </tr>\n",
       "    <tr>\n",
       "      <th>2015-01-07 20:27:00</th>\n",
       "      <td>276.34</td>\n",
       "    </tr>\n",
       "    <tr>\n",
       "      <th>2015-01-07 20:28:00</th>\n",
       "      <td>271.60</td>\n",
       "    </tr>\n",
       "    <tr>\n",
       "      <th>2015-01-07 20:29:00</th>\n",
       "      <td>344.67</td>\n",
       "    </tr>\n",
       "    <tr>\n",
       "      <th>2015-01-07 20:30:00</th>\n",
       "      <td>305.38</td>\n",
       "    </tr>\n",
       "  </tbody>\n",
       "</table>\n",
       "</div>"
      ],
      "text/plain": [
       "                      Close\n",
       "Timestamp                  \n",
       "2015-01-07 20:24:00  360.00\n",
       "2015-01-07 20:27:00  276.34\n",
       "2015-01-07 20:28:00  271.60\n",
       "2015-01-07 20:29:00  344.67\n",
       "2015-01-07 20:30:00  305.38"
      ]
     },
     "execution_count": 4,
     "metadata": {},
     "output_type": "execute_result"
    }
   ],
   "source": [
    "# Read in the CSV file called \"bitcoin_1.csv\" using the Path module. \n",
    "# The CSV file is located in the Resources folder.\n",
    "# Set the index to the column \"Timestamp\"\n",
    "# Set the parse_dates and infer_datetime_format parameters\n",
    "bitcoin_2 = pd.read_csv(\n",
    "    Path('../Readings/01-Bitcoin_Collections 2/Resources/bitcoin_2.csv'), \n",
    "    index_col=\"Timestamp\", \n",
    "    parse_dates=True, \n",
    "    infer_datetime_format=True\n",
    ")\n",
    "\n",
    "# Review the first 5 rows of the 'bitcoin_2' DataFrame\n",
    "bitcoin_2.head()\n"
   ]
  },
  {
   "cell_type": "code",
   "execution_count": 5,
   "metadata": {},
   "outputs": [
    {
     "data": {
      "text/html": [
       "<div>\n",
       "<style scoped>\n",
       "    .dataframe tbody tr th:only-of-type {\n",
       "        vertical-align: middle;\n",
       "    }\n",
       "\n",
       "    .dataframe tbody tr th {\n",
       "        vertical-align: top;\n",
       "    }\n",
       "\n",
       "    .dataframe thead th {\n",
       "        text-align: right;\n",
       "    }\n",
       "</style>\n",
       "<table border=\"1\" class=\"dataframe\">\n",
       "  <thead>\n",
       "    <tr style=\"text-align: right;\">\n",
       "      <th></th>\n",
       "      <th>Close</th>\n",
       "    </tr>\n",
       "    <tr>\n",
       "      <th>Timestamp</th>\n",
       "      <th></th>\n",
       "    </tr>\n",
       "  </thead>\n",
       "  <tbody>\n",
       "    <tr>\n",
       "      <th>2015-12-31 23:55:00</th>\n",
       "      <td>437.02</td>\n",
       "    </tr>\n",
       "    <tr>\n",
       "      <th>2015-12-31 23:56:00</th>\n",
       "      <td>437.07</td>\n",
       "    </tr>\n",
       "    <tr>\n",
       "      <th>2015-12-31 23:57:00</th>\n",
       "      <td>436.03</td>\n",
       "    </tr>\n",
       "    <tr>\n",
       "      <th>2015-12-31 23:58:00</th>\n",
       "      <td>436.13</td>\n",
       "    </tr>\n",
       "    <tr>\n",
       "      <th>2015-12-31 23:59:00</th>\n",
       "      <td>436.12</td>\n",
       "    </tr>\n",
       "  </tbody>\n",
       "</table>\n",
       "</div>"
      ],
      "text/plain": [
       "                      Close\n",
       "Timestamp                  \n",
       "2015-12-31 23:55:00  437.02\n",
       "2015-12-31 23:56:00  437.07\n",
       "2015-12-31 23:57:00  436.03\n",
       "2015-12-31 23:58:00  436.13\n",
       "2015-12-31 23:59:00  436.12"
      ]
     },
     "execution_count": 5,
     "metadata": {},
     "output_type": "execute_result"
    }
   ],
   "source": [
    "bitcoin_2.tail()\n"
   ]
  },
  {
   "cell_type": "code",
   "execution_count": null,
   "metadata": {},
   "outputs": [],
   "source": []
  }
 ],
 "metadata": {
  "kernelspec": {
   "display_name": "Python 3",
   "language": "python",
   "name": "python3"
  },
  "language_info": {
   "codemirror_mode": {
    "name": "ipython",
    "version": 3
   },
   "file_extension": ".py",
   "mimetype": "text/x-python",
   "name": "python",
   "nbconvert_exporter": "python",
   "pygments_lexer": "ipython3",
   "version": "3.9.15"
  },
  "orig_nbformat": 4,
  "vscode": {
   "interpreter": {
    "hash": "4648657766bbdd65badf66c7ee87486bf2636ef3278a37059008db9e63aad833"
   }
  }
 },
 "nbformat": 4,
 "nbformat_minor": 2
}
