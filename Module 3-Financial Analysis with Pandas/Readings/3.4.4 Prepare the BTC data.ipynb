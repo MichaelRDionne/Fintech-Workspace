{
 "cells": [
  {
   "cell_type": "code",
   "execution_count": 1,
   "metadata": {},
   "outputs": [],
   "source": [
    "# Import the required libraries and dependencies including \n",
    "# Pandas and pathlib . \n",
    "import pandas as pd\n",
    "from pathlib import Path"
   ]
  },
  {
   "cell_type": "code",
   "execution_count": 8,
   "metadata": {},
   "outputs": [
    {
     "data": {
      "text/html": [
       "<div>\n",
       "<style scoped>\n",
       "    .dataframe tbody tr th:only-of-type {\n",
       "        vertical-align: middle;\n",
       "    }\n",
       "\n",
       "    .dataframe tbody tr th {\n",
       "        vertical-align: top;\n",
       "    }\n",
       "\n",
       "    .dataframe thead th {\n",
       "        text-align: right;\n",
       "    }\n",
       "</style>\n",
       "<table border=\"1\" class=\"dataframe\">\n",
       "  <thead>\n",
       "    <tr style=\"text-align: right;\">\n",
       "      <th></th>\n",
       "      <th>Close</th>\n",
       "    </tr>\n",
       "    <tr>\n",
       "      <th>Timestamp</th>\n",
       "      <th></th>\n",
       "    </tr>\n",
       "  </thead>\n",
       "  <tbody>\n",
       "    <tr>\n",
       "      <th>2015-01-01 00:00:00</th>\n",
       "      <td>314.0</td>\n",
       "    </tr>\n",
       "    <tr>\n",
       "      <th>2015-01-01 00:01:00</th>\n",
       "      <td>314.0</td>\n",
       "    </tr>\n",
       "    <tr>\n",
       "      <th>2015-01-01 00:02:00</th>\n",
       "      <td>314.0</td>\n",
       "    </tr>\n",
       "    <tr>\n",
       "      <th>2015-01-01 00:03:00</th>\n",
       "      <td>314.0</td>\n",
       "    </tr>\n",
       "    <tr>\n",
       "      <th>2015-01-01 00:04:00</th>\n",
       "      <td>313.9</td>\n",
       "    </tr>\n",
       "  </tbody>\n",
       "</table>\n",
       "</div>"
      ],
      "text/plain": [
       "                     Close\n",
       "Timestamp                 \n",
       "2015-01-01 00:00:00  314.0\n",
       "2015-01-01 00:01:00  314.0\n",
       "2015-01-01 00:02:00  314.0\n",
       "2015-01-01 00:03:00  314.0\n",
       "2015-01-01 00:04:00  313.9"
      ]
     },
     "execution_count": 8,
     "metadata": {},
     "output_type": "execute_result"
    }
   ],
   "source": [
    "# Read in the CSV file called \"bitcoin_1.csv\" using the Path module. \n",
    "# The CSV file is located in the Resources folder.\n",
    "# Set the index to the column \"Timestamp\"\n",
    "# Set the parse_dates and infer_datetime_format parameters\n",
    "bitcoin_1 = pd.read_csv(\n",
    "    Path('../Readings/01-Bitcoin_Collections 2/Resources/bitcoin_1.csv'), \n",
    "    index_col=\"Timestamp\", \n",
    "    parse_dates=True, \n",
    "    infer_datetime_format=True\n",
    ")\n",
    "\n",
    "# Review the first 5 rows of the 'bitcoin_2' DataFrame\n",
    "bitcoin_1.head()\n"
   ]
  },
  {
   "cell_type": "code",
   "execution_count": 9,
   "metadata": {},
   "outputs": [
    {
     "data": {
      "text/plain": [
       "<bound method DataFrame.isnull of                       Close\n",
       "Timestamp                  \n",
       "2015-01-01 00:00:00  314.00\n",
       "2015-01-01 00:01:00  314.00\n",
       "2015-01-01 00:02:00  314.00\n",
       "2015-01-01 00:03:00  314.00\n",
       "2015-01-01 00:04:00  313.90\n",
       "...                     ...\n",
       "2015-12-31 23:53:00  435.66\n",
       "2015-12-31 23:54:00  435.21\n",
       "2015-12-31 23:56:00  435.17\n",
       "2015-12-31 23:57:00  435.10\n",
       "2015-12-31 23:58:00  435.11\n",
       "\n",
       "[372773 rows x 1 columns]>"
      ]
     },
     "execution_count": 9,
     "metadata": {},
     "output_type": "execute_result"
    }
   ],
   "source": [
    "bitcoin_1.isnull\n"
   ]
  },
  {
   "cell_type": "code",
   "execution_count": 10,
   "metadata": {},
   "outputs": [
    {
     "data": {
      "text/plain": [
       "Close    1.022979e+08\n",
       "dtype: float64"
      ]
     },
     "execution_count": 10,
     "metadata": {},
     "output_type": "execute_result"
    }
   ],
   "source": [
    "bitcoin_1.sum()\n"
   ]
  },
  {
   "cell_type": "code",
   "execution_count": 11,
   "metadata": {},
   "outputs": [
    {
     "data": {
      "text/plain": [
       "Close    274.423996\n",
       "dtype: float64"
      ]
     },
     "execution_count": 11,
     "metadata": {},
     "output_type": "execute_result"
    }
   ],
   "source": [
    "bitcoin_1.mean()\n"
   ]
  },
  {
   "cell_type": "code",
   "execution_count": 12,
   "metadata": {},
   "outputs": [
    {
     "data": {
      "text/html": [
       "<div>\n",
       "<style scoped>\n",
       "    .dataframe tbody tr th:only-of-type {\n",
       "        vertical-align: middle;\n",
       "    }\n",
       "\n",
       "    .dataframe tbody tr th {\n",
       "        vertical-align: top;\n",
       "    }\n",
       "\n",
       "    .dataframe thead th {\n",
       "        text-align: right;\n",
       "    }\n",
       "</style>\n",
       "<table border=\"1\" class=\"dataframe\">\n",
       "  <thead>\n",
       "    <tr style=\"text-align: right;\">\n",
       "      <th></th>\n",
       "      <th>Close</th>\n",
       "    </tr>\n",
       "    <tr>\n",
       "      <th>Timestamp</th>\n",
       "      <th></th>\n",
       "    </tr>\n",
       "  </thead>\n",
       "  <tbody>\n",
       "    <tr>\n",
       "      <th>2015-01-07 20:24:00</th>\n",
       "      <td>360.00</td>\n",
       "    </tr>\n",
       "    <tr>\n",
       "      <th>2015-01-07 20:27:00</th>\n",
       "      <td>276.34</td>\n",
       "    </tr>\n",
       "    <tr>\n",
       "      <th>2015-01-07 20:28:00</th>\n",
       "      <td>271.60</td>\n",
       "    </tr>\n",
       "    <tr>\n",
       "      <th>2015-01-07 20:29:00</th>\n",
       "      <td>344.67</td>\n",
       "    </tr>\n",
       "    <tr>\n",
       "      <th>2015-01-07 20:30:00</th>\n",
       "      <td>305.38</td>\n",
       "    </tr>\n",
       "  </tbody>\n",
       "</table>\n",
       "</div>"
      ],
      "text/plain": [
       "                      Close\n",
       "Timestamp                  \n",
       "2015-01-07 20:24:00  360.00\n",
       "2015-01-07 20:27:00  276.34\n",
       "2015-01-07 20:28:00  271.60\n",
       "2015-01-07 20:29:00  344.67\n",
       "2015-01-07 20:30:00  305.38"
      ]
     },
     "execution_count": 12,
     "metadata": {},
     "output_type": "execute_result"
    }
   ],
   "source": [
    "# Read in the CSV file called \"bitcoin_1.csv\" using the Path module. \n",
    "# The CSV file is located in the Resources folder.\n",
    "# Set the index to the column \"Timestamp\"\n",
    "# Set the parse_dates and infer_datetime_format parameters\n",
    "bitcoin_2 = pd.read_csv(\n",
    "    Path('../Readings/01-Bitcoin_Collections 2/Resources/bitcoin_2.csv'), \n",
    "    index_col=\"Timestamp\", \n",
    "    parse_dates=True, \n",
    "    infer_datetime_format=True\n",
    ")\n",
    "\n",
    "# Review the first 5 rows of the 'bitcoin_2' DataFrame\n",
    "bitcoin_2.head()\n"
   ]
  },
  {
   "cell_type": "code",
   "execution_count": 18,
   "metadata": {},
   "outputs": [
    {
     "data": {
      "text/plain": [
       "Close    0\n",
       "dtype: int64"
      ]
     },
     "execution_count": 18,
     "metadata": {},
     "output_type": "execute_result"
    }
   ],
   "source": [
    "bitcoin_2.isnull().sum()\n"
   ]
  },
  {
   "cell_type": "code",
   "execution_count": 16,
   "metadata": {},
   "outputs": [
    {
     "data": {
      "text/plain": [
       "Timestamp\n",
       "2015-01-01 00:00:00    False\n",
       "2015-01-01 00:01:00     True\n",
       "2015-01-01 00:02:00     True\n",
       "2015-01-01 00:03:00     True\n",
       "2015-01-01 00:04:00    False\n",
       "                       ...  \n",
       "2015-12-31 23:53:00     True\n",
       "2015-12-31 23:54:00     True\n",
       "2015-12-31 23:56:00     True\n",
       "2015-12-31 23:57:00     True\n",
       "2015-12-31 23:58:00     True\n",
       "Length: 372773, dtype: bool"
      ]
     },
     "execution_count": 16,
     "metadata": {},
     "output_type": "execute_result"
    }
   ],
   "source": [
    "bitcoin_1.duplicated().sum()\n"
   ]
  },
  {
   "cell_type": "code",
   "execution_count": 17,
   "metadata": {},
   "outputs": [
    {
     "data": {
      "text/plain": [
       "dtype('float64')"
      ]
     },
     "execution_count": 17,
     "metadata": {},
     "output_type": "execute_result"
    }
   ],
   "source": [
    "#duplicated values aren't true. look at time\n",
    "#series analysis and the times are different.\n",
    "#checking for dtypes for int or float is good\n",
    "bitcoin_1['Close'].dtypes\n"
   ]
  },
  {
   "cell_type": "code",
   "execution_count": null,
   "metadata": {},
   "outputs": [],
   "source": []
  }
 ],
 "metadata": {
  "kernelspec": {
   "display_name": "Python 3",
   "language": "python",
   "name": "python3"
  },
  "language_info": {
   "codemirror_mode": {
    "name": "ipython",
    "version": 3
   },
   "file_extension": ".py",
   "mimetype": "text/x-python",
   "name": "python",
   "nbconvert_exporter": "python",
   "pygments_lexer": "ipython3",
   "version": "3.9.15"
  },
  "orig_nbformat": 4,
  "vscode": {
   "interpreter": {
    "hash": "4648657766bbdd65badf66c7ee87486bf2636ef3278a37059008db9e63aad833"
   }
  }
 },
 "nbformat": 4,
 "nbformat_minor": 2
}
