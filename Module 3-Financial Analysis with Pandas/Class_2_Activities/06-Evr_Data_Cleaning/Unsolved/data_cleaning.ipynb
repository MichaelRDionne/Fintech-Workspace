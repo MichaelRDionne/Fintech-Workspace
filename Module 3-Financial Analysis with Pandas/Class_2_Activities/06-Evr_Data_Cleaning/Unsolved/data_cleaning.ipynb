{
 "cells": [
  {
   "cell_type": "markdown",
   "metadata": {},
   "source": [
    "## Instructor Demo: Data Cleaning\n",
    "This program goes reads in a CSV file, and perfoms a number of data quality checks. Data values that fail the checks are then cleansed."
   ]
  },
  {
   "cell_type": "code",
   "execution_count": null,
   "metadata": {},
   "outputs": [],
   "source": [
    "#data gathering --> data cleaning --> data processing == (pipeline)\n",
    "\n",
    "# Initial imports\n",
    "import pandas as pd\n",
    "from pathlib import Path"
   ]
  },
  {
   "cell_type": "markdown",
   "metadata": {},
   "source": [
    "### Read in CSV and take a sample"
   ]
  },
  {
   "cell_type": "code",
   "execution_count": 3,
   "metadata": {},
   "outputs": [
    {
     "ename": "NameError",
     "evalue": "name 'pd' is not defined",
     "output_type": "error",
     "traceback": [
      "\u001b[0;31m---------------------------------------------------------------------------\u001b[0m",
      "\u001b[0;31mNameError\u001b[0m                                 Traceback (most recent call last)",
      "\u001b[1;32m/Users/michaeldionne/Documents/GitHub/Fintech-Workspace/Module 3/Class_2_Activities/06-Evr_Data_Cleaning/Unsolved/data_cleaning.ipynb Cell 4'\u001b[0m in \u001b[0;36m<cell line: 3>\u001b[0;34m()\u001b[0m\n\u001b[1;32m      <a href='vscode-notebook-cell:/Users/michaeldionne/Documents/GitHub/Fintech-Workspace/Module%203/Class_2_Activities/06-Evr_Data_Cleaning/Unsolved/data_cleaning.ipynb#ch0000003?line=0'>1</a>\u001b[0m \u001b[39m# Take sample of data\u001b[39;00m\n\u001b[1;32m      <a href='vscode-notebook-cell:/Users/michaeldionne/Documents/GitHub/Fintech-Workspace/Module%203/Class_2_Activities/06-Evr_Data_Cleaning/Unsolved/data_cleaning.ipynb#ch0000003?line=1'>2</a>\u001b[0m Path\u001b[39m=\u001b[39m(\u001b[39m\"\u001b[39m\u001b[39mUsers/michaeldionne/Documents/GitHub/Fintech-Workspace/Module 3/Class_2_Activities/06-Evr_Data_Cleaning/Resources/order_data.csv\u001b[39m\u001b[39m\"\u001b[39m)\n\u001b[0;32m----> <a href='vscode-notebook-cell:/Users/michaeldionne/Documents/GitHub/Fintech-Workspace/Module%203/Class_2_Activities/06-Evr_Data_Cleaning/Unsolved/data_cleaning.ipynb#ch0000003?line=2'>3</a>\u001b[0m pd\u001b[39m.\u001b[39mread_csv()\n",
      "\u001b[0;31mNameError\u001b[0m: name 'pd' is not defined"
     ]
    }
   ],
   "source": [
    "# Take sample of data\n",
    "Path=(\"Users/michaeldionne/Documents/GitHub/Fintech-Workspace/Module 3/Class_2_Activities/06-Evr_Data_Cleaning/Resources/order_data.csv\")\n",
    "pd.read_csv(file_path)\n",
    "\n"
   ]
  },
  {
   "cell_type": "markdown",
   "metadata": {},
   "source": [
    "### Identify DataFrame Data Types"
   ]
  },
  {
   "cell_type": "code",
   "execution_count": null,
   "metadata": {},
   "outputs": [],
   "source": [
    "# Retrieve DataFrame data types\n"
   ]
  },
  {
   "cell_type": "markdown",
   "metadata": {},
   "source": [
    "### Assess data quality by identifying the number of rows"
   ]
  },
  {
   "cell_type": "code",
   "execution_count": null,
   "metadata": {},
   "outputs": [],
   "source": [
    "# Identify Series count\n"
   ]
  },
  {
   "cell_type": "markdown",
   "metadata": {},
   "source": [
    "### Assess data quality by identifying the number of times a value occurs"
   ]
  },
  {
   "cell_type": "code",
   "execution_count": null,
   "metadata": {},
   "outputs": [],
   "source": [
    "# Identify frequency values\n"
   ]
  },
  {
   "cell_type": "markdown",
   "metadata": {},
   "source": [
    "### Assess data quality by checking for nulls"
   ]
  },
  {
   "cell_type": "code",
   "execution_count": null,
   "metadata": {},
   "outputs": [],
   "source": [
    "# Check for null values\n",
    "df.isnull().sum()"
   ]
  },
  {
   "cell_type": "markdown",
   "metadata": {},
   "source": [
    "### Assess data quality by determining the percentage of nulls"
   ]
  },
  {
   "cell_type": "code",
   "execution_count": null,
   "metadata": {},
   "outputs": [],
   "source": [
    "# Determine percentage of nulls\n",
    "# number divided by the # of rows\n",
    "# sum/n = mean()\n",
    "#Not a common way to write this. make a note to calculate the percentage of nulls using the mean of boolean values\n",
    "df.isnull().mean()"
   ]
  },
  {
   "cell_type": "markdown",
   "metadata": {},
   "source": [
    "### Assess data quality by determining the number of nulls"
   ]
  },
  {
   "cell_type": "code",
   "execution_count": null,
   "metadata": {},
   "outputs": [],
   "source": [
    "# Determine number of nulls\n"
   ]
  },
  {
   "cell_type": "markdown",
   "metadata": {},
   "source": [
    "### Cleanse data by filling nulls with default value (i.e. \"Unknown\", 0, or mean() is common)"
   ]
  },
  {
   "cell_type": "code",
   "execution_count": null,
   "metadata": {},
   "outputs": [],
   "source": [
    "# Cleanse nulls from DataFrame by filling na\n",
    "# dropping na is very blunt and you can lose a lot of data that way.\n",
    "# use fillna\n",
    "df.dropna()"
   ]
  },
  {
   "cell_type": "markdown",
   "metadata": {},
   "source": [
    "### Cleanse data by dropping nulls"
   ]
  },
  {
   "cell_type": "code",
   "execution_count": null,
   "metadata": {},
   "outputs": [],
   "source": [
    "# Cleaning nulls from DataFrame by dropping\n",
    "df=df.dropna()\n",
    "df"
   ]
  },
  {
   "cell_type": "markdown",
   "metadata": {},
   "source": [
    "### Checking number of nulls again"
   ]
  },
  {
   "cell_type": "code",
   "execution_count": null,
   "metadata": {},
   "outputs": [],
   "source": [
    "\n",
    "df.fillna['customer_no]=df['customer_no].fillna('Unkown')"
   ]
  },
  {
   "cell_type": "markdown",
   "metadata": {},
   "source": [
    "### Assess data quality by checking for duplicate rows"
   ]
  },
  {
   "cell_type": "code",
   "execution_count": null,
   "metadata": {},
   "outputs": [],
   "source": [
    "# Check duplicates (column label)\n",
    "df.duplicated(susbset=['']\n"
   ]
  },
  {
   "cell_type": "markdown",
   "metadata": {},
   "source": [
    "### Assess data quality by checking for duplicate customer_no values"
   ]
  },
  {
   "cell_type": "code",
   "execution_count": null,
   "metadata": {},
   "outputs": [],
   "source": [
    "# Check duplicates for specific field\n"
   ]
  },
  {
   "cell_type": "markdown",
   "metadata": {},
   "source": [
    "### Cleanse data by dropping duplicates"
   ]
  },
  {
   "cell_type": "code",
   "execution_count": null,
   "metadata": {},
   "outputs": [],
   "source": [
    "# Clean duplicates\n",
    "\n"
   ]
  },
  {
   "cell_type": "markdown",
   "metadata": {},
   "source": [
    "### Assess data quality by using `head` function to sample data and identify currency symbols"
   ]
  },
  {
   "cell_type": "code",
   "execution_count": null,
   "metadata": {},
   "outputs": [],
   "source": [
    "# Identify if numeric field with $ symbol\n",
    "df.head()"
   ]
  },
  {
   "cell_type": "markdown",
   "metadata": {},
   "source": [
    "### Cleanse data by replacing currency symbols"
   ]
  },
  {
   "cell_type": "code",
   "execution_count": null,
   "metadata": {},
   "outputs": [],
   "source": [
    "# Clean identified numeric fields with $ symbol [can't use replace() function]\n",
    "df['order_total'].str.replace(pat='$',repl='' )\n",
    "\n"
   ]
  },
  {
   "cell_type": "code",
   "execution_count": 4,
   "metadata": {},
   "outputs": [
    {
     "ename": "NameError",
     "evalue": "name 'df' is not defined",
     "output_type": "error",
     "traceback": [
      "\u001b[0;31m---------------------------------------------------------------------------\u001b[0m",
      "\u001b[0;31mNameError\u001b[0m                                 Traceback (most recent call last)",
      "\u001b[1;32m/Users/michaeldionne/Documents/GitHub/Fintech-Workspace/Module 3/Class_2_Activities/06-Evr_Data_Cleaning/Unsolved/data_cleaning.ipynb Cell 33'\u001b[0m in \u001b[0;36m<cell line: 2>\u001b[0;34m()\u001b[0m\n\u001b[1;32m      <a href='vscode-notebook-cell:/Users/michaeldionne/Documents/GitHub/Fintech-Workspace/Module%203/Class_2_Activities/06-Evr_Data_Cleaning/Unsolved/data_cleaning.ipynb#ch0000032?line=0'>1</a>\u001b[0m \u001b[39m# Retrieve data types to confirm what needs to be converted\u001b[39;00m\n\u001b[0;32m----> <a href='vscode-notebook-cell:/Users/michaeldionne/Documents/GitHub/Fintech-Workspace/Module%203/Class_2_Activities/06-Evr_Data_Cleaning/Unsolved/data_cleaning.ipynb#ch0000032?line=1'>2</a>\u001b[0m df\u001b[39m.\u001b[39mdtypes\n",
      "\u001b[0;31mNameError\u001b[0m: name 'df' is not defined"
     ]
    }
   ],
   "source": [
    "# Retrieve data types to confirm what needs to be converted\n",
    "df.dtypes\n"
   ]
  },
  {
   "cell_type": "code",
   "execution_count": null,
   "metadata": {},
   "outputs": [],
   "source": [
    "# Convert `order_total` from `object` to `float`\n",
    "df['order_total']"
   ]
  },
  {
   "cell_type": "code",
   "execution_count": null,
   "metadata": {},
   "outputs": [],
   "source": [
    "# Confirm conversion worked as expected\n",
    "df.dtypes"
   ]
  },
  {
   "cell_type": "code",
   "execution_count": null,
   "metadata": {},
   "outputs": [],
   "source": []
  }
 ],
 "metadata": {
  "file_extension": ".py",
  "interpreter": {
   "hash": "b2ec66fa3d085a6e66869b1a678e052484c09c72639639e5b92cf1e8e9fcc898"
  },
  "kernelspec": {
   "display_name": "Python 3.9.12 ('dev')",
   "language": "python",
   "name": "python3"
  },
  "language_info": {
   "codemirror_mode": {
    "name": "ipython",
    "version": 3
   },
   "file_extension": ".py",
   "mimetype": "text/x-python",
   "name": "python",
   "nbconvert_exporter": "python",
   "pygments_lexer": "ipython3",
   "version": "3.9.12"
  },
  "mimetype": "text/x-python",
  "name": "python",
  "npconvert_exporter": "python",
  "pygments_lexer": "ipython3",
  "version": 3
 },
 "nbformat": 4,
 "nbformat_minor": 4
}
