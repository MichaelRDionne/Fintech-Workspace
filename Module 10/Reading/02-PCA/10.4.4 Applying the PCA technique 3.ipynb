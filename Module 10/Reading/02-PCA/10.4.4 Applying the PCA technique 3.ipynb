{
 "cells": [
  {
   "cell_type": "code",
   "execution_count": 9,
   "metadata": {},
   "outputs": [],
   "source": [
    "# Import the required libraries and dependencies\n",
    "import pandas as pd\n",
    "from pathlib import Path\n",
    "import hvplot.pandas\n",
    "from sklearn.cluster import KMeans\n",
    "from sklearn.decomposition import PCA\n"
   ]
  },
  {
   "cell_type": "code",
   "execution_count": 10,
   "metadata": {},
   "outputs": [
    {
     "data": {
      "text/html": [
       "<div>\n",
       "<style scoped>\n",
       "    .dataframe tbody tr th:only-of-type {\n",
       "        vertical-align: middle;\n",
       "    }\n",
       "\n",
       "    .dataframe tbody tr th {\n",
       "        vertical-align: top;\n",
       "    }\n",
       "\n",
       "    .dataframe thead th {\n",
       "        text-align: right;\n",
       "    }\n",
       "</style>\n",
       "<table border=\"1\" class=\"dataframe\">\n",
       "  <thead>\n",
       "    <tr style=\"text-align: right;\">\n",
       "      <th></th>\n",
       "      <th>Age</th>\n",
       "      <th>Annual Income</th>\n",
       "      <th>Spending Score</th>\n",
       "      <th>Credit</th>\n",
       "      <th>Debit</th>\n",
       "    </tr>\n",
       "  </thead>\n",
       "  <tbody>\n",
       "    <tr>\n",
       "      <th>0</th>\n",
       "      <td>-1.424569</td>\n",
       "      <td>-1.738999</td>\n",
       "      <td>-0.434801</td>\n",
       "      <td>1</td>\n",
       "      <td>0</td>\n",
       "    </tr>\n",
       "    <tr>\n",
       "      <th>1</th>\n",
       "      <td>-1.281035</td>\n",
       "      <td>-1.738999</td>\n",
       "      <td>1.195704</td>\n",
       "      <td>1</td>\n",
       "      <td>0</td>\n",
       "    </tr>\n",
       "    <tr>\n",
       "      <th>2</th>\n",
       "      <td>-1.352802</td>\n",
       "      <td>-1.700830</td>\n",
       "      <td>-1.715913</td>\n",
       "      <td>0</td>\n",
       "      <td>1</td>\n",
       "    </tr>\n",
       "    <tr>\n",
       "      <th>3</th>\n",
       "      <td>-1.137502</td>\n",
       "      <td>-1.700830</td>\n",
       "      <td>1.040418</td>\n",
       "      <td>0</td>\n",
       "      <td>1</td>\n",
       "    </tr>\n",
       "    <tr>\n",
       "      <th>4</th>\n",
       "      <td>-0.563369</td>\n",
       "      <td>-1.662660</td>\n",
       "      <td>-0.395980</td>\n",
       "      <td>0</td>\n",
       "      <td>1</td>\n",
       "    </tr>\n",
       "  </tbody>\n",
       "</table>\n",
       "</div>"
      ],
      "text/plain": [
       "        Age  Annual Income  Spending Score  Credit  Debit\n",
       "0 -1.424569      -1.738999       -0.434801       1      0\n",
       "1 -1.281035      -1.738999        1.195704       1      0\n",
       "2 -1.352802      -1.700830       -1.715913       0      1\n",
       "3 -1.137502      -1.700830        1.040418       0      1\n",
       "4 -0.563369      -1.662660       -0.395980       0      1"
      ]
     },
     "execution_count": 10,
     "metadata": {},
     "output_type": "execute_result"
    }
   ],
   "source": [
    "# Load data into pandas\n",
    "file_path = Path(\"..//02-PCA/shopping_data_transformed.csv\")\n",
    "df_shopping = pd.read_csv(file_path)\n",
    "df_shopping.head()\n"
   ]
  },
  {
   "cell_type": "code",
   "execution_count": 11,
   "metadata": {},
   "outputs": [],
   "source": [
    "pca = PCA(n_components=2)\n"
   ]
  },
  {
   "cell_type": "code",
   "execution_count": 12,
   "metadata": {},
   "outputs": [
    {
     "data": {
      "text/plain": [
       "array([[-0.57572361, -1.68487363],\n",
       "       [-1.62359494, -1.72648138],\n",
       "       [ 0.27961435, -1.72531425],\n",
       "       [-1.51106396, -1.79620462],\n",
       "       [-0.09546842, -1.7073466 ]])"
      ]
     },
     "execution_count": 12,
     "metadata": {},
     "output_type": "execute_result"
    }
   ],
   "source": [
    "# Reduce from five to two features using PCA\n",
    "shopping_pca_data = pca.fit_transform(df_shopping)\n",
    "\n",
    "# Display sample data\n",
    "shopping_pca_data[:5]\n"
   ]
  },
  {
   "cell_type": "code",
   "execution_count": 13,
   "metadata": {},
   "outputs": [
    {
     "data": {
      "text/plain": [
       "array([0.38132566, 0.28707805])"
      ]
     },
     "execution_count": 13,
     "metadata": {},
     "output_type": "execute_result"
    }
   ],
   "source": [
    "# Retrieve the explained variance\n",
    "pca.explained_variance_ratio_\n"
   ]
  },
  {
   "cell_type": "code",
   "execution_count": 14,
   "metadata": {},
   "outputs": [
    {
     "data": {
      "text/html": [
       "<div>\n",
       "<style scoped>\n",
       "    .dataframe tbody tr th:only-of-type {\n",
       "        vertical-align: middle;\n",
       "    }\n",
       "\n",
       "    .dataframe tbody tr th {\n",
       "        vertical-align: top;\n",
       "    }\n",
       "\n",
       "    .dataframe thead th {\n",
       "        text-align: right;\n",
       "    }\n",
       "</style>\n",
       "<table border=\"1\" class=\"dataframe\">\n",
       "  <thead>\n",
       "    <tr style=\"text-align: right;\">\n",
       "      <th></th>\n",
       "      <th>PC1</th>\n",
       "      <th>PC2</th>\n",
       "    </tr>\n",
       "  </thead>\n",
       "  <tbody>\n",
       "    <tr>\n",
       "      <th>0</th>\n",
       "      <td>-0.575724</td>\n",
       "      <td>-1.684874</td>\n",
       "    </tr>\n",
       "    <tr>\n",
       "      <th>1</th>\n",
       "      <td>-1.623595</td>\n",
       "      <td>-1.726481</td>\n",
       "    </tr>\n",
       "    <tr>\n",
       "      <th>2</th>\n",
       "      <td>0.279614</td>\n",
       "      <td>-1.725314</td>\n",
       "    </tr>\n",
       "    <tr>\n",
       "      <th>3</th>\n",
       "      <td>-1.511064</td>\n",
       "      <td>-1.796205</td>\n",
       "    </tr>\n",
       "    <tr>\n",
       "      <th>4</th>\n",
       "      <td>-0.095468</td>\n",
       "      <td>-1.707347</td>\n",
       "    </tr>\n",
       "  </tbody>\n",
       "</table>\n",
       "</div>"
      ],
      "text/plain": [
       "        PC1       PC2\n",
       "0 -0.575724 -1.684874\n",
       "1 -1.623595 -1.726481\n",
       "2  0.279614 -1.725314\n",
       "3 -1.511064 -1.796205\n",
       "4 -0.095468 -1.707347"
      ]
     },
     "execution_count": 14,
     "metadata": {},
     "output_type": "execute_result"
    }
   ],
   "source": [
    "# Creating a DataFrame with the PCA data\n",
    "df_shopping_pca = pd.DataFrame(\n",
    "    shopping_pca_data,\n",
    "    columns=[\"PC1\", \"PC2\"])\n",
    "\n",
    "# Display sample data\n",
    "df_shopping_pca.head()\n"
   ]
  },
  {
   "cell_type": "code",
   "execution_count": 15,
   "metadata": {},
   "outputs": [
    {
     "data": {
      "text/html": [
       "<div>\n",
       "<style scoped>\n",
       "    .dataframe tbody tr th:only-of-type {\n",
       "        vertical-align: middle;\n",
       "    }\n",
       "\n",
       "    .dataframe tbody tr th {\n",
       "        vertical-align: top;\n",
       "    }\n",
       "\n",
       "    .dataframe thead th {\n",
       "        text-align: right;\n",
       "    }\n",
       "</style>\n",
       "<table border=\"1\" class=\"dataframe\">\n",
       "  <thead>\n",
       "    <tr style=\"text-align: right;\">\n",
       "      <th></th>\n",
       "      <th>PC1</th>\n",
       "      <th>PC2</th>\n",
       "      <th>Customer Segment</th>\n",
       "    </tr>\n",
       "  </thead>\n",
       "  <tbody>\n",
       "    <tr>\n",
       "      <th>0</th>\n",
       "      <td>-0.575724</td>\n",
       "      <td>-1.684874</td>\n",
       "      <td>3</td>\n",
       "    </tr>\n",
       "    <tr>\n",
       "      <th>1</th>\n",
       "      <td>-1.623595</td>\n",
       "      <td>-1.726481</td>\n",
       "      <td>3</td>\n",
       "    </tr>\n",
       "    <tr>\n",
       "      <th>2</th>\n",
       "      <td>0.279614</td>\n",
       "      <td>-1.725314</td>\n",
       "      <td>2</td>\n",
       "    </tr>\n",
       "    <tr>\n",
       "      <th>3</th>\n",
       "      <td>-1.511064</td>\n",
       "      <td>-1.796205</td>\n",
       "      <td>3</td>\n",
       "    </tr>\n",
       "    <tr>\n",
       "      <th>4</th>\n",
       "      <td>-0.095468</td>\n",
       "      <td>-1.707347</td>\n",
       "      <td>3</td>\n",
       "    </tr>\n",
       "  </tbody>\n",
       "</table>\n",
       "</div>"
      ],
      "text/plain": [
       "        PC1       PC2  Customer Segment\n",
       "0 -0.575724 -1.684874                 3\n",
       "1 -1.623595 -1.726481                 3\n",
       "2  0.279614 -1.725314                 2\n",
       "3 -1.511064 -1.796205                 3\n",
       "4 -0.095468 -1.707347                 3"
      ]
     },
     "execution_count": 15,
     "metadata": {},
     "output_type": "execute_result"
    }
   ],
   "source": [
    "#Initialize the K-Means model\n",
    "model = KMeans(n_clusters=4)\n",
    "\n",
    "#Fit the model\n",
    "model.fit(df_shopping_pca)\n",
    "\n",
    "#Predict clusters\n",
    "customer_segments = model.predict(df_shopping_pca)\n",
    "\n",
    "#Create a copy of the Original DataFrame\n",
    "df_shopping_pca_predictions = df_shopping_pca.copy()\n",
    "\n",
    "#Create a new column to hold the predicted clusters\n",
    "df_shopping_pca_predictions[\"Customer Segment\"] = customer_segments\n",
    "\n",
    "#Display sample data\n",
    "df_shopping_pca_predictions.head()\n"
   ]
  },
  {
   "cell_type": "code",
   "execution_count": 16,
   "metadata": {},
   "outputs": [
    {
     "data": {},
     "metadata": {},
     "output_type": "display_data"
    },
    {
     "data": {
      "application/vnd.holoviews_exec.v0+json": "",
      "text/html": [
       "<div id='1365'>\n",
       "  <div class=\"bk-root\" id=\"0bac73e2-01dd-4d64-b0a5-873814f81b9f\" data-root-id=\"1365\"></div>\n",
       "</div>\n",
       "<script type=\"application/javascript\">(function(root) {\n",
       "  function embed_document(root) {\n",
       "    var docs_json = {\"dd9ced1c-d013-4ceb-b40f-955da4df2471\":{\"defs\":[{\"extends\":null,\"module\":null,\"name\":\"ReactiveHTML1\",\"overrides\":[],\"properties\":[]},{\"extends\":null,\"module\":null,\"name\":\"FlexBox1\",\"overrides\":[],\"properties\":[{\"default\":\"flex-start\",\"kind\":null,\"name\":\"align_content\"},{\"default\":\"flex-start\",\"kind\":null,\"name\":\"align_items\"},{\"default\":\"row\",\"kind\":null,\"name\":\"flex_direction\"},{\"default\":\"wrap\",\"kind\":null,\"name\":\"flex_wrap\"},{\"default\":\"flex-start\",\"kind\":null,\"name\":\"justify_content\"}]},{\"extends\":null,\"module\":null,\"name\":\"GridStack1\",\"overrides\":[],\"properties\":[{\"default\":\"warn\",\"kind\":null,\"name\":\"mode\"},{\"default\":null,\"kind\":null,\"name\":\"ncols\"},{\"default\":null,\"kind\":null,\"name\":\"nrows\"},{\"default\":true,\"kind\":null,\"name\":\"allow_resize\"},{\"default\":true,\"kind\":null,\"name\":\"allow_drag\"},{\"default\":[],\"kind\":null,\"name\":\"state\"}]},{\"extends\":null,\"module\":null,\"name\":\"click1\",\"overrides\":[],\"properties\":[{\"default\":\"\",\"kind\":null,\"name\":\"terminal_output\"},{\"default\":\"\",\"kind\":null,\"name\":\"debug_name\"},{\"default\":0,\"kind\":null,\"name\":\"clears\"}]},{\"extends\":null,\"module\":null,\"name\":\"TemplateActions1\",\"overrides\":[],\"properties\":[{\"default\":0,\"kind\":null,\"name\":\"open_modal\"},{\"default\":0,\"kind\":null,\"name\":\"close_modal\"}]},{\"extends\":null,\"module\":null,\"name\":\"MaterialTemplateActions1\",\"overrides\":[],\"properties\":[{\"default\":0,\"kind\":null,\"name\":\"open_modal\"},{\"default\":0,\"kind\":null,\"name\":\"close_modal\"}]}],\"roots\":{\"references\":[{\"attributes\":{},\"id\":\"1424\",\"type\":\"UnionRenderers\"},{\"attributes\":{},\"id\":\"1497\",\"type\":\"UnionRenderers\"},{\"attributes\":{\"angle\":{\"value\":0.0},\"fill_alpha\":{\"value\":1.0},\"fill_color\":{\"value\":\"#30a2da\"},\"hatch_alpha\":{\"value\":1.0},\"hatch_color\":{\"value\":\"#30a2da\"},\"hatch_scale\":{\"value\":12.0},\"hatch_weight\":{\"value\":1.0},\"line_alpha\":{\"value\":1.0},\"line_cap\":{\"value\":\"butt\"},\"line_color\":{\"value\":\"#30a2da\"},\"line_dash\":{\"value\":[]},\"line_dash_offset\":{\"value\":0},\"line_join\":{\"value\":\"bevel\"},\"line_width\":{\"value\":1},\"marker\":{\"value\":\"circle\"},\"size\":{\"value\":5.477225575051661},\"x\":{\"field\":\"PC2\"},\"y\":{\"field\":\"PC1\"}},\"id\":\"1429\",\"type\":\"Scatter\"},{\"attributes\":{\"coordinates\":null,\"data_source\":{\"id\":\"1476\"},\"glyph\":{\"id\":\"1479\"},\"group\":null,\"hover_glyph\":null,\"muted_glyph\":{\"id\":\"1481\"},\"nonselection_glyph\":{\"id\":\"1480\"},\"selection_glyph\":{\"id\":\"1501\"},\"view\":{\"id\":\"1483\"}},\"id\":\"1482\",\"type\":\"GlyphRenderer\"},{\"attributes\":{\"source\":{\"id\":\"1409\"}},\"id\":\"1416\",\"type\":\"CDSView\"},{\"attributes\":{},\"id\":\"1408\",\"type\":\"AllLabels\"},{\"attributes\":{\"source\":{\"id\":\"1476\"}},\"id\":\"1483\",\"type\":\"CDSView\"},{\"attributes\":{\"label\":{\"value\":\"0\"},\"renderers\":[{\"id\":\"1415\"}]},\"id\":\"1428\",\"type\":\"LegendItem\"},{\"attributes\":{},\"id\":\"1378\",\"type\":\"LinearScale\"},{\"attributes\":{},\"id\":\"1431\",\"type\":\"Selection\"},{\"attributes\":{},\"id\":\"1447\",\"type\":\"UnionRenderers\"},{\"attributes\":{\"below\":[{\"id\":\"1382\"}],\"center\":[{\"id\":\"1385\"},{\"id\":\"1389\"}],\"height\":300,\"left\":[{\"id\":\"1386\"}],\"margin\":[5,5,5,5],\"min_border_bottom\":10,\"min_border_left\":10,\"min_border_right\":10,\"min_border_top\":10,\"renderers\":[{\"id\":\"1415\"},{\"id\":\"1436\"},{\"id\":\"1458\"},{\"id\":\"1482\"}],\"right\":[{\"id\":\"1427\"}],\"sizing_mode\":\"fixed\",\"title\":{\"id\":\"1374\"},\"toolbar\":{\"id\":\"1396\"},\"width\":700,\"x_range\":{\"id\":\"1367\"},\"x_scale\":{\"id\":\"1378\"},\"y_range\":{\"id\":\"1368\"},\"y_scale\":{\"id\":\"1380\"}},\"id\":\"1373\",\"subtype\":\"Figure\",\"type\":\"Plot\"},{\"attributes\":{},\"id\":\"1453\",\"type\":\"Selection\"},{\"attributes\":{\"coordinates\":null,\"group\":null,\"text_color\":\"black\",\"text_font_size\":\"12pt\"},\"id\":\"1374\",\"type\":\"Title\"},{\"attributes\":{\"coordinates\":null,\"data_source\":{\"id\":\"1430\"},\"glyph\":{\"id\":\"1433\"},\"group\":null,\"hover_glyph\":null,\"muted_glyph\":{\"id\":\"1435\"},\"nonselection_glyph\":{\"id\":\"1434\"},\"selection_glyph\":{\"id\":\"1451\"},\"view\":{\"id\":\"1437\"}},\"id\":\"1436\",\"type\":\"GlyphRenderer\"},{\"attributes\":{\"axis\":{\"id\":\"1386\"},\"coordinates\":null,\"dimension\":1,\"grid_line_color\":null,\"group\":null,\"ticker\":null},\"id\":\"1389\",\"type\":\"Grid\"},{\"attributes\":{\"axis\":{\"id\":\"1382\"},\"coordinates\":null,\"grid_line_color\":null,\"group\":null,\"ticker\":null},\"id\":\"1385\",\"type\":\"Grid\"},{\"attributes\":{\"source\":{\"id\":\"1430\"}},\"id\":\"1437\",\"type\":\"CDSView\"},{\"attributes\":{\"fill_color\":{\"value\":\"#fc4f30\"},\"hatch_color\":{\"value\":\"#fc4f30\"},\"line_color\":{\"value\":\"#fc4f30\"},\"size\":{\"value\":5.477225575051661},\"x\":{\"field\":\"PC2\"},\"y\":{\"field\":\"PC1\"}},\"id\":\"1433\",\"type\":\"Scatter\"},{\"attributes\":{},\"id\":\"1383\",\"type\":\"BasicTicker\"},{\"attributes\":{\"margin\":[5,5,5,5],\"name\":\"HSpacer02463\",\"sizing_mode\":\"stretch_width\"},\"id\":\"1646\",\"type\":\"Spacer\"},{\"attributes\":{},\"id\":\"1380\",\"type\":\"LinearScale\"},{\"attributes\":{\"fill_alpha\":{\"value\":0.2},\"fill_color\":{\"value\":\"#fc4f30\"},\"hatch_alpha\":{\"value\":0.2},\"hatch_color\":{\"value\":\"#fc4f30\"},\"line_alpha\":{\"value\":0.2},\"line_color\":{\"value\":\"#fc4f30\"},\"size\":{\"value\":5.477225575051661},\"x\":{\"field\":\"PC2\"},\"y\":{\"field\":\"PC1\"}},\"id\":\"1435\",\"type\":\"Scatter\"},{\"attributes\":{\"axis_label\":\"PC2\",\"coordinates\":null,\"formatter\":{\"id\":\"1404\"},\"group\":null,\"major_label_policy\":{\"id\":\"1405\"},\"ticker\":{\"id\":\"1383\"}},\"id\":\"1382\",\"type\":\"LinearAxis\"},{\"attributes\":{\"angle\":{\"value\":0.0},\"fill_alpha\":{\"value\":1.0},\"fill_color\":{\"value\":\"#fc4f30\"},\"hatch_alpha\":{\"value\":1.0},\"hatch_color\":{\"value\":\"#fc4f30\"},\"hatch_scale\":{\"value\":12.0},\"hatch_weight\":{\"value\":1.0},\"line_alpha\":{\"value\":1.0},\"line_cap\":{\"value\":\"butt\"},\"line_color\":{\"value\":\"#fc4f30\"},\"line_dash\":{\"value\":[]},\"line_dash_offset\":{\"value\":0},\"line_join\":{\"value\":\"bevel\"},\"line_width\":{\"value\":1},\"marker\":{\"value\":\"circle\"},\"size\":{\"value\":5.477225575051661},\"x\":{\"field\":\"PC2\"},\"y\":{\"field\":\"PC1\"}},\"id\":\"1451\",\"type\":\"Scatter\"},{\"attributes\":{\"data\":{\"Customer_Segment\":[2,2,2,2,2,2,2,2,2,2,2,2,2,2,2,2,2,2,2,2,2,2,2,2,2,2,2,2,2,2,2,2,2,2,2,2,2,2,2,2,2,2,2,2,2,2,2,2,2,2,2,2,2,2,2,2,2,2,2,2,2,2,2,2,2,2,2,2,2],\"PC1\":{\"__ndarray__\":\"s+CLlzPl0T/djdKU/5HwP++BatE2cQVA5h0/u8Q/BED/723QPzT/P33tyVGMn/A/cQ1qe25uzj/xiikIH7H1Px12jqSEHNU/TBBCJwy/+T9YtXMYNTb8PyfgvTRtF+o/xf8tGqbS4j/k3LlA73gDQOg2B2hQmgBA+HGSfzsL+D9+OZsrEQrxP7Mq7eEPV+A/xRc7Nn+v+z9542ueEQPuP9PKI6eTxfE/aEmeXSH02j8SCzuSxcbcP6eNHN7Ynuo/heYbg4UW5j+uJLAk39LnP9Nm/5UqSOM/SUCLXc2C+z+qHhzpoQTtP34EBNsu5fc/WGVEOMql9T8TWDei2B3gP3W0lzViXvQ/gpw32JOLyD+/OWDgKy/4PydRgCbaQvg/rJh5/ryR4z90dcI7vDjxP4OSCtaZUOw/fEXSRMq88j8wBybQBdjJP7PefjeyVcc/GFuN+HuR5j9n+kX8BrzuP3eILEoDRLy/Vt7uWUbX+z/zRGa4TevfPydJZYDlieQ/eFzL4+Ah4j+2dGmid37kP9gn46pL2/Q/fPO1qPOf4T9eqPpJ0erSP/SJsl54VN0/TNzeN4+05z8XbnSSpO7gP333VNMbxfM/L2jcGiwK2j+lFDvejVT1P+wtidy00u0/PTz+TjyP+z/sf1ihZcD3P7nzE3DiMPU/lVXLqDkcwT8AnWZc7+r1P+WaSAn2ocw/zrgokgJP6D+vH71IfN3UPwlbYTwTisc/\",\"dtype\":\"float64\",\"order\":\"little\",\"shape\":[69]},\"PC2\":{\"__ndarray__\":\"UJtzHuOa+788pu3hJwr6v57tt7U83va/TWvlEiP89r8sv91Q43D4vxruGvGVDve/fUdfLdi0+L+zELnekyf1v9MxrbYNC/W/GU+zrDaC9b9oy18teabzv6iIoLkrKvS/N2qBYtmn878sUX0OTUnwv4mR3n6BP+2/Ml+68I258L96Fca4f1Twv8hI0+EjmO2/1svT9alV678GearKB0TnvwI2A1nYn+q/FWbICeVG6r9c66Wsz8nnv/+vCwacs+K/Vii0LapJ5r9JhOJsd53iv7NRXYO0MeW/0HUmnJKL4L8mvFPoHrbdv2aWEzEcz9y/zNXTajze4L+WVwuau7Xhv7kcZ6cIQdi/ZeLLmQqz4L+9mxHCRfDev3990zfucNW/ulw0AQQN3r/IEyKvL+LavzzS1tG8W9u/Frh2QlGCw7+qolSD8NDSv0Ymt++RLce/r4awn7ey0b/gXc07cmzEv3C4qL3if8i/P4ogdxc1wb/EOkoi2xzSv/GIL5VCa8W/9YG2EtTZxb8CgYWjPEnAv2gE6MQBlrK/M5g6C0F/rT/GJRQDs2Suv6bvSKEg/Ky/CU+j9JVhuj+w8qlBpcmVP+oPCh7NSMM/5DzcJRJYwD/UXtjU3vW0P+1fTgdFf8c/L+Ghl/KByj9ElxcCF3XJPx78BE2Rusg/jVZjjVJztj+PlTzH+JrEPzZ9k5Ciqb8/ER8/eHIbzD+hGiipogXKPzmBZdW/GMo/\",\"dtype\":\"float64\",\"order\":\"little\",\"shape\":[69]}},\"selected\":{\"id\":\"1453\"},\"selection_policy\":{\"id\":\"1471\"}},\"id\":\"1452\",\"type\":\"ColumnDataSource\"},{\"attributes\":{},\"id\":\"1387\",\"type\":\"BasicTicker\"},{\"attributes\":{\"axis_label\":\"PC1\",\"coordinates\":null,\"formatter\":{\"id\":\"1407\"},\"group\":null,\"major_label_policy\":{\"id\":\"1408\"},\"ticker\":{\"id\":\"1387\"}},\"id\":\"1386\",\"type\":\"LinearAxis\"},{\"attributes\":{\"margin\":[5,5,5,5],\"name\":\"HSpacer02462\",\"sizing_mode\":\"stretch_width\"},\"id\":\"1366\",\"type\":\"Spacer\"},{\"attributes\":{\"coordinates\":null,\"data_source\":{\"id\":\"1452\"},\"glyph\":{\"id\":\"1455\"},\"group\":null,\"hover_glyph\":null,\"muted_glyph\":{\"id\":\"1457\"},\"nonselection_glyph\":{\"id\":\"1456\"},\"selection_glyph\":{\"id\":\"1475\"},\"view\":{\"id\":\"1459\"}},\"id\":\"1458\",\"type\":\"GlyphRenderer\"},{\"attributes\":{\"data\":{\"Customer_Segment\":[1,1,1,1,1,1,1,1,1,1,1,1,1,1,1,1,1,1,1,1,1,1,1,1,1,1,1,1,1,1,1,1,1,1,1],\"PC1\":{\"__ndarray__\":\"AoD/SytC5T8GMeNRZgsBQBR5snDBP/k/Pw3k33Re1D8SOt12Gxr2P1BaqrREj8A/0x9yZDO6AEB+kbq25uvXP05TVeYcMew/WffVqYVH3T/54TYjSVfyP8C+jQ6lSvA/HcOnaq949D/ouR0Ssnz0P6WF3VHnDvI/jgv1/b9q8z+SIyJlNV3QP8brWlqo5vM/dwujj8kG8D/57jAArSPaP7QHYiyQcvE/4+Y0F2ML7z+1nQmv4Zf5P2OhzVYPH/8/RZ2xkt0fAEAXFz7cP6rTP3OiNfqUKvU/Ummvpq8r1D9GxDb2BRb2P5PnbTyHJ+0/EFwUeiwi2T9V+UhWPbHqP92b+ekud/M/N8lEaT/m6D829R/RXFbePw==\",\"dtype\":\"float64\",\"order\":\"little\",\"shape\":[35]},\"PC2\":{\"__ndarray__\":\"cA6zr1Dw3j+Jih8S9QbhP7E8bZOAieA/VFviW9PZ4T9Wgh8f2nHeP6YsF2T72eI/EniTNPNT4j/2jfZRb7bmP1PyR3HM9+Y/zuTDqQVV5D/JkW7euJjoP3TRhyJn3eQ/jX3uMdYj5T9aEtdoOtzoP2EKpPWFuOg/AqsYQnUh5j/NYQRvrYnrP4wND78WkfA/le40fkMX8T87x14JozTvPxtMFAR8xfE/VqSFXLS68T+tCNWsCtLwP5Kr48Smw/I/Q5RCyJ3Y9T8RhDfa6J/1P1SBHW2Wkfg/6boyUMvQ9j8UgYigvZb4P4uAzbY8n/k/JTzr5Yhb+T8c/GUeUcEAQF6b/rdiDwJAp/AYhZfCA0C0u6dzc/UHQA==\",\"dtype\":\"float64\",\"order\":\"little\",\"shape\":[35]}},\"selected\":{\"id\":\"1431\"},\"selection_policy\":{\"id\":\"1447\"}},\"id\":\"1430\",\"type\":\"ColumnDataSource\"},{\"attributes\":{},\"id\":\"1410\",\"type\":\"Selection\"},{\"attributes\":{\"label\":{\"value\":\"2\"},\"renderers\":[{\"id\":\"1458\"}]},\"id\":\"1474\",\"type\":\"LegendItem\"},{\"attributes\":{\"end\":3.1586374288080505,\"reset_end\":3.1586374288080505,\"reset_start\":-2.581647656721021,\"start\":-2.581647656721021,\"tags\":[[[\"PC1\",\"PC1\",null]]]},\"id\":\"1368\",\"type\":\"Range1d\"},{\"attributes\":{\"fill_alpha\":{\"value\":0.2},\"fill_color\":{\"value\":\"#e5ae38\"},\"hatch_alpha\":{\"value\":0.2},\"hatch_color\":{\"value\":\"#e5ae38\"},\"line_alpha\":{\"value\":0.2},\"line_color\":{\"value\":\"#e5ae38\"},\"size\":{\"value\":5.477225575051661},\"x\":{\"field\":\"PC2\"},\"y\":{\"field\":\"PC1\"}},\"id\":\"1457\",\"type\":\"Scatter\"},{\"attributes\":{},\"id\":\"1390\",\"type\":\"SaveTool\"},{\"attributes\":{},\"id\":\"1477\",\"type\":\"Selection\"},{\"attributes\":{\"children\":[{\"id\":\"1366\"},{\"id\":\"1373\"},{\"id\":\"1646\"}],\"margin\":[0,0,0,0],\"name\":\"Row02458\",\"tags\":[\"embedded\"]},\"id\":\"1365\",\"type\":\"Row\"},{\"attributes\":{\"fill_color\":{\"value\":\"#e5ae38\"},\"hatch_color\":{\"value\":\"#e5ae38\"},\"line_color\":{\"value\":\"#e5ae38\"},\"size\":{\"value\":5.477225575051661},\"x\":{\"field\":\"PC2\"},\"y\":{\"field\":\"PC1\"}},\"id\":\"1455\",\"type\":\"Scatter\"},{\"attributes\":{},\"id\":\"1391\",\"type\":\"PanTool\"},{\"attributes\":{},\"id\":\"1471\",\"type\":\"UnionRenderers\"},{\"attributes\":{\"fill_alpha\":{\"value\":0.1},\"fill_color\":{\"value\":\"#e5ae38\"},\"hatch_alpha\":{\"value\":0.1},\"hatch_color\":{\"value\":\"#e5ae38\"},\"line_alpha\":{\"value\":0.1},\"line_color\":{\"value\":\"#e5ae38\"},\"size\":{\"value\":5.477225575051661},\"x\":{\"field\":\"PC2\"},\"y\":{\"field\":\"PC1\"}},\"id\":\"1456\",\"type\":\"Scatter\"},{\"attributes\":{},\"id\":\"1392\",\"type\":\"WheelZoomTool\"},{\"attributes\":{\"fill_alpha\":{\"value\":0.2},\"fill_color\":{\"value\":\"#30a2da\"},\"hatch_alpha\":{\"value\":0.2},\"hatch_color\":{\"value\":\"#30a2da\"},\"line_alpha\":{\"value\":0.2},\"line_color\":{\"value\":\"#30a2da\"},\"size\":{\"value\":5.477225575051661},\"x\":{\"field\":\"PC2\"},\"y\":{\"field\":\"PC1\"}},\"id\":\"1414\",\"type\":\"Scatter\"},{\"attributes\":{\"source\":{\"id\":\"1452\"}},\"id\":\"1459\",\"type\":\"CDSView\"},{\"attributes\":{\"angle\":{\"value\":0.0},\"fill_alpha\":{\"value\":1.0},\"fill_color\":{\"value\":\"#6d904f\"},\"hatch_alpha\":{\"value\":1.0},\"hatch_color\":{\"value\":\"#6d904f\"},\"hatch_scale\":{\"value\":12.0},\"hatch_weight\":{\"value\":1.0},\"line_alpha\":{\"value\":1.0},\"line_cap\":{\"value\":\"butt\"},\"line_color\":{\"value\":\"#6d904f\"},\"line_dash\":{\"value\":[]},\"line_dash_offset\":{\"value\":0},\"line_join\":{\"value\":\"bevel\"},\"line_width\":{\"value\":1},\"marker\":{\"value\":\"circle\"},\"size\":{\"value\":5.477225575051661},\"x\":{\"field\":\"PC2\"},\"y\":{\"field\":\"PC1\"}},\"id\":\"1501\",\"type\":\"Scatter\"},{\"attributes\":{\"overlay\":{\"id\":\"1395\"}},\"id\":\"1393\",\"type\":\"BoxZoomTool\"},{\"attributes\":{\"click_policy\":\"mute\",\"coordinates\":null,\"group\":null,\"items\":[{\"id\":\"1428\"},{\"id\":\"1450\"},{\"id\":\"1474\"},{\"id\":\"1500\"}],\"location\":[0,0],\"title\":\"Customer Segment\"},\"id\":\"1427\",\"type\":\"Legend\"},{\"attributes\":{\"end\":3.200179987458618,\"reset_end\":3.200179987458618,\"reset_start\":-2.0015354977820965,\"start\":-2.0015354977820965,\"tags\":[[[\"PC2\",\"PC2\",null]]]},\"id\":\"1367\",\"type\":\"Range1d\"},{\"attributes\":{\"fill_color\":{\"value\":\"#30a2da\"},\"hatch_color\":{\"value\":\"#30a2da\"},\"line_color\":{\"value\":\"#30a2da\"},\"size\":{\"value\":5.477225575051661},\"x\":{\"field\":\"PC2\"},\"y\":{\"field\":\"PC1\"}},\"id\":\"1412\",\"type\":\"Scatter\"},{\"attributes\":{\"angle\":{\"value\":0.0},\"fill_alpha\":{\"value\":1.0},\"fill_color\":{\"value\":\"#e5ae38\"},\"hatch_alpha\":{\"value\":1.0},\"hatch_color\":{\"value\":\"#e5ae38\"},\"hatch_scale\":{\"value\":12.0},\"hatch_weight\":{\"value\":1.0},\"line_alpha\":{\"value\":1.0},\"line_cap\":{\"value\":\"butt\"},\"line_color\":{\"value\":\"#e5ae38\"},\"line_dash\":{\"value\":[]},\"line_dash_offset\":{\"value\":0},\"line_join\":{\"value\":\"bevel\"},\"line_width\":{\"value\":1},\"marker\":{\"value\":\"circle\"},\"size\":{\"value\":5.477225575051661},\"x\":{\"field\":\"PC2\"},\"y\":{\"field\":\"PC1\"}},\"id\":\"1475\",\"type\":\"Scatter\"},{\"attributes\":{\"callback\":null,\"renderers\":[{\"id\":\"1415\"},{\"id\":\"1436\"},{\"id\":\"1458\"},{\"id\":\"1482\"}],\"tags\":[\"hv_created\"],\"tooltips\":[[\"Customer Segment\",\"@{Customer_Segment}\"],[\"PC2\",\"@{PC2}\"],[\"PC1\",\"@{PC1}\"]]},\"id\":\"1369\",\"type\":\"HoverTool\"},{\"attributes\":{},\"id\":\"1394\",\"type\":\"ResetTool\"},{\"attributes\":{\"bottom_units\":\"screen\",\"coordinates\":null,\"fill_alpha\":0.5,\"fill_color\":\"lightgrey\",\"group\":null,\"left_units\":\"screen\",\"level\":\"overlay\",\"line_alpha\":1.0,\"line_color\":\"black\",\"line_dash\":[4,4],\"line_width\":2,\"right_units\":\"screen\",\"syncable\":false,\"top_units\":\"screen\"},\"id\":\"1395\",\"type\":\"BoxAnnotation\"},{\"attributes\":{},\"id\":\"1407\",\"type\":\"BasicTickFormatter\"},{\"attributes\":{\"label\":{\"value\":\"1\"},\"renderers\":[{\"id\":\"1436\"}]},\"id\":\"1450\",\"type\":\"LegendItem\"},{\"attributes\":{},\"id\":\"1405\",\"type\":\"AllLabels\"},{\"attributes\":{\"fill_alpha\":{\"value\":0.2},\"fill_color\":{\"value\":\"#6d904f\"},\"hatch_alpha\":{\"value\":0.2},\"hatch_color\":{\"value\":\"#6d904f\"},\"line_alpha\":{\"value\":0.2},\"line_color\":{\"value\":\"#6d904f\"},\"size\":{\"value\":5.477225575051661},\"x\":{\"field\":\"PC2\"},\"y\":{\"field\":\"PC1\"}},\"id\":\"1481\",\"type\":\"Scatter\"},{\"attributes\":{},\"id\":\"1404\",\"type\":\"BasicTickFormatter\"},{\"attributes\":{\"fill_alpha\":{\"value\":0.1},\"fill_color\":{\"value\":\"#fc4f30\"},\"hatch_alpha\":{\"value\":0.1},\"hatch_color\":{\"value\":\"#fc4f30\"},\"line_alpha\":{\"value\":0.1},\"line_color\":{\"value\":\"#fc4f30\"},\"size\":{\"value\":5.477225575051661},\"x\":{\"field\":\"PC2\"},\"y\":{\"field\":\"PC1\"}},\"id\":\"1434\",\"type\":\"Scatter\"},{\"attributes\":{\"data\":{\"Customer_Segment\":[3,3,3,3,3,3,3,3,3,3,3,3,3,3,3,3,3,3,3,3,3,3,3,3,3,3,3,3,3,3,3,3,3,3,3,3,3],\"PC1\":{\"__ndarray__\":\"lfvm7VNs4r/VDo2wPvr5v5MBN2hRLfi/KjqxRp5wuL9rAdSfppL4v6Il5tCiqv+/NsD1ao1k8L+NUN7b6Cn4v6gkb/eTdve/qAEB+4Jp+L9ATXv0XF30v6+7ihlf0ve/ZPSc9d5z879ah4r81Tztv3v3PuPlP/S/fikcwgnM2L8m3+hkpN38v7a2bHduYfi/1JUgAYrTAMBRfppKUvT7vx35TluUMPG/ZWHhmrw7+r8aWowvJur8v0rHREBzfua/WljnUVKq8r/EZve6FcPgv0rcV7/QStK/OPcDKGihx79jboDSPN3evzotEOigjuC/fqSTYCeN5L/Q/0gCOPXwv5n73kX+kPO/gj90sLrB8r8pFa/uFBnSv+TpYWx8Sey/QrHW45Tz8b8=\",\"dtype\":\"float64\",\"order\":\"little\",\"shape\":[37]},\"PC2\":{\"__ndarray__\":\"Uc6rDT71+r9U6anwqp/7v/lnJA9Bvfy/rVUuqkpR+783ROMVISP8v5zDi36Vz/u/YQb/ZrCq+r+tyYIrJQL7v14kj21dSPq/G4zEmVyG+L96c74eGL73v92S757djvi/vIr3MYbr9b8wUoGwFSz1v8nbgkbai/O/90RI+fsM87+4ffuYHQD1v5XwbsqBM/S/tgRRwAzu8L8AA9k7CIPyv1aileQCj/G/6Q1c7P7/77/JE5wLWH/rv+xv35SWlOy/qiaK6KAK7b/2WuiZLBPrv33IhbT1z+q/KsNjEii46r9CVkxehSDlvyGMa5Hveee/Prj1ihbp47+/aeAX273gv4GcMJgY+9y/L5cO9krj3L+LRGCg6Rvhv5NFJyQ/y9S/iGrs7qxR1b8=\",\"dtype\":\"float64\",\"order\":\"little\",\"shape\":[37]}},\"selected\":{\"id\":\"1477\"},\"selection_policy\":{\"id\":\"1497\"}},\"id\":\"1476\",\"type\":\"ColumnDataSource\"},{\"attributes\":{\"fill_alpha\":{\"value\":0.1},\"fill_color\":{\"value\":\"#6d904f\"},\"hatch_alpha\":{\"value\":0.1},\"hatch_color\":{\"value\":\"#6d904f\"},\"line_alpha\":{\"value\":0.1},\"line_color\":{\"value\":\"#6d904f\"},\"size\":{\"value\":5.477225575051661},\"x\":{\"field\":\"PC2\"},\"y\":{\"field\":\"PC1\"}},\"id\":\"1480\",\"type\":\"Scatter\"},{\"attributes\":{\"coordinates\":null,\"data_source\":{\"id\":\"1409\"},\"glyph\":{\"id\":\"1412\"},\"group\":null,\"hover_glyph\":null,\"muted_glyph\":{\"id\":\"1414\"},\"nonselection_glyph\":{\"id\":\"1413\"},\"selection_glyph\":{\"id\":\"1429\"},\"view\":{\"id\":\"1416\"}},\"id\":\"1415\",\"type\":\"GlyphRenderer\"},{\"attributes\":{\"data\":{\"Customer_Segment\":[0,0,0,0,0,0,0,0,0,0,0,0,0,0,0,0,0,0,0,0,0,0,0,0,0,0,0,0,0,0,0,0,0,0,0,0,0,0,0,0,0,0,0,0,0,0,0,0,0,0,0,0,0,0,0,0,0,0,0],\"PC1\":{\"__ndarray__\":\"C0tanbYW5r98NPkbllbwv82+4k24q+G/mHGV2qHm578r9SA2QfzEv8YIFMUX3ee/mtYak7JY5L/doPQYGMPrv/FtvyU3CuO/xa/S/e5Y579WRldJZSfnv3dDNywaefK/nq/3EAnm6r/4tixqQbTwv/DirqIdxfC/k02B/NbX5r9WpB/qvezKv1YiQyMwE/G/2hNgIqTV0b+l5XerR/7yv/OlAzxvEPK/Gxswt3Db5b/volqM6Tzkvw0CkcvRTdS/DZ0CVCtq8L+AgV5e4n/5vy37+UDi6u2/pCA/799S67+9fQ8+8sL3v2WONgQ9etW/lACiUmy09r/IreVBg8z8vwPURiG/CfG/3NDQ+Z/m9L/CeJyBXPTvv7IWuO/VKOq/qQT2HSGt+78V1B5xp270v/KPTu5XPvK/G4yCElx097/MC5//tkL6vw8ssPeZ2+y/oxKCUPei+b/IBC02T9XlvxLjTsR0aPO/37ZWb2Zf9L87omkEdiz4v8eeG3l6nfG/ptnIbVNz9L8uoAKsHMX2v0p0WMMoGfq/BgGQ4N20+7/0w8vz2q3wv5GKVabHPPO/5nQyGa/x7r96+N1A73v0v+/Cre3l0/G/k37hbHKq8L+18CCb+Xz2vw==\",\"dtype\":\"float64\",\"order\":\"little\",\"shape\":[59]},\"PC2\":{\"__ndarray__\":\"6ZOlVG+Yyr969OAKqJTLv/YkmXIlKcW/rsdv2tTGj7+MTZk2+Layv5vTlT6QCJQ/9fl7pLK+tr92A9z11CKsP8+TpRRgl4K/5NjlP7NnuD8tKmFgcraKv9ex+hE3KIM/UHAaJOvaxT/FBIl0ER63P4KJQoxd8rY/4XRBQQ5L0j+kij8jTOHQP/2Aa5/Q5tU/bL72cCaz0z/ZhS/dFDDRP5rCP3sJl9o/RSEAUbjC2z+WJiLzhdrbP0sz06DPadg/y/bjIyV21j9Xu/XoR47XPweVQMlAGuA/j75r0N6h2z+oIkv1i9vhP/uvaMtkAuE/NOSbyN4z3z8uNuBNJvjjP6kofPxFQuE/fwYn4s2z5T/b5ZVFrQDmP6/HTrHJr+I/BtXrOQC84T9b4KzaNT/iP4Rt7R2fauI/rbHh4l0/4z/0Xo83SW/lP2RT5n3zJOs/63c3GhKL6z+qf41v0rzwPycEHuPscPA/A1J0m7tW8D+BY4W/cSTuP35u/33BIPE/It2LL9//8z+MaTAxvJf0PxgtzV7vGPU/TUrHMSNq9z/A23fzmBP5P80GbHxJWvg/vkmxEvGH+D8TNPbmfGH+PyA9wH3vYgFAHXKBAlwjBECZb43waWIHQA==\",\"dtype\":\"float64\",\"order\":\"little\",\"shape\":[59]}},\"selected\":{\"id\":\"1410\"},\"selection_policy\":{\"id\":\"1424\"}},\"id\":\"1409\",\"type\":\"ColumnDataSource\"},{\"attributes\":{\"fill_alpha\":{\"value\":0.1},\"fill_color\":{\"value\":\"#30a2da\"},\"hatch_alpha\":{\"value\":0.1},\"hatch_color\":{\"value\":\"#30a2da\"},\"line_alpha\":{\"value\":0.1},\"line_color\":{\"value\":\"#30a2da\"},\"size\":{\"value\":5.477225575051661},\"x\":{\"field\":\"PC2\"},\"y\":{\"field\":\"PC1\"}},\"id\":\"1413\",\"type\":\"Scatter\"},{\"attributes\":{\"fill_color\":{\"value\":\"#6d904f\"},\"hatch_color\":{\"value\":\"#6d904f\"},\"line_color\":{\"value\":\"#6d904f\"},\"size\":{\"value\":5.477225575051661},\"x\":{\"field\":\"PC2\"},\"y\":{\"field\":\"PC1\"}},\"id\":\"1479\",\"type\":\"Scatter\"},{\"attributes\":{\"label\":{\"value\":\"3\"},\"renderers\":[{\"id\":\"1482\"}]},\"id\":\"1500\",\"type\":\"LegendItem\"},{\"attributes\":{\"tools\":[{\"id\":\"1369\"},{\"id\":\"1390\"},{\"id\":\"1391\"},{\"id\":\"1392\"},{\"id\":\"1393\"},{\"id\":\"1394\"}]},\"id\":\"1396\",\"type\":\"Toolbar\"}],\"root_ids\":[\"1365\"]},\"title\":\"Bokeh Application\",\"version\":\"2.4.3\"}};\n",
       "    var render_items = [{\"docid\":\"dd9ced1c-d013-4ceb-b40f-955da4df2471\",\"root_ids\":[\"1365\"],\"roots\":{\"1365\":\"0bac73e2-01dd-4d64-b0a5-873814f81b9f\"}}];\n",
       "    root.Bokeh.embed.embed_items_notebook(docs_json, render_items);\n",
       "  }\n",
       "  if (root.Bokeh !== undefined && root.Bokeh.Panel !== undefined) {\n",
       "    embed_document(root);\n",
       "  } else {\n",
       "    var attempts = 0;\n",
       "    var timer = setInterval(function(root) {\n",
       "      if (root.Bokeh !== undefined && root.Bokeh.Panel !== undefined) {\n",
       "        clearInterval(timer);\n",
       "        embed_document(root);\n",
       "      } else if (document.readyState == \"complete\") {\n",
       "        attempts++;\n",
       "        if (attempts > 200) {\n",
       "          clearInterval(timer);\n",
       "          console.log(\"Bokeh: ERROR: Unable to run BokehJS code because BokehJS library is missing\");\n",
       "        }\n",
       "      }\n",
       "    }, 25, root)\n",
       "  }\n",
       "})(window);</script>"
      ],
      "text/plain": [
       ":NdOverlay   [Customer Segment]\n",
       "   :Scatter   [PC2]   (PC1)"
      ]
     },
     "execution_count": 16,
     "metadata": {
      "application/vnd.holoviews_exec.v0+json": {
       "id": "1365"
      }
     },
     "output_type": "execute_result"
    }
   ],
   "source": [
    "#Create a scatter plot of the PCA data and color it according to the K-Means model predictions\n",
    "df_shopping_pca_predictions.hvplot.scatter(\n",
    "    x=\"PC2\",\n",
    "    y=\"PC1\",\n",
    "    by=\"Customer Segment\",\n",
    ")\n"
   ]
  },
  {
   "cell_type": "code",
   "execution_count": null,
   "metadata": {},
   "outputs": [],
   "source": []
  }
 ],
 "metadata": {
  "kernelspec": {
   "display_name": "Python 3.7.13 ('dev')",
   "language": "python",
   "name": "python3"
  },
  "language_info": {
   "codemirror_mode": {
    "name": "ipython",
    "version": 3
   },
   "file_extension": ".py",
   "mimetype": "text/x-python",
   "name": "python",
   "nbconvert_exporter": "python",
   "pygments_lexer": "ipython3",
   "version": "3.7.13"
  },
  "orig_nbformat": 4,
  "vscode": {
   "interpreter": {
    "hash": "b2ec66fa3d085a6e66869b1a678e052484c09c72639639e5b92cf1e8e9fcc898"
   }
  }
 },
 "nbformat": 4,
 "nbformat_minor": 2
}
