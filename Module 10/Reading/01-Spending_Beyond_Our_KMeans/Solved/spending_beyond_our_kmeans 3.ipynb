{
 "cells": [
  {
   "cell_type": "markdown",
   "metadata": {},
   "source": [
    "# Spending Beyond our K-Means\n",
    "\n",
    "The previous example included four customer segments. In this activity, you’ll cluster the data into five customer segments. You’ll decide whether going from four to five segments reveals any relevant differences in consumer spending habits.\n",
    "\n",
    "Instructions\n",
    "\n",
    "1. Read in the `shopping_data.csv` file from the Resources folder and create the DataFrame. Review the resulting DataFrame. Additionally, check the data types associated with the DataFrame.\n",
    "\n",
    "2. Build a helper function called `encodeCard` that sets the `card_type` variable to 1 for credit card purchases and 0 for debit card purchases. \n",
    "\n",
    "3. Edit the `Card Type` column in the DataFrame by applying the `encodeCard` function. \n",
    "\n",
    "4. Scale the `Annual Income` column in the DataFrame by dividing it by 1,000. \n",
    "\n",
    "5. Drop the `CustomerID` column from the DataFrame. \n",
    "\n",
    "6. Review the `df_shopping` DataFrame. Confirm that the `Card Type` column consists of 1s and 0s; that the Annual_Income column is scaled appropriately; and that the `CustomerID` column has been dropped. \n",
    "\n",
    "7. Using this cleaned DataFrame, initialize two K-means models: one with four clusters and another with five. For each model, be sure to follow each of the steps needed to identify the clusters and assign them to the data. \n",
    "\n",
    "* Initialize the KMeans model instance.\n",
    "* Fit, or train, the model.\n",
    "* Predict the model segments(clusters).\n",
    "\n",
    "8. Once the models have been run, create a copy of the `df_shopping` DataFrame and name it as `df_shopping_predictions`. Next, add each of the customer segments into the `df_shopping_predictions` DataFrame as new columns. \n",
    "\n",
    "9. Using hvPlot, create scatter plots for each of the two customer segmentsations. Be sure to build styled and formatted plots.\n",
    "\n",
    "10. Answer the following question:  Do you note any relevant differences between the two Kmeans models?\n",
    "\n",
    "\n",
    "\n",
    "References\n",
    "\n",
    "[scikit-learn Python Library](https://scikit-learn.org)\n",
    "\n",
    "[scikit-learn ML Algorithms](https://scikit-learn.org/stable/user_guide.html)\n",
    "\n",
    "[scikit-learn K-means](https://scikit-learn.org/stable/modules/clustering.html#k-means)\n",
    "\n",
    "\n"
   ]
  },
  {
   "cell_type": "code",
   "execution_count": 21,
   "metadata": {},
   "outputs": [],
   "source": [
    "# Import the required libraries and dependencies\n",
    "import pandas as pd\n",
    "from pathlib import Path\n",
    "import hvplot.pandas\n",
    "from sklearn.cluster import KMeans"
   ]
  },
  {
   "cell_type": "markdown",
   "metadata": {},
   "source": [
    "## Step 1: Read in the `shopping_data.csv` file from the Resources folder and create the DataFrame. Review the resulting DataFrame. Additionally, check the data types associated with the DataFrame."
   ]
  },
  {
   "cell_type": "code",
   "execution_count": 22,
   "metadata": {},
   "outputs": [
    {
     "data": {
      "text/html": [
       "<div>\n",
       "<style scoped>\n",
       "    .dataframe tbody tr th:only-of-type {\n",
       "        vertical-align: middle;\n",
       "    }\n",
       "\n",
       "    .dataframe tbody tr th {\n",
       "        vertical-align: top;\n",
       "    }\n",
       "\n",
       "    .dataframe thead th {\n",
       "        text-align: right;\n",
       "    }\n",
       "</style>\n",
       "<table border=\"1\" class=\"dataframe\">\n",
       "  <thead>\n",
       "    <tr style=\"text-align: right;\">\n",
       "      <th></th>\n",
       "      <th>CustomerID</th>\n",
       "      <th>Card Type</th>\n",
       "      <th>Age</th>\n",
       "      <th>Annual Income</th>\n",
       "      <th>Spending Score</th>\n",
       "    </tr>\n",
       "  </thead>\n",
       "  <tbody>\n",
       "    <tr>\n",
       "      <th>0</th>\n",
       "      <td>1</td>\n",
       "      <td>Credit</td>\n",
       "      <td>19</td>\n",
       "      <td>15000</td>\n",
       "      <td>39</td>\n",
       "    </tr>\n",
       "    <tr>\n",
       "      <th>1</th>\n",
       "      <td>2</td>\n",
       "      <td>Credit</td>\n",
       "      <td>21</td>\n",
       "      <td>15000</td>\n",
       "      <td>81</td>\n",
       "    </tr>\n",
       "    <tr>\n",
       "      <th>2</th>\n",
       "      <td>3</td>\n",
       "      <td>Debit</td>\n",
       "      <td>20</td>\n",
       "      <td>16000</td>\n",
       "      <td>6</td>\n",
       "    </tr>\n",
       "    <tr>\n",
       "      <th>3</th>\n",
       "      <td>4</td>\n",
       "      <td>Debit</td>\n",
       "      <td>23</td>\n",
       "      <td>16000</td>\n",
       "      <td>77</td>\n",
       "    </tr>\n",
       "    <tr>\n",
       "      <th>4</th>\n",
       "      <td>5</td>\n",
       "      <td>Debit</td>\n",
       "      <td>31</td>\n",
       "      <td>17000</td>\n",
       "      <td>40</td>\n",
       "    </tr>\n",
       "  </tbody>\n",
       "</table>\n",
       "</div>"
      ],
      "text/plain": [
       "   CustomerID Card Type  Age  Annual Income  Spending Score\n",
       "0           1    Credit   19          15000              39\n",
       "1           2    Credit   21          15000              81\n",
       "2           3     Debit   20          16000               6\n",
       "3           4     Debit   23          16000              77\n",
       "4           5     Debit   31          17000              40"
      ]
     },
     "execution_count": 22,
     "metadata": {},
     "output_type": "execute_result"
    }
   ],
   "source": [
    "# Read in the CSV file and create the Pandas DataFrame\n",
    "df_shopping = pd.read_csv(\n",
    "    Path(\"../Resources/shopping_data.csv\")\n",
    ")\n",
    "\n",
    "# Review the DataFrame\n",
    "df_shopping.head()\n"
   ]
  },
  {
   "cell_type": "code",
   "execution_count": 23,
   "metadata": {},
   "outputs": [
    {
     "data": {
      "text/plain": [
       "CustomerID         int64\n",
       "Card Type         object\n",
       "Age                int64\n",
       "Annual Income      int64\n",
       "Spending Score     int64\n",
       "dtype: object"
      ]
     },
     "execution_count": 23,
     "metadata": {},
     "output_type": "execute_result"
    }
   ],
   "source": [
    "# Check the DataFrame data types\n",
    "df_shopping.dtypes"
   ]
  },
  {
   "cell_type": "markdown",
   "metadata": {},
   "source": [
    "## Step 2: Build a helper function called `encodeCard` that sets the `card_type` variable to 1 for credit card purchases and 0 for debit card purchases. "
   ]
  },
  {
   "cell_type": "code",
   "execution_count": 24,
   "metadata": {},
   "outputs": [],
   "source": [
    "# Build the encodeCard helper function\n",
    "# Credit card purchases should encode to 1\n",
    "# Debit card purchases should encode to 0\n",
    "def encodeCard(card_type):\n",
    "    \"\"\"\n",
    "    This function encodes a card type by setting credit card purchases to 1 and debit cards to 0.\n",
    "    \"\"\"\n",
    "    if card_type.lower() == \"credit\":\n",
    "        return 1\n",
    "    else:\n",
    "        return 0"
   ]
  },
  {
   "cell_type": "markdown",
   "metadata": {},
   "source": [
    "## Step 3: Edit the `Card Type` column in the DataFrame by applying the `encodeCard` function. "
   ]
  },
  {
   "cell_type": "code",
   "execution_count": 25,
   "metadata": {},
   "outputs": [
    {
     "data": {
      "text/html": [
       "<div>\n",
       "<style scoped>\n",
       "    .dataframe tbody tr th:only-of-type {\n",
       "        vertical-align: middle;\n",
       "    }\n",
       "\n",
       "    .dataframe tbody tr th {\n",
       "        vertical-align: top;\n",
       "    }\n",
       "\n",
       "    .dataframe thead th {\n",
       "        text-align: right;\n",
       "    }\n",
       "</style>\n",
       "<table border=\"1\" class=\"dataframe\">\n",
       "  <thead>\n",
       "    <tr style=\"text-align: right;\">\n",
       "      <th></th>\n",
       "      <th>CustomerID</th>\n",
       "      <th>Card Type</th>\n",
       "      <th>Age</th>\n",
       "      <th>Annual Income</th>\n",
       "      <th>Spending Score</th>\n",
       "    </tr>\n",
       "  </thead>\n",
       "  <tbody>\n",
       "    <tr>\n",
       "      <th>0</th>\n",
       "      <td>1</td>\n",
       "      <td>1</td>\n",
       "      <td>19</td>\n",
       "      <td>15000</td>\n",
       "      <td>39</td>\n",
       "    </tr>\n",
       "    <tr>\n",
       "      <th>1</th>\n",
       "      <td>2</td>\n",
       "      <td>1</td>\n",
       "      <td>21</td>\n",
       "      <td>15000</td>\n",
       "      <td>81</td>\n",
       "    </tr>\n",
       "    <tr>\n",
       "      <th>2</th>\n",
       "      <td>3</td>\n",
       "      <td>0</td>\n",
       "      <td>20</td>\n",
       "      <td>16000</td>\n",
       "      <td>6</td>\n",
       "    </tr>\n",
       "    <tr>\n",
       "      <th>3</th>\n",
       "      <td>4</td>\n",
       "      <td>0</td>\n",
       "      <td>23</td>\n",
       "      <td>16000</td>\n",
       "      <td>77</td>\n",
       "    </tr>\n",
       "    <tr>\n",
       "      <th>4</th>\n",
       "      <td>5</td>\n",
       "      <td>0</td>\n",
       "      <td>31</td>\n",
       "      <td>17000</td>\n",
       "      <td>40</td>\n",
       "    </tr>\n",
       "  </tbody>\n",
       "</table>\n",
       "</div>"
      ],
      "text/plain": [
       "   CustomerID  Card Type  Age  Annual Income  Spending Score\n",
       "0           1          1   19          15000              39\n",
       "1           2          1   21          15000              81\n",
       "2           3          0   20          16000               6\n",
       "3           4          0   23          16000              77\n",
       "4           5          0   31          17000              40"
      ]
     },
     "execution_count": 25,
     "metadata": {},
     "output_type": "execute_result"
    }
   ],
   "source": [
    "# Edit the `Card Type` column using the encodeCard function\n",
    "df_shopping[\"Card Type\"] = df_shopping[\"Card Type\"].apply(encodeCard)\n",
    "\n",
    "# Review the DataFrame\n",
    "df_shopping.head()"
   ]
  },
  {
   "cell_type": "markdown",
   "metadata": {},
   "source": [
    "## Step 4: Scale the `Annual Income` column in the DataFrame by dividing it by 1,000. "
   ]
  },
  {
   "cell_type": "code",
   "execution_count": 26,
   "metadata": {},
   "outputs": [
    {
     "data": {
      "text/html": [
       "<div>\n",
       "<style scoped>\n",
       "    .dataframe tbody tr th:only-of-type {\n",
       "        vertical-align: middle;\n",
       "    }\n",
       "\n",
       "    .dataframe tbody tr th {\n",
       "        vertical-align: top;\n",
       "    }\n",
       "\n",
       "    .dataframe thead th {\n",
       "        text-align: right;\n",
       "    }\n",
       "</style>\n",
       "<table border=\"1\" class=\"dataframe\">\n",
       "  <thead>\n",
       "    <tr style=\"text-align: right;\">\n",
       "      <th></th>\n",
       "      <th>CustomerID</th>\n",
       "      <th>Card Type</th>\n",
       "      <th>Age</th>\n",
       "      <th>Annual Income</th>\n",
       "      <th>Spending Score</th>\n",
       "    </tr>\n",
       "  </thead>\n",
       "  <tbody>\n",
       "    <tr>\n",
       "      <th>0</th>\n",
       "      <td>1</td>\n",
       "      <td>1</td>\n",
       "      <td>19</td>\n",
       "      <td>15.0</td>\n",
       "      <td>39</td>\n",
       "    </tr>\n",
       "    <tr>\n",
       "      <th>1</th>\n",
       "      <td>2</td>\n",
       "      <td>1</td>\n",
       "      <td>21</td>\n",
       "      <td>15.0</td>\n",
       "      <td>81</td>\n",
       "    </tr>\n",
       "    <tr>\n",
       "      <th>2</th>\n",
       "      <td>3</td>\n",
       "      <td>0</td>\n",
       "      <td>20</td>\n",
       "      <td>16.0</td>\n",
       "      <td>6</td>\n",
       "    </tr>\n",
       "    <tr>\n",
       "      <th>3</th>\n",
       "      <td>4</td>\n",
       "      <td>0</td>\n",
       "      <td>23</td>\n",
       "      <td>16.0</td>\n",
       "      <td>77</td>\n",
       "    </tr>\n",
       "    <tr>\n",
       "      <th>4</th>\n",
       "      <td>5</td>\n",
       "      <td>0</td>\n",
       "      <td>31</td>\n",
       "      <td>17.0</td>\n",
       "      <td>40</td>\n",
       "    </tr>\n",
       "  </tbody>\n",
       "</table>\n",
       "</div>"
      ],
      "text/plain": [
       "   CustomerID  Card Type  Age  Annual Income  Spending Score\n",
       "0           1          1   19           15.0              39\n",
       "1           2          1   21           15.0              81\n",
       "2           3          0   20           16.0               6\n",
       "3           4          0   23           16.0              77\n",
       "4           5          0   31           17.0              40"
      ]
     },
     "execution_count": 26,
     "metadata": {},
     "output_type": "execute_result"
    }
   ],
   "source": [
    "# Scale the Annual Income column \n",
    "df_shopping[\"Annual Income\"] = df_shopping[\"Annual Income\"] / 1000\n",
    "\n",
    "# Revew the DataFrame\n",
    "df_shopping.head()"
   ]
  },
  {
   "cell_type": "markdown",
   "metadata": {},
   "source": [
    "## Step 5: Drop the `CustomerID` column from the DataFrame. "
   ]
  },
  {
   "cell_type": "code",
   "execution_count": 27,
   "metadata": {},
   "outputs": [],
   "source": [
    "# Drop the CustomerID column\n",
    "df_shopping = df_shopping.drop(columns=[\"CustomerID\"])"
   ]
  },
  {
   "cell_type": "markdown",
   "metadata": {},
   "source": [
    "## Step 6: Review the `df_shopping` DataFrame. Confirm that the `Card Type` column consists of 1s and 0s; that the Annual_Income column is scaled appropriately; and that the `CustomerID` column has been dropped. "
   ]
  },
  {
   "cell_type": "code",
   "execution_count": 28,
   "metadata": {},
   "outputs": [
    {
     "data": {
      "text/html": [
       "<div>\n",
       "<style scoped>\n",
       "    .dataframe tbody tr th:only-of-type {\n",
       "        vertical-align: middle;\n",
       "    }\n",
       "\n",
       "    .dataframe tbody tr th {\n",
       "        vertical-align: top;\n",
       "    }\n",
       "\n",
       "    .dataframe thead th {\n",
       "        text-align: right;\n",
       "    }\n",
       "</style>\n",
       "<table border=\"1\" class=\"dataframe\">\n",
       "  <thead>\n",
       "    <tr style=\"text-align: right;\">\n",
       "      <th></th>\n",
       "      <th>Card Type</th>\n",
       "      <th>Age</th>\n",
       "      <th>Annual Income</th>\n",
       "      <th>Spending Score</th>\n",
       "    </tr>\n",
       "  </thead>\n",
       "  <tbody>\n",
       "    <tr>\n",
       "      <th>0</th>\n",
       "      <td>1</td>\n",
       "      <td>19</td>\n",
       "      <td>15.0</td>\n",
       "      <td>39</td>\n",
       "    </tr>\n",
       "    <tr>\n",
       "      <th>1</th>\n",
       "      <td>1</td>\n",
       "      <td>21</td>\n",
       "      <td>15.0</td>\n",
       "      <td>81</td>\n",
       "    </tr>\n",
       "    <tr>\n",
       "      <th>2</th>\n",
       "      <td>0</td>\n",
       "      <td>20</td>\n",
       "      <td>16.0</td>\n",
       "      <td>6</td>\n",
       "    </tr>\n",
       "    <tr>\n",
       "      <th>3</th>\n",
       "      <td>0</td>\n",
       "      <td>23</td>\n",
       "      <td>16.0</td>\n",
       "      <td>77</td>\n",
       "    </tr>\n",
       "    <tr>\n",
       "      <th>4</th>\n",
       "      <td>0</td>\n",
       "      <td>31</td>\n",
       "      <td>17.0</td>\n",
       "      <td>40</td>\n",
       "    </tr>\n",
       "  </tbody>\n",
       "</table>\n",
       "</div>"
      ],
      "text/plain": [
       "   Card Type  Age  Annual Income  Spending Score\n",
       "0          1   19           15.0              39\n",
       "1          1   21           15.0              81\n",
       "2          0   20           16.0               6\n",
       "3          0   23           16.0              77\n",
       "4          0   31           17.0              40"
      ]
     },
     "metadata": {},
     "output_type": "display_data"
    },
    {
     "data": {
      "text/html": [
       "<div>\n",
       "<style scoped>\n",
       "    .dataframe tbody tr th:only-of-type {\n",
       "        vertical-align: middle;\n",
       "    }\n",
       "\n",
       "    .dataframe tbody tr th {\n",
       "        vertical-align: top;\n",
       "    }\n",
       "\n",
       "    .dataframe thead th {\n",
       "        text-align: right;\n",
       "    }\n",
       "</style>\n",
       "<table border=\"1\" class=\"dataframe\">\n",
       "  <thead>\n",
       "    <tr style=\"text-align: right;\">\n",
       "      <th></th>\n",
       "      <th>Card Type</th>\n",
       "      <th>Age</th>\n",
       "      <th>Annual Income</th>\n",
       "      <th>Spending Score</th>\n",
       "    </tr>\n",
       "  </thead>\n",
       "  <tbody>\n",
       "    <tr>\n",
       "      <th>195</th>\n",
       "      <td>0</td>\n",
       "      <td>35</td>\n",
       "      <td>120.0</td>\n",
       "      <td>79</td>\n",
       "    </tr>\n",
       "    <tr>\n",
       "      <th>196</th>\n",
       "      <td>0</td>\n",
       "      <td>45</td>\n",
       "      <td>126.0</td>\n",
       "      <td>28</td>\n",
       "    </tr>\n",
       "    <tr>\n",
       "      <th>197</th>\n",
       "      <td>1</td>\n",
       "      <td>32</td>\n",
       "      <td>126.0</td>\n",
       "      <td>74</td>\n",
       "    </tr>\n",
       "    <tr>\n",
       "      <th>198</th>\n",
       "      <td>1</td>\n",
       "      <td>32</td>\n",
       "      <td>137.0</td>\n",
       "      <td>18</td>\n",
       "    </tr>\n",
       "    <tr>\n",
       "      <th>199</th>\n",
       "      <td>1</td>\n",
       "      <td>30</td>\n",
       "      <td>137.0</td>\n",
       "      <td>83</td>\n",
       "    </tr>\n",
       "  </tbody>\n",
       "</table>\n",
       "</div>"
      ],
      "text/plain": [
       "     Card Type  Age  Annual Income  Spending Score\n",
       "195          0   35          120.0              79\n",
       "196          0   45          126.0              28\n",
       "197          1   32          126.0              74\n",
       "198          1   32          137.0              18\n",
       "199          1   30          137.0              83"
      ]
     },
     "metadata": {},
     "output_type": "display_data"
    }
   ],
   "source": [
    "# Review the DataFrame\n",
    "display(df_shopping.head())\n",
    "display(df_shopping.tail())"
   ]
  },
  {
   "cell_type": "markdown",
   "metadata": {},
   "source": [
    "## Step 7: Using this cleaned DataFrame, initialize two K-means models: one with four clusters and another with five. For each model, be sure to follow each of the steps needed to identify the clusters and assign them to the data. \n",
    "\n",
    "* Initialize the KMeans model instance.\n",
    "* Fit, or train, the model.\n",
    "* Predict the model segments(clusters)."
   ]
  },
  {
   "cell_type": "markdown",
   "metadata": {},
   "source": [
    "### Train the K-means algorithm where k=4"
   ]
  },
  {
   "cell_type": "code",
   "execution_count": 29,
   "metadata": {},
   "outputs": [],
   "source": [
    "# Initialize the K-Means model; n_clusters=4\n",
    "model_k4 = KMeans(n_clusters=4)"
   ]
  },
  {
   "cell_type": "code",
   "execution_count": 30,
   "metadata": {},
   "outputs": [
    {
     "data": {
      "text/plain": [
       "KMeans(n_clusters=4)"
      ]
     },
     "execution_count": 30,
     "metadata": {},
     "output_type": "execute_result"
    }
   ],
   "source": [
    "# Fit the model\n",
    "model_k4.fit(df_shopping)"
   ]
  },
  {
   "cell_type": "code",
   "execution_count": 31,
   "metadata": {},
   "outputs": [
    {
     "name": "stdout",
     "output_type": "stream",
     "text": [
      "[2 2 1 2 1 2 1 2 1 2 1 2 1 2 1 2 1 2 1 2 1 2 1 2 1 2 1 2 1 2 1 2 1 2 1 2 1\n",
      " 2 1 2 1 2 1 2 1 2 1 1 1 1 1 2 1 1 1 1 1 1 1 1 1 2 1 1 1 2 1 1 2 1 1 1 1 1\n",
      " 1 1 1 1 1 1 1 1 1 1 1 1 1 1 1 1 1 1 1 1 1 1 1 1 1 1 1 1 1 1 1 1 1 1 1 1 1\n",
      " 1 1 1 1 1 1 1 1 1 1 1 1 0 3 0 3 0 3 0 3 0 3 0 3 0 3 0 3 0 3 0 3 0 3 0 3 0\n",
      " 3 0 3 0 3 0 3 0 3 0 3 0 3 0 3 0 3 0 3 0 3 0 3 0 3 0 3 0 3 0 3 0 3 0 3 0 3\n",
      " 0 3 0 3 0 3 0 3 0 3 0 3 0 3 0]\n"
     ]
    }
   ],
   "source": [
    "# Predict the model segments (clusters)\n",
    "customer_segments_k4 = model_k4.predict(df_shopping)\n",
    "\n",
    "# View the customer segments\n",
    "print(customer_segments_k4)"
   ]
  },
  {
   "cell_type": "markdown",
   "metadata": {},
   "source": [
    "### Train the K-means algorithm where k=5"
   ]
  },
  {
   "cell_type": "code",
   "execution_count": 32,
   "metadata": {},
   "outputs": [],
   "source": [
    "# Initialize the K-Means model; n_clusters=5\n",
    "model_k5 = KMeans(n_clusters=5)"
   ]
  },
  {
   "cell_type": "code",
   "execution_count": 33,
   "metadata": {},
   "outputs": [
    {
     "data": {
      "text/plain": [
       "KMeans(n_clusters=5)"
      ]
     },
     "execution_count": 33,
     "metadata": {},
     "output_type": "execute_result"
    }
   ],
   "source": [
    "# Fit the model\n",
    "model_k5.fit(df_shopping)"
   ]
  },
  {
   "cell_type": "code",
   "execution_count": 34,
   "metadata": {},
   "outputs": [
    {
     "name": "stdout",
     "output_type": "stream",
     "text": [
      "[3 0 3 0 3 0 3 0 3 0 3 0 3 0 3 0 3 0 3 0 3 0 3 0 3 0 3 0 3 0 3 0 3 0 3 0 3\n",
      " 0 3 0 3 0 3 0 3 0 2 2 2 2 2 2 2 2 2 2 2 2 2 2 2 2 2 2 2 2 2 2 2 2 2 2 2 2\n",
      " 2 2 2 2 2 2 2 2 2 2 2 2 2 2 2 2 2 2 2 2 2 2 2 2 2 2 2 2 2 2 2 2 2 2 2 2 2\n",
      " 2 2 2 2 2 2 2 2 2 2 2 2 4 1 4 2 4 1 4 1 4 1 4 1 4 1 4 1 4 1 4 1 4 1 4 1 4\n",
      " 1 4 1 4 1 4 1 4 1 4 1 4 1 4 1 4 1 4 1 4 1 4 1 4 1 4 1 4 1 4 1 4 1 4 1 4 1\n",
      " 4 1 4 1 4 1 4 1 4 1 4 1 4 1 4]\n"
     ]
    }
   ],
   "source": [
    "# Predict the model segments (clusters)\n",
    "customer_segments_k5 = model_k5.predict(df_shopping)\n",
    "\n",
    "# View the customer segments\n",
    "print(customer_segments_k5)"
   ]
  },
  {
   "cell_type": "markdown",
   "metadata": {},
   "source": [
    "## Step 8: Once the models hvae been run, add each of the customer segment lists back into the `df_shopping` DataFrame as new columns. "
   ]
  },
  {
   "cell_type": "code",
   "execution_count": 35,
   "metadata": {},
   "outputs": [],
   "source": [
    "# Crate a copy of the df_shopping DataFrame and name it as df_shopping_predictions\n",
    "df_shopping_predictions = df_shopping.copy()"
   ]
  },
  {
   "cell_type": "code",
   "execution_count": 36,
   "metadata": {},
   "outputs": [],
   "source": [
    "# Create a new column in the DataFrame with the predicted clusters with k=4\n",
    "df_shopping_predictions[\"Customer Segment (k=4)\"] = customer_segments_k4"
   ]
  },
  {
   "cell_type": "code",
   "execution_count": 37,
   "metadata": {},
   "outputs": [],
   "source": [
    "# Create a new column in the DataFrame with the predicted clusters with k=5\n",
    "df_shopping_predictions[\"Customer Segment (k=5)\"] = customer_segments_k5"
   ]
  },
  {
   "cell_type": "code",
   "execution_count": 38,
   "metadata": {},
   "outputs": [
    {
     "data": {
      "text/html": [
       "<div>\n",
       "<style scoped>\n",
       "    .dataframe tbody tr th:only-of-type {\n",
       "        vertical-align: middle;\n",
       "    }\n",
       "\n",
       "    .dataframe tbody tr th {\n",
       "        vertical-align: top;\n",
       "    }\n",
       "\n",
       "    .dataframe thead th {\n",
       "        text-align: right;\n",
       "    }\n",
       "</style>\n",
       "<table border=\"1\" class=\"dataframe\">\n",
       "  <thead>\n",
       "    <tr style=\"text-align: right;\">\n",
       "      <th></th>\n",
       "      <th>Card Type</th>\n",
       "      <th>Age</th>\n",
       "      <th>Annual Income</th>\n",
       "      <th>Spending Score</th>\n",
       "      <th>Customer Segment (k=4)</th>\n",
       "      <th>Customer Segment (k=5)</th>\n",
       "    </tr>\n",
       "  </thead>\n",
       "  <tbody>\n",
       "    <tr>\n",
       "      <th>0</th>\n",
       "      <td>1</td>\n",
       "      <td>19</td>\n",
       "      <td>15.0</td>\n",
       "      <td>39</td>\n",
       "      <td>2</td>\n",
       "      <td>3</td>\n",
       "    </tr>\n",
       "    <tr>\n",
       "      <th>1</th>\n",
       "      <td>1</td>\n",
       "      <td>21</td>\n",
       "      <td>15.0</td>\n",
       "      <td>81</td>\n",
       "      <td>2</td>\n",
       "      <td>0</td>\n",
       "    </tr>\n",
       "    <tr>\n",
       "      <th>2</th>\n",
       "      <td>0</td>\n",
       "      <td>20</td>\n",
       "      <td>16.0</td>\n",
       "      <td>6</td>\n",
       "      <td>1</td>\n",
       "      <td>3</td>\n",
       "    </tr>\n",
       "    <tr>\n",
       "      <th>3</th>\n",
       "      <td>0</td>\n",
       "      <td>23</td>\n",
       "      <td>16.0</td>\n",
       "      <td>77</td>\n",
       "      <td>2</td>\n",
       "      <td>0</td>\n",
       "    </tr>\n",
       "    <tr>\n",
       "      <th>4</th>\n",
       "      <td>0</td>\n",
       "      <td>31</td>\n",
       "      <td>17.0</td>\n",
       "      <td>40</td>\n",
       "      <td>1</td>\n",
       "      <td>3</td>\n",
       "    </tr>\n",
       "  </tbody>\n",
       "</table>\n",
       "</div>"
      ],
      "text/plain": [
       "   Card Type  Age  Annual Income  Spending Score  Customer Segment (k=4)  \\\n",
       "0          1   19           15.0              39                       2   \n",
       "1          1   21           15.0              81                       2   \n",
       "2          0   20           16.0               6                       1   \n",
       "3          0   23           16.0              77                       2   \n",
       "4          0   31           17.0              40                       1   \n",
       "\n",
       "   Customer Segment (k=5)  \n",
       "0                       3  \n",
       "1                       0  \n",
       "2                       3  \n",
       "3                       0  \n",
       "4                       3  "
      ]
     },
     "execution_count": 38,
     "metadata": {},
     "output_type": "execute_result"
    }
   ],
   "source": [
    "# Review the DataFrame\n",
    "df_shopping_predictions.head()"
   ]
  },
  {
   "cell_type": "markdown",
   "metadata": {},
   "source": [
    "## Step 9: Using hvPlot, create scatter plots for each of the two customer segmentsations. Be sure to build styled and formatted plots."
   ]
  },
  {
   "cell_type": "code",
   "execution_count": 39,
   "metadata": {},
   "outputs": [
    {
     "data": {},
     "metadata": {},
     "output_type": "display_data"
    },
    {
     "data": {
      "application/vnd.holoviews_exec.v0+json": "",
      "text/html": [
       "<div id='1785'>\n",
       "  <div class=\"bk-root\" id=\"e0c5fb6d-7753-4b5c-a052-6eb2e896737c\" data-root-id=\"1785\"></div>\n",
       "</div>\n",
       "<script type=\"application/javascript\">(function(root) {\n",
       "  function embed_document(root) {\n",
       "    var docs_json = {\"65bcd68d-1fac-4477-b83f-bad665870fdb\":{\"defs\":[{\"extends\":null,\"module\":null,\"name\":\"ReactiveHTML1\",\"overrides\":[],\"properties\":[]},{\"extends\":null,\"module\":null,\"name\":\"FlexBox1\",\"overrides\":[],\"properties\":[{\"default\":\"flex-start\",\"kind\":null,\"name\":\"align_content\"},{\"default\":\"flex-start\",\"kind\":null,\"name\":\"align_items\"},{\"default\":\"row\",\"kind\":null,\"name\":\"flex_direction\"},{\"default\":\"wrap\",\"kind\":null,\"name\":\"flex_wrap\"},{\"default\":\"flex-start\",\"kind\":null,\"name\":\"justify_content\"}]},{\"extends\":null,\"module\":null,\"name\":\"GridStack1\",\"overrides\":[],\"properties\":[{\"default\":\"warn\",\"kind\":null,\"name\":\"mode\"},{\"default\":null,\"kind\":null,\"name\":\"ncols\"},{\"default\":null,\"kind\":null,\"name\":\"nrows\"},{\"default\":true,\"kind\":null,\"name\":\"allow_resize\"},{\"default\":true,\"kind\":null,\"name\":\"allow_drag\"},{\"default\":[],\"kind\":null,\"name\":\"state\"}]},{\"extends\":null,\"module\":null,\"name\":\"click1\",\"overrides\":[],\"properties\":[{\"default\":\"\",\"kind\":null,\"name\":\"terminal_output\"},{\"default\":\"\",\"kind\":null,\"name\":\"debug_name\"},{\"default\":0,\"kind\":null,\"name\":\"clears\"}]},{\"extends\":null,\"module\":null,\"name\":\"TemplateActions1\",\"overrides\":[],\"properties\":[{\"default\":0,\"kind\":null,\"name\":\"open_modal\"},{\"default\":0,\"kind\":null,\"name\":\"close_modal\"}]},{\"extends\":null,\"module\":null,\"name\":\"MaterialTemplateActions1\",\"overrides\":[],\"properties\":[{\"default\":0,\"kind\":null,\"name\":\"open_modal\"},{\"default\":0,\"kind\":null,\"name\":\"close_modal\"}]}],\"roots\":{\"references\":[{\"attributes\":{},\"id\":\"1828\",\"type\":\"AllLabels\"},{\"attributes\":{\"coordinates\":null,\"data_source\":{\"id\":\"1829\"},\"glyph\":{\"id\":\"1832\"},\"group\":null,\"hover_glyph\":null,\"muted_glyph\":{\"id\":\"1834\"},\"nonselection_glyph\":{\"id\":\"1833\"},\"selection_glyph\":{\"id\":\"1849\"},\"view\":{\"id\":\"1836\"}},\"id\":\"1835\",\"type\":\"GlyphRenderer\"},{\"attributes\":{},\"id\":\"1825\",\"type\":\"AllLabels\"},{\"attributes\":{},\"id\":\"1891\",\"type\":\"UnionRenderers\"},{\"attributes\":{\"source\":{\"id\":\"1872\"}},\"id\":\"1879\",\"type\":\"CDSView\"},{\"attributes\":{},\"id\":\"1810\",\"type\":\"SaveTool\"},{\"attributes\":{\"children\":[{\"id\":\"1786\"},{\"id\":\"1793\"},{\"id\":\"2066\"}],\"margin\":[0,0,0,0],\"name\":\"Row03397\",\"tags\":[\"embedded\"]},\"id\":\"1785\",\"type\":\"Row\"},{\"attributes\":{},\"id\":\"1811\",\"type\":\"PanTool\"},{\"attributes\":{\"fill_alpha\":{\"value\":0.1},\"fill_color\":{\"value\":\"#e5ae38\"},\"hatch_alpha\":{\"value\":0.1},\"hatch_color\":{\"value\":\"#e5ae38\"},\"line_alpha\":{\"value\":0.1},\"line_color\":{\"value\":\"#e5ae38\"},\"size\":{\"value\":5.477225575051661},\"x\":{\"field\":\"Annual Income\"},\"y\":{\"field\":\"Spending Score\"}},\"id\":\"1876\",\"type\":\"Scatter\"},{\"attributes\":{\"coordinates\":null,\"data_source\":{\"id\":\"1872\"},\"glyph\":{\"id\":\"1875\"},\"group\":null,\"hover_glyph\":null,\"muted_glyph\":{\"id\":\"1877\"},\"nonselection_glyph\":{\"id\":\"1876\"},\"selection_glyph\":{\"id\":\"1895\"},\"view\":{\"id\":\"1879\"}},\"id\":\"1878\",\"type\":\"GlyphRenderer\"},{\"attributes\":{},\"id\":\"1812\",\"type\":\"WheelZoomTool\"},{\"attributes\":{\"margin\":[5,5,5,5],\"name\":\"HSpacer03401\",\"sizing_mode\":\"stretch_width\"},\"id\":\"1786\",\"type\":\"Spacer\"},{\"attributes\":{\"tools\":[{\"id\":\"1789\"},{\"id\":\"1810\"},{\"id\":\"1811\"},{\"id\":\"1812\"},{\"id\":\"1813\"},{\"id\":\"1814\"}]},\"id\":\"1816\",\"type\":\"Toolbar\"},{\"attributes\":{\"overlay\":{\"id\":\"1815\"}},\"id\":\"1813\",\"type\":\"BoxZoomTool\"},{\"attributes\":{\"angle\":{\"value\":0.0},\"fill_alpha\":{\"value\":1.0},\"fill_color\":{\"value\":\"#e5ae38\"},\"hatch_alpha\":{\"value\":1.0},\"hatch_color\":{\"value\":\"#e5ae38\"},\"hatch_scale\":{\"value\":12.0},\"hatch_weight\":{\"value\":1.0},\"line_alpha\":{\"value\":1.0},\"line_cap\":{\"value\":\"butt\"},\"line_color\":{\"value\":\"#e5ae38\"},\"line_dash\":{\"value\":[]},\"line_dash_offset\":{\"value\":0},\"line_join\":{\"value\":\"bevel\"},\"line_width\":{\"value\":1},\"marker\":{\"value\":\"circle\"},\"size\":{\"value\":5.477225575051661},\"x\":{\"field\":\"Annual Income\"},\"y\":{\"field\":\"Spending Score\"}},\"id\":\"1895\",\"type\":\"Scatter\"},{\"attributes\":{\"fill_alpha\":{\"value\":0.2},\"fill_color\":{\"value\":\"#e5ae38\"},\"hatch_alpha\":{\"value\":0.2},\"hatch_color\":{\"value\":\"#e5ae38\"},\"line_alpha\":{\"value\":0.2},\"line_color\":{\"value\":\"#e5ae38\"},\"size\":{\"value\":5.477225575051661},\"x\":{\"field\":\"Annual Income\"},\"y\":{\"field\":\"Spending Score\"}},\"id\":\"1877\",\"type\":\"Scatter\"},{\"attributes\":{},\"id\":\"1814\",\"type\":\"ResetTool\"},{\"attributes\":{},\"id\":\"1897\",\"type\":\"Selection\"},{\"attributes\":{\"label\":{\"value\":\"3\"},\"renderers\":[{\"id\":\"1902\"}]},\"id\":\"1920\",\"type\":\"LegendItem\"},{\"attributes\":{\"bottom_units\":\"screen\",\"coordinates\":null,\"fill_alpha\":0.5,\"fill_color\":\"lightgrey\",\"group\":null,\"left_units\":\"screen\",\"level\":\"overlay\",\"line_alpha\":1.0,\"line_color\":\"black\",\"line_dash\":[4,4],\"line_width\":2,\"right_units\":\"screen\",\"syncable\":false,\"top_units\":\"screen\"},\"id\":\"1815\",\"type\":\"BoxAnnotation\"},{\"attributes\":{\"fill_alpha\":{\"value\":0.2},\"fill_color\":{\"value\":\"#fc4f30\"},\"hatch_alpha\":{\"value\":0.2},\"hatch_color\":{\"value\":\"#fc4f30\"},\"line_alpha\":{\"value\":0.2},\"line_color\":{\"value\":\"#fc4f30\"},\"size\":{\"value\":5.477225575051661},\"x\":{\"field\":\"Annual Income\"},\"y\":{\"field\":\"Spending Score\"}},\"id\":\"1855\",\"type\":\"Scatter\"},{\"attributes\":{\"fill_alpha\":{\"value\":0.2},\"fill_color\":{\"value\":\"#6d904f\"},\"hatch_alpha\":{\"value\":0.2},\"hatch_color\":{\"value\":\"#6d904f\"},\"line_alpha\":{\"value\":0.2},\"line_color\":{\"value\":\"#6d904f\"},\"size\":{\"value\":5.477225575051661},\"x\":{\"field\":\"Annual Income\"},\"y\":{\"field\":\"Spending Score\"}},\"id\":\"1901\",\"type\":\"Scatter\"},{\"attributes\":{\"coordinates\":null,\"data_source\":{\"id\":\"1896\"},\"glyph\":{\"id\":\"1899\"},\"group\":null,\"hover_glyph\":null,\"muted_glyph\":{\"id\":\"1901\"},\"nonselection_glyph\":{\"id\":\"1900\"},\"selection_glyph\":{\"id\":\"1921\"},\"view\":{\"id\":\"1903\"}},\"id\":\"1902\",\"type\":\"GlyphRenderer\"},{\"attributes\":{\"fill_alpha\":{\"value\":0.1},\"fill_color\":{\"value\":\"#6d904f\"},\"hatch_alpha\":{\"value\":0.1},\"hatch_color\":{\"value\":\"#6d904f\"},\"line_alpha\":{\"value\":0.1},\"line_color\":{\"value\":\"#6d904f\"},\"size\":{\"value\":5.477225575051661},\"x\":{\"field\":\"Annual Income\"},\"y\":{\"field\":\"Spending Score\"}},\"id\":\"1900\",\"type\":\"Scatter\"},{\"attributes\":{\"data\":{\"Annual Income\":{\"__ndarray__\":\"AAAAAACAUUAAAAAAAMBRQAAAAAAAwFFAAAAAAADAUUAAAAAAAABSQAAAAAAAQFJAAAAAAABAUkAAAAAAAIBSQAAAAAAAwFJAAAAAAAAAU0AAAAAAAEBTQAAAAAAAQFNAAAAAAACAU0AAAAAAAIBTQAAAAAAAgFNAAAAAAACAU0AAAAAAAIBTQAAAAAAAgFNAAAAAAADAU0AAAAAAAEBUQAAAAAAAQFVAAAAAAACAVUAAAAAAAMBVQAAAAAAAwFVAAAAAAADAVUAAAAAAAABWQAAAAAAAAFZAAAAAAABAV0AAAAAAAEBYQAAAAAAAgFhAAAAAAADAWEAAAAAAAEBZQAAAAAAAwFlAAAAAAADAWUAAAAAAAEBcQAAAAAAAAF5AAAAAAACAX0AAAAAAACBhQA==\",\"dtype\":\"float64\",\"order\":\"little\",\"shape\":[38]},\"Annual_Income\":{\"__ndarray__\":\"AAAAAACAUUAAAAAAAMBRQAAAAAAAwFFAAAAAAADAUUAAAAAAAABSQAAAAAAAQFJAAAAAAABAUkAAAAAAAIBSQAAAAAAAwFJAAAAAAAAAU0AAAAAAAEBTQAAAAAAAQFNAAAAAAACAU0AAAAAAAIBTQAAAAAAAgFNAAAAAAACAU0AAAAAAAIBTQAAAAAAAgFNAAAAAAADAU0AAAAAAAEBUQAAAAAAAQFVAAAAAAACAVUAAAAAAAMBVQAAAAAAAwFVAAAAAAADAVUAAAAAAAABWQAAAAAAAAFZAAAAAAABAV0AAAAAAAEBYQAAAAAAAgFhAAAAAAADAWEAAAAAAAEBZQAAAAAAAwFlAAAAAAADAWUAAAAAAAEBcQAAAAAAAAF5AAAAAAACAX0AAAAAAACBhQA==\",\"dtype\":\"float64\",\"order\":\"little\",\"shape\":[38]},\"Customer_Segment_left_parenthesis_k_equals_4_right_parenthesis\":[3,3,3,3,3,3,3,3,3,3,3,3,3,3,3,3,3,3,3,3,3,3,3,3,3,3,3,3,3,3,3,3,3,3,3,3,3,3],\"Spending Score\":[29,35,11,9,34,5,7,10,5,40,12,36,22,17,20,16,1,1,35,5,26,20,27,13,10,13,15,14,32,15,39,24,17,23,8,16,28,18],\"Spending_Score\":[29,35,11,9,34,5,7,10,5,40,12,36,22,17,20,16,1,1,35,5,26,20,27,13,10,13,15,14,32,15,39,24,17,23,8,16,28,18]},\"selected\":{\"id\":\"1897\"},\"selection_policy\":{\"id\":\"1917\"}},\"id\":\"1896\",\"type\":\"ColumnDataSource\"},{\"attributes\":{\"angle\":{\"value\":0.0},\"fill_alpha\":{\"value\":1.0},\"fill_color\":{\"value\":\"#30a2da\"},\"hatch_alpha\":{\"value\":1.0},\"hatch_color\":{\"value\":\"#30a2da\"},\"hatch_scale\":{\"value\":12.0},\"hatch_weight\":{\"value\":1.0},\"line_alpha\":{\"value\":1.0},\"line_cap\":{\"value\":\"butt\"},\"line_color\":{\"value\":\"#30a2da\"},\"line_dash\":{\"value\":[]},\"line_dash_offset\":{\"value\":0},\"line_join\":{\"value\":\"bevel\"},\"line_width\":{\"value\":1},\"marker\":{\"value\":\"circle\"},\"size\":{\"value\":5.477225575051661},\"x\":{\"field\":\"Annual Income\"},\"y\":{\"field\":\"Spending Score\"}},\"id\":\"1849\",\"type\":\"Scatter\"},{\"attributes\":{\"end\":142.22857142857143,\"reset_end\":142.22857142857143,\"reset_start\":9.771428571428572,\"start\":9.771428571428572,\"tags\":[[[\"Annual Income\",\"Annual Income\",null]]]},\"id\":\"1787\",\"type\":\"Range1d\"},{\"attributes\":{\"source\":{\"id\":\"1829\"}},\"id\":\"1836\",\"type\":\"CDSView\"},{\"attributes\":{},\"id\":\"1803\",\"type\":\"BasicTicker\"},{\"attributes\":{\"callback\":null,\"renderers\":[{\"id\":\"1835\"},{\"id\":\"1856\"},{\"id\":\"1878\"},{\"id\":\"1902\"}],\"tags\":[\"hv_created\"],\"tooltips\":[[\"Customer Segment (k=4)\",\"@{Customer_Segment_left_parenthesis_k_equals_4_right_parenthesis}\"],[\"Annual Income\",\"@{Annual_Income}\"],[\"Spending Score\",\"@{Spending_Score}\"]]},\"id\":\"1789\",\"type\":\"HoverTool\"},{\"attributes\":{},\"id\":\"1851\",\"type\":\"Selection\"},{\"attributes\":{},\"id\":\"1917\",\"type\":\"UnionRenderers\"},{\"attributes\":{\"fill_color\":{\"value\":\"#30a2da\"},\"hatch_color\":{\"value\":\"#30a2da\"},\"line_color\":{\"value\":\"#30a2da\"},\"size\":{\"value\":5.477225575051661},\"x\":{\"field\":\"Annual Income\"},\"y\":{\"field\":\"Spending Score\"}},\"id\":\"1832\",\"type\":\"Scatter\"},{\"attributes\":{\"source\":{\"id\":\"1896\"}},\"id\":\"1903\",\"type\":\"CDSView\"},{\"attributes\":{\"end\":108.8,\"reset_end\":108.8,\"reset_start\":-8.8,\"start\":-8.8,\"tags\":[[[\"Spending Score\",\"Spending Score\",null]]]},\"id\":\"1788\",\"type\":\"Range1d\"},{\"attributes\":{\"label\":{\"value\":\"1\"},\"renderers\":[{\"id\":\"1856\"}]},\"id\":\"1870\",\"type\":\"LegendItem\"},{\"attributes\":{\"click_policy\":\"mute\",\"coordinates\":null,\"group\":null,\"items\":[{\"id\":\"1848\"},{\"id\":\"1870\"},{\"id\":\"1894\"},{\"id\":\"1920\"}],\"location\":[0,0],\"title\":\"Customer Segment (k=4)\"},\"id\":\"1847\",\"type\":\"Legend\"},{\"attributes\":{\"label\":{\"value\":\"0\"},\"renderers\":[{\"id\":\"1835\"}]},\"id\":\"1848\",\"type\":\"LegendItem\"},{\"attributes\":{},\"id\":\"1830\",\"type\":\"Selection\"},{\"attributes\":{\"below\":[{\"id\":\"1802\"}],\"center\":[{\"id\":\"1805\"},{\"id\":\"1809\"}],\"height\":300,\"left\":[{\"id\":\"1806\"}],\"margin\":[5,5,5,5],\"min_border_bottom\":10,\"min_border_left\":10,\"min_border_right\":10,\"min_border_top\":10,\"renderers\":[{\"id\":\"1835\"},{\"id\":\"1856\"},{\"id\":\"1878\"},{\"id\":\"1902\"}],\"right\":[{\"id\":\"1847\"}],\"sizing_mode\":\"fixed\",\"title\":{\"id\":\"1794\"},\"toolbar\":{\"id\":\"1816\"},\"width\":700,\"x_range\":{\"id\":\"1787\"},\"x_scale\":{\"id\":\"1798\"},\"y_range\":{\"id\":\"1788\"},\"y_scale\":{\"id\":\"1800\"}},\"id\":\"1793\",\"subtype\":\"Figure\",\"type\":\"Plot\"},{\"attributes\":{\"fill_alpha\":{\"value\":0.2},\"fill_color\":{\"value\":\"#30a2da\"},\"hatch_alpha\":{\"value\":0.2},\"hatch_color\":{\"value\":\"#30a2da\"},\"line_alpha\":{\"value\":0.2},\"line_color\":{\"value\":\"#30a2da\"},\"size\":{\"value\":5.477225575051661},\"x\":{\"field\":\"Annual Income\"},\"y\":{\"field\":\"Spending Score\"}},\"id\":\"1834\",\"type\":\"Scatter\"},{\"attributes\":{\"data\":{\"Annual Income\":{\"__ndarray__\":\"AAAAAAAALkAAAAAAAAAuQAAAAAAAADBAAAAAAAAAMUAAAAAAAAAyQAAAAAAAADNAAAAAAAAAM0AAAAAAAAA0QAAAAAAAADRAAAAAAAAANUAAAAAAAAA3QAAAAAAAADhAAAAAAAAAOUAAAAAAAAA8QAAAAAAAADxAAAAAAAAAPUAAAAAAAAA+QAAAAAAAgEBAAAAAAACAQEAAAAAAAABBQAAAAAAAgEJAAAAAAAAAQ0AAAAAAAIBDQAAAAAAAgENAAAAAAAAARUAAAAAAAABHQAAAAAAAAEhAAAAAAAAASEA=\",\"dtype\":\"float64\",\"order\":\"little\",\"shape\":[28]},\"Annual_Income\":{\"__ndarray__\":\"AAAAAAAALkAAAAAAAAAuQAAAAAAAADBAAAAAAAAAMUAAAAAAAAAyQAAAAAAAADNAAAAAAAAAM0AAAAAAAAA0QAAAAAAAADRAAAAAAAAANUAAAAAAAAA3QAAAAAAAADhAAAAAAAAAOUAAAAAAAAA8QAAAAAAAADxAAAAAAAAAPUAAAAAAAAA+QAAAAAAAgEBAAAAAAACAQEAAAAAAAABBQAAAAAAAgEJAAAAAAAAAQ0AAAAAAAIBDQAAAAAAAgENAAAAAAAAARUAAAAAAAABHQAAAAAAAAEhAAAAAAAAASEA=\",\"dtype\":\"float64\",\"order\":\"little\",\"shape\":[28]},\"Customer_Segment_left_parenthesis_k_equals_4_right_parenthesis\":[2,2,2,2,2,2,2,2,2,2,2,2,2,2,2,2,2,2,2,2,2,2,2,2,2,2,2,2],\"Spending Score\":[39,81,77,76,94,72,99,77,79,66,98,73,73,82,61,87,73,92,81,73,75,92,61,65,60,55,59,59],\"Spending_Score\":[39,81,77,76,94,72,99,77,79,66,98,73,73,82,61,87,73,92,81,73,75,92,61,65,60,55,59,59]},\"selected\":{\"id\":\"1873\"},\"selection_policy\":{\"id\":\"1891\"}},\"id\":\"1872\",\"type\":\"ColumnDataSource\"},{\"attributes\":{\"fill_color\":{\"value\":\"#6d904f\"},\"hatch_color\":{\"value\":\"#6d904f\"},\"line_color\":{\"value\":\"#6d904f\"},\"size\":{\"value\":5.477225575051661},\"x\":{\"field\":\"Annual Income\"},\"y\":{\"field\":\"Spending Score\"}},\"id\":\"1899\",\"type\":\"Scatter\"},{\"attributes\":{\"data\":{\"Annual Income\":{\"__ndarray__\":\"AAAAAAAAMEAAAAAAAAAxQAAAAAAAADJAAAAAAAAAM0AAAAAAAAAzQAAAAAAAADRAAAAAAAAANEAAAAAAAAA1QAAAAAAAADdAAAAAAAAAOEAAAAAAAAA5QAAAAAAAADxAAAAAAAAAPEAAAAAAAAA9QAAAAAAAAD5AAAAAAACAQEAAAAAAAIBAQAAAAAAAAEFAAAAAAACAQkAAAAAAAABDQAAAAAAAgENAAAAAAACAQ0AAAAAAAABEQAAAAAAAAERAAAAAAAAAREAAAAAAAABEQAAAAAAAAEVAAAAAAACARUAAAAAAAIBFQAAAAAAAgEVAAAAAAACARUAAAAAAAABGQAAAAAAAAEZAAAAAAAAAR0AAAAAAAABHQAAAAAAAAEdAAAAAAACAR0AAAAAAAIBHQAAAAAAAAEhAAAAAAAAASEAAAAAAAABIQAAAAAAAAEhAAAAAAACASEAAAAAAAIBIQAAAAAAAAElAAAAAAAAASUAAAAAAAABLQAAAAAAAAEtAAAAAAAAAS0AAAAAAAABLQAAAAAAAAEtAAAAAAAAAS0AAAAAAAABLQAAAAAAAAEtAAAAAAAAAS0AAAAAAAABLQAAAAAAAAEtAAAAAAAAAS0AAAAAAAIBMQAAAAAAAgExAAAAAAAAATUAAAAAAAABNQAAAAAAAgE1AAAAAAACATUAAAAAAAABOQAAAAAAAAE5AAAAAAAAATkAAAAAAAABOQAAAAAAAAE5AAAAAAAAATkAAAAAAAIBOQAAAAAAAgE5AAAAAAAAAT0AAAAAAAABPQAAAAAAAAE9AAAAAAAAAT0AAAAAAAABPQAAAAAAAAE9AAAAAAACAT0AAAAAAAIBPQAAAAAAAgE9AAAAAAACAT0AAAAAAAIBPQAAAAAAAgE9AAAAAAAAAUEAAAAAAAABQQAAAAAAAQFBAAAAAAABAUEAAAAAAAEBQQAAAAAAAQFBAAAAAAADAUEAAAAAAAMBQQAAAAAAAwFBAAAAAAADAUEAAAAAAAEBRQA==\",\"dtype\":\"float64\",\"order\":\"little\",\"shape\":[95]},\"Annual_Income\":{\"__ndarray__\":\"AAAAAAAAMEAAAAAAAAAxQAAAAAAAADJAAAAAAAAAM0AAAAAAAAAzQAAAAAAAADRAAAAAAAAANEAAAAAAAAA1QAAAAAAAADdAAAAAAAAAOEAAAAAAAAA5QAAAAAAAADxAAAAAAAAAPEAAAAAAAAA9QAAAAAAAAD5AAAAAAACAQEAAAAAAAIBAQAAAAAAAAEFAAAAAAACAQkAAAAAAAABDQAAAAAAAgENAAAAAAACAQ0AAAAAAAABEQAAAAAAAAERAAAAAAAAAREAAAAAAAABEQAAAAAAAAEVAAAAAAACARUAAAAAAAIBFQAAAAAAAgEVAAAAAAACARUAAAAAAAABGQAAAAAAAAEZAAAAAAAAAR0AAAAAAAABHQAAAAAAAAEdAAAAAAACAR0AAAAAAAIBHQAAAAAAAAEhAAAAAAAAASEAAAAAAAABIQAAAAAAAAEhAAAAAAACASEAAAAAAAIBIQAAAAAAAAElAAAAAAAAASUAAAAAAAABLQAAAAAAAAEtAAAAAAAAAS0AAAAAAAABLQAAAAAAAAEtAAAAAAAAAS0AAAAAAAABLQAAAAAAAAEtAAAAAAAAAS0AAAAAAAABLQAAAAAAAAEtAAAAAAAAAS0AAAAAAAIBMQAAAAAAAgExAAAAAAAAATUAAAAAAAABNQAAAAAAAgE1AAAAAAACATUAAAAAAAABOQAAAAAAAAE5AAAAAAAAATkAAAAAAAABOQAAAAAAAAE5AAAAAAAAATkAAAAAAAIBOQAAAAAAAgE5AAAAAAAAAT0AAAAAAAABPQAAAAAAAAE9AAAAAAAAAT0AAAAAAAABPQAAAAAAAAE9AAAAAAACAT0AAAAAAAIBPQAAAAAAAgE9AAAAAAACAT0AAAAAAAIBPQAAAAAAAgE9AAAAAAAAAUEAAAAAAAABQQAAAAAAAQFBAAAAAAABAUEAAAAAAAEBQQAAAAAAAQFBAAAAAAADAUEAAAAAAAMBQQAAAAAAAwFBAAAAAAADAUEAAAAAAAEBRQA==\",\"dtype\":\"float64\",\"order\":\"little\",\"shape\":[95]},\"Customer_Segment_left_parenthesis_k_equals_4_right_parenthesis\":[1,1,1,1,1,1,1,1,1,1,1,1,1,1,1,1,1,1,1,1,1,1,1,1,1,1,1,1,1,1,1,1,1,1,1,1,1,1,1,1,1,1,1,1,1,1,1,1,1,1,1,1,1,1,1,1,1,1,1,1,1,1,1,1,1,1,1,1,1,1,1,1,1,1,1,1,1,1,1,1,1,1,1,1,1,1,1,1,1,1,1,1,1,1,1],\"Spending Score\":[6,40,6,3,14,15,13,35,29,35,5,14,32,31,4,4,14,17,26,35,36,28,55,47,42,42,52,54,60,45,41,50,46,51,46,56,52,59,51,50,48,47,55,42,49,56,47,54,53,48,52,42,51,55,41,44,57,46,58,55,60,46,55,41,49,40,42,52,47,50,42,49,41,48,59,55,56,42,50,46,43,48,52,54,42,46,48,50,43,59,43,57,56,40,58],\"Spending_Score\":[6,40,6,3,14,15,13,35,29,35,5,14,32,31,4,4,14,17,26,35,36,28,55,47,42,42,52,54,60,45,41,50,46,51,46,56,52,59,51,50,48,47,55,42,49,56,47,54,53,48,52,42,51,55,41,44,57,46,58,55,60,46,55,41,49,40,42,52,47,50,42,49,41,48,59,55,56,42,50,46,43,48,52,54,42,46,48,50,43,59,43,57,56,40,58]},\"selected\":{\"id\":\"1851\"},\"selection_policy\":{\"id\":\"1867\"}},\"id\":\"1850\",\"type\":\"ColumnDataSource\"},{\"attributes\":{},\"id\":\"1824\",\"type\":\"BasicTickFormatter\"},{\"attributes\":{\"margin\":[5,5,5,5],\"name\":\"HSpacer03402\",\"sizing_mode\":\"stretch_width\"},\"id\":\"2066\",\"type\":\"Spacer\"},{\"attributes\":{\"angle\":{\"value\":0.0},\"fill_alpha\":{\"value\":1.0},\"fill_color\":{\"value\":\"#6d904f\"},\"hatch_alpha\":{\"value\":1.0},\"hatch_color\":{\"value\":\"#6d904f\"},\"hatch_scale\":{\"value\":12.0},\"hatch_weight\":{\"value\":1.0},\"line_alpha\":{\"value\":1.0},\"line_cap\":{\"value\":\"butt\"},\"line_color\":{\"value\":\"#6d904f\"},\"line_dash\":{\"value\":[]},\"line_dash_offset\":{\"value\":0},\"line_join\":{\"value\":\"bevel\"},\"line_width\":{\"value\":1},\"marker\":{\"value\":\"circle\"},\"size\":{\"value\":5.477225575051661},\"x\":{\"field\":\"Annual Income\"},\"y\":{\"field\":\"Spending Score\"}},\"id\":\"1921\",\"type\":\"Scatter\"},{\"attributes\":{\"label\":{\"value\":\"2\"},\"renderers\":[{\"id\":\"1878\"}]},\"id\":\"1894\",\"type\":\"LegendItem\"},{\"attributes\":{},\"id\":\"1800\",\"type\":\"LinearScale\"},{\"attributes\":{\"fill_alpha\":{\"value\":0.1},\"fill_color\":{\"value\":\"#30a2da\"},\"hatch_alpha\":{\"value\":0.1},\"hatch_color\":{\"value\":\"#30a2da\"},\"line_alpha\":{\"value\":0.1},\"line_color\":{\"value\":\"#30a2da\"},\"size\":{\"value\":5.477225575051661},\"x\":{\"field\":\"Annual Income\"},\"y\":{\"field\":\"Spending Score\"}},\"id\":\"1833\",\"type\":\"Scatter\"},{\"attributes\":{\"coordinates\":null,\"group\":null,\"text\":\"Scatter Plot by Stock Segment - k=4\",\"text_color\":\"black\",\"text_font_size\":\"12pt\"},\"id\":\"1794\",\"type\":\"Title\"},{\"attributes\":{\"coordinates\":null,\"data_source\":{\"id\":\"1850\"},\"glyph\":{\"id\":\"1853\"},\"group\":null,\"hover_glyph\":null,\"muted_glyph\":{\"id\":\"1855\"},\"nonselection_glyph\":{\"id\":\"1854\"},\"selection_glyph\":{\"id\":\"1871\"},\"view\":{\"id\":\"1857\"}},\"id\":\"1856\",\"type\":\"GlyphRenderer\"},{\"attributes\":{\"angle\":{\"value\":0.0},\"fill_alpha\":{\"value\":1.0},\"fill_color\":{\"value\":\"#fc4f30\"},\"hatch_alpha\":{\"value\":1.0},\"hatch_color\":{\"value\":\"#fc4f30\"},\"hatch_scale\":{\"value\":12.0},\"hatch_weight\":{\"value\":1.0},\"line_alpha\":{\"value\":1.0},\"line_cap\":{\"value\":\"butt\"},\"line_color\":{\"value\":\"#fc4f30\"},\"line_dash\":{\"value\":[]},\"line_dash_offset\":{\"value\":0},\"line_join\":{\"value\":\"bevel\"},\"line_width\":{\"value\":1},\"marker\":{\"value\":\"circle\"},\"size\":{\"value\":5.477225575051661},\"x\":{\"field\":\"Annual Income\"},\"y\":{\"field\":\"Spending Score\"}},\"id\":\"1871\",\"type\":\"Scatter\"},{\"attributes\":{},\"id\":\"1867\",\"type\":\"UnionRenderers\"},{\"attributes\":{},\"id\":\"1827\",\"type\":\"BasicTickFormatter\"},{\"attributes\":{\"fill_alpha\":{\"value\":0.1},\"fill_color\":{\"value\":\"#fc4f30\"},\"hatch_alpha\":{\"value\":0.1},\"hatch_color\":{\"value\":\"#fc4f30\"},\"line_alpha\":{\"value\":0.1},\"line_color\":{\"value\":\"#fc4f30\"},\"size\":{\"value\":5.477225575051661},\"x\":{\"field\":\"Annual Income\"},\"y\":{\"field\":\"Spending Score\"}},\"id\":\"1854\",\"type\":\"Scatter\"},{\"attributes\":{\"axis_label\":\"Annual Income\",\"coordinates\":null,\"formatter\":{\"id\":\"1824\"},\"group\":null,\"major_label_policy\":{\"id\":\"1825\"},\"ticker\":{\"id\":\"1803\"}},\"id\":\"1802\",\"type\":\"LinearAxis\"},{\"attributes\":{\"source\":{\"id\":\"1850\"}},\"id\":\"1857\",\"type\":\"CDSView\"},{\"attributes\":{},\"id\":\"1798\",\"type\":\"LinearScale\"},{\"attributes\":{\"axis\":{\"id\":\"1806\"},\"coordinates\":null,\"dimension\":1,\"grid_line_color\":null,\"group\":null,\"ticker\":null},\"id\":\"1809\",\"type\":\"Grid\"},{\"attributes\":{\"fill_color\":{\"value\":\"#fc4f30\"},\"hatch_color\":{\"value\":\"#fc4f30\"},\"line_color\":{\"value\":\"#fc4f30\"},\"size\":{\"value\":5.477225575051661},\"x\":{\"field\":\"Annual Income\"},\"y\":{\"field\":\"Spending Score\"}},\"id\":\"1853\",\"type\":\"Scatter\"},{\"attributes\":{\"axis\":{\"id\":\"1802\"},\"coordinates\":null,\"grid_line_color\":null,\"group\":null,\"ticker\":null},\"id\":\"1805\",\"type\":\"Grid\"},{\"attributes\":{\"data\":{\"Annual Income\":{\"__ndarray__\":\"AAAAAABAUUAAAAAAAIBRQAAAAAAAwFFAAAAAAADAUUAAAAAAAMBRQAAAAAAAAFJAAAAAAABAUkAAAAAAAEBSQAAAAAAAgFJAAAAAAADAUkAAAAAAAABTQAAAAAAAQFNAAAAAAABAU0AAAAAAAIBTQAAAAAAAgFNAAAAAAACAU0AAAAAAAIBTQAAAAAAAgFNAAAAAAACAU0AAAAAAAMBTQAAAAAAAQFRAAAAAAABAVUAAAAAAAIBVQAAAAAAAwFVAAAAAAADAVUAAAAAAAMBVQAAAAAAAAFZAAAAAAAAAVkAAAAAAAEBXQAAAAAAAQFhAAAAAAACAWEAAAAAAAMBYQAAAAAAAQFlAAAAAAADAWUAAAAAAAMBZQAAAAAAAQFxAAAAAAAAAXkAAAAAAAIBfQAAAAAAAIGFA\",\"dtype\":\"float64\",\"order\":\"little\",\"shape\":[39]},\"Annual_Income\":{\"__ndarray__\":\"AAAAAABAUUAAAAAAAIBRQAAAAAAAwFFAAAAAAADAUUAAAAAAAMBRQAAAAAAAAFJAAAAAAABAUkAAAAAAAEBSQAAAAAAAgFJAAAAAAADAUkAAAAAAAABTQAAAAAAAQFNAAAAAAABAU0AAAAAAAIBTQAAAAAAAgFNAAAAAAACAU0AAAAAAAIBTQAAAAAAAgFNAAAAAAACAU0AAAAAAAMBTQAAAAAAAQFRAAAAAAABAVUAAAAAAAIBVQAAAAAAAwFVAAAAAAADAVUAAAAAAAMBVQAAAAAAAAFZAAAAAAAAAVkAAAAAAAEBXQAAAAAAAQFhAAAAAAACAWEAAAAAAAMBYQAAAAAAAQFlAAAAAAADAWUAAAAAAAMBZQAAAAAAAQFxAAAAAAAAAXkAAAAAAAIBfQAAAAAAAIGFA\",\"dtype\":\"float64\",\"order\":\"little\",\"shape\":[39]},\"Customer_Segment_left_parenthesis_k_equals_4_right_parenthesis\":[0,0,0,0,0,0,0,0,0,0,0,0,0,0,0,0,0,0,0,0,0,0,0,0,0,0,0,0,0,0,0,0,0,0,0,0,0,0,0],\"Spending Score\":[91,77,95,75,75,71,88,73,72,93,87,97,74,90,88,76,89,78,73,83,93,75,95,63,75,92,86,69,90,86,88,97,68,85,69,91,79,74,83],\"Spending_Score\":[91,77,95,75,75,71,88,73,72,93,87,97,74,90,88,76,89,78,73,83,93,75,95,63,75,92,86,69,90,86,88,97,68,85,69,91,79,74,83]},\"selected\":{\"id\":\"1830\"},\"selection_policy\":{\"id\":\"1844\"}},\"id\":\"1829\",\"type\":\"ColumnDataSource\"},{\"attributes\":{},\"id\":\"1807\",\"type\":\"BasicTicker\"},{\"attributes\":{\"axis_label\":\"Spending Score\",\"coordinates\":null,\"formatter\":{\"id\":\"1827\"},\"group\":null,\"major_label_policy\":{\"id\":\"1828\"},\"ticker\":{\"id\":\"1807\"}},\"id\":\"1806\",\"type\":\"LinearAxis\"},{\"attributes\":{\"fill_color\":{\"value\":\"#e5ae38\"},\"hatch_color\":{\"value\":\"#e5ae38\"},\"line_color\":{\"value\":\"#e5ae38\"},\"size\":{\"value\":5.477225575051661},\"x\":{\"field\":\"Annual Income\"},\"y\":{\"field\":\"Spending Score\"}},\"id\":\"1875\",\"type\":\"Scatter\"},{\"attributes\":{},\"id\":\"1873\",\"type\":\"Selection\"},{\"attributes\":{},\"id\":\"1844\",\"type\":\"UnionRenderers\"}],\"root_ids\":[\"1785\"]},\"title\":\"Bokeh Application\",\"version\":\"2.4.3\"}};\n",
       "    var render_items = [{\"docid\":\"65bcd68d-1fac-4477-b83f-bad665870fdb\",\"root_ids\":[\"1785\"],\"roots\":{\"1785\":\"e0c5fb6d-7753-4b5c-a052-6eb2e896737c\"}}];\n",
       "    root.Bokeh.embed.embed_items_notebook(docs_json, render_items);\n",
       "  }\n",
       "  if (root.Bokeh !== undefined && root.Bokeh.Panel !== undefined) {\n",
       "    embed_document(root);\n",
       "  } else {\n",
       "    var attempts = 0;\n",
       "    var timer = setInterval(function(root) {\n",
       "      if (root.Bokeh !== undefined && root.Bokeh.Panel !== undefined) {\n",
       "        clearInterval(timer);\n",
       "        embed_document(root);\n",
       "      } else if (document.readyState == \"complete\") {\n",
       "        attempts++;\n",
       "        if (attempts > 200) {\n",
       "          clearInterval(timer);\n",
       "          console.log(\"Bokeh: ERROR: Unable to run BokehJS code because BokehJS library is missing\");\n",
       "        }\n",
       "      }\n",
       "    }, 25, root)\n",
       "  }\n",
       "})(window);</script>"
      ],
      "text/plain": [
       ":NdOverlay   [Customer Segment (k=4)]\n",
       "   :Scatter   [Annual Income]   (Spending Score)"
      ]
     },
     "execution_count": 39,
     "metadata": {
      "application/vnd.holoviews_exec.v0+json": {
       "id": "1785"
      }
     },
     "output_type": "execute_result"
    }
   ],
   "source": [
    "# Create a scatter plot with with x=\"Annual Income\" and y=\"Spending Score (1-100)\" with k=4 segments\n",
    "df_shopping_predictions.hvplot.scatter(\n",
    "    x=\"Annual Income\", \n",
    "    y=\"Spending Score\", \n",
    "    by=\"Customer Segment (k=4)\",\n",
    "    title = \"Scatter Plot by Stock Segment - k=4\"\n",
    ")"
   ]
  },
  {
   "cell_type": "code",
   "execution_count": 40,
   "metadata": {},
   "outputs": [
    {
     "data": {},
     "metadata": {},
     "output_type": "display_data"
    },
    {
     "data": {
      "application/vnd.holoviews_exec.v0+json": "",
      "text/html": [
       "<div id='2148'>\n",
       "  <div class=\"bk-root\" id=\"d67c7479-24f8-4e08-b78c-0d9dc209f157\" data-root-id=\"2148\"></div>\n",
       "</div>\n",
       "<script type=\"application/javascript\">(function(root) {\n",
       "  function embed_document(root) {\n",
       "    var docs_json = {\"0610affa-02ac-4e63-b02c-c9ed70a295a2\":{\"defs\":[{\"extends\":null,\"module\":null,\"name\":\"ReactiveHTML1\",\"overrides\":[],\"properties\":[]},{\"extends\":null,\"module\":null,\"name\":\"FlexBox1\",\"overrides\":[],\"properties\":[{\"default\":\"flex-start\",\"kind\":null,\"name\":\"align_content\"},{\"default\":\"flex-start\",\"kind\":null,\"name\":\"align_items\"},{\"default\":\"row\",\"kind\":null,\"name\":\"flex_direction\"},{\"default\":\"wrap\",\"kind\":null,\"name\":\"flex_wrap\"},{\"default\":\"flex-start\",\"kind\":null,\"name\":\"justify_content\"}]},{\"extends\":null,\"module\":null,\"name\":\"GridStack1\",\"overrides\":[],\"properties\":[{\"default\":\"warn\",\"kind\":null,\"name\":\"mode\"},{\"default\":null,\"kind\":null,\"name\":\"ncols\"},{\"default\":null,\"kind\":null,\"name\":\"nrows\"},{\"default\":true,\"kind\":null,\"name\":\"allow_resize\"},{\"default\":true,\"kind\":null,\"name\":\"allow_drag\"},{\"default\":[],\"kind\":null,\"name\":\"state\"}]},{\"extends\":null,\"module\":null,\"name\":\"click1\",\"overrides\":[],\"properties\":[{\"default\":\"\",\"kind\":null,\"name\":\"terminal_output\"},{\"default\":\"\",\"kind\":null,\"name\":\"debug_name\"},{\"default\":0,\"kind\":null,\"name\":\"clears\"}]},{\"extends\":null,\"module\":null,\"name\":\"TemplateActions1\",\"overrides\":[],\"properties\":[{\"default\":0,\"kind\":null,\"name\":\"open_modal\"},{\"default\":0,\"kind\":null,\"name\":\"close_modal\"}]},{\"extends\":null,\"module\":null,\"name\":\"MaterialTemplateActions1\",\"overrides\":[],\"properties\":[{\"default\":0,\"kind\":null,\"name\":\"open_modal\"},{\"default\":0,\"kind\":null,\"name\":\"close_modal\"}]}],\"roots\":{\"references\":[{\"attributes\":{},\"id\":\"2176\",\"type\":\"WheelZoomTool\"},{\"attributes\":{},\"id\":\"2189\",\"type\":\"AllLabels\"},{\"attributes\":{\"tools\":[{\"id\":\"2152\"},{\"id\":\"2174\"},{\"id\":\"2175\"},{\"id\":\"2176\"},{\"id\":\"2177\"},{\"id\":\"2178\"}]},\"id\":\"2180\",\"type\":\"Toolbar\"},{\"attributes\":{\"angle\":{\"value\":0.0},\"fill_alpha\":{\"value\":1.0},\"fill_color\":{\"value\":\"#e5ae38\"},\"hatch_alpha\":{\"value\":1.0},\"hatch_color\":{\"value\":\"#e5ae38\"},\"hatch_scale\":{\"value\":12.0},\"hatch_weight\":{\"value\":1.0},\"line_alpha\":{\"value\":1.0},\"line_cap\":{\"value\":\"butt\"},\"line_color\":{\"value\":\"#e5ae38\"},\"line_dash\":{\"value\":[]},\"line_dash_offset\":{\"value\":0},\"line_join\":{\"value\":\"bevel\"},\"line_width\":{\"value\":1},\"marker\":{\"value\":\"circle\"},\"size\":{\"value\":5.477225575051661},\"x\":{\"field\":\"Annual Income\"},\"y\":{\"field\":\"Spending Score\"}},\"id\":\"2259\",\"type\":\"Scatter\"},{\"attributes\":{\"end\":108.8,\"reset_end\":108.8,\"reset_start\":-8.8,\"start\":-8.8,\"tags\":[[[\"Spending Score\",\"Spending Score\",null]]]},\"id\":\"2151\",\"type\":\"Range1d\"},{\"attributes\":{\"overlay\":{\"id\":\"2179\"}},\"id\":\"2177\",\"type\":\"BoxZoomTool\"},{\"attributes\":{\"below\":[{\"id\":\"2166\"}],\"center\":[{\"id\":\"2169\"},{\"id\":\"2173\"}],\"height\":300,\"left\":[{\"id\":\"2170\"}],\"margin\":[5,5,5,5],\"min_border_bottom\":10,\"min_border_left\":10,\"min_border_right\":10,\"min_border_top\":10,\"renderers\":[{\"id\":\"2199\"},{\"id\":\"2220\"},{\"id\":\"2242\"},{\"id\":\"2266\"},{\"id\":\"2292\"}],\"right\":[{\"id\":\"2211\"}],\"sizing_mode\":\"fixed\",\"title\":{\"id\":\"2158\"},\"toolbar\":{\"id\":\"2180\"},\"width\":700,\"x_range\":{\"id\":\"2150\"},\"x_scale\":{\"id\":\"2162\"},\"y_range\":{\"id\":\"2151\"},\"y_scale\":{\"id\":\"2164\"}},\"id\":\"2157\",\"subtype\":\"Figure\",\"type\":\"Plot\"},{\"attributes\":{\"fill_alpha\":{\"value\":0.1},\"fill_color\":{\"value\":\"#6d904f\"},\"hatch_alpha\":{\"value\":0.1},\"hatch_color\":{\"value\":\"#6d904f\"},\"line_alpha\":{\"value\":0.1},\"line_color\":{\"value\":\"#6d904f\"},\"size\":{\"value\":5.477225575051661},\"x\":{\"field\":\"Annual Income\"},\"y\":{\"field\":\"Spending Score\"}},\"id\":\"2264\",\"type\":\"Scatter\"},{\"attributes\":{},\"id\":\"2191\",\"type\":\"BasicTickFormatter\"},{\"attributes\":{\"fill_alpha\":{\"value\":0.2},\"fill_color\":{\"value\":\"#6d904f\"},\"hatch_alpha\":{\"value\":0.2},\"hatch_color\":{\"value\":\"#6d904f\"},\"line_alpha\":{\"value\":0.2},\"line_color\":{\"value\":\"#6d904f\"},\"size\":{\"value\":5.477225575051661},\"x\":{\"field\":\"Annual Income\"},\"y\":{\"field\":\"Spending Score\"}},\"id\":\"2265\",\"type\":\"Scatter\"},{\"attributes\":{},\"id\":\"2178\",\"type\":\"ResetTool\"},{\"attributes\":{\"coordinates\":null,\"data_source\":{\"id\":\"2260\"},\"glyph\":{\"id\":\"2263\"},\"group\":null,\"hover_glyph\":null,\"muted_glyph\":{\"id\":\"2265\"},\"nonselection_glyph\":{\"id\":\"2264\"},\"selection_glyph\":{\"id\":\"2285\"},\"view\":{\"id\":\"2267\"}},\"id\":\"2266\",\"type\":\"GlyphRenderer\"},{\"attributes\":{\"end\":142.22857142857143,\"reset_end\":142.22857142857143,\"reset_start\":9.771428571428572,\"start\":9.771428571428572,\"tags\":[[[\"Annual Income\",\"Annual Income\",null]]]},\"id\":\"2150\",\"type\":\"Range1d\"},{\"attributes\":{\"bottom_units\":\"screen\",\"coordinates\":null,\"fill_alpha\":0.5,\"fill_color\":\"lightgrey\",\"group\":null,\"left_units\":\"screen\",\"level\":\"overlay\",\"line_alpha\":1.0,\"line_color\":\"black\",\"line_dash\":[4,4],\"line_width\":2,\"right_units\":\"screen\",\"syncable\":false,\"top_units\":\"screen\"},\"id\":\"2179\",\"type\":\"BoxAnnotation\"},{\"attributes\":{\"angle\":{\"value\":0.0},\"fill_alpha\":{\"value\":1.0},\"fill_color\":{\"value\":\"#6d904f\"},\"hatch_alpha\":{\"value\":1.0},\"hatch_color\":{\"value\":\"#6d904f\"},\"hatch_scale\":{\"value\":12.0},\"hatch_weight\":{\"value\":1.0},\"line_alpha\":{\"value\":1.0},\"line_cap\":{\"value\":\"butt\"},\"line_color\":{\"value\":\"#6d904f\"},\"line_dash\":{\"value\":[]},\"line_dash_offset\":{\"value\":0},\"line_join\":{\"value\":\"bevel\"},\"line_width\":{\"value\":1},\"marker\":{\"value\":\"circle\"},\"size\":{\"value\":5.477225575051661},\"x\":{\"field\":\"Annual Income\"},\"y\":{\"field\":\"Spending Score\"}},\"id\":\"2285\",\"type\":\"Scatter\"},{\"attributes\":{},\"id\":\"2261\",\"type\":\"Selection\"},{\"attributes\":{\"children\":[{\"id\":\"2149\"},{\"id\":\"2157\"},{\"id\":\"2476\"}],\"margin\":[0,0,0,0],\"name\":\"Row04187\",\"tags\":[\"embedded\"]},\"id\":\"2148\",\"type\":\"Row\"},{\"attributes\":{},\"id\":\"2208\",\"type\":\"UnionRenderers\"},{\"attributes\":{\"label\":{\"value\":\"0\"},\"renderers\":[{\"id\":\"2199\"}]},\"id\":\"2212\",\"type\":\"LegendItem\"},{\"attributes\":{\"margin\":[5,5,5,5],\"name\":\"HSpacer04191\",\"sizing_mode\":\"stretch_width\"},\"id\":\"2149\",\"type\":\"Spacer\"},{\"attributes\":{},\"id\":\"2281\",\"type\":\"UnionRenderers\"},{\"attributes\":{\"source\":{\"id\":\"2260\"}},\"id\":\"2267\",\"type\":\"CDSView\"},{\"attributes\":{},\"id\":\"2287\",\"type\":\"Selection\"},{\"attributes\":{\"fill_color\":{\"value\":\"#6d904f\"},\"hatch_color\":{\"value\":\"#6d904f\"},\"line_color\":{\"value\":\"#6d904f\"},\"size\":{\"value\":5.477225575051661},\"x\":{\"field\":\"Annual Income\"},\"y\":{\"field\":\"Spending Score\"}},\"id\":\"2263\",\"type\":\"Scatter\"},{\"attributes\":{},\"id\":\"2162\",\"type\":\"LinearScale\"},{\"attributes\":{},\"id\":\"2167\",\"type\":\"BasicTicker\"},{\"attributes\":{\"label\":{\"value\":\"3\"},\"renderers\":[{\"id\":\"2266\"}]},\"id\":\"2284\",\"type\":\"LegendItem\"},{\"attributes\":{\"fill_alpha\":{\"value\":0.1},\"fill_color\":{\"value\":\"#8b8b8b\"},\"hatch_alpha\":{\"value\":0.1},\"hatch_color\":{\"value\":\"#8b8b8b\"},\"line_alpha\":{\"value\":0.1},\"line_color\":{\"value\":\"#8b8b8b\"},\"size\":{\"value\":5.477225575051661},\"x\":{\"field\":\"Annual Income\"},\"y\":{\"field\":\"Spending Score\"}},\"id\":\"2290\",\"type\":\"Scatter\"},{\"attributes\":{\"fill_alpha\":{\"value\":0.2},\"fill_color\":{\"value\":\"#fc4f30\"},\"hatch_alpha\":{\"value\":0.2},\"hatch_color\":{\"value\":\"#fc4f30\"},\"line_alpha\":{\"value\":0.2},\"line_color\":{\"value\":\"#fc4f30\"},\"size\":{\"value\":5.477225575051661},\"x\":{\"field\":\"Annual Income\"},\"y\":{\"field\":\"Spending Score\"}},\"id\":\"2219\",\"type\":\"Scatter\"},{\"attributes\":{\"fill_color\":{\"value\":\"#fc4f30\"},\"hatch_color\":{\"value\":\"#fc4f30\"},\"line_color\":{\"value\":\"#fc4f30\"},\"size\":{\"value\":5.477225575051661},\"x\":{\"field\":\"Annual Income\"},\"y\":{\"field\":\"Spending Score\"}},\"id\":\"2217\",\"type\":\"Scatter\"},{\"attributes\":{\"margin\":[5,5,5,5],\"name\":\"HSpacer04192\",\"sizing_mode\":\"stretch_width\"},\"id\":\"2476\",\"type\":\"Spacer\"},{\"attributes\":{\"angle\":{\"value\":0.0},\"fill_alpha\":{\"value\":1.0},\"fill_color\":{\"value\":\"#30a2da\"},\"hatch_alpha\":{\"value\":1.0},\"hatch_color\":{\"value\":\"#30a2da\"},\"hatch_scale\":{\"value\":12.0},\"hatch_weight\":{\"value\":1.0},\"line_alpha\":{\"value\":1.0},\"line_cap\":{\"value\":\"butt\"},\"line_color\":{\"value\":\"#30a2da\"},\"line_dash\":{\"value\":[]},\"line_dash_offset\":{\"value\":0},\"line_join\":{\"value\":\"bevel\"},\"line_width\":{\"value\":1},\"marker\":{\"value\":\"circle\"},\"size\":{\"value\":5.477225575051661},\"x\":{\"field\":\"Annual Income\"},\"y\":{\"field\":\"Spending Score\"}},\"id\":\"2213\",\"type\":\"Scatter\"},{\"attributes\":{\"fill_alpha\":{\"value\":0.2},\"fill_color\":{\"value\":\"#30a2da\"},\"hatch_alpha\":{\"value\":0.2},\"hatch_color\":{\"value\":\"#30a2da\"},\"line_alpha\":{\"value\":0.2},\"line_color\":{\"value\":\"#30a2da\"},\"size\":{\"value\":5.477225575051661},\"x\":{\"field\":\"Annual Income\"},\"y\":{\"field\":\"Spending Score\"}},\"id\":\"2198\",\"type\":\"Scatter\"},{\"attributes\":{\"angle\":{\"value\":0.0},\"fill_alpha\":{\"value\":1.0},\"fill_color\":{\"value\":\"#8b8b8b\"},\"hatch_alpha\":{\"value\":1.0},\"hatch_color\":{\"value\":\"#8b8b8b\"},\"hatch_scale\":{\"value\":12.0},\"hatch_weight\":{\"value\":1.0},\"line_alpha\":{\"value\":1.0},\"line_cap\":{\"value\":\"butt\"},\"line_color\":{\"value\":\"#8b8b8b\"},\"line_dash\":{\"value\":[]},\"line_dash_offset\":{\"value\":0},\"line_join\":{\"value\":\"bevel\"},\"line_width\":{\"value\":1},\"marker\":{\"value\":\"circle\"},\"size\":{\"value\":5.477225575051661},\"x\":{\"field\":\"Annual Income\"},\"y\":{\"field\":\"Spending Score\"}},\"id\":\"2313\",\"type\":\"Scatter\"},{\"attributes\":{\"source\":{\"id\":\"2214\"}},\"id\":\"2221\",\"type\":\"CDSView\"},{\"attributes\":{\"fill_alpha\":{\"value\":0.1},\"fill_color\":{\"value\":\"#30a2da\"},\"hatch_alpha\":{\"value\":0.1},\"hatch_color\":{\"value\":\"#30a2da\"},\"line_alpha\":{\"value\":0.1},\"line_color\":{\"value\":\"#30a2da\"},\"size\":{\"value\":5.477225575051661},\"x\":{\"field\":\"Annual Income\"},\"y\":{\"field\":\"Spending Score\"}},\"id\":\"2197\",\"type\":\"Scatter\"},{\"attributes\":{\"fill_color\":{\"value\":\"#30a2da\"},\"hatch_color\":{\"value\":\"#30a2da\"},\"line_color\":{\"value\":\"#30a2da\"},\"size\":{\"value\":5.477225575051661},\"x\":{\"field\":\"Annual Income\"},\"y\":{\"field\":\"Spending Score\"}},\"id\":\"2196\",\"type\":\"Scatter\"},{\"attributes\":{\"data\":{\"Annual Income\":{\"__ndarray__\":\"AAAAAAAALkAAAAAAAAAwQAAAAAAAADFAAAAAAAAAMkAAAAAAAAAzQAAAAAAAADNAAAAAAAAANEAAAAAAAAA0QAAAAAAAADVAAAAAAAAAN0AAAAAAAAA4QAAAAAAAADlAAAAAAAAAPEAAAAAAAAA8QAAAAAAAAD1AAAAAAAAAPkAAAAAAAIBAQAAAAAAAgEBAAAAAAAAAQUAAAAAAAIBCQAAAAAAAAENAAAAAAACAQ0AAAAAAAIBDQA==\",\"dtype\":\"float64\",\"order\":\"little\",\"shape\":[23]},\"Annual_Income\":{\"__ndarray__\":\"AAAAAAAALkAAAAAAAAAwQAAAAAAAADFAAAAAAAAAMkAAAAAAAAAzQAAAAAAAADNAAAAAAAAANEAAAAAAAAA0QAAAAAAAADVAAAAAAAAAN0AAAAAAAAA4QAAAAAAAADlAAAAAAAAAPEAAAAAAAAA8QAAAAAAAAD1AAAAAAAAAPkAAAAAAAIBAQAAAAAAAgEBAAAAAAAAAQUAAAAAAAIBCQAAAAAAAAENAAAAAAACAQ0AAAAAAAIBDQA==\",\"dtype\":\"float64\",\"order\":\"little\",\"shape\":[23]},\"Customer_Segment_left_parenthesis_k_equals_5_right_parenthesis\":[3,3,3,3,3,3,3,3,3,3,3,3,3,3,3,3,3,3,3,3,3,3,3],\"Spending Score\":[39,6,40,6,3,14,15,13,35,29,35,5,14,32,31,4,4,14,17,26,35,36,28],\"Spending_Score\":[39,6,40,6,3,14,15,13,35,29,35,5,14,32,31,4,4,14,17,26,35,36,28]},\"selected\":{\"id\":\"2261\"},\"selection_policy\":{\"id\":\"2281\"}},\"id\":\"2260\",\"type\":\"ColumnDataSource\"},{\"attributes\":{\"source\":{\"id\":\"2286\"}},\"id\":\"2293\",\"type\":\"CDSView\"},{\"attributes\":{},\"id\":\"2194\",\"type\":\"Selection\"},{\"attributes\":{},\"id\":\"2215\",\"type\":\"Selection\"},{\"attributes\":{\"angle\":{\"value\":0.0},\"fill_alpha\":{\"value\":1.0},\"fill_color\":{\"value\":\"#fc4f30\"},\"hatch_alpha\":{\"value\":1.0},\"hatch_color\":{\"value\":\"#fc4f30\"},\"hatch_scale\":{\"value\":12.0},\"hatch_weight\":{\"value\":1.0},\"line_alpha\":{\"value\":1.0},\"line_cap\":{\"value\":\"butt\"},\"line_color\":{\"value\":\"#fc4f30\"},\"line_dash\":{\"value\":[]},\"line_dash_offset\":{\"value\":0},\"line_join\":{\"value\":\"bevel\"},\"line_width\":{\"value\":1},\"marker\":{\"value\":\"circle\"},\"size\":{\"value\":5.477225575051661},\"x\":{\"field\":\"Annual Income\"},\"y\":{\"field\":\"Spending Score\"}},\"id\":\"2235\",\"type\":\"Scatter\"},{\"attributes\":{\"axis\":{\"id\":\"2166\"},\"coordinates\":null,\"grid_line_color\":null,\"group\":null,\"ticker\":null},\"id\":\"2169\",\"type\":\"Grid\"},{\"attributes\":{\"fill_alpha\":{\"value\":0.2},\"fill_color\":{\"value\":\"#8b8b8b\"},\"hatch_alpha\":{\"value\":0.2},\"hatch_color\":{\"value\":\"#8b8b8b\"},\"line_alpha\":{\"value\":0.2},\"line_color\":{\"value\":\"#8b8b8b\"},\"size\":{\"value\":5.477225575051661},\"x\":{\"field\":\"Annual Income\"},\"y\":{\"field\":\"Spending Score\"}},\"id\":\"2291\",\"type\":\"Scatter\"},{\"attributes\":{\"fill_alpha\":{\"value\":0.1},\"fill_color\":{\"value\":\"#fc4f30\"},\"hatch_alpha\":{\"value\":0.1},\"hatch_color\":{\"value\":\"#fc4f30\"},\"line_alpha\":{\"value\":0.1},\"line_color\":{\"value\":\"#fc4f30\"},\"size\":{\"value\":5.477225575051661},\"x\":{\"field\":\"Annual Income\"},\"y\":{\"field\":\"Spending Score\"}},\"id\":\"2218\",\"type\":\"Scatter\"},{\"attributes\":{},\"id\":\"2309\",\"type\":\"UnionRenderers\"},{\"attributes\":{},\"id\":\"2237\",\"type\":\"Selection\"},{\"attributes\":{\"coordinates\":null,\"data_source\":{\"id\":\"2286\"},\"glyph\":{\"id\":\"2289\"},\"group\":null,\"hover_glyph\":null,\"muted_glyph\":{\"id\":\"2291\"},\"nonselection_glyph\":{\"id\":\"2290\"},\"selection_glyph\":{\"id\":\"2313\"},\"view\":{\"id\":\"2293\"}},\"id\":\"2292\",\"type\":\"GlyphRenderer\"},{\"attributes\":{\"coordinates\":null,\"data_source\":{\"id\":\"2214\"},\"glyph\":{\"id\":\"2217\"},\"group\":null,\"hover_glyph\":null,\"muted_glyph\":{\"id\":\"2219\"},\"nonselection_glyph\":{\"id\":\"2218\"},\"selection_glyph\":{\"id\":\"2235\"},\"view\":{\"id\":\"2221\"}},\"id\":\"2220\",\"type\":\"GlyphRenderer\"},{\"attributes\":{\"axis\":{\"id\":\"2170\"},\"coordinates\":null,\"dimension\":1,\"grid_line_color\":null,\"group\":null,\"ticker\":null},\"id\":\"2173\",\"type\":\"Grid\"},{\"attributes\":{\"data\":{\"Annual Income\":{\"__ndarray__\":\"AAAAAABAUUAAAAAAAIBRQAAAAAAAwFFAAAAAAADAUUAAAAAAAMBRQAAAAAAAAFJAAAAAAABAUkAAAAAAAEBSQAAAAAAAgFJAAAAAAADAUkAAAAAAAABTQAAAAAAAQFNAAAAAAABAU0AAAAAAAIBTQAAAAAAAgFNAAAAAAACAU0AAAAAAAIBTQAAAAAAAgFNAAAAAAACAU0AAAAAAAMBTQAAAAAAAQFRAAAAAAABAVUAAAAAAAIBVQAAAAAAAwFVAAAAAAADAVUAAAAAAAMBVQAAAAAAAAFZAAAAAAAAAVkAAAAAAAEBXQAAAAAAAQFhAAAAAAACAWEAAAAAAAMBYQAAAAAAAQFlAAAAAAADAWUAAAAAAAMBZQAAAAAAAQFxAAAAAAAAAXkAAAAAAAIBfQAAAAAAAIGFA\",\"dtype\":\"float64\",\"order\":\"little\",\"shape\":[39]},\"Annual_Income\":{\"__ndarray__\":\"AAAAAABAUUAAAAAAAIBRQAAAAAAAwFFAAAAAAADAUUAAAAAAAMBRQAAAAAAAAFJAAAAAAABAUkAAAAAAAEBSQAAAAAAAgFJAAAAAAADAUkAAAAAAAABTQAAAAAAAQFNAAAAAAABAU0AAAAAAAIBTQAAAAAAAgFNAAAAAAACAU0AAAAAAAIBTQAAAAAAAgFNAAAAAAACAU0AAAAAAAMBTQAAAAAAAQFRAAAAAAABAVUAAAAAAAIBVQAAAAAAAwFVAAAAAAADAVUAAAAAAAMBVQAAAAAAAAFZAAAAAAAAAVkAAAAAAAEBXQAAAAAAAQFhAAAAAAACAWEAAAAAAAMBYQAAAAAAAQFlAAAAAAADAWUAAAAAAAMBZQAAAAAAAQFxAAAAAAAAAXkAAAAAAAIBfQAAAAAAAIGFA\",\"dtype\":\"float64\",\"order\":\"little\",\"shape\":[39]},\"Customer_Segment_left_parenthesis_k_equals_5_right_parenthesis\":[4,4,4,4,4,4,4,4,4,4,4,4,4,4,4,4,4,4,4,4,4,4,4,4,4,4,4,4,4,4,4,4,4,4,4,4,4,4,4],\"Spending Score\":[91,77,95,75,75,71,88,73,72,93,87,97,74,90,88,76,89,78,73,83,93,75,95,63,75,92,86,69,90,86,88,97,68,85,69,91,79,74,83],\"Spending_Score\":[91,77,95,75,75,71,88,73,72,93,87,97,74,90,88,76,89,78,73,83,93,75,95,63,75,92,86,69,90,86,88,97,68,85,69,91,79,74,83]},\"selected\":{\"id\":\"2287\"},\"selection_policy\":{\"id\":\"2309\"}},\"id\":\"2286\",\"type\":\"ColumnDataSource\"},{\"attributes\":{},\"id\":\"2164\",\"type\":\"LinearScale\"},{\"attributes\":{\"fill_color\":{\"value\":\"#8b8b8b\"},\"hatch_color\":{\"value\":\"#8b8b8b\"},\"line_color\":{\"value\":\"#8b8b8b\"},\"size\":{\"value\":5.477225575051661},\"x\":{\"field\":\"Annual Income\"},\"y\":{\"field\":\"Spending Score\"}},\"id\":\"2289\",\"type\":\"Scatter\"},{\"attributes\":{\"axis_label\":\"Annual Income\",\"coordinates\":null,\"formatter\":{\"id\":\"2188\"},\"group\":null,\"major_label_policy\":{\"id\":\"2189\"},\"ticker\":{\"id\":\"2167\"}},\"id\":\"2166\",\"type\":\"LinearAxis\"},{\"attributes\":{\"label\":{\"value\":\"4\"},\"renderers\":[{\"id\":\"2292\"}]},\"id\":\"2312\",\"type\":\"LegendItem\"},{\"attributes\":{\"fill_alpha\":{\"value\":0.2},\"fill_color\":{\"value\":\"#e5ae38\"},\"hatch_alpha\":{\"value\":0.2},\"hatch_color\":{\"value\":\"#e5ae38\"},\"line_alpha\":{\"value\":0.2},\"line_color\":{\"value\":\"#e5ae38\"},\"size\":{\"value\":5.477225575051661},\"x\":{\"field\":\"Annual Income\"},\"y\":{\"field\":\"Spending Score\"}},\"id\":\"2241\",\"type\":\"Scatter\"},{\"attributes\":{\"coordinates\":null,\"group\":null,\"text\":\"Scatter Plot by Stock Segment - k=5\",\"text_color\":\"black\",\"text_font_size\":\"12pt\"},\"id\":\"2158\",\"type\":\"Title\"},{\"attributes\":{\"coordinates\":null,\"data_source\":{\"id\":\"2236\"},\"glyph\":{\"id\":\"2239\"},\"group\":null,\"hover_glyph\":null,\"muted_glyph\":{\"id\":\"2241\"},\"nonselection_glyph\":{\"id\":\"2240\"},\"selection_glyph\":{\"id\":\"2259\"},\"view\":{\"id\":\"2243\"}},\"id\":\"2242\",\"type\":\"GlyphRenderer\"},{\"attributes\":{\"label\":{\"value\":\"1\"},\"renderers\":[{\"id\":\"2220\"}]},\"id\":\"2234\",\"type\":\"LegendItem\"},{\"attributes\":{\"label\":{\"value\":\"2\"},\"renderers\":[{\"id\":\"2242\"}]},\"id\":\"2258\",\"type\":\"LegendItem\"},{\"attributes\":{},\"id\":\"2188\",\"type\":\"BasicTickFormatter\"},{\"attributes\":{},\"id\":\"2255\",\"type\":\"UnionRenderers\"},{\"attributes\":{},\"id\":\"2171\",\"type\":\"BasicTicker\"},{\"attributes\":{\"axis_label\":\"Spending Score\",\"coordinates\":null,\"formatter\":{\"id\":\"2191\"},\"group\":null,\"major_label_policy\":{\"id\":\"2192\"},\"ticker\":{\"id\":\"2171\"}},\"id\":\"2170\",\"type\":\"LinearAxis\"},{\"attributes\":{\"data\":{\"Annual Income\":{\"__ndarray__\":\"AAAAAACAUUAAAAAAAMBRQAAAAAAAwFFAAAAAAAAAUkAAAAAAAEBSQAAAAAAAQFJAAAAAAACAUkAAAAAAAMBSQAAAAAAAAFNAAAAAAABAU0AAAAAAAEBTQAAAAAAAgFNAAAAAAACAU0AAAAAAAIBTQAAAAAAAgFNAAAAAAACAU0AAAAAAAIBTQAAAAAAAwFNAAAAAAABAVEAAAAAAAEBVQAAAAAAAgFVAAAAAAADAVUAAAAAAAMBVQAAAAAAAwFVAAAAAAAAAVkAAAAAAAABWQAAAAAAAQFdAAAAAAABAWEAAAAAAAIBYQAAAAAAAwFhAAAAAAABAWUAAAAAAAMBZQAAAAAAAwFlAAAAAAABAXEAAAAAAAABeQAAAAAAAgF9AAAAAAAAgYUA=\",\"dtype\":\"float64\",\"order\":\"little\",\"shape\":[37]},\"Annual_Income\":{\"__ndarray__\":\"AAAAAACAUUAAAAAAAMBRQAAAAAAAwFFAAAAAAAAAUkAAAAAAAEBSQAAAAAAAQFJAAAAAAACAUkAAAAAAAMBSQAAAAAAAAFNAAAAAAABAU0AAAAAAAEBTQAAAAAAAgFNAAAAAAACAU0AAAAAAAIBTQAAAAAAAgFNAAAAAAACAU0AAAAAAAIBTQAAAAAAAwFNAAAAAAABAVEAAAAAAAEBVQAAAAAAAgFVAAAAAAADAVUAAAAAAAMBVQAAAAAAAwFVAAAAAAAAAVkAAAAAAAABWQAAAAAAAQFdAAAAAAABAWEAAAAAAAIBYQAAAAAAAwFhAAAAAAABAWUAAAAAAAMBZQAAAAAAAwFlAAAAAAABAXEAAAAAAAABeQAAAAAAAgF9AAAAAAAAgYUA=\",\"dtype\":\"float64\",\"order\":\"little\",\"shape\":[37]},\"Customer_Segment_left_parenthesis_k_equals_5_right_parenthesis\":[1,1,1,1,1,1,1,1,1,1,1,1,1,1,1,1,1,1,1,1,1,1,1,1,1,1,1,1,1,1,1,1,1,1,1,1,1],\"Spending Score\":[29,11,9,34,5,7,10,5,40,12,36,22,17,20,16,1,1,35,5,26,20,27,13,10,13,15,14,32,15,39,24,17,23,8,16,28,18],\"Spending_Score\":[29,11,9,34,5,7,10,5,40,12,36,22,17,20,16,1,1,35,5,26,20,27,13,10,13,15,14,32,15,39,24,17,23,8,16,28,18]},\"selected\":{\"id\":\"2215\"},\"selection_policy\":{\"id\":\"2231\"}},\"id\":\"2214\",\"type\":\"ColumnDataSource\"},{\"attributes\":{\"data\":{\"Annual Income\":{\"__ndarray__\":\"AAAAAAAALkAAAAAAAAAwQAAAAAAAADFAAAAAAAAAMkAAAAAAAAAzQAAAAAAAADNAAAAAAAAANEAAAAAAAAA0QAAAAAAAADVAAAAAAAAAN0AAAAAAAAA4QAAAAAAAADlAAAAAAAAAPEAAAAAAAAA8QAAAAAAAAD1AAAAAAAAAPkAAAAAAAIBAQAAAAAAAgEBAAAAAAAAAQUAAAAAAAIBCQAAAAAAAAENAAAAAAACAQ0AAAAAAAIBDQA==\",\"dtype\":\"float64\",\"order\":\"little\",\"shape\":[23]},\"Annual_Income\":{\"__ndarray__\":\"AAAAAAAALkAAAAAAAAAwQAAAAAAAADFAAAAAAAAAMkAAAAAAAAAzQAAAAAAAADNAAAAAAAAANEAAAAAAAAA0QAAAAAAAADVAAAAAAAAAN0AAAAAAAAA4QAAAAAAAADlAAAAAAAAAPEAAAAAAAAA8QAAAAAAAAD1AAAAAAAAAPkAAAAAAAIBAQAAAAAAAgEBAAAAAAAAAQUAAAAAAAIBCQAAAAAAAAENAAAAAAACAQ0AAAAAAAIBDQA==\",\"dtype\":\"float64\",\"order\":\"little\",\"shape\":[23]},\"Customer_Segment_left_parenthesis_k_equals_5_right_parenthesis\":[0,0,0,0,0,0,0,0,0,0,0,0,0,0,0,0,0,0,0,0,0,0,0],\"Spending Score\":[81,77,76,94,72,99,77,79,66,98,73,73,82,61,87,73,92,81,73,75,92,61,65],\"Spending_Score\":[81,77,76,94,72,99,77,79,66,98,73,73,82,61,87,73,92,81,73,75,92,61,65]},\"selected\":{\"id\":\"2194\"},\"selection_policy\":{\"id\":\"2208\"}},\"id\":\"2193\",\"type\":\"ColumnDataSource\"},{\"attributes\":{},\"id\":\"2192\",\"type\":\"AllLabels\"},{\"attributes\":{\"fill_alpha\":{\"value\":0.1},\"fill_color\":{\"value\":\"#e5ae38\"},\"hatch_alpha\":{\"value\":0.1},\"hatch_color\":{\"value\":\"#e5ae38\"},\"line_alpha\":{\"value\":0.1},\"line_color\":{\"value\":\"#e5ae38\"},\"size\":{\"value\":5.477225575051661},\"x\":{\"field\":\"Annual Income\"},\"y\":{\"field\":\"Spending Score\"}},\"id\":\"2240\",\"type\":\"Scatter\"},{\"attributes\":{},\"id\":\"2231\",\"type\":\"UnionRenderers\"},{\"attributes\":{\"coordinates\":null,\"data_source\":{\"id\":\"2193\"},\"glyph\":{\"id\":\"2196\"},\"group\":null,\"hover_glyph\":null,\"muted_glyph\":{\"id\":\"2198\"},\"nonselection_glyph\":{\"id\":\"2197\"},\"selection_glyph\":{\"id\":\"2213\"},\"view\":{\"id\":\"2200\"}},\"id\":\"2199\",\"type\":\"GlyphRenderer\"},{\"attributes\":{\"source\":{\"id\":\"2236\"}},\"id\":\"2243\",\"type\":\"CDSView\"},{\"attributes\":{\"callback\":null,\"renderers\":[{\"id\":\"2199\"},{\"id\":\"2220\"},{\"id\":\"2242\"},{\"id\":\"2266\"},{\"id\":\"2292\"}],\"tags\":[\"hv_created\"],\"tooltips\":[[\"Customer Segment (k=5)\",\"@{Customer_Segment_left_parenthesis_k_equals_5_right_parenthesis}\"],[\"Annual Income\",\"@{Annual_Income}\"],[\"Spending Score\",\"@{Spending_Score}\"]]},\"id\":\"2152\",\"type\":\"HoverTool\"},{\"attributes\":{\"source\":{\"id\":\"2193\"}},\"id\":\"2200\",\"type\":\"CDSView\"},{\"attributes\":{\"data\":{\"Annual Income\":{\"__ndarray__\":\"AAAAAAAAREAAAAAAAABEQAAAAAAAAERAAAAAAAAAREAAAAAAAABFQAAAAAAAAEVAAAAAAACARUAAAAAAAIBFQAAAAAAAgEVAAAAAAACARUAAAAAAAABGQAAAAAAAAEZAAAAAAAAAR0AAAAAAAABHQAAAAAAAAEdAAAAAAAAAR0AAAAAAAIBHQAAAAAAAgEdAAAAAAAAASEAAAAAAAABIQAAAAAAAAEhAAAAAAAAASEAAAAAAAABIQAAAAAAAAEhAAAAAAACASEAAAAAAAIBIQAAAAAAAAElAAAAAAAAASUAAAAAAAABLQAAAAAAAAEtAAAAAAAAAS0AAAAAAAABLQAAAAAAAAEtAAAAAAAAAS0AAAAAAAABLQAAAAAAAAEtAAAAAAAAAS0AAAAAAAABLQAAAAAAAAEtAAAAAAAAAS0AAAAAAAIBMQAAAAAAAgExAAAAAAAAATUAAAAAAAABNQAAAAAAAgE1AAAAAAACATUAAAAAAAABOQAAAAAAAAE5AAAAAAAAATkAAAAAAAABOQAAAAAAAAE5AAAAAAAAATkAAAAAAAIBOQAAAAAAAgE5AAAAAAAAAT0AAAAAAAABPQAAAAAAAAE9AAAAAAAAAT0AAAAAAAABPQAAAAAAAAE9AAAAAAACAT0AAAAAAAIBPQAAAAAAAgE9AAAAAAACAT0AAAAAAAIBPQAAAAAAAgE9AAAAAAAAAUEAAAAAAAABQQAAAAAAAQFBAAAAAAABAUEAAAAAAAEBQQAAAAAAAQFBAAAAAAADAUEAAAAAAAMBQQAAAAAAAwFBAAAAAAADAUEAAAAAAAEBRQAAAAAAAwFFA\",\"dtype\":\"float64\",\"order\":\"little\",\"shape\":[78]},\"Annual_Income\":{\"__ndarray__\":\"AAAAAAAAREAAAAAAAABEQAAAAAAAAERAAAAAAAAAREAAAAAAAABFQAAAAAAAAEVAAAAAAACARUAAAAAAAIBFQAAAAAAAgEVAAAAAAACARUAAAAAAAABGQAAAAAAAAEZAAAAAAAAAR0AAAAAAAABHQAAAAAAAAEdAAAAAAAAAR0AAAAAAAIBHQAAAAAAAgEdAAAAAAAAASEAAAAAAAABIQAAAAAAAAEhAAAAAAAAASEAAAAAAAABIQAAAAAAAAEhAAAAAAACASEAAAAAAAIBIQAAAAAAAAElAAAAAAAAASUAAAAAAAABLQAAAAAAAAEtAAAAAAAAAS0AAAAAAAABLQAAAAAAAAEtAAAAAAAAAS0AAAAAAAABLQAAAAAAAAEtAAAAAAAAAS0AAAAAAAABLQAAAAAAAAEtAAAAAAAAAS0AAAAAAAIBMQAAAAAAAgExAAAAAAAAATUAAAAAAAABNQAAAAAAAgE1AAAAAAACATUAAAAAAAABOQAAAAAAAAE5AAAAAAAAATkAAAAAAAABOQAAAAAAAAE5AAAAAAAAATkAAAAAAAIBOQAAAAAAAgE5AAAAAAAAAT0AAAAAAAABPQAAAAAAAAE9AAAAAAAAAT0AAAAAAAABPQAAAAAAAAE9AAAAAAACAT0AAAAAAAIBPQAAAAAAAgE9AAAAAAACAT0AAAAAAAIBPQAAAAAAAgE9AAAAAAAAAUEAAAAAAAABQQAAAAAAAQFBAAAAAAABAUEAAAAAAAEBQQAAAAAAAQFBAAAAAAADAUEAAAAAAAMBQQAAAAAAAwFBAAAAAAADAUEAAAAAAAEBRQAAAAAAAwFFA\",\"dtype\":\"float64\",\"order\":\"little\",\"shape\":[78]},\"Customer_Segment_left_parenthesis_k_equals_5_right_parenthesis\":[2,2,2,2,2,2,2,2,2,2,2,2,2,2,2,2,2,2,2,2,2,2,2,2,2,2,2,2,2,2,2,2,2,2,2,2,2,2,2,2,2,2,2,2,2,2,2,2,2,2,2,2,2,2,2,2,2,2,2,2,2,2,2,2,2,2,2,2,2,2,2,2,2,2,2,2,2,2],\"Spending Score\":[55,47,42,42,52,60,54,60,45,41,50,46,51,46,56,55,52,59,51,59,50,48,59,47,55,42,49,56,47,54,53,48,52,42,51,55,41,44,57,46,58,55,60,46,55,41,49,40,42,52,47,50,42,49,41,48,59,55,56,42,50,46,43,48,52,54,42,46,48,50,43,59,43,57,56,40,58,35],\"Spending_Score\":[55,47,42,42,52,60,54,60,45,41,50,46,51,46,56,55,52,59,51,59,50,48,59,47,55,42,49,56,47,54,53,48,52,42,51,55,41,44,57,46,58,55,60,46,55,41,49,40,42,52,47,50,42,49,41,48,59,55,56,42,50,46,43,48,52,54,42,46,48,50,43,59,43,57,56,40,58,35]},\"selected\":{\"id\":\"2237\"},\"selection_policy\":{\"id\":\"2255\"}},\"id\":\"2236\",\"type\":\"ColumnDataSource\"},{\"attributes\":{\"click_policy\":\"mute\",\"coordinates\":null,\"group\":null,\"items\":[{\"id\":\"2212\"},{\"id\":\"2234\"},{\"id\":\"2258\"},{\"id\":\"2284\"},{\"id\":\"2312\"}],\"location\":[0,0],\"title\":\"Customer Segment (k=5)\"},\"id\":\"2211\",\"type\":\"Legend\"},{\"attributes\":{\"fill_color\":{\"value\":\"#e5ae38\"},\"hatch_color\":{\"value\":\"#e5ae38\"},\"line_color\":{\"value\":\"#e5ae38\"},\"size\":{\"value\":5.477225575051661},\"x\":{\"field\":\"Annual Income\"},\"y\":{\"field\":\"Spending Score\"}},\"id\":\"2239\",\"type\":\"Scatter\"},{\"attributes\":{},\"id\":\"2174\",\"type\":\"SaveTool\"},{\"attributes\":{},\"id\":\"2175\",\"type\":\"PanTool\"}],\"root_ids\":[\"2148\"]},\"title\":\"Bokeh Application\",\"version\":\"2.4.3\"}};\n",
       "    var render_items = [{\"docid\":\"0610affa-02ac-4e63-b02c-c9ed70a295a2\",\"root_ids\":[\"2148\"],\"roots\":{\"2148\":\"d67c7479-24f8-4e08-b78c-0d9dc209f157\"}}];\n",
       "    root.Bokeh.embed.embed_items_notebook(docs_json, render_items);\n",
       "  }\n",
       "  if (root.Bokeh !== undefined && root.Bokeh.Panel !== undefined) {\n",
       "    embed_document(root);\n",
       "  } else {\n",
       "    var attempts = 0;\n",
       "    var timer = setInterval(function(root) {\n",
       "      if (root.Bokeh !== undefined && root.Bokeh.Panel !== undefined) {\n",
       "        clearInterval(timer);\n",
       "        embed_document(root);\n",
       "      } else if (document.readyState == \"complete\") {\n",
       "        attempts++;\n",
       "        if (attempts > 200) {\n",
       "          clearInterval(timer);\n",
       "          console.log(\"Bokeh: ERROR: Unable to run BokehJS code because BokehJS library is missing\");\n",
       "        }\n",
       "      }\n",
       "    }, 25, root)\n",
       "  }\n",
       "})(window);</script>"
      ],
      "text/plain": [
       ":NdOverlay   [Customer Segment (k=5)]\n",
       "   :Scatter   [Annual Income]   (Spending Score)"
      ]
     },
     "execution_count": 40,
     "metadata": {
      "application/vnd.holoviews_exec.v0+json": {
       "id": "2148"
      }
     },
     "output_type": "execute_result"
    }
   ],
   "source": [
    "# Create a scatter plot with x=\"Annual Income\" and y=\"Spending Scoree\" with k=5 segments\n",
    "df_shopping_predictions.hvplot.scatter(\n",
    "    x=\"Annual Income\", \n",
    "    y=\"Spending Score\", \n",
    "    by=\"Customer Segment (k=5)\",\n",
    "    title = \"Scatter Plot by Stock Segment - k=5\"\n",
    ")"
   ]
  },
  {
   "cell_type": "markdown",
   "metadata": {},
   "source": [
    "## Step 10: Answer the following question:"
   ]
  },
  {
   "cell_type": "markdown",
   "metadata": {},
   "source": [
    "**Question**  Do you note any relevant differences between the two Kmeans models?\n",
    "\n",
    "**Answer** There is a big difference in the cluster assignment for transactions involving individuals with an income of less that 40,000 and a spending score of less than 40. With 5 clusters, these individuals are assinged their own segment. With only 4 clusters, they are assigned to a segment that includes individuals with incomes between 40,000 and 75.000 and a spending score between 40 and 60. 5 clusters seems to fit this dataset much better."
   ]
  }
 ],
 "metadata": {
  "kernelspec": {
   "display_name": "Python 3.7.13 ('dev')",
   "language": "python",
   "name": "python3"
  },
  "language_info": {
   "codemirror_mode": {
    "name": "ipython",
    "version": 3
   },
   "file_extension": ".py",
   "mimetype": "text/x-python",
   "name": "python",
   "nbconvert_exporter": "python",
   "pygments_lexer": "ipython3",
   "version": "3.7.13"
  },
  "vscode": {
   "interpreter": {
    "hash": "b2ec66fa3d085a6e66869b1a678e052484c09c72639639e5b92cf1e8e9fcc898"
   }
  }
 },
 "nbformat": 4,
 "nbformat_minor": 4
}
